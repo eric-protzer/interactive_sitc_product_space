{
 "cells": [
  {
   "cell_type": "markdown",
   "id": "56a254bd-ece6-42de-9c78-1418f72e6fe5",
   "metadata": {},
   "source": [
    "# instructions\n",
    "1. Go to the \"View\" tab at the top of the screen and enable \"Enable Full Width Notebook\"\n",
    "2. Set country variable, my_country, to desired country, for which you want to see the RCAs in the graph below\n",
    "3. Go to the \"Run\" tab at the top of the screen and click \"Run All Cells\"\n",
    "\n",
    "Note that in this visualization, the range of RCA is limited to be from 0 to 1. A value of 0.5 and above means that the share of the country's exports in that product exceeds the world average. "
   ]
  },
  {
   "cell_type": "code",
   "execution_count": 14,
   "id": "71588390-a701-4eb9-a861-91c9c13f44dd",
   "metadata": {},
   "outputs": [],
   "source": [
    "my_country = 'BOL'"
   ]
  },
  {
   "cell_type": "code",
   "execution_count": 15,
   "id": "712ec1ac-7f70-41d1-828c-8d81071d1fbf",
   "metadata": {},
   "outputs": [],
   "source": [
    "import numpy as np\n",
    "import pandas as pd\n",
    "from matplotlib import pyplot as plt\n",
    "import plotly.express as px\n",
    "import plotly.graph_objects as go\n",
    "import matplotlib as mpl \n",
    "from plotly.express.colors import qualitative\n",
    "import matplotlib.patheffects as path_effects"
   ]
  },
  {
   "cell_type": "code",
   "execution_count": 16,
   "id": "90170551-4fe7-40f9-9aff-b0fa55f31268",
   "metadata": {},
   "outputs": [
    {
     "data": {
      "text/html": [
       "<div>\n",
       "<style scoped>\n",
       "    .dataframe tbody tr th:only-of-type {\n",
       "        vertical-align: middle;\n",
       "    }\n",
       "\n",
       "    .dataframe tbody tr th {\n",
       "        vertical-align: top;\n",
       "    }\n",
       "\n",
       "    .dataframe thead th {\n",
       "        text-align: right;\n",
       "    }\n",
       "</style>\n",
       "<table border=\"1\" class=\"dataframe\">\n",
       "  <thead>\n",
       "    <tr style=\"text-align: right;\">\n",
       "      <th></th>\n",
       "      <th>sitc</th>\n",
       "      <th>x</th>\n",
       "      <th>y</th>\n",
       "      <th>cluster</th>\n",
       "      <th>sitc_name</th>\n",
       "      <th>n_prod</th>\n",
       "      <th>cluster_cl</th>\n",
       "    </tr>\n",
       "  </thead>\n",
       "  <tbody>\n",
       "    <tr>\n",
       "      <th>0</th>\n",
       "      <td>0</td>\n",
       "      <td>15.890849</td>\n",
       "      <td>-4.213998</td>\n",
       "      <td>NaN</td>\n",
       "      <td>NaN</td>\n",
       "      <td>NaN</td>\n",
       "      <td>NaN</td>\n",
       "    </tr>\n",
       "    <tr>\n",
       "      <th>1</th>\n",
       "      <td>0011</td>\n",
       "      <td>15.466090</td>\n",
       "      <td>-4.065872</td>\n",
       "      <td>0.0</td>\n",
       "      <td>Animals of the bovine species (including buffa...</td>\n",
       "      <td>2.0</td>\n",
       "      <td>0.0</td>\n",
       "    </tr>\n",
       "    <tr>\n",
       "      <th>2</th>\n",
       "      <td>0012</td>\n",
       "      <td>15.602483</td>\n",
       "      <td>-4.309349</td>\n",
       "      <td>0.0</td>\n",
       "      <td>Sheep and goats, live</td>\n",
       "      <td>2.0</td>\n",
       "      <td>0.0</td>\n",
       "    </tr>\n",
       "    <tr>\n",
       "      <th>3</th>\n",
       "      <td>0013</td>\n",
       "      <td>16.243904</td>\n",
       "      <td>-3.147542</td>\n",
       "      <td>2.0</td>\n",
       "      <td>Swine, live</td>\n",
       "      <td>6.0</td>\n",
       "      <td>0.0</td>\n",
       "    </tr>\n",
       "    <tr>\n",
       "      <th>4</th>\n",
       "      <td>0014</td>\n",
       "      <td>17.009050</td>\n",
       "      <td>-3.723602</td>\n",
       "      <td>5.0</td>\n",
       "      <td>Poultry, live</td>\n",
       "      <td>3.0</td>\n",
       "      <td>0.0</td>\n",
       "    </tr>\n",
       "  </tbody>\n",
       "</table>\n",
       "</div>"
      ],
      "text/plain": [
       "   sitc          x         y  cluster  \\\n",
       "0     0  15.890849 -4.213998      NaN   \n",
       "1  0011  15.466090 -4.065872      0.0   \n",
       "2  0012  15.602483 -4.309349      0.0   \n",
       "3  0013  16.243904 -3.147542      2.0   \n",
       "4  0014  17.009050 -3.723602      5.0   \n",
       "\n",
       "                                           sitc_name  n_prod  cluster_cl  \n",
       "0                                                NaN     NaN         NaN  \n",
       "1  Animals of the bovine species (including buffa...     2.0         0.0  \n",
       "2                              Sheep and goats, live     2.0         0.0  \n",
       "3                                        Swine, live     6.0         0.0  \n",
       "4                                      Poultry, live     3.0         0.0  "
      ]
     },
     "execution_count": 16,
     "metadata": {},
     "output_type": "execute_result"
    }
   ],
   "source": [
    "stack_umap = pd.read_csv('sitc_product_space_positions.csv')\n",
    "stack_umap.head()"
   ]
  },
  {
   "cell_type": "code",
   "execution_count": 17,
   "id": "0604eb06-7a00-4922-9b9f-70272f54243e",
   "metadata": {},
   "outputs": [
    {
     "data": {
      "text/html": [
       "<div>\n",
       "<style scoped>\n",
       "    .dataframe tbody tr th:only-of-type {\n",
       "        vertical-align: middle;\n",
       "    }\n",
       "\n",
       "    .dataframe tbody tr th {\n",
       "        vertical-align: top;\n",
       "    }\n",
       "\n",
       "    .dataframe thead th {\n",
       "        text-align: right;\n",
       "    }\n",
       "</style>\n",
       "<table border=\"1\" class=\"dataframe\">\n",
       "  <thead>\n",
       "    <tr style=\"text-align: right;\">\n",
       "      <th></th>\n",
       "      <th>location_code</th>\n",
       "      <th>year</th>\n",
       "      <th>sitc</th>\n",
       "      <th>median_rca_norm</th>\n",
       "    </tr>\n",
       "  </thead>\n",
       "  <tbody>\n",
       "    <tr>\n",
       "      <th>0</th>\n",
       "      <td>AGO</td>\n",
       "      <td>2018</td>\n",
       "      <td>0011</td>\n",
       "      <td>0.000643</td>\n",
       "    </tr>\n",
       "    <tr>\n",
       "      <th>1</th>\n",
       "      <td>AGO</td>\n",
       "      <td>2018</td>\n",
       "      <td>0012</td>\n",
       "      <td>0.013092</td>\n",
       "    </tr>\n",
       "    <tr>\n",
       "      <th>2</th>\n",
       "      <td>AGO</td>\n",
       "      <td>2018</td>\n",
       "      <td>0013</td>\n",
       "      <td>0.000000</td>\n",
       "    </tr>\n",
       "    <tr>\n",
       "      <th>3</th>\n",
       "      <td>AGO</td>\n",
       "      <td>2018</td>\n",
       "      <td>0014</td>\n",
       "      <td>0.000000</td>\n",
       "    </tr>\n",
       "    <tr>\n",
       "      <th>4</th>\n",
       "      <td>AGO</td>\n",
       "      <td>2018</td>\n",
       "      <td>0015</td>\n",
       "      <td>0.000832</td>\n",
       "    </tr>\n",
       "  </tbody>\n",
       "</table>\n",
       "</div>"
      ],
      "text/plain": [
       "  location_code  year  sitc  median_rca_norm\n",
       "0           AGO  2018  0011         0.000643\n",
       "1           AGO  2018  0012         0.013092\n",
       "2           AGO  2018  0013         0.000000\n",
       "3           AGO  2018  0014         0.000000\n",
       "4           AGO  2018  0015         0.000832"
      ]
     },
     "execution_count": 17,
     "metadata": {},
     "output_type": "execute_result"
    }
   ],
   "source": [
    "trade_5y = pd.read_csv('interactive_viz_trade_5y.csv')\n",
    "trade_5y['sitc'] = trade_5y['sitc'].astype(str).str.zfill(4)\n",
    "trade_5y.head()"
   ]
  },
  {
   "cell_type": "code",
   "execution_count": 18,
   "id": "2ca0459c-7dd4-482f-8cb1-f6484c5fc79f",
   "metadata": {},
   "outputs": [
    {
     "data": {
      "text/html": [
       "<div>\n",
       "<style scoped>\n",
       "    .dataframe tbody tr th:only-of-type {\n",
       "        vertical-align: middle;\n",
       "    }\n",
       "\n",
       "    .dataframe tbody tr th {\n",
       "        vertical-align: top;\n",
       "    }\n",
       "\n",
       "    .dataframe thead th {\n",
       "        text-align: right;\n",
       "    }\n",
       "</style>\n",
       "<table border=\"1\" class=\"dataframe\">\n",
       "  <thead>\n",
       "    <tr style=\"text-align: right;\">\n",
       "      <th></th>\n",
       "      <th>sitc</th>\n",
       "      <th>median_rca_norm</th>\n",
       "    </tr>\n",
       "  </thead>\n",
       "  <tbody>\n",
       "    <tr>\n",
       "      <th>11760</th>\n",
       "      <td>0011</td>\n",
       "      <td>0.0</td>\n",
       "    </tr>\n",
       "    <tr>\n",
       "      <th>11761</th>\n",
       "      <td>0012</td>\n",
       "      <td>0.0</td>\n",
       "    </tr>\n",
       "    <tr>\n",
       "      <th>11762</th>\n",
       "      <td>0013</td>\n",
       "      <td>0.0</td>\n",
       "    </tr>\n",
       "    <tr>\n",
       "      <th>11763</th>\n",
       "      <td>0014</td>\n",
       "      <td>0.0</td>\n",
       "    </tr>\n",
       "    <tr>\n",
       "      <th>11764</th>\n",
       "      <td>0015</td>\n",
       "      <td>0.0</td>\n",
       "    </tr>\n",
       "  </tbody>\n",
       "</table>\n",
       "</div>"
      ],
      "text/plain": [
       "       sitc  median_rca_norm\n",
       "11760  0011              0.0\n",
       "11761  0012              0.0\n",
       "11762  0013              0.0\n",
       "11763  0014              0.0\n",
       "11764  0015              0.0"
      ]
     },
     "execution_count": 18,
     "metadata": {},
     "output_type": "execute_result"
    }
   ],
   "source": [
    "this_rca = trade_5y.loc[(trade_5y['location_code']==my_country) & (trade_5y['year']==trade_5y['year'].max())].copy()[['sitc', 'median_rca_norm']]\n",
    "this_rca.head()"
   ]
  },
  {
   "cell_type": "code",
   "execution_count": 19,
   "id": "e0c9bf01-3b72-4bfe-89bb-85d818eaf9fd",
   "metadata": {},
   "outputs": [
    {
     "data": {
      "text/html": [
       "<div>\n",
       "<style scoped>\n",
       "    .dataframe tbody tr th:only-of-type {\n",
       "        vertical-align: middle;\n",
       "    }\n",
       "\n",
       "    .dataframe tbody tr th {\n",
       "        vertical-align: top;\n",
       "    }\n",
       "\n",
       "    .dataframe thead th {\n",
       "        text-align: right;\n",
       "    }\n",
       "</style>\n",
       "<table border=\"1\" class=\"dataframe\">\n",
       "  <thead>\n",
       "    <tr style=\"text-align: right;\">\n",
       "      <th></th>\n",
       "      <th>sitc_in</th>\n",
       "      <th>sitc_out</th>\n",
       "      <th>dist</th>\n",
       "      <th>source</th>\n",
       "      <th>x_o</th>\n",
       "      <th>y_o</th>\n",
       "      <th>target</th>\n",
       "      <th>x_d</th>\n",
       "      <th>y_d</th>\n",
       "      <th>min_dist</th>\n",
       "      <th>u</th>\n",
       "      <th>v</th>\n",
       "    </tr>\n",
       "  </thead>\n",
       "  <tbody>\n",
       "    <tr>\n",
       "      <th>0</th>\n",
       "      <td>482</td>\n",
       "      <td>2117</td>\n",
       "      <td>3.941229</td>\n",
       "      <td>0.0</td>\n",
       "      <td>15.482880</td>\n",
       "      <td>-2.847898</td>\n",
       "      <td>5.0</td>\n",
       "      <td>14.176732</td>\n",
       "      <td>0.870605</td>\n",
       "      <td>3.941229</td>\n",
       "      <td>-1.306148</td>\n",
       "      <td>3.718503</td>\n",
       "    </tr>\n",
       "    <tr>\n",
       "      <th>1</th>\n",
       "      <td>545</td>\n",
       "      <td>2929</td>\n",
       "      <td>7.423964</td>\n",
       "      <td>3.0</td>\n",
       "      <td>11.439040</td>\n",
       "      <td>2.407400</td>\n",
       "      <td>4.0</td>\n",
       "      <td>18.311752</td>\n",
       "      <td>5.214724</td>\n",
       "      <td>7.423964</td>\n",
       "      <td>6.872712</td>\n",
       "      <td>2.807324</td>\n",
       "    </tr>\n",
       "    <tr>\n",
       "      <th>2</th>\n",
       "      <td>582</td>\n",
       "      <td>6665</td>\n",
       "      <td>1.135950</td>\n",
       "      <td>2.0</td>\n",
       "      <td>9.756202</td>\n",
       "      <td>5.288166</td>\n",
       "      <td>17.0</td>\n",
       "      <td>9.956572</td>\n",
       "      <td>6.406305</td>\n",
       "      <td>1.135950</td>\n",
       "      <td>0.200370</td>\n",
       "      <td>1.118139</td>\n",
       "    </tr>\n",
       "    <tr>\n",
       "      <th>3</th>\n",
       "      <td>585</td>\n",
       "      <td>6746</td>\n",
       "      <td>4.060609</td>\n",
       "      <td>3.0</td>\n",
       "      <td>10.026635</td>\n",
       "      <td>0.637069</td>\n",
       "      <td>14.0</td>\n",
       "      <td>8.854506</td>\n",
       "      <td>-3.250689</td>\n",
       "      <td>4.060609</td>\n",
       "      <td>-1.172129</td>\n",
       "      <td>-3.887758</td>\n",
       "    </tr>\n",
       "    <tr>\n",
       "      <th>4</th>\n",
       "      <td>615</td>\n",
       "      <td>2876</td>\n",
       "      <td>1.060765</td>\n",
       "      <td>4.0</td>\n",
       "      <td>18.621372</td>\n",
       "      <td>6.372491</td>\n",
       "      <td>9.0</td>\n",
       "      <td>17.823038</td>\n",
       "      <td>7.070980</td>\n",
       "      <td>1.060765</td>\n",
       "      <td>-0.798334</td>\n",
       "      <td>0.698488</td>\n",
       "    </tr>\n",
       "  </tbody>\n",
       "</table>\n",
       "</div>"
      ],
      "text/plain": [
       "   sitc_in  sitc_out      dist  source        x_o       y_o  target  \\\n",
       "0      482      2117  3.941229     0.0  15.482880 -2.847898     5.0   \n",
       "1      545      2929  7.423964     3.0  11.439040  2.407400     4.0   \n",
       "2      582      6665  1.135950     2.0   9.756202  5.288166    17.0   \n",
       "3      585      6746  4.060609     3.0  10.026635  0.637069    14.0   \n",
       "4      615      2876  1.060765     4.0  18.621372  6.372491     9.0   \n",
       "\n",
       "         x_d       y_d  min_dist         u         v  \n",
       "0  14.176732  0.870605  3.941229 -1.306148  3.718503  \n",
       "1  18.311752  5.214724  7.423964  6.872712  2.807324  \n",
       "2   9.956572  6.406305  1.135950  0.200370  1.118139  \n",
       "3   8.854506 -3.250689  4.060609 -1.172129 -3.887758  \n",
       "4  17.823038  7.070980  1.060765 -0.798334  0.698488  "
      ]
     },
     "execution_count": 19,
     "metadata": {},
     "output_type": "execute_result"
    }
   ],
   "source": [
    "macro_arrows = pd.read_csv('sitc_product_space_macro_arrows.csv')\n",
    "macro_arrows.head()"
   ]
  },
  {
   "cell_type": "code",
   "execution_count": 20,
   "id": "4930c91f-7b72-4bd0-a391-b2dcfb02c030",
   "metadata": {},
   "outputs": [
    {
     "data": {
      "text/html": [
       "<div>\n",
       "<style scoped>\n",
       "    .dataframe tbody tr th:only-of-type {\n",
       "        vertical-align: middle;\n",
       "    }\n",
       "\n",
       "    .dataframe tbody tr th {\n",
       "        vertical-align: top;\n",
       "    }\n",
       "\n",
       "    .dataframe thead th {\n",
       "        text-align: right;\n",
       "    }\n",
       "</style>\n",
       "<table border=\"1\" class=\"dataframe\">\n",
       "  <thead>\n",
       "    <tr style=\"text-align: right;\">\n",
       "      <th></th>\n",
       "      <th>cluster</th>\n",
       "      <th>name</th>\n",
       "    </tr>\n",
       "  </thead>\n",
       "  <tbody>\n",
       "    <tr>\n",
       "      <th>0</th>\n",
       "      <td>0</td>\n",
       "      <td>Animal &amp; Crop Products</td>\n",
       "    </tr>\n",
       "    <tr>\n",
       "      <th>1</th>\n",
       "      <td>1</td>\n",
       "      <td>Meat &amp; Seafood</td>\n",
       "    </tr>\n",
       "    <tr>\n",
       "      <th>2</th>\n",
       "      <td>2</td>\n",
       "      <td>Grains &amp; Oilseeds</td>\n",
       "    </tr>\n",
       "    <tr>\n",
       "      <th>3</th>\n",
       "      <td>3</td>\n",
       "      <td>Produce</td>\n",
       "    </tr>\n",
       "    <tr>\n",
       "      <th>4</th>\n",
       "      <td>4</td>\n",
       "      <td>Cash Crops</td>\n",
       "    </tr>\n",
       "  </tbody>\n",
       "</table>\n",
       "</div>"
      ],
      "text/plain": [
       "   cluster                     name\n",
       "0        0  Animal & Crop Products \n",
       "1        1          Meat & Seafood \n",
       "2        2       Grains & Oilseeds \n",
       "3        3                 Produce \n",
       "4        4               Cash Crops"
      ]
     },
     "execution_count": 20,
     "metadata": {},
     "output_type": "execute_result"
    }
   ],
   "source": [
    "sitc_cluster_names = pd.read_csv('sitc_cluster_names.csv')\n",
    "sitc_cluster_names['name'] = sitc_cluster_names['name'].str.replace('Food & Manufactures', 'Food & Material Manufactures')\n",
    "sitc_cluster_names.head()"
   ]
  },
  {
   "cell_type": "code",
   "execution_count": 21,
   "id": "003ab1fc-7a13-4e9d-b305-7e342381d051",
   "metadata": {},
   "outputs": [
    {
     "data": {
      "application/vnd.plotly.v1+json": {
       "config": {
        "plotlyServerURL": "https://plot.ly"
       },
       "data": [
        {
         "customdata": [
          [
           "Animals of the bovine species (including buffaloes), live",
           0
          ],
          [
           "Sheep and goats, live",
           0
          ]
         ],
         "hovertemplate": "%{customdata[0]}<br>RCA: %{customdata[1]:.2f}",
         "legendgroup": "0.0",
         "marker": {
          "color": "#1F77B4",
          "size": [
           0.05,
           0.05
          ],
          "sizemode": "area",
          "sizeref": 0.0026126049385131827,
          "symbol": "circle"
         },
         "mode": "markers",
         "name": "0.0",
         "orientation": "v",
         "showlegend": true,
         "type": "scatter",
         "x": [
          15.46609,
          15.602483
         ],
         "xaxis": "x",
         "y": [
          -4.065872,
          -4.3093486
         ],
         "yaxis": "y"
        },
        {
         "customdata": [
          [
           "Swine, live",
           0
          ],
          [
           "Pig meat fresh, chilled or frozen",
           0
          ],
          [
           "Poultry, dead and edible offal, fresh, chilled or frozen",
           0.0334233330544695
          ],
          [
           "Bacon, ham, other dried, salted or smoked meat of domestic swine",
           0
          ],
          [
           "Lard, pig and poultry fat, rendered or solvent-extracted",
           0
          ],
          [
           "Other fixed vegetable oils, soft",
           0.0573333263761764
          ]
         ],
         "hovertemplate": "%{customdata[0]}<br>RCA: %{customdata[1]:.2f}",
         "legendgroup": "2.0",
         "marker": {
          "color": "#FF7F0E",
          "size": [
           0.05,
           0.05,
           0.0834233330544695,
           0.05,
           0.05,
           0.1073333263761764
          ],
          "sizemode": "area",
          "sizeref": 0.0026126049385131827,
          "symbol": "circle"
         },
         "mode": "markers",
         "name": "2.0",
         "orientation": "v",
         "showlegend": true,
         "type": "scatter",
         "x": [
          16.243904,
          16.692238,
          15.930528,
          16.17003,
          16.469992,
          16.968674
         ],
         "xaxis": "x",
         "y": [
          -3.147542,
          -2.7211382,
          -2.9523735,
          -2.6645553,
          -2.9852664,
          -3.0367324
         ],
         "yaxis": "y"
        },
        {
         "customdata": [
          [
           "Poultry, live",
           0
          ],
          [
           "Eggs, birds', and egg yolks, fresh, dried or preserved, in shell",
           0
          ],
          [
           "Eggs, birds', egg yolks, fresh, dried or preserved, not in shell",
           0
          ]
         ],
         "hovertemplate": "%{customdata[0]}<br>RCA: %{customdata[1]:.2f}",
         "legendgroup": "5.0",
         "marker": {
          "color": "#2CA02C",
          "size": [
           0.05,
           0.05,
           0.05
          ],
          "sizemode": "area",
          "sizeref": 0.0026126049385131827,
          "symbol": "circle"
         },
         "mode": "markers",
         "name": "5.0",
         "orientation": "v",
         "showlegend": true,
         "type": "scatter",
         "x": [
          17.00905,
          17.389055,
          17.171408
         ],
         "xaxis": "x",
         "y": [
          -3.7236023,
          -3.6133828,
          -3.3290043
         ],
         "yaxis": "y"
        },
        {
         "customdata": [
          [
           "Equine species, live",
           0
          ],
          [
           "Bovine meat, fresh, chilled or frozen",
           0.6653471727119826
          ],
          [
           "Meat of sheep and goats, fresh, chilled or frozen",
           0
          ],
          [
           "Meat of horses, asses, mules and hinnies, fresh, chilled or frozen",
           0
          ],
          [
           "Edible offal of headings 0011-5 and 0015, fresh, chilled or frozen",
           0.1040130698145958
          ],
          [
           "Meat extracts and juices; fish extracts",
           0
          ],
          [
           "Horsehair and other coarse animal hair, not carded or combed",
           0.782761578698145
          ],
          [
           "Other materials of animal origin, nes",
           0.3405826193455251
          ],
          [
           "Animals oils, fats and greases, nes",
           0.2936698068385168
          ]
         ],
         "hovertemplate": "%{customdata[0]}<br>RCA: %{customdata[1]:.2f}",
         "legendgroup": "3.0",
         "marker": {
          "color": "#D62728",
          "size": [
           0.05,
           0.7153471727119827,
           0.05,
           0.05,
           0.15401306981459578,
           0.05,
           0.832761578698145,
           0.3905826193455251,
           0.3436698068385168
          ],
          "sizemode": "area",
          "sizeref": 0.0026126049385131827,
          "symbol": "circle"
         },
         "mode": "markers",
         "name": "3.0",
         "orientation": "v",
         "showlegend": true,
         "type": "scatter",
         "x": [
          16.250229,
          16.509937,
          15.242263,
          16.002155,
          15.5218,
          16.129637,
          15.757237,
          15.956339,
          15.582153
         ],
         "xaxis": "x",
         "y": [
          -4.8590617,
          -4.9790545,
          -4.5082355,
          -4.579309,
          -4.7879496,
          -5.3357887,
          -4.602446,
          -4.991651,
          -5.16285
         ],
         "yaxis": "y"
        },
        {
         "customdata": [
          [
           "Live animals of a kind mainly used for human food, nes",
           0.003043509300187
          ],
          [
           "Other fresh, chilled or frozen meat or edible meat offal",
           0
          ],
          [
           "Meat and edible meat offal, nes, in brine, dried, salted or smoked",
           0
          ],
          [
           "Animals, live, nes, (including zoo animals, pets, insects, etc)",
           0.0027456210710048
          ]
         ],
         "hovertemplate": "%{customdata[0]}<br>RCA: %{customdata[1]:.2f}",
         "legendgroup": "1.0",
         "marker": {
          "color": "#9467BD",
          "size": [
           0.053043509300187,
           0.05,
           0.05,
           0.052745621071004806
          ],
          "sizemode": "area",
          "sizeref": 0.0026126049385131827,
          "symbol": "circle"
         },
         "mode": "markers",
         "name": "1.0",
         "orientation": "v",
         "showlegend": true,
         "type": "scatter",
         "x": [
          21.58694,
          21.601698,
          21.002472,
          21.14936
         ],
         "xaxis": "x",
         "y": [
          6.0862684,
          5.717451,
          6.1422825,
          5.7884216
         ],
         "yaxis": "y"
        },
        {
         "customdata": [
          [
           "Sausages and the like, of meat, meat offal or animal blood",
           0
          ],
          [
           "Other prepared or preserved meat or meat offal",
           0.3622104429897832
          ],
          [
           "Milk and cream fresh, not concentrated or sweetened",
           0
          ],
          [
           "Milk and cream, preserved, concentrated or sweetened",
           0.6091055627977432
          ],
          [
           "Butter",
           0.0758386827473975
          ],
          [
           "Cheese and curd",
           0
          ],
          [
           "Malt extract; cereals preparations with less 50% of cocoa",
           0.037757676309311
          ],
          [
           "Mate",
           0
          ],
          [
           "Waste paper and paperboard, etc",
           0.0098231804759759
          ],
          [
           "Albuminoid substances; glues",
           0.0114048182476694
          ]
         ],
         "hovertemplate": "%{customdata[0]}<br>RCA: %{customdata[1]:.2f}",
         "legendgroup": "4.0",
         "marker": {
          "color": "#8C564B",
          "size": [
           0.05,
           0.4122104429897832,
           0.05,
           0.6591055627977432,
           0.1258386827473975,
           0.05,
           0.087757676309311,
           0.05,
           0.0598231804759759,
           0.0614048182476694
          ],
          "sizemode": "area",
          "sizeref": 0.0026126049385131827,
          "symbol": "circle"
         },
         "mode": "markers",
         "name": "4.0",
         "orientation": "v",
         "showlegend": true,
         "type": "scatter",
         "x": [
          16.734482,
          16.719934,
          16.961845,
          17.221334,
          17.610725,
          17.47089,
          17.18882,
          16.994831,
          17.020441,
          17.534777
         ],
         "xaxis": "x",
         "y": [
          -4.493628,
          -4.7647486,
          -4.0526233,
          -4.066629,
          -3.9296594,
          -4.3328705,
          -4.654819,
          -5.0395527,
          -4.4382734,
          -4.795049
         ],
         "yaxis": "y"
        },
        {
         "customdata": [
          [
           "Fish, fresh or chilled, excluding fillet",
           0
          ],
          [
           "Fish, frozen, excluding fillets",
           0
          ],
          [
           "Fish fillets, fresh or chilled",
           0
          ],
          [
           "Fish fillets, frozen",
           0
          ],
          [
           "Fish, dried, salted or in brine; smoked fish",
           0
          ],
          [
           "Crustaceans and molluscs, fresh, chilled, frozen, salted, etc",
           0
          ],
          [
           "Flours and meals, of meat, fish,etc, unfit for human; greaves",
           0.0170807204082832
          ],
          [
           "Fat and oils of fish and marine mammals",
           0
          ]
         ],
         "hovertemplate": "%{customdata[0]}<br>RCA: %{customdata[1]:.2f}",
         "legendgroup": "6.0",
         "marker": {
          "color": "#E377C2",
          "size": [
           0.05,
           0.05,
           0.05,
           0.05,
           0.05,
           0.05,
           0.0670807204082832,
           0.05
          ],
          "sizemode": "area",
          "sizeref": 0.0026126049385131827,
          "symbol": "circle"
         },
         "mode": "markers",
         "name": "6.0",
         "orientation": "v",
         "showlegend": true,
         "type": "scatter",
         "x": [
          21.619757,
          22.189482,
          21.859118,
          21.998896,
          22.151804,
          22.464727,
          22.067413,
          22.429077
         ],
         "xaxis": "x",
         "y": [
          4.526796,
          5.1106043,
          4.8692985,
          5.34827,
          4.5310726,
          4.885517,
          5.836946,
          5.5100293
         ],
         "yaxis": "y"
        },
        {
         "customdata": [
          [
           "Fish, prepared or preserved, nes",
           0.1148418777384821
          ],
          [
           "Crustaceans and molluscs, prepared or prepared, nes",
           0.1269497564440384
          ]
         ],
         "hovertemplate": "%{customdata[0]}<br>RCA: %{customdata[1]:.2f}",
         "legendgroup": "7.0",
         "marker": {
          "color": "#7F7F7F",
          "size": [
           0.1648418777384821,
           0.17694975644403838
          ],
          "sizemode": "area",
          "sizeref": 0.0026126049385131827,
          "symbol": "circle"
         },
         "mode": "markers",
         "name": "7.0",
         "orientation": "v",
         "showlegend": true,
         "type": "scatter",
         "x": [
          21.107813,
          21.247871
         ],
         "xaxis": "x",
         "y": [
          5.1437545,
          4.7751026
         ],
         "yaxis": "y"
        },
        {
         "customdata": [
          [
           "Durum wheat, unmilled",
           0
          ],
          [
           "Other wheat and meslin, unmilled",
           0
          ],
          [
           "Barley, unmilled",
           0
          ],
          [
           "Rye, unmilled",
           0
          ],
          [
           "Oats, unmilled",
           0
          ],
          [
           "Malt, roasted or not, including flour",
           0
          ],
          [
           "Sunflower seeds",
           0.3726508930598376
          ],
          [
           "Rape and colza seeds",
           0.0018463254784223
          ],
          [
           "Linseed",
           0.0970882738971202
          ]
         ],
         "hovertemplate": "%{customdata[0]}<br>RCA: %{customdata[1]:.2f}",
         "legendgroup": "8.0",
         "marker": {
          "color": "#BCBD22",
          "size": [
           0.05,
           0.05,
           0.05,
           0.05,
           0.05,
           0.05,
           0.4226508930598376,
           0.0518463254784223,
           0.1470882738971202
          ],
          "sizemode": "area",
          "sizeref": 0.0026126049385131827,
          "symbol": "circle"
         },
         "mode": "markers",
         "name": "8.0",
         "orientation": "v",
         "showlegend": true,
         "type": "scatter",
         "x": [
          15.441826,
          15.749946,
          15.091038,
          15.400091,
          15.010245,
          15.48288,
          15.683557,
          15.136228,
          15.057135
         ],
         "xaxis": "x",
         "y": [
          -3.6593153,
          -3.1810749,
          -3.778284,
          -3.3040082,
          -3.4474916,
          -2.8478978,
          -3.8132994,
          -4.1177506,
          -3.0346296
         ],
         "yaxis": "y"
        },
        {
         "customdata": [
          [
           "Rice in the husk or husked, but not farther prepared",
           0.0021674633034785
          ],
          [
           "Rice, semi-milled or wholly milled",
           0.0035317206245628
          ]
         ],
         "hovertemplate": "%{customdata[0]}<br>RCA: %{customdata[1]:.2f}",
         "legendgroup": "9.0",
         "marker": {
          "color": "#17BECF",
          "size": [
           0.0521674633034785,
           0.0535317206245628
          ],
          "sizemode": "area",
          "sizeref": 0.0026126049385131827,
          "symbol": "circle"
         },
         "mode": "markers",
         "name": "9.0",
         "orientation": "v",
         "showlegend": true,
         "type": "scatter",
         "x": [
          9.772269,
          10.022121
         ],
         "xaxis": "x",
         "y": [
          4.6247716,
          4.2170405
         ],
         "yaxis": "y"
        },
        {
         "customdata": [
          [
           "Maize, unmilled",
           0.2064098974219241
          ],
          [
           "Buckwheat, millet, etc, and other cereals, unmilled, nes",
           0.979881880422922
          ],
          [
           "Beans, peas, other leguminous vegetables, dried, shelled",
           0.739013741796408
          ],
          [
           "Bran, sharps and other residues derives of cereals",
           0.2080883882095366
          ],
          [
           "Furskins, raw",
           0.1589197881635539
          ],
          [
           "Sesame seeds",
           0.9087766648704856
          ]
         ],
         "hovertemplate": "%{customdata[0]}<br>RCA: %{customdata[1]:.2f}",
         "legendgroup": "10.0",
         "marker": {
          "color": "#1F77B4",
          "size": [
           0.2564098974219241,
           1.029881880422922,
           0.789013741796408,
           0.2580883882095366,
           0.2089197881635539,
           0.9587766648704856
          ],
          "sizemode": "area",
          "sizeref": 0.0026126049385131827,
          "symbol": "circle"
         },
         "mode": "markers",
         "name": "10.0",
         "orientation": "v",
         "showlegend": true,
         "type": "scatter",
         "x": [
          9.18778,
          9.289699,
          8.820024,
          9.130256,
          9.016119,
          8.541832
         ],
         "xaxis": "x",
         "y": [
          4.844612,
          4.5012636,
          4.7939625,
          4.1813083,
          4.487054,
          5.092312
         ],
         "yaxis": "y"
        },
        {
         "customdata": [
          [
           "Meal and flour of wheat and flour of meslin",
           0
          ],
          [
           "Other cereal meals and flour",
           0.2940476984392554
          ],
          [
           "Cereal grains, worked or prepared, not elsewhere specified",
           0.5561140914262191
          ],
          [
           "Flour, meals and flakes of potatoes, fruit and vegetables, nes",
           0.338325512309193
          ],
          [
           "Fruit, fruit-peel and parts of plants, preserved by sugar",
           0.0315013862452096
          ]
         ],
         "hovertemplate": "%{customdata[0]}<br>RCA: %{customdata[1]:.2f}",
         "legendgroup": "11.0",
         "marker": {
          "color": "#FF7F0E",
          "size": [
           0.05,
           0.34404769843925537,
           0.6061140914262192,
           0.388325512309193,
           0.08150138624520961
          ],
          "sizemode": "area",
          "sizeref": 0.0026126049385131827,
          "symbol": "circle"
         },
         "mode": "markers",
         "name": "11.0",
         "orientation": "v",
         "showlegend": true,
         "type": "scatter",
         "x": [
          10.418914,
          10.130174,
          9.945857,
          10.448688,
          9.756202
         ],
         "xaxis": "x",
         "y": [
          4.453737,
          5.172994,
          4.893338,
          5.0226016,
          5.2881665
         ],
         "yaxis": "y"
        },
        {
         "customdata": [
          [
           "Macaroni, spaghetti and similar products",
           0.3176213064541271
          ],
          [
           "Animal or vegetable fertilizer, crude",
           0.1542762917484966
          ],
          [
           "Medicaments (including veterinary medicaments)",
           0.0015190673107919
          ],
          [
           "Pharmaceutical goods, other than medicaments",
           0.0072800789187377
          ],
          [
           "Modified natural resins etc; derivatives of natural rubber",
           0.0067200708606459
          ],
          [
           "Other artificial plastic materials, nes",
           0.0120284794012521
          ],
          [
           "Correspondence stationary",
           0
          ],
          [
           "Felt, articles of felt, nes, whether or not impregnated or coated",
           0.0303130866319518
          ],
          [
           "Aluminium and aluminium alloys, worked",
           0.0002240541197925
          ],
          [
           "Hand tools, used in agriculture, horticulture or forestry",
           0.0009671936617787
          ],
          [
           "Miscellaneous articles of base metal",
           0.0525968379142263
          ],
          [
           "Articles, nes, of copper, nickel, aluminium, lead, zinc and tin",
           0.0098725567516256
          ],
          [
           "Printed matter, nes",
           0.008324834102054
          ],
          [
           "Plastic packing containers, lids, stoppers and other closures",
           0.0131033757286823
          ],
          [
           "Plastic sanitary and toilet articles",
           0.0041353455994615
          ],
          [
           "Articles of electric lighting of plastic",
           0.0053806028588812
          ],
          [
           "Miscellaneous articles of plastic",
           0.0118324985723008
          ],
          [
           "Candles, matches, combustible products, etc",
           0
          ]
         ],
         "hovertemplate": "%{customdata[0]}<br>RCA: %{customdata[1]:.2f}",
         "legendgroup": "113.0",
         "marker": {
          "color": "#2CA02C",
          "size": [
           0.3676213064541271,
           0.2042762917484966,
           0.0515190673107919,
           0.0572800789187377,
           0.0567200708606459,
           0.0620284794012521,
           0.05,
           0.0803130866319518,
           0.0502240541197925,
           0.0509671936617787,
           0.1025968379142263,
           0.0598725567516256,
           0.058324834102054,
           0.0631033757286823,
           0.0541353455994615,
           0.0553806028588812,
           0.061832498572300804,
           0.05
          ],
          "sizemode": "area",
          "sizeref": 0.0026126049385131827,
          "symbol": "circle"
         },
         "mode": "markers",
         "name": "113.0",
         "orientation": "v",
         "showlegend": true,
         "type": "scatter",
         "x": [
          6.287427,
          6.467983,
          6.7201233,
          6.595308,
          6.877979,
          6.9913244,
          6.414023,
          6.049313,
          5.5204587,
          6.132565,
          6.1181655,
          6.030856,
          5.7299733,
          5.621858,
          5.87737,
          6.3931284,
          5.99885,
          6.6373825
         ],
         "xaxis": "x",
         "y": [
          -7.185559,
          -6.770544,
          -7.6942835,
          -7.3164477,
          -6.9297976,
          -7.499356,
          -6.2760067,
          -6.075662,
          -7.248035,
          -6.51715,
          -6.8315496,
          -7.7804246,
          -6.3937616,
          -6.774256,
          -7.058928,
          -7.6655746,
          -7.4004283,
          -7.0197325
         ],
         "yaxis": "y"
        },
        {
         "customdata": [
          [
           "Bakery products",
           0.301393436369723
          ],
          [
           "Sugar confectionery and preparations, non-chocolate",
           0.0517438079899019
          ],
          [
           "Margarine, imitation lard and other prepared edible fats, nes",
           0.400768397758292
          ],
          [
           "Edible products and preparations, nes",
           0.2480749875811491
          ],
          [
           "Non-alcoholic beverages, nes",
           0.0018835025391026
          ],
          [
           "Beer made from malt (including ale, stout and porter)",
           0.0262575612100968
          ],
          [
           "Distilled alcoholic beverages, nes",
           0.0262091541643095
          ],
          [
           "Cigarettes",
           0.0037973851782549
          ],
          [
           "Varnishes and lacquers; distempers etc",
           0.0028458513363415
          ],
          [
           "Glazes, driers, putty etc",
           0.099460122395199
          ],
          [
           "Perfumery, cosmetics, toilet preparations, etc",
           0.0911446969431165
          ],
          [
           "Soaps, organic products and preparations for use as soap",
           0.0061950925841731
          ],
          [
           "Organic surface-active agents, nes",
           0.1314015375245186
          ],
          [
           "Polishes and creams, for furniture, floors, footwear, metals etc",
           0.0138737511728557
          ],
          [
           "Packing containers, box files, etc, of paper, used in offices",
           0.3029992932570367
          ],
          [
           "Lime, quick, slaked and hydraulic (no calcium oxide or hydroxide)",
           0
          ],
          [
           "Bottles etc of glass",
           0.1035699935778682
          ]
         ],
         "hovertemplate": "%{customdata[0]}<br>RCA: %{customdata[1]:.2f}",
         "legendgroup": "52.0",
         "marker": {
          "color": "#D62728",
          "size": [
           0.351393436369723,
           0.1017438079899019,
           0.45076839775829197,
           0.2980749875811491,
           0.0518835025391026,
           0.0762575612100968,
           0.0762091541643095,
           0.0537973851782549,
           0.0528458513363415,
           0.149460122395199,
           0.1411446969431165,
           0.0561950925841731,
           0.1814015375245186,
           0.06387375117285571,
           0.35299929325703666,
           0.05,
           0.1535699935778682
          ],
          "sizemode": "area",
          "sizeref": 0.0026126049385131827,
          "symbol": "circle"
         },
         "mode": "markers",
         "name": "52.0",
         "orientation": "v",
         "showlegend": true,
         "type": "scatter",
         "x": [
          7.9303536,
          8.224383,
          7.289314,
          7.735782,
          8.28788,
          7.8094463,
          8.225079,
          7.8131895,
          7.463135,
          7.0198493,
          7.5788217,
          8.1716,
          7.391685,
          7.868081,
          7.3569713,
          7.791838,
          7.087086
         ],
         "xaxis": "x",
         "y": [
          -7.368777,
          -7.130939,
          -7.023593,
          -6.861333,
          -7.499507,
          -7.6023884,
          -7.864967,
          -6.6420097,
          -7.6162233,
          -7.241753,
          -7.1854167,
          -6.8796744,
          -8.040588,
          -7.090931,
          -7.3689165,
          -7.972777,
          -7.8428
         ],
         "yaxis": "y"
        },
        {
         "customdata": [
          [
           "Potatoes, fresh or chilled, excluding sweet potatoes",
           0
          ],
          [
           "Tomatoes, fresh or chilled",
           0
          ],
          [
           "Vegetables, frozen or in temporary preservative",
           0.0010371165539456
          ],
          [
           "Vegetable products roots and tubers, nes, fresh, dried",
           0.076915209340714
          ],
          [
           "Vegetables (excluding leguminous), dried, evaporated, etc",
           0.0506316613457221
          ],
          [
           "Vegetables, prepared or preserved, nes",
           0.0169233647077513
          ],
          [
           "Apples, fresh",
           0
          ],
          [
           "Figs, fresh or dried",
           0.029944421799223
          ],
          [
           "Jams, jellies, marmalades, etc, as cooked preparations",
           0
          ],
          [
           "Fruit or vegetable juices",
           0.3191936603777574
          ],
          [
           "Fruit, temporarily preserved",
           0.4657308034053657
          ],
          [
           "Fruit prepared or preserved, nes",
           0.580557381168049
          ],
          [
           "Natural honey",
           0
          ],
          [
           "Wine of fresh grapes etc",
           0.0077110323971092
          ],
          [
           "Olive oil",
           0.0751015488435518
          ]
         ],
         "hovertemplate": "%{customdata[0]}<br>RCA: %{customdata[1]:.2f}",
         "legendgroup": "12.0",
         "marker": {
          "color": "#9467BD",
          "size": [
           0.05,
           0.05,
           0.051037116553945605,
           0.12691520934071399,
           0.1006316613457221,
           0.0669233647077513,
           0.05,
           0.07994442179922301,
           0.05,
           0.3691936603777574,
           0.5157308034053657,
           0.630557381168049,
           0.05,
           0.0577110323971092,
           0.1251015488435518
          ],
          "sizemode": "area",
          "sizeref": 0.0026126049385131827,
          "symbol": "circle"
         },
         "mode": "markers",
         "name": "12.0",
         "orientation": "v",
         "showlegend": true,
         "type": "scatter",
         "x": [
          9.580526,
          9.557691,
          10.120906,
          9.182123,
          9.873582,
          9.823743,
          10.456902,
          10.202125,
          10.133575,
          10.026635,
          9.551301,
          9.581694,
          10.581427,
          9.212738,
          10.663182
         ],
         "xaxis": "x",
         "y": [
          1.8700017,
          1.5853688,
          1.3207853,
          1.5489962,
          1.5845538,
          1.1562577,
          1.2493896,
          1.580488,
          0.9654046,
          0.6370693,
          1.2358572,
          0.76371837,
          0.9167385,
          1.0768749,
          1.4319018
         ],
         "yaxis": "y"
        },
        {
         "customdata": [
          [
           "Other fresh or chilled vegetables",
           0.0007730191593819
          ],
          [
           "Banana, plantain, fresh or dried",
           0.8448230379325238
          ],
          [
           "Grapes, fresh or dried",
           0.0046068229386549
          ],
          [
           "Nuts edible, fresh or dried",
           0.902168788017195
          ],
          [
           "Fruit, fresh or dried, nes",
           0.0055858856569628
          ]
         ],
         "hovertemplate": "%{customdata[0]}<br>RCA: %{customdata[1]:.2f}",
         "legendgroup": "14.0",
         "marker": {
          "color": "#8C564B",
          "size": [
           0.050773019159381906,
           0.8948230379325238,
           0.0546068229386549,
           0.9521687880171951,
           0.055585885656962805
          ],
          "sizemode": "area",
          "sizeref": 0.0026126049385131827,
          "symbol": "circle"
         },
         "mode": "markers",
         "name": "14.0",
         "orientation": "v",
         "showlegend": true,
         "type": "scatter",
         "x": [
          11.43904,
          11.486779,
          11.139075,
          11.046115,
          11.104831
         ],
         "xaxis": "x",
         "y": [
          2.4074,
          1.8770249,
          2.067586,
          2.4144936,
          1.6754977
         ],
         "yaxis": "y"
        },
        {
         "customdata": [
          [
           "Oranges, mandarins, etc, fresh or dried",
           0.0025473877328525
          ],
          [
           "Other citrus fruits, fresh or dried",
           0.1405165779330501
          ]
         ],
         "hovertemplate": "%{customdata[0]}<br>RCA: %{customdata[1]:.2f}",
         "legendgroup": "13.0",
         "marker": {
          "color": "#E377C2",
          "size": [
           0.0525473877328525,
           0.1905165779330501
          ],
          "sizemode": "area",
          "sizeref": 0.0026126049385131827,
          "symbol": "circle"
         },
         "mode": "markers",
         "name": "13.0",
         "orientation": "v",
         "showlegend": true,
         "type": "scatter",
         "x": [
          10.494097,
          10.238291
         ],
         "xaxis": "x",
         "y": [
          2.789743,
          2.685675
         ],
         "yaxis": "y"
        },
        {
         "customdata": [
          [
           "Sugars, beet and cane, raw, solid",
           0.4984974923382489
          ],
          [
           "Refined sugar etc",
           0.8597722451909153
          ],
          [
           "Molasses",
           0
          ],
          [
           "Coffee green, roasted; coffee substitutes containing coffee",
           0.3466865092784705
          ]
         ],
         "hovertemplate": "%{customdata[0]}<br>RCA: %{customdata[1]:.2f}",
         "legendgroup": "15.0",
         "marker": {
          "color": "#7F7F7F",
          "size": [
           0.548497492338249,
           0.9097722451909154,
           0.05,
           0.3966865092784705
          ],
          "sizemode": "area",
          "sizeref": 0.0026126049385131827,
          "symbol": "circle"
         },
         "mode": "markers",
         "name": "15.0",
         "orientation": "v",
         "showlegend": true,
         "type": "scatter",
         "x": [
          19.09604,
          18.65484,
          18.621372,
          19.08319
         ],
         "xaxis": "x",
         "y": [
          6.497919,
          6.001061,
          6.3724914,
          6.1167684
         ],
         "yaxis": "y"
        },
        {
         "customdata": [
          [
           "Sugars and syrups nes; artificial honey; caramel",
           0.0141312024493021
          ],
          [
           "Chocolate and other preparations containing cocoa, nes",
           0.1375141917383256
          ],
          [
           "Kraft paper and paperboard, in rolls or sheets",
           0.1388346826618585
          ],
          [
           "Paper and paperboard, in rolls or sheets, nes",
           0.1295820183995011
          ],
          [
           "Paper and paperboard, creped, crinkled, etc, in rolls or sheets",
           0.2302225978736363
          ],
          [
           "Paper and paperboard, coated, impregnated, etc, in rolls or sheets",
           0.060535231598063
          ],
          [
           "Registers, exercise books, file and book covers, etc, of paper",
           0.0213590110682891
          ],
          [
           "Paper and paperboard cut to size or shape, nes",
           0.0625362717701474
          ],
          [
           "Articles of paper pulp, paper, paperboard or cellulose wadding, nes",
           0.0360513811485933
          ],
          [
           "Cask, drums, etc, of iron, steel, aluminium, for packing goods",
           0.0252317271884143
          ]
         ],
         "hovertemplate": "%{customdata[0]}<br>RCA: %{customdata[1]:.2f}",
         "legendgroup": "64.0",
         "marker": {
          "color": "#BCBD22",
          "size": [
           0.06413120244930211,
           0.18751419173832562,
           0.1888346826618585,
           0.1795820183995011,
           0.2802225978736363,
           0.110535231598063,
           0.0713590110682891,
           0.1125362717701474,
           0.0860513811485933,
           0.07523172718841431
          ],
          "sizemode": "area",
          "sizeref": 0.0026126049385131827,
          "symbol": "circle"
         },
         "mode": "markers",
         "name": "64.0",
         "orientation": "v",
         "showlegend": true,
         "type": "scatter",
         "x": [
          7.4198256,
          7.354351,
          7.5110407,
          7.1215515,
          6.834477,
          7.0836325,
          7.217299,
          6.5629706,
          7.0583935,
          6.834511
         ],
         "xaxis": "x",
         "y": [
          -6.356692,
          -6.575846,
          -6.123448,
          -6.157737,
          -6.092939,
          -6.5004253,
          -5.946101,
          -5.9313097,
          -6.795618,
          -6.441028
         ],
         "yaxis": "y"
        },
        {
         "customdata": [
          [
           "Coffee extracts, essences or concentrates",
           0.0162467057618108
          ],
          [
           "Synthetic tanning substances; tanning preparations",
           0
          ],
          [
           "Insecticides, for sale by retail or as preparations",
           0.0285317396717201
          ],
          [
           "Fungicides, for sale by retail or as preparation",
           0.0248120452218222
          ],
          [
           "Herbicides, for sale by retail or as preparation",
           0.0229461447789884
          ],
          [
           "Disinfectants, etc, for sale by retail or as preparation",
           0.0125851125320612
          ]
         ],
         "hovertemplate": "%{customdata[0]}<br>RCA: %{customdata[1]:.2f}",
         "legendgroup": "58.0",
         "marker": {
          "color": "#17BECF",
          "size": [
           0.0662467057618108,
           0.05,
           0.0785317396717201,
           0.07481204522182221,
           0.0729461447789884,
           0.0625851125320612
          ],
          "sizemode": "area",
          "sizeref": 0.0026126049385131827,
          "symbol": "circle"
         },
         "mode": "markers",
         "name": "58.0",
         "orientation": "v",
         "showlegend": true,
         "type": "scatter",
         "x": [
          -0.10358405,
          -0.32992363,
          -0.506629,
          -0.08307052,
          -0.03199768,
          -0.5575664
         ],
         "xaxis": "x",
         "y": [
          10.428234,
          10.271214,
          10.104376,
          9.747876,
          10.049838,
          9.772446
         ],
         "yaxis": "y"
        },
        {
         "customdata": [
          [
           "Cocoa beans, raw, roasted",
           0.1775718237885808
          ],
          [
           "Cocoa powder, unsweetened",
           0.0761291506314131
          ],
          [
           "Cocoa butter and paste",
           0.2128390712896432
          ]
         ],
         "hovertemplate": "%{customdata[0]}<br>RCA: %{customdata[1]:.2f}",
         "legendgroup": "16.0",
         "marker": {
          "color": "#1F77B4",
          "size": [
           0.22757182378858082,
           0.1261291506314131,
           0.2628390712896432
          ],
          "sizemode": "area",
          "sizeref": 0.0026126049385131827,
          "symbol": "circle"
         },
         "mode": "markers",
         "name": "16.0",
         "orientation": "v",
         "showlegend": true,
         "type": "scatter",
         "x": [
          16.583433,
          16.249754,
          16.332157
         ],
         "xaxis": "x",
         "y": [
          6.8718934,
          7.3884735,
          7.099867
         ],
         "yaxis": "y"
        },
        {
         "customdata": [
          [
           "Tea",
           0.0025242930127701
          ],
          [
           "Pepper of \"piper\"; pimento of \"capsicum or pimenta\"",
           0.0203778610672585
          ],
          [
           "Spices, except pepper and pimento",
           0.0645448076804261
          ],
          [
           "Natural gums, resins, lacs and balsams",
           0
          ],
          [
           "Plants and parts of trees used in perfumery; in pharmacy; etc",
           0.4907247781361634
          ],
          [
           "Other materials of vegetable origin, nes",
           0.0707977864508349
          ],
          [
           "Essential oil, resinoid, etc",
           0.2538730841117975
          ]
         ],
         "hovertemplate": "%{customdata[0]}<br>RCA: %{customdata[1]:.2f}",
         "legendgroup": "17.0",
         "marker": {
          "color": "#FF7F0E",
          "size": [
           0.052524293012770104,
           0.0703778610672585,
           0.1145448076804261,
           0.05,
           0.5407247781361634,
           0.1207977864508349,
           0.3038730841117975
          ],
          "sizemode": "area",
          "sizeref": 0.0026126049385131827,
          "symbol": "circle"
         },
         "mode": "markers",
         "name": "17.0",
         "orientation": "v",
         "showlegend": true,
         "type": "scatter",
         "x": [
          18.534042,
          18.981392,
          19.299587,
          18.976622,
          18.62424,
          18.311752,
          18.684998
         ],
         "xaxis": "x",
         "y": [
          5.648718,
          4.993069,
          4.705814,
          5.411526,
          4.7976255,
          5.2147236,
          5.284627
         ],
         "yaxis": "y"
        },
        {
         "customdata": [
          [
           "Hay and fodder, green or dry",
           0.2507898584729311
          ],
          [
           "Food waste and prepared animal feed, nes",
           0.0698184952096969
          ],
          [
           "Starches, insulin and wheat gluten",
           0
          ]
         ],
         "hovertemplate": "%{customdata[0]}<br>RCA: %{customdata[1]:.2f}",
         "legendgroup": "18.0",
         "marker": {
          "color": "#2CA02C",
          "size": [
           0.3007898584729311,
           0.11981849520969691,
           0.05
          ],
          "sizemode": "area",
          "sizeref": 0.0026126049385131827,
          "symbol": "circle"
         },
         "mode": "markers",
         "name": "18.0",
         "orientation": "v",
         "showlegend": true,
         "type": "scatter",
         "x": [
          16.22422,
          16.009607,
          16.488276
         ],
         "xaxis": "x",
         "y": [
          -3.7292032,
          -3.583505,
          -3.5006883
         ],
         "yaxis": "y"
        },
        {
         "customdata": [
          [
           "Oilcake and other residues (except dregs)",
           0.9712520782185828
          ],
          [
           "Soya beans",
           0.2039448129997668
          ],
          [
           "Flour or meals of oil seeds or oleaginous fruit, non-defatted",
           0.9734926155821934
          ],
          [
           "Soya bean oil",
           0.9773207459937044
          ],
          [
           "Cotton seed oil",
           0.3859454996178151
          ],
          [
           "Groundnut (peanut) oil",
           0.2886449995415951
          ],
          [
           "Sunflower seed oil",
           0.9054011864637316
          ],
          [
           "Fixed vegetable oils, nes",
           0.916055942784397
          ],
          [
           "Hydrogenated animal or vegetable oils and fats",
           0.7865796539139899
          ],
          [
           "Fatty acids, acid oils, and residues; degras",
           0.1740039126053115
          ]
         ],
         "hovertemplate": "%{customdata[0]}<br>RCA: %{customdata[1]:.2f}",
         "legendgroup": "44.0",
         "marker": {
          "color": "#D62728",
          "size": [
           1.0212520782185828,
           0.2539448129997668,
           1.0234926155821933,
           1.0273207459937044,
           0.4359454996178151,
           0.3386449995415951,
           0.9554011864637316,
           0.966055942784397,
           0.8365796539139899,
           0.2240039126053115
          ],
          "sizemode": "area",
          "sizeref": 0.0026126049385131827,
          "symbol": "circle"
         },
         "mode": "markers",
         "name": "44.0",
         "orientation": "v",
         "showlegend": true,
         "type": "scatter",
         "x": [
          8.621795,
          8.408088,
          8.878218,
          8.415249,
          8.167011,
          8.728721,
          8.2690115,
          8.905065,
          8.451663,
          8.009759
         ],
         "xaxis": "x",
         "y": [
          4.213466,
          4.6830225,
          4.0372963,
          4.037908,
          4.3889284,
          3.4690359,
          3.3888834,
          3.739124,
          3.7393644,
          3.9470975
         ],
         "yaxis": "y"
        },
        {
         "customdata": [
          [
           "Other fermented beverages, nes (cider, perry, mead, etc)",
           0
          ],
          [
           "Tobacco, manufactured; tobacco extract and essences",
           0
          ],
          [
           "Coal gas, water gas and similar gases",
           0
          ],
          [
           "Inorganic esters, their salts and derivatives",
           0
          ],
          [
           "Pyrotechnic articles",
           0
          ],
          [
           "Rotary converters",
           0
          ],
          [
           "Engines and motors, nes (wind, hot air engines, water wheel, etc)",
           0.0397839120911778
          ],
          [
           "Harvesting and threshing machines; fodder presses, etc; parts nes",
           0.0148379842375303
          ],
          [
           "Dairy machinery, nes (including milking machines), and parts nes",
           0
          ],
          [
           "Agricultural machinery and appliances, nes, and parts thereof, nes",
           0.0065543255256684
          ],
          [
           "Machinery for making paper pulp, paper, paperboard; cutting machines",
           0
          ],
          [
           "Parts, nes of the machines falling within heading 725",
           0
          ],
          [
           "Machinery, accessories for type-setting, for printing blocks, etc",
           0.0060594328824545
          ],
          [
           "Printing presses",
           0.014679784013967
          ],
          [
           "Other printing machinery; machines for uses ancilliary to printing",
           0.0160753094329546
          ],
          [
           "Parts, nes of machines falling within headings 72631, 7264, 7267",
           0.0167897936872853
          ],
          [
           "Machinery for the grain milling industry; working cereals, parts",
           0.0175685355592714
          ],
          [
           "Other food-processing machinery and parts thereof, nes",
           0.0123943637729964
          ],
          [
           "Furnace burners; mechanical stokers, etc, and parts thereof, nes",
           0.0038483680407971
          ],
          [
           "Non-domestic refrigerators and refrigerating equipment, parts, nes",
           0.0014852917581186
          ],
          [
           "Centrifuges",
           0.0213546140624537
          ],
          [
           "Other non-electrical machines and parts thereof, nes",
           0.0113598313752092
          ],
          [
           "Electro-medical equipment",
           0.0061861938288026
          ],
          [
           "X-ray apparatus and equipment; accessories; and parts, nes",
           0.0165285951430825
          ],
          [
           "Domestic dishwashing machines",
           0
          ],
          [
           "Medical instruments and appliances, nes",
           0.0045833785478504
          ],
          [
           "Cinematographic cameras, projectors, etc, parts, accessories, nes",
           0
          ],
          [
           "Printed books, pamphlets, maps and globes",
           0.0242131883528685
          ],
          [
           "Newspapers, journals and periodicals",
           0
          ],
          [
           "Armoured fighting vehicles, war firearms, ammunition, parts, nes",
           0.0021705411484284
          ]
         ],
         "hovertemplate": "%{customdata[0]}<br>RCA: %{customdata[1]:.2f}",
         "legendgroup": "94.0",
         "marker": {
          "color": "#9467BD",
          "size": [
           0.05,
           0.05,
           0.05,
           0.05,
           0.05,
           0.05,
           0.08978391209117781,
           0.0648379842375303,
           0.05,
           0.0565543255256684,
           0.05,
           0.05,
           0.056059432882454505,
           0.064679784013967,
           0.0660753094329546,
           0.0667897936872853,
           0.0675685355592714,
           0.062394363772996404,
           0.0538483680407971,
           0.051485291758118605,
           0.0713546140624537,
           0.0613598313752092,
           0.056186193828802605,
           0.0665285951430825,
           0.05,
           0.054583378547850406,
           0.05,
           0.0742131883528685,
           0.05,
           0.0521705411484284
          ],
          "sizemode": "area",
          "sizeref": 0.0026126049385131827,
          "symbol": "circle"
         },
         "mode": "markers",
         "name": "94.0",
         "orientation": "v",
         "showlegend": true,
         "type": "scatter",
         "x": [
          1.6608953,
          2.0607338,
          2.4203658,
          2.3265162,
          2.1347232,
          1.768836,
          1.5016751,
          1.2691803,
          1.2299542,
          1.9382224,
          2.6798067,
          2.7814221,
          1.3539028,
          1.5666542,
          1.8248396,
          1.9619184,
          2.2524524,
          1.8212657,
          1.4039764,
          1.5299606,
          1.2361636,
          1.9412179,
          2.6698623,
          3.033546,
          1.6272674,
          2.7624974,
          2.131987,
          2.343244,
          2.4423504,
          2.29535
         ],
         "xaxis": "x",
         "y": [
          10.946563,
          10.708324,
          11.948984,
          11.463797,
          11.200775,
          11.382306,
          10.732057,
          10.382786,
          10.721077,
          10.205675,
          10.429215,
          10.817372,
          11.664218,
          11.911135,
          11.633119,
          12.095464,
          9.954907,
          10.591885,
          10.00312,
          11.236973,
          11.054739,
          11.037657,
          11.304263,
          11.146543,
          10.322347,
          11.680984,
          11.691532,
          10.755229,
          11.039893,
          10.370313
         ],
         "yaxis": "y"
        },
        {
         "customdata": [
          [
           "Tobacco, not stripped",
           0
          ],
          [
           "Tobacco, wholly or partly stripped",
           0
          ],
          [
           "Tobacco refuse",
           0
          ]
         ],
         "hovertemplate": "%{customdata[0]}<br>RCA: %{customdata[1]:.2f}",
         "legendgroup": "19.0",
         "marker": {
          "color": "#8C564B",
          "size": [
           0.05,
           0.05,
           0.05
          ],
          "sizemode": "area",
          "sizeref": 0.0026126049385131827,
          "symbol": "circle"
         },
         "mode": "markers",
         "name": "19.0",
         "orientation": "v",
         "showlegend": true,
         "type": "scatter",
         "x": [
          10.745276,
          10.413998,
          10.996672
         ],
         "xaxis": "x",
         "y": [
          1.7340415,
          1.7177166,
          1.301282
         ],
         "yaxis": "y"
        },
        {
         "customdata": [
          [
           "Cigars, cheroots: cigarillos",
           0
          ],
          [
           "Seeds, fruits and spores, nes, for planting",
           0.5142962544307303
          ],
          [
           "Live plants, bulbs, etc",
           0
          ],
          [
           "Cut flowers and foliage",
           0.001878504187512
          ]
         ],
         "hovertemplate": "%{customdata[0]}<br>RCA: %{customdata[1]:.2f}",
         "legendgroup": "39.0",
         "marker": {
          "color": "#E377C2",
          "size": [
           0.05,
           0.5642962544307304,
           0.05,
           0.051878504187512005
          ],
          "sizemode": "area",
          "sizeref": 0.0026126049385131827,
          "symbol": "circle"
         },
         "mode": "markers",
         "name": "39.0",
         "orientation": "v",
         "showlegend": true,
         "type": "scatter",
         "x": [
          9.735949,
          10.143614,
          9.694885,
          10.296418
         ],
         "xaxis": "x",
         "y": [
          3.188027,
          3.083242,
          2.9056327,
          3.411922
         ],
         "yaxis": "y"
        },
        {
         "customdata": [
          [
           "Bovine and equine hides, raw, whether or not split",
           0.8101812445111545
          ],
          [
           "Calf skins, raw, whether or not split",
           0.7644133311606607
          ],
          [
           "Calf leather",
           0.4324777785346124
          ],
          [
           "Leather of other bovine cattle and equine leather",
           0.3204787367162402
          ]
         ],
         "hovertemplate": "%{customdata[0]}<br>RCA: %{customdata[1]:.2f}",
         "legendgroup": "20.0",
         "marker": {
          "color": "#7F7F7F",
          "size": [
           0.8601812445111545,
           0.8144133311606607,
           0.4824777785346124,
           0.3704787367162402
          ],
          "sizemode": "area",
          "sizeref": 0.0026126049385131827,
          "symbol": "circle"
         },
         "mode": "markers",
         "name": "20.0",
         "orientation": "v",
         "showlegend": true,
         "type": "scatter",
         "x": [
          13.589968,
          13.198356,
          13.631772,
          14.021127
         ],
         "xaxis": "x",
         "y": [
          1.8795196,
          2.2808573,
          2.2349076,
          2.405597
         ],
         "yaxis": "y"
        },
        {
         "customdata": [
          [
           "Goat and kid skins, raw, whether or not split",
           0.533215737381707
          ],
          [
           "Hides and skins, nes; waste and used leather",
           0.546378784688752
          ],
          [
           "Bones, ivory, horns, coral, shells and similar products",
           0
          ]
         ],
         "hovertemplate": "%{customdata[0]}<br>RCA: %{customdata[1]:.2f}",
         "legendgroup": "21.0",
         "marker": {
          "color": "#BCBD22",
          "size": [
           0.5832157373817071,
           0.596378784688752,
           0.05
          ],
          "sizemode": "area",
          "sizeref": 0.0026126049385131827,
          "symbol": "circle"
         },
         "mode": "markers",
         "name": "21.0",
         "orientation": "v",
         "showlegend": true,
         "type": "scatter",
         "x": [
          13.181302,
          12.768747,
          13.119169
         ],
         "xaxis": "x",
         "y": [
          0.885305,
          1.2118616,
          1.372362
         ],
         "yaxis": "y"
        },
        {
         "customdata": [
          [
           "Sheep and lamb skin with the wool on, raw, whether or not split",
           0
          ],
          [
           "Wool greasy or fleece-washed of sheep or lambs",
           0
          ],
          [
           "Wool degreased, uncombed of sheep or lambs",
           0.4083324485897695
          ]
         ],
         "hovertemplate": "%{customdata[0]}<br>RCA: %{customdata[1]:.2f}",
         "legendgroup": "32.0",
         "marker": {
          "color": "#17BECF",
          "size": [
           0.05,
           0.05,
           0.4583324485897695
          ],
          "sizemode": "area",
          "sizeref": 0.0026126049385131827,
          "symbol": "circle"
         },
         "mode": "markers",
         "name": "32.0",
         "orientation": "v",
         "showlegend": true,
         "type": "scatter",
         "x": [
          14.040132,
          14.428068,
          14.017153
         ],
         "xaxis": "x",
         "y": [
          1.9790994,
          1.7496456,
          1.5880915
         ],
         "yaxis": "y"
        },
        {
         "customdata": [
          [
           "Sheep and lamb skin without the wool, raw, whether or not split",
           0.0345230359702373
          ],
          [
           "Sheep and lamb skin leather",
           0.6163843543099337
          ],
          [
           "Leather of other hides or skins",
           0.5976833419832603
          ],
          [
           "Leather, specially dressed or finished, nes",
           0.2897014261286527
          ]
         ],
         "hovertemplate": "%{customdata[0]}<br>RCA: %{customdata[1]:.2f}",
         "legendgroup": "60.0",
         "marker": {
          "color": "#1F77B4",
          "size": [
           0.0845230359702373,
           0.6663843543099337,
           0.6476833419832604,
           0.3397014261286527
          ],
          "sizemode": "area",
          "sizeref": 0.0026126049385131827,
          "symbol": "circle"
         },
         "mode": "markers",
         "name": "60.0",
         "orientation": "v",
         "showlegend": true,
         "type": "scatter",
         "x": [
          14.176732,
          13.72362,
          13.938047,
          14.39962
         ],
         "xaxis": "x",
         "y": [
          0.870605,
          0.7170113,
          1.2161672,
          1.2918605
         ],
         "yaxis": "y"
        },
        {
         "customdata": [
          [
           "Groundnuts, green",
           0.8818105038961581
          ],
          [
           "Cotton seeds",
           0
          ],
          [
           "Raw cotton, excluding linters, not carded or combed",
           0
          ],
          [
           "Cotton linters",
           0
          ],
          [
           "Waxes of animal or vegetable origin",
           0.0133865628300767
          ]
         ],
         "hovertemplate": "%{customdata[0]}<br>RCA: %{customdata[1]:.2f}",
         "legendgroup": "28.0",
         "marker": {
          "color": "#FF7F0E",
          "size": [
           0.9318105038961582,
           0.05,
           0.05,
           0.05,
           0.06338656283007671
          ],
          "sizemode": "area",
          "sizeref": 0.0026126049385131827,
          "symbol": "circle"
         },
         "mode": "markers",
         "name": "28.0",
         "orientation": "v",
         "showlegend": true,
         "type": "scatter",
         "x": [
          9.858414,
          9.892142,
          9.044022,
          9.421668,
          9.416117
         ],
         "xaxis": "x",
         "y": [
          3.766643,
          3.4854975,
          3.2603261,
          3.6415453,
          3.3402042
         ],
         "yaxis": "y"
        },
        {
         "customdata": [
          [
           "Copra",
           0
          ],
          [
           "Coconut (copra) oil",
           0.1682556846281943
          ]
         ],
         "hovertemplate": "%{customdata[0]}<br>RCA: %{customdata[1]:.2f}",
         "legendgroup": "22.0",
         "marker": {
          "color": "#2CA02C",
          "size": [
           0.05,
           0.21825568462819428
          ],
          "sizemode": "area",
          "sizeref": 0.0026126049385131827,
          "symbol": "circle"
         },
         "mode": "markers",
         "name": "22.0",
         "orientation": "v",
         "showlegend": true,
         "type": "scatter",
         "x": [
          16.907982,
          17.310158
         ],
         "xaxis": "x",
         "y": [
          7.6339345,
          7.665295
         ],
         "yaxis": "y"
        },
        {
         "customdata": [
          [
           "Palm nuts and kernels",
           0.975068350383147
          ],
          [
           "Castor oil seeds",
           0.9748069468378048
          ],
          [
           "Oil seeds and oleaginous fruits, nes",
           0.9316116894376592
          ]
         ],
         "hovertemplate": "%{customdata[0]}<br>RCA: %{customdata[1]:.2f}",
         "legendgroup": "23.0",
         "marker": {
          "color": "#D62728",
          "size": [
           1.025068350383147,
           1.0248069468378047,
           0.9816116894376592
          ],
          "sizemode": "area",
          "sizeref": 0.0026126049385131827,
          "symbol": "circle"
         },
         "mode": "markers",
         "name": "23.0",
         "orientation": "v",
         "showlegend": true,
         "type": "scatter",
         "x": [
          9.171111,
          8.975454,
          9.439488
         ],
         "xaxis": "x",
         "y": [
          5.4663606,
          5.1380677,
          5.1778593
         ],
         "yaxis": "y"
        },
        {
         "customdata": [
          [
           "Natural rubber latex; natural rubber and gums",
           0
          ],
          [
           "Palm oil",
           0.0174534001795239
          ],
          [
           "Palm kernel oil",
           0.1846323441905064
          ]
         ],
         "hovertemplate": "%{customdata[0]}<br>RCA: %{customdata[1]:.2f}",
         "legendgroup": "45.0",
         "marker": {
          "color": "#9467BD",
          "size": [
           0.05,
           0.0674534001795239,
           0.23463234419050638
          ],
          "sizemode": "area",
          "sizeref": 0.0026126049385131827,
          "symbol": "circle"
         },
         "mode": "markers",
         "name": "45.0",
         "orientation": "v",
         "showlegend": true,
         "type": "scatter",
         "x": [
          16.684437,
          16.95683,
          17.316706
         ],
         "xaxis": "x",
         "y": [
          6.54693,
          6.4468017,
          6.3242035
         ],
         "yaxis": "y"
        },
        {
         "customdata": [
          [
           "Synthetic rubber, latex; factice derived from oils",
           0.0023483912827704
          ],
          [
           "Manufactures of asbestos; friction materials",
           0.8174026386075599
          ],
          [
           "Glass, cast, rolled, etc, surface-ground, but no further worked",
           0
          ],
          [
           "Safety glass consisting of toughened or laminated glass, cut or not",
           0.0015514783146153
          ],
          [
           "Motor vehicles piston engines, headings: 722; 78; 74411 and 95101",
           0.000933699409712
          ],
          [
           "Piston engines parts, nes, falling in headings: 7132, 7133 and 7138",
           0.015714995345626
          ],
          [
           "Automotive electrical equipment; and parts thereof, nes",
           0.0025143427771269
          ],
          [
           "Passenger motor vehicles (excluding buses)",
           0.0015008955144798
          ],
          [
           "Motor vehicles for the transport of goods or materials",
           0.0183834270897937
          ],
          [
           "Public service type passenger motor vehicles",
           0
          ],
          [
           "Road tractors for semi-trailers",
           0.0075735494157614
          ],
          [
           "Chassis fitted with engines, for vehicles of headings 722, 781-783",
           0
          ],
          [
           "Bodies, for vehicles of headings 722, 781-783",
           0
          ],
          [
           "Other parts and accessories, for vehicles of headings 722, 781-783",
           0.0022001609706683
          ]
         ],
         "hovertemplate": "%{customdata[0]}<br>RCA: %{customdata[1]:.2f}",
         "legendgroup": "102.0",
         "marker": {
          "color": "#8C564B",
          "size": [
           0.052348391282770405,
           0.86740263860756,
           0.05,
           0.051551478314615304,
           0.050933699409712,
           0.065714995345626,
           0.0525143427771269,
           0.051500895514479804,
           0.0683834270897937,
           0.05,
           0.0575735494157614,
           0.05,
           0.05,
           0.052200160970668305
          ],
          "sizemode": "area",
          "sizeref": 0.0026126049385131827,
          "symbol": "circle"
         },
         "mode": "markers",
         "name": "102.0",
         "orientation": "v",
         "showlegend": true,
         "type": "scatter",
         "x": [
          -3.2180018,
          -3.4263492,
          -3.000734,
          -3.8306928,
          -3.5147426,
          -3.752344,
          -3.2694547,
          -2.8421557,
          -3.1549053,
          -2.8105073,
          -3.458909,
          -4.03411,
          -3.89195,
          -3.5531042
         ],
         "xaxis": "x",
         "y": [
          2.7321296,
          1.9307319,
          2.4986129,
          2.5660522,
          2.3884544,
          1.9585735,
          2.300058,
          3.0904195,
          3.0847208,
          2.7339296,
          3.3067167,
          2.2328317,
          3.0686457,
          2.8476255
         ],
         "yaxis": "y"
        },
        {
         "customdata": [
          [
           "Reclaimed rubber, waste, scrap of unhardened rubber",
           0
          ],
          [
           "Gypsum, plasters, limestone flux and calcareous stone",
           0.0305401047851884
          ],
          [
           "Pebbles, gravel, crushed or broken stone, etc",
           0.0007632332401932
          ],
          [
           "Chemical elements",
           0.0040188886124123
          ],
          [
           "Wood packing cases, boxes, cases, crates, etc, complete",
           0.0005656514234387
          ],
          [
           "Construction materials, of asbestos-cement or fibre-cements, etc",
           0.0830908740417324
          ],
          [
           "Manufactures of mineral materials, nes (other than ceramic)",
           0.0091307906888937
          ],
          [
           "Bricks, tiles, etc of pressed or moulded glass, used in building",
           0
          ],
          [
           "Glass, nes",
           0
          ],
          [
           "Other tubes and pipes, of iron or steel",
           0.0016375589847248
          ],
          [
           "Tube and pipes fittings, of iron or steel",
           0.0142113554097666
          ],
          [
           "Steel and iron forging and stampings, in the rough state",
           0.0170976668108222
          ],
          [
           "Castings of iron or steel, in rough state",
           0.0230548901490447
          ],
          [
           "Zinc and zinc alloys worked",
           0
          ],
          [
           "Structures and parts of, of iron, steel; plates, rods, and the like",
           0.034434327970536
          ],
          [
           "Structures and parts of, of aluminium; plates, rods, and the like",
           0.0092949306852443
          ],
          [
           "Iron, steel, aluminium reservoirs, tanks, etc, capacity 300 lt plus",
           0.0511851322543239
          ],
          [
           "Gauze, cloth, grill, netting, reinforced fabric and the like",
           0.0001559710162452
          ],
          [
           "Articles of iron or steel, nes",
           0.0126280966974346
          ],
          [
           "Trailers and transports containers",
           0.0722230133801902
          ],
          [
           "Other not mechanically propelled vehicles; and parts, nes",
           0.0488609525465716
          ]
         ],
         "hovertemplate": "%{customdata[0]}<br>RCA: %{customdata[1]:.2f}",
         "legendgroup": "88.0",
         "marker": {
          "color": "#E377C2",
          "size": [
           0.05,
           0.0805401047851884,
           0.050763233240193203,
           0.0540188886124123,
           0.050565651423438704,
           0.13309087404173242,
           0.0591307906888937,
           0.05,
           0.05,
           0.0516375589847248,
           0.06421135540976661,
           0.0670976668108222,
           0.0730548901490447,
           0.05,
           0.084434327970536,
           0.0592949306852443,
           0.1011851322543239,
           0.0501559710162452,
           0.0626280966974346,
           0.1222230133801902,
           0.0988609525465716
          ],
          "sizemode": "area",
          "sizeref": 0.0026126049385131827,
          "symbol": "circle"
         },
         "mode": "markers",
         "name": "88.0",
         "orientation": "v",
         "showlegend": true,
         "type": "scatter",
         "x": [
          9.427127,
          8.506598,
          8.776901,
          8.702433,
          8.906642,
          8.63445,
          9.250565,
          9.837701,
          9.927928,
          9.51696,
          9.1605625,
          8.968091,
          9.038361,
          8.420318,
          9.811107,
          9.202285,
          8.97496,
          9.388608,
          8.555948,
          9.497936,
          8.869086
         ],
         "xaxis": "x",
         "y": [
          -6.263369,
          -6.515248,
          -6.5334234,
          -6.246568,
          -6.786488,
          -6.859753,
          -6.611096,
          -6.173167,
          -6.44956,
          -6.528045,
          -6.942941,
          -6.211482,
          -6.4649115,
          -6.794114,
          -6.817249,
          -6.137954,
          -7.4646764,
          -7.3229494,
          -7.238814,
          -6.965256,
          -7.137417
         ],
         "yaxis": "y"
        },
        {
         "customdata": [
          [
           "Cork, natural, raw and waste",
           0
          ],
          [
           "Cork manufactures",
           0.0006785525126775
          ]
         ],
         "hovertemplate": "%{customdata[0]}<br>RCA: %{customdata[1]:.2f}",
         "legendgroup": "24.0",
         "marker": {
          "color": "#7F7F7F",
          "size": [
           0.05,
           0.0506785525126775
          ],
          "sizemode": "area",
          "sizeref": 0.0026126049385131827,
          "symbol": "circle"
         },
         "mode": "markers",
         "name": "24.0",
         "orientation": "v",
         "showlegend": true,
         "type": "scatter",
         "x": [
          10.904762,
          10.560406
         ],
         "xaxis": "x",
         "y": [
          3.270923,
          3.094443
         ],
         "yaxis": "y"
        },
        {
         "customdata": [
          [
           "Fuel wood and wood charcoal",
           0.3477226805505123
          ],
          [
           "Furskins, tanned or dressed; pieces of furskin, tanned or dressed",
           0
          ],
          [
           "Improved wood and reconstituted wood",
           0.0006877999348115
          ],
          [
           "Builders` carpentry and joinery (including prefabricated)",
           0.4692735656007768
          ],
          [
           "Manufactures of wood for domestic or decorative use",
           0.1042841204021111
          ],
          [
           "Manufactured articles of wood, nes",
           0.5732113344874891
          ],
          [
           "Fibre building board of wood or other vegetable material",
           0.4292594178815793
          ],
          [
           "Building and monumental stone, worked, and articles thereof",
           0.0523477375132115
          ],
          [
           "Non-refractory ceramic bricks, tiles, pipes and similar products",
           0.3177119139726126
          ],
          [
           "Chairs and other seats; and parts thereof, nes",
           0.1123443051069484
          ],
          [
           "Furniture for medical, surgical, dental or veterinary practice",
           0.0093607750511343
          ],
          [
           "Other furniture and parts thereof, nes",
           0.0547456325371799
          ]
         ],
         "hovertemplate": "%{customdata[0]}<br>RCA: %{customdata[1]:.2f}",
         "legendgroup": "107.0",
         "marker": {
          "color": "#BCBD22",
          "size": [
           0.3977226805505123,
           0.05,
           0.050687799934811505,
           0.5192735656007769,
           0.1542841204021111,
           0.6232113344874891,
           0.4792594178815793,
           0.1023477375132115,
           0.3677119139726126,
           0.16234430510694842,
           0.0593607750511343,
           0.1047456325371799
          ],
          "sizemode": "area",
          "sizeref": 0.0026126049385131827,
          "symbol": "circle"
         },
         "mode": "markers",
         "name": "107.0",
         "orientation": "v",
         "showlegend": true,
         "type": "scatter",
         "x": [
          9.654673,
          9.603311,
          10.39246,
          9.803712,
          9.942484,
          10.02624,
          10.427433,
          10.212047,
          10.59373,
          9.791594,
          10.170167,
          10.061564
         ],
         "xaxis": "x",
         "y": [
          -5.282871,
          -5.0038657,
          -5.6606073,
          -4.7876134,
          -5.2812953,
          -5.5413666,
          -5.208765,
          -4.754513,
          -4.6965985,
          -4.4279733,
          -4.3243275,
          -5.0454354
         ],
         "yaxis": "y"
        },
        {
         "customdata": [
          [
           "Pulpwood (including chips and wood waste)",
           0.0742597756737687
          ],
          [
           "Sawlogs and veneer logs, of coniferous species",
           0
          ],
          [
           "Sawlogs and veneer logs, of non-coniferous species",
           0.4997732857215171
          ],
          [
           "Pitprops, poles, piling, post and other wood in the rough, nes",
           0.1072059366427236
          ],
          [
           "Wood, non-coniferous species, sawn, planed, tongued, grooved, etc",
           0.8396196090655293
          ]
         ],
         "hovertemplate": "%{customdata[0]}<br>RCA: %{customdata[1]:.2f}",
         "legendgroup": "25.0",
         "marker": {
          "color": "#17BECF",
          "size": [
           0.1242597756737687,
           0.05,
           0.5497732857215171,
           0.1572059366427236,
           0.8896196090655294
          ],
          "sizemode": "area",
          "sizeref": 0.0026126049385131827,
          "symbol": "circle"
         },
         "mode": "markers",
         "name": "25.0",
         "orientation": "v",
         "showlegend": true,
         "type": "scatter",
         "x": [
          15.982857,
          15.402331,
          15.774837,
          15.500182,
          15.142365
         ],
         "xaxis": "x",
         "y": [
          7.0805564,
          7.486062,
          7.3189864,
          7.0377955,
          6.972653
         ],
         "yaxis": "y"
        },
        {
         "customdata": [
          [
           "Railway or tramway sleepers (ties) of wood",
           0.8976548939324079
          ],
          [
           "Wood of coniferous species, sawn, planed, tongued, grooved, etc",
           0.0723021368287045
          ],
          [
           "Wood sawn lengthwise, veneer sheets etc, up to 5 mm in thickness",
           0.2346051945195512
          ],
          [
           "Plywood consisting solely of sheets of wood",
           0.0182091709605646
          ],
          [
           "Wood-based panels, nes",
           0.1563701294527807
          ],
          [
           "Wood, simply shaped, nes",
           0.493056473762977
          ]
         ],
         "hovertemplate": "%{customdata[0]}<br>RCA: %{customdata[1]:.2f}",
         "legendgroup": "63.0",
         "marker": {
          "color": "#1F77B4",
          "size": [
           0.947654893932408,
           0.1223021368287045,
           0.2846051945195512,
           0.0682091709605646,
           0.20637012945278072,
           0.543056473762977
          ],
          "sizemode": "area",
          "sizeref": 0.0026126049385131827,
          "symbol": "circle"
         },
         "mode": "markers",
         "name": "63.0",
         "orientation": "v",
         "showlegend": true,
         "type": "scatter",
         "x": [
          15.800476,
          15.847183,
          16.386246,
          16.60529,
          16.190254,
          15.837773
         ],
         "xaxis": "x",
         "y": [
          6.3503094,
          6.068163,
          6.358337,
          5.9776444,
          6.0227914,
          5.6799235
         ],
         "yaxis": "y"
        },
        {
         "customdata": [
          [
           "Mechanical wood pulp",
           0
          ],
          [
           "Chemical wood pulp, dissolving grades",
           0
          ],
          [
           "Chemical wood pulp, soda or sulphate",
           0
          ],
          [
           "Chemical wood pulp, sulphite",
           0
          ],
          [
           "Other cellulosic pulps",
           0
          ],
          [
           "Newsprint",
           0.0106237749425955
          ]
         ],
         "hovertemplate": "%{customdata[0]}<br>RCA: %{customdata[1]:.2f}",
         "legendgroup": "26.0",
         "marker": {
          "color": "#FF7F0E",
          "size": [
           0.05,
           0.05,
           0.05,
           0.05,
           0.05,
           0.06062377494259551
          ],
          "sizemode": "area",
          "sizeref": 0.0026126049385131827,
          "symbol": "circle"
         },
         "mode": "markers",
         "name": "26.0",
         "orientation": "v",
         "showlegend": true,
         "type": "scatter",
         "x": [
          15.420825,
          14.950393,
          14.780401,
          15.358417,
          15.39024,
          15.10418
         ],
         "xaxis": "x",
         "y": [
          6.1468368,
          6.0722747,
          6.676872,
          5.774685,
          6.5434475,
          6.4856224
         ],
         "yaxis": "y"
        },
        {
         "customdata": [
          [
           "Raw silk (not thrown)",
           0
          ],
          [
           "Silk worm cocoons and silk waste",
           0
          ],
          [
           "Castor oil",
           0.2664994807667276
          ]
         ],
         "hovertemplate": "%{customdata[0]}<br>RCA: %{customdata[1]:.2f}",
         "legendgroup": "27.0",
         "marker": {
          "color": "#2CA02C",
          "size": [
           0.05,
           0.05,
           0.31649948076672757
          ],
          "sizemode": "area",
          "sizeref": 0.0026126049385131827,
          "symbol": "circle"
         },
         "mode": "markers",
         "name": "27.0",
         "orientation": "v",
         "showlegend": true,
         "type": "scatter",
         "x": [
          19.383617,
          19.738943,
          19.55482
         ],
         "xaxis": "x",
         "y": [
          5.9646,
          6.0036182,
          6.3824334
         ],
         "yaxis": "y"
        },
        {
         "customdata": [
          [
           "Cotton waste, not carded or combed",
           0
          ],
          [
           "Cotton, carded or combed",
           0
          ],
          [
           "Cotton yarn",
           0.0240295199949523
          ],
          [
           "Cotton fabrics, woven, unbleached, not mercerized",
           0.0003493252887863
          ],
          [
           "Cotton fabrics, woven, bleached, dyed, etc, or otherwise finished",
           0.0367394037938723
          ]
         ],
         "hovertemplate": "%{customdata[0]}<br>RCA: %{customdata[1]:.2f}",
         "legendgroup": "66.0",
         "marker": {
          "color": "#D62728",
          "size": [
           0.05,
           0.05,
           0.0740295199949523,
           0.0503493252887863,
           0.0867394037938723
          ],
          "sizemode": "area",
          "sizeref": 0.0026126049385131827,
          "symbol": "circle"
         },
         "mode": "markers",
         "name": "66.0",
         "orientation": "v",
         "showlegend": true,
         "type": "scatter",
         "x": [
          6.835185,
          6.7878065,
          6.560197,
          6.226042,
          6.4670534
         ],
         "xaxis": "x",
         "y": [
          10.643333,
          10.304703,
          10.807762,
          10.361972,
          10.543511
         ],
         "yaxis": "y"
        },
        {
         "customdata": [
          [
           "Jute, other textile bast fibres, nes, raw, processed but not spun",
           0
          ],
          [
           "Sisal, agave fibres, raw or processed but not spun, and waste",
           0
          ],
          [
           "Manila hemp, raw or processed but not spun, its tow and waste",
           0
          ],
          [
           "Vegetable textile fibres, nes, and waste",
           0
          ],
          [
           "Precious and semi-precious stones, not mounted, set or strung",
           0.2130665299172037
          ]
         ],
         "hovertemplate": "%{customdata[0]}<br>RCA: %{customdata[1]:.2f}",
         "legendgroup": "30.0",
         "marker": {
          "color": "#9467BD",
          "size": [
           0.05,
           0.05,
           0.05,
           0.05,
           0.2630665299172037
          ],
          "sizemode": "area",
          "sizeref": 0.0026126049385131827,
          "symbol": "circle"
         },
         "mode": "markers",
         "name": "30.0",
         "orientation": "v",
         "showlegend": true,
         "type": "scatter",
         "x": [
          19.724897,
          19.942978,
          20.201355,
          20.14859,
          20.156948
         ],
         "xaxis": "x",
         "y": [
          5.4021063,
          5.742793,
          6.067304,
          5.4366035,
          5.0279756
         ],
         "yaxis": "y"
        },
        {
         "customdata": [
          [
           "Flax and ramie, flax tow, ramie noils, and waste",
           0
          ],
          [
           "True hemp, raw or processed but not spun, its tow and waste",
           0
          ]
         ],
         "hovertemplate": "%{customdata[0]}<br>RCA: %{customdata[1]:.2f}",
         "legendgroup": "29.0",
         "marker": {
          "color": "#8C564B",
          "size": [
           0.05,
           0.05
          ],
          "sizemode": "area",
          "sizeref": 0.0026126049385131827,
          "symbol": "circle"
         },
         "mode": "markers",
         "name": "29.0",
         "orientation": "v",
         "showlegend": true,
         "type": "scatter",
         "x": [
          16.81988,
          16.694386
         ],
         "xaxis": "x",
         "y": [
          -3.568505,
          -3.2742574
         ],
         "yaxis": "y"
        },
        {
         "customdata": [
          [
           "Discontinuous synthetic fibres, not carded or combed",
           0
          ],
          [
           "Continuous filament tow for synthetic (discontinuous) fibres",
           0
          ],
          [
           "Discontinuous synthetic fibres, carded or combed",
           0
          ]
         ],
         "hovertemplate": "%{customdata[0]}<br>RCA: %{customdata[1]:.2f}",
         "legendgroup": "31.0",
         "marker": {
          "color": "#E377C2",
          "size": [
           0.05,
           0.05,
           0.05
          ],
          "sizemode": "area",
          "sizeref": 0.0026126049385131827,
          "symbol": "circle"
         },
         "mode": "markers",
         "name": "31.0",
         "orientation": "v",
         "showlegend": true,
         "type": "scatter",
         "x": [
          0.24096656,
          0.4002998,
          -0.025435448
         ],
         "xaxis": "x",
         "y": [
          10.663971,
          10.413601,
          10.67447
         ],
         "yaxis": "y"
        },
        {
         "customdata": [
          [
           "Regenerated fibre suitable for spinning",
           0
          ],
          [
           "Anti-knock preparation, anti-corrosive; viscosity improvers; etc",
           0.0014658305594437
          ],
          [
           "Materials of rubber",
           0.0053947914171126
          ],
          [
           "Transmission, conveyor or elevator belts, of vulcanized rubber",
           0.0109267432312183
          ],
          [
           "Refractory bricks and other refractory construction materials",
           0.0139439546615515
          ],
          [
           "Refractory goods, nes",
           0
          ],
          [
           "Glass in the mass, in balls, rods or tubes (nonoptical); waste",
           0.0267330351859176
          ],
          [
           "Rails and railway track construction materials, of iron or steel",
           0
          ],
          [
           "Nails, screws, nuts, bolts, rivets, etc, of iron, steel or copper",
           0.0153798865705235
          ],
          [
           "Interchangeable tools for hand or machine tools (tips, blades, etc)",
           0.0451550650830686
          ],
          [
           "Springs and leaves for springs, of iron, steel or copper",
           0.0341804918823818
          ],
          [
           "Steam power units (mobile engines but not steam tractors, etc)",
           0.0363722976430376
          ],
          [
           "Internal combustion piston engines, nes",
           0.0078021435024382
          ],
          [
           "Nuclear reactors, and parts thereof, nes",
           0
          ],
          [
           "Agricultural and horticultural machinery for soil preparation, etc",
           0.0055330056155712
          ],
          [
           "Track-laying tractors",
           0.3789113535552948
          ],
          [
           "Wheeled tractors (other than those falling in heading 74411, 7832)",
           0.005910059250878
          ],
          [
           "Rolling mills, rolls therefor, and parts, nes of rolling mills",
           0
          ],
          [
           "Reciprocating pumps (other than those of heading 74281)",
           0.036851065007486
          ],
          [
           "Rotary pumps (other than those of heading 74281)",
           0.012273222449386
          ],
          [
           "Air pumps, vacuum pumps and air or gas compressors",
           0.0304661199901623
          ],
          [
           "Filtering and purifying machinery, apparatus for liquids and gases",
           0.0221883283886766
          ],
          [
           "Ball, roller or needle roller bearings",
           0.0064659800146016
          ],
          [
           "Cocks, valves and similar appliances, for pipes boiler shells, etc",
           0.0250003742593501
          ],
          [
           "Shaft, crank, bearing housing, pulley and pulley blocks, etc",
           0.0080201121294681
          ],
          [
           "Other non-electric parts and accessories of machinery, nes",
           0.0268210908255275
          ],
          [
           "Counting devices non-electrical; stroboscopes",
           0.0044552422136668
          ],
          [
           "Photographic film, plates and paper (other than cinematograph film)",
           0.0016462239049487
          ],
          [
           "Non-military arms and ammunition therefor",
           0
          ]
         ],
         "hovertemplate": "%{customdata[0]}<br>RCA: %{customdata[1]:.2f}",
         "legendgroup": "95.0",
         "marker": {
          "color": "#7F7F7F",
          "size": [
           0.05,
           0.051465830559443704,
           0.0553947914171126,
           0.0609267432312183,
           0.0639439546615515,
           0.05,
           0.0767330351859176,
           0.05,
           0.0653798865705235,
           0.0951550650830686,
           0.0841804918823818,
           0.08637229764303761,
           0.0578021435024382,
           0.05,
           0.0555330056155712,
           0.4289113535552948,
           0.055910059250878004,
           0.05,
           0.086851065007486,
           0.062273222449386004,
           0.0804661199901623,
           0.0721883283886766,
           0.056465980014601604,
           0.0750003742593501,
           0.0580201121294681,
           0.0768210908255275,
           0.0544552422136668,
           0.051646223904948704,
           0.05
          ],
          "sizemode": "area",
          "sizeref": 0.0026126049385131827,
          "symbol": "circle"
         },
         "mode": "markers",
         "name": "95.0",
         "orientation": "v",
         "showlegend": true,
         "type": "scatter",
         "x": [
          -3.5043108,
          -3.3248959,
          -3.1028671,
          -3.309163,
          -3.024804,
          -2.645069,
          -3.06204,
          -2.1792653,
          -2.553969,
          -2.8258312,
          -2.6243808,
          -2.29027,
          -2.798913,
          -2.1271725,
          -3.0650258,
          -2.500907,
          -2.792749,
          -2.2979622,
          -2.5408955,
          -3.170841,
          -2.9511964,
          -2.6797197,
          -3.4361222,
          -3.570092,
          -3.7824175,
          -3.8218837,
          -3.580323,
          -3.9407241,
          -3.4377968
         ],
         "xaxis": "x",
         "y": [
          1.5877944,
          0.9615077,
          -0.13848199,
          0.55190915,
          0.6509506,
          -0.17819154,
          0.99225914,
          0.089434676,
          0.5473769,
          0.43038186,
          0.15513495,
          0.92010343,
          0.86120117,
          0.6930308,
          0.21457893,
          1.3047334,
          1.512697,
          0.4326018,
          0.83935523,
          1.4296021,
          1.2741089,
          1.140595,
          1.2336894,
          -0.143141,
          1.181217,
          0.29965252,
          0.74416214,
          0.73723614,
          0.24506424
         ],
         "yaxis": "y"
        },
        {
         "customdata": [
          [
           "Waste of man-made fibres, not carded or combed",
           0
          ],
          [
           "Polycarboxylic acids and their derivatives",
           0
          ],
          [
           "Yarn 85% of synthetic fibres, not for retail; monofil, strip, etc",
           0.009030723943691
          ],
          [
           "Yarn containing 85% or more of synthetic fibres, put up for retail",
           0.0101117369214125
          ],
          [
           "Yarn containing less than 85% of discontinuous synthetic fibres",
           0.0148006117946943
          ],
          [
           "Yarn of regenerated fibres, not for retail, monofil, strip, etc",
           0
          ],
          [
           "Yarn of regenerated fibres, put up for retail sale",
           0
          ]
         ],
         "hovertemplate": "%{customdata[0]}<br>RCA: %{customdata[1]:.2f}",
         "legendgroup": "67.0",
         "marker": {
          "color": "#BCBD22",
          "size": [
           0.05,
           0.05,
           0.059030723943691,
           0.0601117369214125,
           0.0648006117946943,
           0.05,
           0.05
          ],
          "sizemode": "area",
          "sizeref": 0.0026126049385131827,
          "symbol": "circle"
         },
         "mode": "markers",
         "name": "67.0",
         "orientation": "v",
         "showlegend": true,
         "type": "scatter",
         "x": [
          6.613674,
          7.111887,
          6.80803,
          6.9157305,
          6.2683573,
          6.6600513,
          6.371867
         ],
         "xaxis": "x",
         "y": [
          10.110964,
          9.458698,
          9.26123,
          9.791344,
          9.945196,
          9.707181,
          9.483599
         ],
         "yaxis": "y"
        },
        {
         "customdata": [
          [
           "Fine animal hair, not carded or combed",
           0.7362262279523208
          ],
          [
           "Waste of sheep's or lambs' wool, or of other animal hair, nes",
           0.3342429160090647
          ],
          [
           "Sheep's or lambs' wool, or of other animal hair, carded or combed",
           0.7753729776791689
          ],
          [
           "Yarn of wool or animal hair (including wool tops)",
           0.4003376897078522
          ]
         ],
         "hovertemplate": "%{customdata[0]}<br>RCA: %{customdata[1]:.2f}",
         "legendgroup": "33.0",
         "marker": {
          "color": "#17BECF",
          "size": [
           0.7862262279523209,
           0.3842429160090647,
           0.825372977679169,
           0.4503376897078522
          ],
          "sizemode": "area",
          "sizeref": 0.0026126049385131827,
          "symbol": "circle"
         },
         "mode": "markers",
         "name": "33.0",
         "orientation": "v",
         "showlegend": true,
         "type": "scatter",
         "x": [
          8.380833,
          8.739365,
          9.0164995,
          8.76761
         ],
         "xaxis": "x",
         "y": [
          -5.8300557,
          -5.7839065,
          -5.423742,
          -6.009357
         ],
         "yaxis": "y"
        },
        {
         "customdata": [
          [
           "Old clothing and other old textile articles; rags",
           0.0025788646364269
          ],
          [
           "Twine, cordage, ropes and cables and manufactures thereof",
           0.0931833463796911
          ],
          [
           "Bags, sacks of textile materials, for the packing of goods",
           0.3404757997634156
          ],
          [
           "Tarpaulins, sails, tents, camping goods, etc, of textile fabrics",
           0.0010326784177789
          ],
          [
           "Travelling rugs, blankets (non electric), not knitted or crocheted",
           0.0958041982589909
          ],
          [
           "Linens and furnishing articles of textile, not knitted or crocheted",
           0.0030325521795914
          ],
          [
           "Other made-up articles of textile materials, nes",
           0.0565720467252885
          ]
         ],
         "hovertemplate": "%{customdata[0]}<br>RCA: %{customdata[1]:.2f}",
         "legendgroup": "73.0",
         "marker": {
          "color": "#1F77B4",
          "size": [
           0.0525788646364269,
           0.1431833463796911,
           0.39047579976341557,
           0.0510326784177789,
           0.1458041982589909,
           0.0530325521795914,
           0.1065720467252885
          ],
          "sizemode": "area",
          "sizeref": 0.0026126049385131827,
          "symbol": "circle"
         },
         "mode": "markers",
         "name": "73.0",
         "orientation": "v",
         "showlegend": true,
         "type": "scatter",
         "x": [
          10.888822,
          10.748755,
          11.230735,
          10.599376,
          11.279968,
          10.748723,
          11.149823
         ],
         "xaxis": "x",
         "y": [
          7.1384506,
          7.434512,
          7.4721704,
          7.0186243,
          7.139093,
          6.6689386,
          6.756373
         ],
         "yaxis": "y"
        },
        {
         "customdata": [
          [
           "Natural sodium nitrate",
           0
          ],
          [
           "Common salt; pure sodium chloride; salt liquors; sea water",
           0.3778567756646244
          ],
          [
           "Metallic salts and peroxysalts of inorganic acids",
           0.0179620426997867
          ],
          [
           "Metallic salts and peroxysalts of inorganic acids",
           0.0649733499099408
          ],
          [
           "Salts of metallic acids; compounds of precious metals",
           0.0064351464465573
          ],
          [
           "Dyeing, tanning extracts, tannins and their derivatives",
           0.0163199905583607
          ]
         ],
         "hovertemplate": "%{customdata[0]}<br>RCA: %{customdata[1]:.2f}",
         "legendgroup": "49.0",
         "marker": {
          "color": "#FF7F0E",
          "size": [
           0.05,
           0.4278567756646244,
           0.0679620426997867,
           0.1149733499099408,
           0.056435146446557304,
           0.0663199905583607
          ],
          "sizemode": "area",
          "sizeref": 0.0026126049385131827,
          "symbol": "circle"
         },
         "mode": "markers",
         "name": "49.0",
         "orientation": "v",
         "showlegend": true,
         "type": "scatter",
         "x": [
          9.2584915,
          9.350045,
          9.587279,
          9.589477,
          9.980301,
          9.592662
         ],
         "xaxis": "x",
         "y": [
          -5.4387574,
          -5.226461,
          -5.5507293,
          -6.0283384,
          -5.849065,
          -5.763792
         ],
         "yaxis": "y"
        },
        {
         "customdata": [
          [
           "Natural calcium phosphates, natural aluminium, etc",
           0
          ],
          [
           "Potassium salts, natural, crude",
           0.0257502297911773
          ],
          [
           "Inorganic acids and oxygen compounds of non-metals",
           0.2948554609762631
          ],
          [
           "Mineral or chemical fertilizers, nitrogenous",
           0.7958030741993163
          ],
          [
           "Mineral or chemical fertilizers, phosphatic",
           0
          ],
          [
           "Mineral or chemical fertilizer, potassic",
           0.4155740255108869
          ],
          [
           "Fertilizers, nes",
           0.0095517492924437
          ]
         ],
         "hovertemplate": "%{customdata[0]}<br>RCA: %{customdata[1]:.2f}",
         "legendgroup": "53.0",
         "marker": {
          "color": "#2CA02C",
          "size": [
           0.05,
           0.0757502297911773,
           0.3448554609762631,
           0.8458030741993163,
           0.05,
           0.4655740255108869,
           0.0595517492924437
          ],
          "sizemode": "area",
          "sizeref": 0.0026126049385131827,
          "symbol": "circle"
         },
         "mode": "markers",
         "name": "53.0",
         "orientation": "v",
         "showlegend": true,
         "type": "scatter",
         "x": [
          7.786193,
          7.306021,
          7.5156527,
          7.7712383,
          7.6541758,
          7.3995423,
          7.0668654
         ],
         "xaxis": "x",
         "y": [
          -5.0639625,
          -4.851095,
          -5.0258956,
          -4.5702024,
          -4.7501593,
          -4.390712,
          -4.6655765
         ],
         "yaxis": "y"
        },
        {
         "customdata": [
          [
           "Building and monumental (dimension) stone, roughly squared, split",
           0.1762709790547738
          ],
          [
           "Clay and other refractory minerals, nes",
           0.000700685912343
          ],
          [
           "Quartz, mica, felspar, fluorspar, cryolite and chiolite",
           0.0138878471143453
          ],
          [
           "Minerals, crude, nes",
           0.9545052704738076
          ],
          [
           "Manganese ore and concentrates",
           0.1526985407169827
          ]
         ],
         "hovertemplate": "%{customdata[0]}<br>RCA: %{customdata[1]:.2f}",
         "legendgroup": "34.0",
         "marker": {
          "color": "#D62728",
          "size": [
           0.22627097905477378,
           0.050700685912343,
           0.06388784711434531,
           1.0045052704738076,
           0.20269854071698268
          ],
          "sizemode": "area",
          "sizeref": 0.0026126049385131827,
          "symbol": "circle"
         },
         "mode": "markers",
         "name": "34.0",
         "orientation": "v",
         "showlegend": true,
         "type": "scatter",
         "x": [
          9.753843,
          9.398452,
          9.111405,
          9.468671,
          9.2227125
         ],
         "xaxis": "x",
         "y": [
          2.5212486,
          2.7437432,
          2.4407153,
          2.2930548,
          1.9807318
         ],
         "yaxis": "y"
        },
        {
         "customdata": [
          [
           "Sands, excluding metal-bearing sands",
           0.0004534736945131
          ],
          [
           "Linseed oil",
           0.3471394299409968
          ],
          [
           "Other radio-active and associated materials",
           0.0061141465856527
          ],
          [
           "Other colouring matter; inorganic products use as luminophores",
           0.0077750601737999
          ],
          [
           "Polyvinyl chloride",
           0.0034370220601051
          ],
          [
           "Regenerated cellulose",
           0.0067611624129049
          ],
          [
           "Cellulose nitrates",
           0.0068512589820597
          ],
          [
           "Cellulose acetates",
           0.0063639983036188
          ],
          [
           "Other chemical derivatives of cellulose; vulcanized fibre",
           0.0060608458453261
          ],
          [
           "Woods and resin-based chemical products",
           0.0064062307936353
          ],
          [
           "Lead and lead alloys, worked",
           0.2809371313792013
          ]
         ],
         "hovertemplate": "%{customdata[0]}<br>RCA: %{customdata[1]:.2f}",
         "legendgroup": "57.0",
         "marker": {
          "color": "#9467BD",
          "size": [
           0.050453473694513105,
           0.39713942994099677,
           0.056114146585652704,
           0.0577750601737999,
           0.0534370220601051,
           0.0567611624129049,
           0.0568512589820597,
           0.0563639983036188,
           0.056060845845326106,
           0.056406230793635305,
           0.3309371313792013
          ],
          "sizemode": "area",
          "sizeref": 0.0026126049385131827,
          "symbol": "circle"
         },
         "mode": "markers",
         "name": "57.0",
         "orientation": "v",
         "showlegend": true,
         "type": "scatter",
         "x": [
          0.5369754,
          0.14502692,
          0.61406493,
          0.960876,
          0.9150188,
          0.16803002,
          0.98130155,
          0.35214925,
          0.9730382,
          0.5567956,
          0.13786793
         ],
         "xaxis": "x",
         "y": [
          11.615527,
          12.121789,
          11.92737,
          11.400785,
          11.650837,
          12.4545965,
          11.909104,
          11.878772,
          12.262802,
          12.297489,
          11.776197
         ],
         "yaxis": "y"
        },
        {
         "customdata": [
          [
           "Sulphur (other than sublimed, precipitated or colloidal)",
           0
          ],
          [
           "Crude petroleum and oils obtained from bituminous materials",
           0.0489350285618853
          ],
          [
           "Petroleum gases and other gaseous hydrocarbons, nes, liquefied",
           0.38005738878921
          ],
          [
           "Petroleum gases, nes, in gaseous state",
           0.9768547819701892
          ]
         ],
         "hovertemplate": "%{customdata[0]}<br>RCA: %{customdata[1]:.2f}",
         "legendgroup": "43.0",
         "marker": {
          "color": "#8C564B",
          "size": [
           0.05,
           0.0989350285618853,
           0.43005738878921,
           1.0268547819701892
          ],
          "sizemode": "area",
          "sizeref": 0.0026126049385131827,
          "symbol": "circle"
         },
         "mode": "markers",
         "name": "43.0",
         "orientation": "v",
         "showlegend": true,
         "type": "scatter",
         "x": [
          18.360435,
          18.316422,
          18.137579,
          17.785295
         ],
         "xaxis": "x",
         "y": [
          12.534086,
          11.816044,
          12.203941,
          12.506703
         ],
         "yaxis": "y"
        },
        {
         "customdata": [
          [
           "Iron pyrites, unroasted",
           0
          ],
          [
           "Other articles of rubber, nes",
           0.0031598509474318
          ],
          [
           "Casks, barrels; other coopers products and parts, including staves",
           0
          ],
          [
           "Glass mirror, unframed, framed or backed",
           0.0003671138892953
          ],
          [
           "Glassware (other than heading 66582), for indoor decoration",
           0.0390556001246556
          ],
          [
           "Base metal domestic articles, nes, and parts thereof, nes",
           0.0032807146179062
          ],
          [
           "Base metal indoors sanitary ware, and parts thereof, nes",
           0
          ],
          [
           "Locksmiths wares, safes, etc, and hardware, nes, of base metal",
           0.0009284551969154
          ],
          [
           "Pins, needles, etc, of iron, steel; metal fittings for clothing",
           0
          ],
          [
           "Electric filament lamps and discharge lamps; arc-lamps",
           0.0004725750658374
          ],
          [
           "Ceramic plumbing fixtures",
           0
          ],
          [
           "Lighting fixture and fittings, lamps, lanterns, and parts, nes",
           0.00069952655669
          ]
         ],
         "hovertemplate": "%{customdata[0]}<br>RCA: %{customdata[1]:.2f}",
         "legendgroup": "106.0",
         "marker": {
          "color": "#E377C2",
          "size": [
           0.05,
           0.0531598509474318,
           0.05,
           0.0503671138892953,
           0.0890556001246556,
           0.053280714617906205,
           0.05,
           0.050928455196915405,
           0.05,
           0.050472575065837404,
           0.05,
           0.05069952655669
          ],
          "sizemode": "area",
          "sizeref": 0.0026126049385131827,
          "symbol": "circle"
         },
         "mode": "markers",
         "name": "106.0",
         "orientation": "v",
         "showlegend": true,
         "type": "scatter",
         "x": [
          9.056092,
          8.519369,
          8.867097,
          9.156518,
          9.28941,
          8.731176,
          9.043818,
          8.373327,
          8.377728,
          9.419843,
          8.715029,
          8.69123
         ],
         "xaxis": "x",
         "y": [
          -4.981256,
          -4.8339734,
          -4.5125465,
          -4.324608,
          -4.948628,
          -4.763003,
          -4.7039886,
          -4.405576,
          -4.6407275,
          -4.402133,
          -5.0429845,
          -4.3678703
         ],
         "yaxis": "y"
        },
        {
         "customdata": [
          [
           "Industrial diamonds",
           0
          ],
          [
           "Diamonds (non-industrial), not mounted or set",
           0.0003244447179051
          ]
         ],
         "hovertemplate": "%{customdata[0]}<br>RCA: %{customdata[1]:.2f}",
         "legendgroup": "80.0",
         "marker": {
          "color": "#7F7F7F",
          "size": [
           0.05,
           0.0503244447179051
          ],
          "sizemode": "area",
          "sizeref": 0.0026126049385131827,
          "symbol": "circle"
         },
         "mode": "markers",
         "name": "80.0",
         "orientation": "v",
         "showlegend": true,
         "type": "scatter",
         "x": [
          9.68257,
          10.205426
         ],
         "xaxis": "x",
         "y": [
          7.307482,
          7.6239023
         ],
         "yaxis": "y"
        },
        {
         "customdata": [
          [
           "Other natural abrasives",
           0
          ],
          [
           "Synthetic organic dyestuffs, etc, natural indigo and colour lakes",
           0
          ],
          [
           "Synthetic organic luminophores, indigo, lakes",
           0
          ],
          [
           "Machines for extruding man-made textile; other textile machinery",
           0.0012872805107781
          ],
          [
           "Weaving, knitting, etc, machines, machines for preparing yarns, etc",
           0.0007183386891064
          ],
          [
           "Auxiliary machinery for use with those of headings 72451 to 72453",
           0.0005547418532668
          ],
          [
           "Textile machinery, nes for cleaning, cutting, etc, and parts nes",
           0.0110099083283295
          ],
          [
           "Other machines-tools for working metal or metal carbides, nes",
           0.0189755052988215
          ],
          [
           "Motorcycles, auto-cycles; side-cars of all kind, etc",
           0.0027375077787372
          ],
          [
           "Parts, nes of and accessories for musical instruments; metronomes",
           0
          ]
         ],
         "hovertemplate": "%{customdata[0]}<br>RCA: %{customdata[1]:.2f}",
         "legendgroup": "91.0",
         "marker": {
          "color": "#BCBD22",
          "size": [
           0.05,
           0.05,
           0.05,
           0.051287280510778105,
           0.050718338689106406,
           0.050554741853266805,
           0.061009908328329504,
           0.0689755052988215,
           0.0527375077787372,
           0.05
          ],
          "sizemode": "area",
          "sizeref": 0.0026126049385131827,
          "symbol": "circle"
         },
         "mode": "markers",
         "name": "91.0",
         "orientation": "v",
         "showlegend": true,
         "type": "scatter",
         "x": [
          -0.9998617,
          -1.2098871,
          -1.4723035,
          -1.9582978,
          -1.6943407,
          -1.6518811,
          -1.078069,
          -1.5399307,
          -2.0484376,
          -2.204454
         ],
         "xaxis": "x",
         "y": [
          3.3309186,
          3.516877,
          3.4220586,
          3.3832119,
          3.6668377,
          3.2291586,
          3.8369763,
          3.9950478,
          3.923734,
          3.5614
         ],
         "yaxis": "y"
        },
        {
         "customdata": [
          [
           "Asbestos",
           0
          ],
          [
           "Nickel ores and concentrates; nickel mattes, etc",
           0
          ],
          [
           "Nickel and nickel alloys, unwrought",
           0
          ],
          [
           "Nickel and nickel alloys, worked",
           0
          ]
         ],
         "hovertemplate": "%{customdata[0]}<br>RCA: %{customdata[1]:.2f}",
         "legendgroup": "85.0",
         "marker": {
          "color": "#17BECF",
          "size": [
           0.05,
           0.05,
           0.05,
           0.05
          ],
          "sizemode": "area",
          "sizeref": 0.0026126049385131827,
          "symbol": "circle"
         },
         "mode": "markers",
         "name": "85.0",
         "orientation": "v",
         "showlegend": true,
         "type": "scatter",
         "x": [
          21.10837,
          20.88472,
          20.280207,
          20.622292
         ],
         "xaxis": "x",
         "y": [
          10.697475,
          11.000656,
          10.387182,
          10.628624
         ],
         "yaxis": "y"
        },
        {
         "customdata": [
          [
           "Slag, scalings, dross and similar waste, nes",
           0.0065007810671246
          ],
          [
           "Puddled bars, pilings; ingots, blocks, lumps, etc, of iron or steel",
           0
          ],
          [
           "Blooms, billets, slabs and sheet bars, of iron or steel",
           0
          ],
          [
           "Iron or steel coils for re-rolling",
           1.2188055606487946e-05
          ],
          [
           "Universal plates of iron or steel",
           4.59724250488347e-05
          ],
          [
           "Sheet, plates, rolled of thickness 4,75mm plus, of iron or steel",
           4.616811419672073e-05
          ],
          [
           "Sheet, plates, rolled of thickness 3mm to 4,75mm, of iron or steel",
           6.078522196295566e-05
          ],
          [
           "Sheet, plates, rolled of thickness less 3mm, of iron or steel",
           3.1271555367085035e-05
          ],
          [
           "Tinned sheets, plates of steel (not of high carbon or alloy steel)",
           0
          ],
          [
           "Other sheet and plates, of iron or steel, worked",
           0.000242723650483
          ],
          [
           "Hoop and strip of iron or steel, hot-rolled or cold-rolled",
           0.0001798201232896
          ],
          [
           "Copper and copper alloys, worked",
           0.0358995279544626
          ],
          [
           "Aluminium and aluminium alloys, unwrought",
           0
          ]
         ],
         "hovertemplate": "%{customdata[0]}<br>RCA: %{customdata[1]:.2f}",
         "legendgroup": "82.0",
         "marker": {
          "color": "#1F77B4",
          "size": [
           0.056500781067124604,
           0.05,
           0.05,
           0.05001218805560649,
           0.05004597242504884,
           0.050046168114196724,
           0.05006078522196296,
           0.05003127155536709,
           0.05,
           0.050242723650483004,
           0.0501798201232896,
           0.0858995279544626,
           0.05
          ],
          "sizemode": "area",
          "sizeref": 0.0026126049385131827,
          "symbol": "circle"
         },
         "mode": "markers",
         "name": "82.0",
         "orientation": "v",
         "showlegend": true,
         "type": "scatter",
         "x": [
          8.930042,
          7.733134,
          8.124041,
          8.801848,
          8.5063505,
          7.9819474,
          9.204645,
          8.8545065,
          8.560115,
          7.92141,
          8.255895,
          8.424342,
          7.5423107
         ],
         "xaxis": "x",
         "y": [
          -4.077581,
          -4.208018,
          -4.151419,
          -3.6583998,
          -4.161957,
          -3.4147213,
          -3.8380423,
          -3.2506886,
          -3.8963664,
          -3.8411055,
          -3.7911086,
          -3.424838,
          -3.829903
         ],
         "yaxis": "y"
        },
        {
         "customdata": [
          [
           "Roasted iron pyrites",
           0
          ],
          [
           "Iron ore and concentrates, not agglomerated",
           0.0884347219488487
          ],
          [
           "Iron ore agglomerates",
           0
          ]
         ],
         "hovertemplate": "%{customdata[0]}<br>RCA: %{customdata[1]:.2f}",
         "legendgroup": "35.0",
         "marker": {
          "color": "#FF7F0E",
          "size": [
           0.05,
           0.1384347219488487,
           0.05
          ],
          "sizemode": "area",
          "sizeref": 0.0026126049385131827,
          "symbol": "circle"
         },
         "mode": "markers",
         "name": "35.0",
         "orientation": "v",
         "showlegend": true,
         "type": "scatter",
         "x": [
          21.305056,
          21.21909,
          21.54579
         ],
         "xaxis": "x",
         "y": [
          8.87079,
          9.268686,
          9.275889
         ],
         "yaxis": "y"
        },
        {
         "customdata": [
          [
           "Waste and scrap metal of iron or steel",
           0.4581997182488374
          ],
          [
           "Ash and residues, nes",
           0.0552456348479001
          ],
          [
           "Other non-ferrous base metal waste and scrap, nes",
           0.4277704847578388
          ]
         ],
         "hovertemplate": "%{customdata[0]}<br>RCA: %{customdata[1]:.2f}",
         "legendgroup": "38.0",
         "marker": {
          "color": "#2CA02C",
          "size": [
           0.5081997182488374,
           0.1052456348479001,
           0.4777704847578388
          ],
          "sizemode": "area",
          "sizeref": 0.0026126049385131827,
          "symbol": "circle"
         },
         "mode": "markers",
         "name": "38.0",
         "orientation": "v",
         "showlegend": true,
         "type": "scatter",
         "x": [
          8.124138,
          7.9956746,
          8.358631
         ],
         "xaxis": "x",
         "y": [
          -4.741998,
          -4.9193163,
          -5.0454183
         ],
         "yaxis": "y"
        },
        {
         "customdata": [
          [
           "Ores and concentrates of uranium and thorium",
           0
          ],
          [
           "Radio-active chemical elements, isotopes etc",
           0.0009901971855925
          ],
          [
           "Uranium depleted in U235, thorium, and alloys, nes; waste and scrap",
           0
          ]
         ],
         "hovertemplate": "%{customdata[0]}<br>RCA: %{customdata[1]:.2f}",
         "legendgroup": "51.0",
         "marker": {
          "color": "#D62728",
          "size": [
           0.05,
           0.0509901971855925,
           0.05
          ],
          "sizemode": "area",
          "sizeref": 0.0026126049385131827,
          "symbol": "circle"
         },
         "mode": "markers",
         "name": "51.0",
         "orientation": "v",
         "showlegend": true,
         "type": "scatter",
         "x": [
          20.403976,
          20.738457,
          20.897614
         ],
         "xaxis": "x",
         "y": [
          9.285078,
          8.925099,
          9.246288
         ],
         "yaxis": "y"
        },
        {
         "customdata": [
          [
           "Copper ore and concentrates; copper matte; cement copper",
           0.2711025599686616
          ],
          [
           "Lead ores and concentrates",
           0.985583057396357
          ],
          [
           "Zinc ores and concentrates",
           0.9942283558905408
          ],
          [
           "Ores and concentrates of other non-ferrous base metals",
           0.8540441273117205
          ]
         ],
         "hovertemplate": "%{customdata[0]}<br>RCA: %{customdata[1]:.2f}",
         "legendgroup": "37.0",
         "marker": {
          "color": "#9467BD",
          "size": [
           0.3211025599686616,
           1.035583057396357,
           1.0442283558905407,
           0.9040441273117206
          ],
          "sizemode": "area",
          "sizeref": 0.0026126049385131827,
          "symbol": "circle"
         },
         "mode": "markers",
         "name": "37.0",
         "orientation": "v",
         "showlegend": true,
         "type": "scatter",
         "x": [
          15.967896,
          15.66226,
          15.981787,
          16.197409
         ],
         "xaxis": "x",
         "y": [
          7.611049,
          7.92553,
          8.156302,
          7.851952
         ],
         "yaxis": "y"
        },
        {
         "customdata": [
          [
           "Aluminium ores and concentrates (including alumina)",
           0
          ]
         ],
         "hovertemplate": "%{customdata[0]}<br>RCA: %{customdata[1]:.2f}",
         "legendgroup": "36.0",
         "marker": {
          "color": "#8C564B",
          "size": [
           0.05
          ],
          "sizemode": "area",
          "sizeref": 0.0026126049385131827,
          "symbol": "circle"
         },
         "mode": "markers",
         "name": "36.0",
         "orientation": "v",
         "showlegend": true,
         "type": "scatter",
         "x": [
          22.21179
         ],
         "xaxis": "x",
         "y": [
          10.592006
         ],
         "yaxis": "y"
        },
        {
         "customdata": [
          [
           "Tin ores and concentrates",
           0.9279974789734604
          ],
          [
           "Tin and tin alloys, unwrought",
           0.9924434289561852
          ],
          [
           "Tin and tin alloys worked",
           0.2776122205484771
          ]
         ],
         "hovertemplate": "%{customdata[0]}<br>RCA: %{customdata[1]:.2f}",
         "legendgroup": "86.0",
         "marker": {
          "color": "#E377C2",
          "size": [
           0.9779974789734605,
           1.0424434289561852,
           0.3276122205484771
          ],
          "sizemode": "area",
          "sizeref": 0.0026126049385131827,
          "symbol": "circle"
         },
         "mode": "markers",
         "name": "86.0",
         "orientation": "v",
         "showlegend": true,
         "type": "scatter",
         "x": [
          17.823038,
          17.578356,
          17.563562
         ],
         "xaxis": "x",
         "y": [
          7.0709796,
          7.4049172,
          6.709319
         ],
         "yaxis": "y"
        },
        {
         "customdata": [
          [
           "Ores and concentrates of precious metals, waste, scrap",
           0.977261755409182
          ],
          [
           "Silver, unwrought, unworked, or semi-manufactured",
           0.8983904079200593
          ],
          [
           "Lead, and lead alloys, unwrought",
           0.1730486762171817
          ],
          [
           "Gold, non-monetary (excluding gold ores and concentrates)",
           0.8994694803827012
          ]
         ],
         "hovertemplate": "%{customdata[0]}<br>RCA: %{customdata[1]:.2f}",
         "legendgroup": "84.0",
         "marker": {
          "color": "#7F7F7F",
          "size": [
           1.027261755409182,
           0.9483904079200594,
           0.22304867621718172,
           0.9494694803827013
          ],
          "sizemode": "area",
          "sizeref": 0.0026126049385131827,
          "symbol": "circle"
         },
         "mode": "markers",
         "name": "84.0",
         "orientation": "v",
         "showlegend": true,
         "type": "scatter",
         "x": [
          16.988605,
          17.326584,
          17.122532,
          16.89677
         ],
         "xaxis": "x",
         "y": [
          8.678855,
          8.0083065,
          8.3188095,
          7.9394045
         ],
         "yaxis": "y"
        },
        {
         "customdata": [
          [
           "Vegetable plaiting materials",
           0
          ],
          [
           "Plaits, plaited products for all uses; straw envelopes for bottles",
           0.008479159775596
          ],
          [
           "Basketwork, wickerwork; brooms, paint rollers, etc",
           0.0031977477157353
          ],
          [
           "Manufactured goods, nes",
           0.0341648608044222
          ]
         ],
         "hovertemplate": "%{customdata[0]}<br>RCA: %{customdata[1]:.2f}",
         "legendgroup": "76.0",
         "marker": {
          "color": "#BCBD22",
          "size": [
           0.05,
           0.05847915977559601,
           0.0531977477157353,
           0.0841648608044222
          ],
          "sizemode": "area",
          "sizeref": 0.0026126049385131827,
          "symbol": "circle"
         },
         "mode": "markers",
         "name": "76.0",
         "orientation": "v",
         "showlegend": true,
         "type": "scatter",
         "x": [
          10.31168,
          10.151203,
          10.26938,
          10.431898
         ],
         "xaxis": "x",
         "y": [
          8.06434,
          8.207542,
          8.57587,
          7.708725
         ],
         "yaxis": "y"
        },
        {
         "customdata": [
          [
           "Anthracite, not agglomerated",
           0
          ],
          [
           "Other coal, not agglomerated",
           0
          ],
          [
           "Coke and semi-coke of coal, of lignite or peat; retort carbon",
           0
          ]
         ],
         "hovertemplate": "%{customdata[0]}<br>RCA: %{customdata[1]:.2f}",
         "legendgroup": "40.0",
         "marker": {
          "color": "#17BECF",
          "size": [
           0.05,
           0.05,
           0.05
          ],
          "sizemode": "area",
          "sizeref": 0.0026126049385131827,
          "symbol": "circle"
         },
         "mode": "markers",
         "name": "40.0",
         "orientation": "v",
         "showlegend": true,
         "type": "scatter",
         "x": [
          21.86878,
          21.877773,
          22.257004
         ],
         "xaxis": "x",
         "y": [
          9.063063,
          9.527559,
          9.626348
         ],
         "yaxis": "y"
        },
        {
         "customdata": [
          [
           "Lignite, not agglomerated",
           0
          ],
          [
           "Peat, not agglomerated",
           0
          ],
          [
           "Briquettes, ovoids, from coal, lignite or peat",
           0
          ]
         ],
         "hovertemplate": "%{customdata[0]}<br>RCA: %{customdata[1]:.2f}",
         "legendgroup": "41.0",
         "marker": {
          "color": "#1F77B4",
          "size": [
           0.05,
           0.05,
           0.05
          ],
          "sizemode": "area",
          "sizeref": 0.0026126049385131827,
          "symbol": "circle"
         },
         "mode": "markers",
         "name": "41.0",
         "orientation": "v",
         "showlegend": true,
         "type": "scatter",
         "x": [
          20.792,
          20.985065,
          21.520851
         ],
         "xaxis": "x",
         "y": [
          10.201806,
          10.384135,
          10.916914
         ],
         "yaxis": "y"
        },
        {
         "customdata": [
          [
           "Gasoline and other light oils",
           0.0684498080243918
          ],
          [
           "Kerosene and other medium oils",
           0.0927584422785036
          ],
          [
           "Gas oils",
           0.0879787462104092
          ],
          [
           "Fuel oils, nes",
           0.0908366541749138
          ],
          [
           "Lubricating petroleum oils, and preparations, nes",
           0.0984581860493665
          ],
          [
           "Petroleum bitumen, petroleum coke and bituminous mixtures, nes",
           0.001227134009174
          ]
         ],
         "hovertemplate": "%{customdata[0]}<br>RCA: %{customdata[1]:.2f}",
         "legendgroup": "42.0",
         "marker": {
          "color": "#FF7F0E",
          "size": [
           0.1184498080243918,
           0.1427584422785036,
           0.1379787462104092,
           0.1408366541749138,
           0.1484581860493665,
           0.051227134009174
          ],
          "sizemode": "area",
          "sizeref": 0.0026126049385131827,
          "symbol": "circle"
         },
         "mode": "markers",
         "name": "42.0",
         "orientation": "v",
         "showlegend": true,
         "type": "scatter",
         "x": [
          17.738276,
          17.432087,
          17.48563,
          16.944212,
          18.133778,
          17.212713
         ],
         "xaxis": "x",
         "y": [
          11.442119,
          11.125957,
          11.761263,
          11.2518425,
          11.431515,
          11.560266
         ],
         "yaxis": "y"
        },
        {
         "customdata": [
          [
           "Petroleum jelly and mineral waxes",
           0.1377866431862605
          ],
          [
           "Mineral tars and products",
           0
          ],
          [
           "Acyclic hydrocarbons",
           0.2989449173642534
          ],
          [
           "Cyclic hydrocarbons",
           0.0003819835422725
          ],
          [
           "Halogenated derivatives of hydrocarbons",
           0
          ],
          [
           "Ethers, epoxides, acetals",
           0.0043698451853291
          ],
          [
           "Polyethylene",
           0.0077151070624906
          ]
         ],
         "hovertemplate": "%{customdata[0]}<br>RCA: %{customdata[1]:.2f}",
         "legendgroup": "46.0",
         "marker": {
          "color": "#2CA02C",
          "size": [
           0.18778664318626048,
           0.05,
           0.34894491736425337,
           0.0503819835422725,
           0.05,
           0.0543698451853291,
           0.057715107062490605
          ],
          "sizemode": "area",
          "sizeref": 0.0026126049385131827,
          "symbol": "circle"
         },
         "mode": "markers",
         "name": "46.0",
         "orientation": "v",
         "showlegend": true,
         "type": "scatter",
         "x": [
          0.9334934,
          0.94930625,
          0.66161966,
          0.6890147,
          0.67278767,
          0.39735317,
          0.9747939
         ],
         "xaxis": "x",
         "y": [
          10.697589,
          11.02251,
          10.986483,
          10.180963,
          10.588355,
          9.942877,
          10.305456
         ],
         "yaxis": "y"
        },
        {
         "customdata": [
          [
           "Mineral tar pitch, pitch coke",
           0
          ],
          [
           "Steam and other vapour-generated boilers; super-heated water boiler",
           0.0385737271587308
          ],
          [
           "Auxiliary plant for boilers of heading 7111; condensers",
           0
          ],
          [
           "Parts, nes of boilers and auxiliary plant of headings 7111 and 7112",
           0
          ]
         ],
         "hovertemplate": "%{customdata[0]}<br>RCA: %{customdata[1]:.2f}",
         "legendgroup": "89.0",
         "marker": {
          "color": "#D62728",
          "size": [
           0.05,
           0.0885737271587308,
           0.05,
           0.05
          ],
          "sizemode": "area",
          "sizeref": 0.0026126049385131827,
          "symbol": "circle"
         },
         "mode": "markers",
         "name": "89.0",
         "orientation": "v",
         "showlegend": true,
         "type": "scatter",
         "x": [
          -0.49270606,
          -0.1878972,
          -0.27493668,
          -0.5584824
         ],
         "xaxis": "x",
         "y": [
          1.3152026,
          1.4187038,
          1.7339119,
          1.6937894
         ],
         "yaxis": "y"
        },
        {
         "customdata": [
          [
           "Electric current",
           0
          ],
          [
           "Printing paper and writing paper, in rolls or sheets",
           0.006788770194914
          ],
          [
           "Fabrics of glass fibre (including narrow, pile fabrics, lace, etc)",
           0
          ],
          [
           "Wadding, wicks and textiles fabrics for use in machinery or plant",
           0.0016609067453766
          ],
          [
           "Linoleum and similar floor covering",
           0.0032774075933824
          ],
          [
           "Hand polishing stone, grindstones, grinding wheels, etc",
           0.0018196557633022
          ],
          [
           "Abrasive power or grain, on a base of woven fabrics",
           0.0023627480276749
          ],
          [
           "Wool; expanding or insulating mineral materials, nes",
           0
          ],
          [
           "Articles of ceramic materials, nes",
           0.0093168830649921
          ],
          [
           "Tungsten, molybdenum, tantalum, magnesium, unwrought; waste, scrap",
           0
          ],
          [
           "Other hand tools",
           0.0201569020206285
          ],
          [
           "Chain and parts thereof, of iron or steel",
           0.0138707788372657
          ],
          [
           "Parts, nes of steam power units",
           0.0302275921616445
          ],
          [
           "Internal combustion piston engines, marine propulsion",
           0
          ],
          [
           "Parts, nes, of rotating electric plant",
           0.0063166548915642
          ],
          [
           "Machinery for preparing, tanning, working leather, etc; parts nes",
           0
          ],
          [
           "Machinery for making, finishing cellulose pulp, paper or paperboard",
           0
          ],
          [
           "Bookbinding machinery; parts thereof, nes",
           0.0086293974172962
          ],
          [
           "Machine-tools for specialized industries; parts or accessories, nes",
           0.0262795688476676
          ],
          [
           "Machinery for specialized industries and parts thereof, nes",
           0.0139810936367263
          ],
          [
           "Metal cutting machine-tools",
           0.0140789665401162
          ],
          [
           "Metal forming machine-tool",
           0.0172583293622481
          ],
          [
           "Work holders, dividing heads for machine-tools, etc; tool holders",
           0.0228078734302014
          ],
          [
           "Parts, nes of and accessories for machine-tools of heading 736",
           0.0129587930852821
          ],
          [
           "Metallurgy and metal foundry equipment, and parts thereof, nes",
           0
          ],
          [
           "Welding, brazing, cutting, etc machines and appliances, parts, nes",
           0.015995323637962
          ],
          [
           "Gas generators, and parts, nes of gas generators",
           0.0326065803119385
          ],
          [
           "Industrial and laboratory furnaces and ovens, etc, parts, nes",
           0.0188920119390818
          ],
          [
           "Machinery, plant, laboratory equipment for heating and cooling, nes",
           0.0229779393903784
          ],
          [
           "Parts, nes of pumps and liquids elevators falling in heading 742",
           0.0128267585271911
          ],
          [
           "Parts, nes of the pumps and compressor falling within heading 7431",
           0.0093132759664467
          ],
          [
           "Free-piston generators for gas turbines and parts thereof, nes",
           0.019187092183205
          ],
          [
           "Parts, nes of the machines falling within headings 7435 and 7436",
           0.0516378498213132
          ],
          [
           "Typewriters; cheque-writing machines",
           0.0048685354583465
          ],
          [
           "Other electric power machinery, parts, nes",
           0.0035033122718226
          ],
          [
           "Electrical insulating equipment",
           0.0005868089201016
          ],
          [
           "Electro-mechanical hand tools, and parts thereof, nes",
           0.0117199543329941
          ],
          [
           "Central heating equipment, not electrically heated, parts, nes",
           0
          ],
          [
           "Optical instruments and apparatus",
           0.0078420134934419
          ],
          [
           "Photographic and cinematographic apparatus and equipment, nes",
           0.017761399135123
          ],
          [
           "Coin (other than gold coin), not being legal tender",
           0
          ]
         ],
         "hovertemplate": "%{customdata[0]}<br>RCA: %{customdata[1]:.2f}",
         "legendgroup": "92.0",
         "marker": {
          "color": "#9467BD",
          "size": [
           0.05,
           0.056788770194914004,
           0.05,
           0.0516609067453766,
           0.053277407593382405,
           0.051819655763302205,
           0.052362748027674905,
           0.05,
           0.0593168830649921,
           0.05,
           0.0701569020206285,
           0.0638707788372657,
           0.0802275921616445,
           0.05,
           0.056316654891564205,
           0.05,
           0.05,
           0.058629397417296204,
           0.0762795688476676,
           0.0639810936367263,
           0.0640789665401162,
           0.0672583293622481,
           0.0728078734302014,
           0.0629587930852821,
           0.05,
           0.06599532363796201,
           0.0826065803119385,
           0.0688920119390818,
           0.0729779393903784,
           0.0628267585271911,
           0.0593132759664467,
           0.069187092183205,
           0.1016378498213132,
           0.0548685354583465,
           0.0535033122718226,
           0.0505868089201016,
           0.061719954332994105,
           0.05,
           0.0578420134934419,
           0.067761399135123,
           0.05
          ],
          "sizemode": "area",
          "sizeref": 0.0026126049385131827,
          "symbol": "circle"
         },
         "mode": "markers",
         "name": "92.0",
         "orientation": "v",
         "showlegend": true,
         "type": "scatter",
         "x": [
          1.6174788,
          0.5057771,
          1.2278137,
          0.39115286,
          -0.22645736,
          0.11507058,
          -0.24620914,
          1.2612801,
          0.8178096,
          0.8466432,
          -0.3487563,
          0.008859873,
          0.63373375,
          0.438411,
          0.04993844,
          -0.50690794,
          0.23994327,
          1.2132616,
          0.19193745,
          0.74683475,
          -0.15464234,
          -0.15701675,
          0.8232331,
          0.9708326,
          0.14111543,
          0.9353533,
          0.8468716,
          0.574667,
          0.4998536,
          0.3819909,
          0.3839507,
          -0.22673249,
          0.068746805,
          1.2109184,
          0.016861916,
          -0.6015897,
          1.1439319,
          1.6100154,
          1.130815,
          0.6325569,
          1.5018406
         ],
         "xaxis": "x",
         "y": [
          0.23213516,
          0.51853365,
          0.029794853,
          -0.005431098,
          0.16376157,
          0.18620326,
          0.51829135,
          -0.39746916,
          0.019383268,
          0.7532631,
          -0.04038756,
          0.438405,
          -0.2590902,
          0.24147916,
          -0.09553736,
          0.42140225,
          0.58259207,
          1.1103653,
          1.1651051,
          0.255396,
          1.1439779,
          0.84238714,
          -0.55163753,
          -0.21560784,
          0.8254581,
          0.4366144,
          1.207681,
          0.80810773,
          1.0720398,
          -0.3071564,
          -0.64544433,
          -0.4311629,
          -0.43340558,
          0.33713794,
          -0.85595584,
          -0.37152296,
          0.7666328,
          -0.22275433,
          -0.8046555,
          -0.90469134,
          0.67065275
         ],
         "yaxis": "y"
        },
        {
         "customdata": [
          [
           "Processed animal and vegetable oils",
           0.0893238800088595
          ],
          [
           "Printing inks",
           0.0012935660108533
          ],
          [
           "Glycosides, glands, antisera, vaccines and similar products",
           0.004809235612129
          ],
          [
           "Phenoplasts",
           0.0058852398250975
          ],
          [
           "Aminoplasts",
           0.0043323700351839
          ],
          [
           "Alkyds and other polyesters",
           0.079517718544313
          ],
          [
           "Polyamides",
           0.0037795852454923
          ],
          [
           "Polyurethanes",
           0.0035197586627317
          ],
          [
           "Epoxide resins",
           0.004736028299981
          ],
          [
           "Other condensation, polycodensation or polyaddition products",
           0.0031684219640636
          ],
          [
           "Polypropylene",
           0.0043121657854767
          ],
          [
           "Polystyrene and its copolymers",
           0.0032312424332427
          ],
          [
           "Copolymers of vinyl chloride and vinyl acetate",
           0.0068066020544525
          ],
          [
           "Acrylic and methaacrylic polymers; acrylo-methacrylic copolymers",
           0.0084916799136064
          ],
          [
           "Polyvinyl acetate",
           0.0059927910082742
          ],
          [
           "Other polymerization and copolymarization products",
           0.0065891453141708
          ],
          [
           "Chemical products and preparations, nes",
           0.0044164784200261
          ],
          [
           "Chemical products and flashlight materials for use in photografy",
           0.0078449798104212
          ],
          [
           "Other office and stationary supplies",
           0.0062187078811404
          ]
         ],
         "hovertemplate": "%{customdata[0]}<br>RCA: %{customdata[1]:.2f}",
         "legendgroup": "55.0",
         "marker": {
          "color": "#8C564B",
          "size": [
           0.1393238800088595,
           0.0512935660108533,
           0.054809235612129005,
           0.0558852398250975,
           0.0543323700351839,
           0.129517718544313,
           0.053779585245492305,
           0.0535197586627317,
           0.054736028299981004,
           0.0531684219640636,
           0.0543121657854767,
           0.053231242433242704,
           0.0568066020544525,
           0.058491679913606404,
           0.0559927910082742,
           0.0565891453141708,
           0.0544164784200261,
           0.05784497981042121,
           0.0562187078811404
          ],
          "sizemode": "area",
          "sizeref": 0.0026126049385131827,
          "symbol": "circle"
         },
         "mode": "markers",
         "name": "55.0",
         "orientation": "v",
         "showlegend": true,
         "type": "scatter",
         "x": [
          -0.709471,
          -1.0199169,
          -1.1666318,
          -0.21179676,
          -0.46150947,
          -0.79263043,
          -0.52270555,
          -0.15788126,
          -0.84424376,
          -1.1706004,
          -0.2950716,
          -0.61502457,
          -0.51604867,
          -0.75622344,
          -1.3256822,
          -0.26504517,
          -0.9303012,
          -1.5487818,
          -1.2958757
         ],
         "xaxis": "x",
         "y": [
          12.254378,
          11.296101,
          11.771803,
          11.7809305,
          11.8234005,
          11.639164,
          11.525952,
          12.069031,
          11.387052,
          12.242963,
          12.285562,
          12.012026,
          11.250652,
          12.576935,
          11.481318,
          12.616008,
          11.8964205,
          11.805936,
          11.182359
         ],
         "yaxis": "y"
        },
        {
         "customdata": [
          [
           "Hydrocarbons derivatives, nonhaloganeted",
           0
          ],
          [
           "Cyclic alcohols, and their derivatives",
           0
          ],
          [
           "Phenols and phenol-alcohols, and their derivatives",
           0
          ],
          [
           "Monocarboxylic acids and their derivatives",
           0.0015749507820603
          ],
          [
           "Aldehyde, ketone and quinone-function compounds",
           0.0069262623835478
          ],
          [
           "Halogen and sulphur compounds of non-metals",
           0
          ],
          [
           "Metallic oxides of zinc, iron, lead, chromium etc",
           0
          ],
          [
           "Metals of platinum group, unwrought, unworked, or semi-manufactured",
           0.0001947307105124
          ]
         ],
         "hovertemplate": "%{customdata[0]}<br>RCA: %{customdata[1]:.2f}",
         "legendgroup": "48.0",
         "marker": {
          "color": "#E377C2",
          "size": [
           0.05,
           0.05,
           0.05,
           0.0515749507820603,
           0.0569262623835478,
           0.05,
           0.05,
           0.050194730710512406
          ],
          "sizemode": "area",
          "sizeref": 0.0026126049385131827,
          "symbol": "circle"
         },
         "mode": "markers",
         "name": "48.0",
         "orientation": "v",
         "showlegend": true,
         "type": "scatter",
         "x": [
          -2.0890737,
          -2.5916464,
          -2.3669033,
          -2.157567,
          -2.3779528,
          -1.826772,
          -2.5561383,
          -2.0034103
         ],
         "xaxis": "x",
         "y": [
          2.6430297,
          3.3802807,
          3.1535077,
          2.9141016,
          2.6702156,
          2.7726915,
          2.8523374,
          3.1042666
         ],
         "yaxis": "y"
        },
        {
         "customdata": [
          [
           "Acyclic alcohols, and their derivatives",
           0.7386044024979048
          ],
          [
           "Organic chemicals, nes",
           0.0024915321860338
          ],
          [
           "Inorganic bases and metallic oxides, hydroxides and peroxides",
           0.569904070727254
          ],
          [
           "Organic chemical products, nes",
           0.0302584971444433
          ],
          [
           "Iron and steel powders, shot or sponge",
           0
          ]
         ],
         "hovertemplate": "%{customdata[0]}<br>RCA: %{customdata[1]:.2f}",
         "legendgroup": "59.0",
         "marker": {
          "color": "#7F7F7F",
          "size": [
           0.7886044024979049,
           0.0524915321860338,
           0.6199040707272541,
           0.0802584971444433,
           0.05
          ],
          "sizemode": "area",
          "sizeref": 0.0026126049385131827,
          "symbol": "circle"
         },
         "mode": "markers",
         "name": "59.0",
         "orientation": "v",
         "showlegend": true,
         "type": "scatter",
         "x": [
          -0.80067706,
          -0.6748574,
          -0.33899617,
          -0.65856004,
          -0.4398229
         ],
         "xaxis": "x",
         "y": [
          10.8834095,
          11.067767,
          10.774127,
          10.625878,
          10.553734
         ],
         "yaxis": "y"
        },
        {
         "customdata": [
          [
           "Oxygen-function acids, and their derivatives",
           0.0050811895373084
          ],
          [
           "Amine-function compounds",
           0.0022357757013386
          ],
          [
           "Oxygen-function amino-compounds",
           0
          ],
          [
           "Amide-function compounds; excluding urea",
           0
          ],
          [
           "Other nitrogen-function compounds",
           0.0399624824390918
          ],
          [
           "Organo-sulphur compounds",
           0
          ],
          [
           "Other organo-inorganic compounds",
           0.0164814070341339
          ],
          [
           "Heterocyclic compound; nucleic acids",
           0.0016422182257798
          ],
          [
           "Sulphonamides, sultones and sultams",
           0.00492048055032
          ],
          [
           "Provitamins and vitamins",
           0
          ],
          [
           "Antibiotics, not put up as medicaments",
           0
          ],
          [
           "Vegetable alkaloids and derivatives, not put up as medicaments",
           0
          ],
          [
           "Hormones, natural, or reproduce by synthesis, in bulk",
           0
          ],
          [
           "Mixtures of odoriferous substances, used in perfumery, food etc",
           0.0061210256538847
          ]
         ],
         "hovertemplate": "%{customdata[0]}<br>RCA: %{customdata[1]:.2f}",
         "legendgroup": "47.0",
         "marker": {
          "color": "#BCBD22",
          "size": [
           0.0550811895373084,
           0.0522357757013386,
           0.05,
           0.05,
           0.0899624824390918,
           0.05,
           0.06648140703413391,
           0.0516422182257798,
           0.054920480550320006,
           0.05,
           0.05,
           0.05,
           0.05,
           0.0561210256538847
          ],
          "sizemode": "area",
          "sizeref": 0.0026126049385131827,
          "symbol": "circle"
         },
         "mode": "markers",
         "name": "47.0",
         "orientation": "v",
         "showlegend": true,
         "type": "scatter",
         "x": [
          -1.3520362,
          -1.1584576,
          -0.7970536,
          -0.88233733,
          -0.95914006,
          -1.695969,
          -2.0131216,
          -1.4689262,
          -2.0648754,
          -1.617937,
          -1.7102708,
          -1.2047229,
          -1.3203288,
          -1.728529
         ],
         "xaxis": "x",
         "y": [
          10.834955,
          10.625692,
          10.24415,
          10.510575,
          9.968872,
          10.536306,
          10.820095,
          10.342636,
          10.308052,
          10.921527,
          10.028245,
          10.301166,
          9.857226,
          11.3094
         ],
         "yaxis": "y"
        },
        {
         "customdata": [
          [
           "Inorganic chemical products, nes",
           0.0212962299620967
          ],
          [
           "Pig iron, cast iron, spiegeleisen, in pigs, blocks, lumps, etc",
           0
          ],
          [
           "Ferro-alloys",
           0.0019536860921704
          ]
         ],
         "hovertemplate": "%{customdata[0]}<br>RCA: %{customdata[1]:.2f}",
         "legendgroup": "50.0",
         "marker": {
          "color": "#17BECF",
          "size": [
           0.0712962299620967,
           0.05,
           0.0519536860921704
          ],
          "sizemode": "area",
          "sizeref": 0.0026126049385131827,
          "symbol": "circle"
         },
         "mode": "markers",
         "name": "50.0",
         "orientation": "v",
         "showlegend": true,
         "type": "scatter",
         "x": [
          20.36613,
          20.742117,
          20.439201
         ],
         "xaxis": "x",
         "y": [
          9.690082,
          9.842225,
          10.072912
         ],
         "yaxis": "y"
        },
        {
         "customdata": [
          [
           "Propellent powders and other prepared explosives",
           0.7830134442733463
          ],
          [
           "Fuses, caps, igniters, detonators",
           0.8815133178042949
          ]
         ],
         "hovertemplate": "%{customdata[0]}<br>RCA: %{customdata[1]:.2f}",
         "legendgroup": "54.0",
         "marker": {
          "color": "#1F77B4",
          "size": [
           0.8330134442733463,
           0.9315133178042949
          ],
          "sizemode": "area",
          "sizeref": 0.0026126049385131827,
          "symbol": "circle"
         },
         "mode": "markers",
         "name": "54.0",
         "orientation": "v",
         "showlegend": true,
         "type": "scatter",
         "x": [
          -1.2664223,
          -1.0055971
         ],
         "xaxis": "x",
         "y": [
          1.8803362,
          1.7479303
         ],
         "yaxis": "y"
        },
        {
         "customdata": [
          [
           "Silicones",
           0.0053412798373135
          ],
          [
           "Ion exchangers of the condensation, polycondensation etc",
           0
          ],
          [
           "Ion exchangers of the polymerization or copolymerization type",
           0
          ]
         ],
         "hovertemplate": "%{customdata[0]}<br>RCA: %{customdata[1]:.2f}",
         "legendgroup": "56.0",
         "marker": {
          "color": "#FF7F0E",
          "size": [
           0.0553412798373135,
           0.05,
           0.05
          ],
          "sizemode": "area",
          "sizeref": 0.0026126049385131827,
          "symbol": "circle"
         },
         "mode": "markers",
         "name": "56.0",
         "orientation": "v",
         "showlegend": true,
         "type": "scatter",
         "x": [
          0.004357815,
          0.49849486,
          0.25417018
         ],
         "xaxis": "x",
         "y": [
          11.605273,
          11.383124,
          11.386333
         ],
         "yaxis": "y"
        },
        {
         "customdata": [
          [
           "Composition leather, in slabs, sheets or rolls",
           0.6326452626135116
          ],
          [
           "Bonded fibre fabrics, etc, whether or not impregnated or coated",
           0.0366762394546562
          ],
          [
           "Coated or impregnated textile fabrics and products, nes",
           0.0004958220398609
          ],
          [
           "Special products of textile materials",
           0
          ],
          [
           "Wire, cables, cordage, ropes, plaited bans, sling and the like",
           0.02507465651608
          ],
          [
           "Picture postcards, decalcomanias, etc, printed",
           0
          ]
         ],
         "hovertemplate": "%{customdata[0]}<br>RCA: %{customdata[1]:.2f}",
         "legendgroup": "72.0",
         "marker": {
          "color": "#2CA02C",
          "size": [
           0.6826452626135117,
           0.0866762394546562,
           0.0504958220398609,
           0.05,
           0.07507465651608,
           0.05
          ],
          "sizemode": "area",
          "sizeref": 0.0026126049385131827,
          "symbol": "circle"
         },
         "mode": "markers",
         "name": "72.0",
         "orientation": "v",
         "showlegend": true,
         "type": "scatter",
         "x": [
          8.041732,
          7.627086,
          7.773938,
          7.5447655,
          7.578279,
          7.8376107
         ],
         "xaxis": "x",
         "y": [
          -5.8743296,
          -5.684419,
          -6.136329,
          -5.906085,
          -5.4032717,
          -5.766328
         ],
         "yaxis": "y"
        },
        {
         "customdata": [
          [
           "Articles of leather use in machinery or mechanical appliances, etc",
           0.7053322507879882
          ],
          [
           "Saddlery and harness, of any material, for any kind of animal",
           0.0013440077419197
          ],
          [
           "Other articles of leather or of composition leather",
           0.4001408433970693
          ]
         ],
         "hovertemplate": "%{customdata[0]}<br>RCA: %{customdata[1]:.2f}",
         "legendgroup": "61.0",
         "marker": {
          "color": "#D62728",
          "size": [
           0.7553322507879883,
           0.0513440077419197,
           0.4501408433970693
          ],
          "sizemode": "area",
          "sizeref": 0.0026126049385131827,
          "symbol": "circle"
         },
         "mode": "markers",
         "name": "61.0",
         "orientation": "v",
         "showlegend": true,
         "type": "scatter",
         "x": [
          9.16721,
          9.04792,
          8.87042
         ],
         "xaxis": "x",
         "y": [
          7.2727313,
          7.5595555,
          7.1046796
         ],
         "yaxis": "y"
        },
        {
         "customdata": [
          [
           "Parts of footwear of any material except metal and asbestos",
           0.0006128439835596
          ],
          [
           "Travel goods, handbags etc, of leather, plastics, textile, others",
           0.0206531279224087
          ],
          [
           "Men's and boys' outerwear, textile fabrics not knitted or crocheted; overcoats and other coats",
           0.0199451006134694
          ],
          [
           "Men's and boys' outerwear, textile fabrics not knitted or crocheted; suits",
           0.0125784895745034
          ],
          [
           "Men's and boys' outerwear, textile fabrics not knitted or crocheted; trousers, breeches and the like",
           0.0074264214446404
          ],
          [
           "Men's and boys' outerwear, textile fabrics not knitted or crocheted; jackets, blazers and the like",
           0.0065347251567398
          ],
          [
           "Men's and boys' outerwear, textile fabrics not knitted or crocheted; other outer garments",
           0.0137203739455835
          ],
          [
           "Womens, girls, infants outerwear, textile, not knitted or crocheted; coats and jackets",
           0.0128467164987689
          ],
          [
           "Womens, girls, infants outerwear, textile, not knitted or crocheted; suits and costumes",
           0.0297656472856543
          ],
          [
           "Womens, girls, infants outerwear, textile, not knitted or crocheted; dresses",
           0.0134954959216775
          ],
          [
           "Womens, girls, infants outerwear, textile, not knitted or crocheted; skirts",
           0.0085733052445047
          ],
          [
           "Womens, girls, infants outerwear, textile, not knitted or crocheted; blouses",
           0.0113220993489147
          ],
          [
           "Womens, girls, infants outerwear, textile, not knitted or crocheted; other outer garments of textile fabrics, not knitted, crocheted",
           0.0207978810127993
          ],
          [
           "Under garments of textile fabrics, not knitted or crocheted; womens, girls, infants under garments, textile, not knitted, etc",
           0.0175186171207307
          ],
          [
           "Articles of apparel, clothing accessories of leather",
           0.0326939747060536
          ],
          [
           "Footwear",
           0.0111485645352401
          ]
         ],
         "hovertemplate": "%{customdata[0]}<br>RCA: %{customdata[1]:.2f}",
         "legendgroup": "108.0",
         "marker": {
          "color": "#9467BD",
          "size": [
           0.0506128439835596,
           0.0706531279224087,
           0.0699451006134694,
           0.0625784895745034,
           0.0574264214446404,
           0.0565347251567398,
           0.0637203739455835,
           0.0628467164987689,
           0.0797656472856543,
           0.0634954959216775,
           0.0585733052445047,
           0.0613220993489147,
           0.0707978810127993,
           0.0675186171207307,
           0.08269397470605361,
           0.061148564535240105
          ],
          "sizemode": "area",
          "sizeref": 0.0026126049385131827,
          "symbol": "circle"
         },
         "mode": "markers",
         "name": "108.0",
         "orientation": "v",
         "showlegend": true,
         "type": "scatter",
         "x": [
          8.813192,
          9.391305,
          9.311084,
          9.454941,
          10.019074,
          9.087473,
          10.199574,
          8.734054,
          9.878852,
          9.16927,
          9.563285,
          9.116542,
          9.714982,
          9.497124,
          9.808102,
          8.841222
         ],
         "xaxis": "x",
         "y": [
          8.117151,
          8.18305,
          7.7747774,
          8.568508,
          8.592182,
          7.9564133,
          8.996802,
          7.6697965,
          8.255274,
          8.376009,
          8.04409,
          8.852479,
          8.454434,
          8.9959955,
          8.852864,
          8.533323
         ],
         "yaxis": "y"
        },
        {
         "customdata": [
          [
           "Tires, pneumatic, new, for motor cars",
           0
          ],
          [
           "Tires, pneumatic, new, for buses and lorries",
           0
          ],
          [
           "Tires, pneumatic, new, for aircraft",
           0
          ],
          [
           "Tires, pneumatic, new, for motorcycles and bicycles",
           0
          ],
          [
           "Other tires, tire cases, tire flaps and inner tubes, etc",
           0.0024103603800054
          ]
         ],
         "hovertemplate": "%{customdata[0]}<br>RCA: %{customdata[1]:.2f}",
         "legendgroup": "62.0",
         "marker": {
          "color": "#8C564B",
          "size": [
           0.05,
           0.05,
           0.05,
           0.05,
           0.052410360380005405
          ],
          "sizemode": "area",
          "sizeref": 0.0026126049385131827,
          "symbol": "circle"
         },
         "mode": "markers",
         "name": "62.0",
         "orientation": "v",
         "showlegend": true,
         "type": "scatter",
         "x": [
          -1.9872109,
          -2.1824868,
          -2.3441026,
          -2.1602097,
          -2.4952772
         ],
         "xaxis": "x",
         "y": [
          2.256514,
          2.4011495,
          2.1778767,
          1.9430361,
          2.3837838
         ],
         "yaxis": "y"
        },
        {
         "customdata": [
          [
           "Hygienic, pharmaceutical articles of unhardened vulcanized rubber",
           0
          ],
          [
           "Cycles, not motorized",
           0.0039659779203466
          ],
          [
           "Articles of apparel, clothing accessories of plastic or rubber",
           0.0043287581650568
          ],
          [
           "Headgear and fitting thereof, nes",
           0.0653824373991915
          ],
          [
           "Spectacles and spectacle frames",
           0.0127201796208097
          ],
          [
           "Children's toys, indoor games, etc",
           0.0035230045912328
          ],
          [
           "Other sporting goods and fairground amusements, etc",
           0.0053227212577321
          ],
          [
           "Pens, pencils and, fountain pens",
           0.0005772110562344
          ],
          [
           "Pianos, other string musical instruments",
           0.05314801716754
          ],
          [
           "Umbrellas, canes and similar articles and parts thereof",
           0
          ]
         ],
         "hovertemplate": "%{customdata[0]}<br>RCA: %{customdata[1]:.2f}",
         "legendgroup": "114.0",
         "marker": {
          "color": "#E377C2",
          "size": [
           0.05,
           0.0539659779203466,
           0.054328758165056806,
           0.1153824373991915,
           0.0627201796208097,
           0.053523004591232805,
           0.055322721257732105,
           0.0505772110562344,
           0.10314801716754,
           0.05
          ],
          "sizemode": "area",
          "sizeref": 0.0026126049385131827,
          "symbol": "circle"
         },
         "mode": "markers",
         "name": "114.0",
         "orientation": "v",
         "showlegend": true,
         "type": "scatter",
         "x": [
          7.8159523,
          7.259433,
          8.078078,
          7.580367,
          7.8257446,
          7.4862394,
          8.097914,
          8.32589,
          7.1600485,
          6.959813
         ],
         "xaxis": "x",
         "y": [
          11.4286175,
          11.5063715,
          11.485534,
          12.184836,
          11.820259,
          11.746305,
          12.1122465,
          11.719568,
          11.989415,
          11.662233
         ],
         "yaxis": "y"
        },
        {
         "customdata": [
          [
           "Converted paper and paperboard, nes",
           0.0051627729648975
          ],
          [
           "Motors and generators, direct current",
           0.0027695916088807
          ],
          [
           "Electric motors, generators (not direct current); generating sets",
           0.0119183009995229
          ],
          [
           "Road rollers, mechanically propelled",
           0.3643521552594596
          ],
          [
           "Construction and mining machinery, nes",
           0.3076572205362887
          ],
          [
           "Parts, nes of machinery and equipment of headings 72341 to 72346",
           0.2310057923339795
          ],
          [
           "Other mineral working machinery; and parts thereof, nes",
           0.3209983395315001
          ],
          [
           "Centrifugal pumps (other than those of heading 74281)",
           0.0110485669360296
          ],
          [
           "Other pumps for liquids and liquid elevators",
           0.0358474640935135
          ],
          [
           "Work trucks, of the type use in factories, dock areas, etc",
           0.0380615342438649
          ],
          [
           "Lifting, handling, loading machinery, telphers and conveyors",
           0.09184133919519
          ],
          [
           "Parts, nes of the machinery falling within heading 7442",
           0.0190974017976103
          ],
          [
           "Power hand tools, pneumatic or non-electric, and parts thereof, nes",
           0.2309432786466351
          ],
          [
           "Transformers, electrical",
           0.0031642350171004
          ],
          [
           "Special purpose motor lorries and vans",
           0.2994032485668936
          ],
          [
           "Ships, boats and other vessels",
           0
          ]
         ],
         "hovertemplate": "%{customdata[0]}<br>RCA: %{customdata[1]:.2f}",
         "legendgroup": "93.0",
         "marker": {
          "color": "#7F7F7F",
          "size": [
           0.0551627729648975,
           0.0527695916088807,
           0.061918300999522904,
           0.41435215525945956,
           0.3576572205362887,
           0.2810057923339795,
           0.3709983395315001,
           0.0610485669360296,
           0.0858474640935135,
           0.0880615342438649,
           0.14184133919518999,
           0.0690974017976103,
           0.2809432786466351,
           0.0531642350171004,
           0.3494032485668936,
           0.05
          ],
          "sizemode": "area",
          "sizeref": 0.0026126049385131827,
          "symbol": "circle"
         },
         "mode": "markers",
         "name": "93.0",
         "orientation": "v",
         "showlegend": true,
         "type": "scatter",
         "x": [
          -0.30712295,
          -0.062493086,
          -0.061066628,
          0.26830792,
          -0.33452725,
          0.6041057,
          0.11623287,
          0.019284964,
          0.09544301,
          0.5543251,
          0.32466936,
          0.1587317,
          0.50060105,
          -0.2638247,
          -0.3390212,
          0.77102256
         ],
         "xaxis": "x",
         "y": [
          3.2503443,
          2.298068,
          2.6180062,
          2.3322968,
          2.334431,
          2.2540805,
          1.9879972,
          2.9533217,
          1.6422118,
          3.0350592,
          2.6937203,
          3.2880726,
          1.8668482,
          1.999279,
          2.861322,
          2.6225631
         ],
         "yaxis": "y"
        },
        {
         "customdata": [
          [
           "Silk yarn and spun from noil or waste; silkworm gut",
           0
          ],
          [
           "Yarn of textile fibres, nes",
           0
          ],
          [
           "Fabrics, woven, of silk, of noil or other waste silk",
           0
          ]
         ],
         "hovertemplate": "%{customdata[0]}<br>RCA: %{customdata[1]:.2f}",
         "legendgroup": "65.0",
         "marker": {
          "color": "#BCBD22",
          "size": [
           0.05,
           0.05,
           0.05
          ],
          "sizemode": "area",
          "sizeref": 0.0026126049385131827,
          "symbol": "circle"
         },
         "mode": "markers",
         "name": "65.0",
         "orientation": "v",
         "showlegend": true,
         "type": "scatter",
         "x": [
          7.953888,
          7.9227085,
          7.694269
         ],
         "xaxis": "x",
         "y": [
          9.878485,
          9.513607,
          9.905008
         ],
         "yaxis": "y"
        },
        {
         "customdata": [
          [
           "Fabrics, woven, of continuous synthetic textile materials",
           0.1230375705684293
          ],
          [
           "Fabrics, woven, 85% plus of discontinuous synthetic fibres",
           0
          ],
          [
           "Fabrics, woven, less 85% of discontinuous synthetic fibres",
           0.0007845617397146
          ],
          [
           "Pile and chenille fabrics, woven, of man-made fibres",
           0
          ],
          [
           "Fabrics, woven of jute or other textile bast fibres of heading 2640",
           0
          ],
          [
           "Fabrics, woven, nes",
           0
          ],
          [
           "Tulle, lace, embroidery, ribbons, trimmings and other small wares",
           0.0095148565305822
          ],
          [
           "Elastic fabrics and trimming (not knitted or crocheted)",
           0.1173578563013508
          ],
          [
           "Cutlery",
           0.0006647880269985
          ]
         ],
         "hovertemplate": "%{customdata[0]}<br>RCA: %{customdata[1]:.2f}",
         "legendgroup": "68.0",
         "marker": {
          "color": "#17BECF",
          "size": [
           0.1730375705684293,
           0.05,
           0.0507845617397146,
           0.05,
           0.05,
           0.05,
           0.0595148565305822,
           0.1673578563013508,
           0.0506647880269985
          ],
          "sizemode": "area",
          "sizeref": 0.0026126049385131827,
          "symbol": "circle"
         },
         "mode": "markers",
         "name": "68.0",
         "orientation": "v",
         "showlegend": true,
         "type": "scatter",
         "x": [
          8.399526,
          8.506902,
          8.72428,
          8.029025,
          8.816674,
          8.161862,
          8.283124,
          8.206068,
          8.687261
         ],
         "xaxis": "x",
         "y": [
          10.347086,
          10.02645,
          10.6598425,
          10.280483,
          10.27583,
          10.510818,
          9.547413,
          9.947003,
          9.706673
         ],
         "yaxis": "y"
        },
        {
         "customdata": [
          [
           "Fabric, woven of continuous regenerated textile materials",
           0
          ],
          [
           "Fabrics, woven, 85% plus of discontinuous regenerated fibres",
           0
          ],
          [
           "Fabrics, woven, less 85% of discontinuous regenerated fibres",
           0
          ],
          [
           "Fabrics, woven, of flax or of ramie",
           0
          ]
         ],
         "hovertemplate": "%{customdata[0]}<br>RCA: %{customdata[1]:.2f}",
         "legendgroup": "69.0",
         "marker": {
          "color": "#1F77B4",
          "size": [
           0.05,
           0.05,
           0.05,
           0.05
          ],
          "sizemode": "area",
          "sizeref": 0.0026126049385131827,
          "symbol": "circle"
         },
         "mode": "markers",
         "name": "69.0",
         "orientation": "v",
         "showlegend": true,
         "type": "scatter",
         "x": [
          7.629651,
          7.4776773,
          7.3825912,
          7.2600975
         ],
         "xaxis": "x",
         "y": [
          9.446922,
          9.81352,
          9.200069,
          9.694603
         ],
         "yaxis": "y"
        },
        {
         "customdata": [
          [
           "Fabrics, woven, 85% plus of sheep's or lambs' wool or of fine hair",
           0.0075007684600807
          ],
          [
           "Fabrics, woven, of sheep's or lambs' wool or of fine hair, nes",
           0
          ]
         ],
         "hovertemplate": "%{customdata[0]}<br>RCA: %{customdata[1]:.2f}",
         "legendgroup": "70.0",
         "marker": {
          "color": "#FF7F0E",
          "size": [
           0.0575007684600807,
           0.05
          ],
          "sizemode": "area",
          "sizeref": 0.0026126049385131827,
          "symbol": "circle"
         },
         "mode": "markers",
         "name": "70.0",
         "orientation": "v",
         "showlegend": true,
         "type": "scatter",
         "x": [
          8.988452,
          9.156051
         ],
         "xaxis": "x",
         "y": [
          -5.8555155,
          -5.6656003
         ],
         "yaxis": "y"
        },
        {
         "customdata": [
          [
           "Knitted etc, not elastic nor rubberized, of synthetic fibres",
           0.007085447106401
          ],
          [
           "Knitted, not elastic nor rubberized, of fibres other than synthetic",
           0.0091752725573789
          ],
          [
           "Knitted or crocheted fabrics, elastic or rubberized",
           0.0106291951561151
          ]
         ],
         "hovertemplate": "%{customdata[0]}<br>RCA: %{customdata[1]:.2f}",
         "legendgroup": "71.0",
         "marker": {
          "color": "#2CA02C",
          "size": [
           0.057085447106401004,
           0.0591752725573789,
           0.060629195156115104
          ],
          "sizemode": "area",
          "sizeref": 0.0026126049385131827,
          "symbol": "circle"
         },
         "mode": "markers",
         "name": "71.0",
         "orientation": "v",
         "showlegend": true,
         "type": "scatter",
         "x": [
          8.462104,
          8.171231,
          8.605838
         ],
         "xaxis": "x",
         "y": [
          10.808136,
          10.765224,
          11.146726
         ],
         "yaxis": "y"
        },
        {
         "customdata": [
          [
           "Hat shapes, hat-forms, hat bodies and hoods",
           0.9950419754052732
          ],
          [
           "Porcelain or china house ware",
           0
          ],
          [
           "Articles of domestic or toilet purposes, of other kind of pottery",
           0
          ],
          [
           "Ornaments, personal articles of porcelain, china, or ceramic, nes",
           0.0076290534172397
          ]
         ],
         "hovertemplate": "%{customdata[0]}<br>RCA: %{customdata[1]:.2f}",
         "legendgroup": "79.0",
         "marker": {
          "color": "#D62728",
          "size": [
           1.045041975405273,
           0.05,
           0.05,
           0.0576290534172397
          ],
          "sizemode": "area",
          "sizeref": 0.0026126049385131827,
          "symbol": "circle"
         },
         "mode": "markers",
         "name": "79.0",
         "orientation": "v",
         "showlegend": true,
         "type": "scatter",
         "x": [
          9.587011,
          9.651316,
          9.956572,
          9.1952095
         ],
         "xaxis": "x",
         "y": [
          6.9442306,
          6.652339,
          6.4063053,
          6.7543592
         ],
         "yaxis": "y"
        },
        {
         "customdata": [
          [
           "Carpets, carpeting and rugs, knotted",
           0
          ],
          [
           "Kelem, Schumacks and Karamanie rugs and the like",
           0
          ]
         ],
         "hovertemplate": "%{customdata[0]}<br>RCA: %{customdata[1]:.2f}",
         "legendgroup": "74.0",
         "marker": {
          "color": "#9467BD",
          "size": [
           0.05,
           0.05
          ],
          "sizemode": "area",
          "sizeref": 0.0026126049385131827,
          "symbol": "circle"
         },
         "mode": "markers",
         "name": "74.0",
         "orientation": "v",
         "showlegend": true,
         "type": "scatter",
         "x": [
          10.750581,
          11.229871
         ],
         "xaxis": "x",
         "y": [
          2.526002,
          2.838738
         ],
         "yaxis": "y"
        },
        {
         "customdata": [
          [
           "Carpets, rugs, mats, of wool or fine animal hair",
           0.0032670058331443
          ],
          [
           "Carpets, rugs, mats, of man-made textile materials, nes",
           0.0006374246099745
          ],
          [
           "Carpets, rugs, mats, of other textile materials, nes",
           0
          ]
         ],
         "hovertemplate": "%{customdata[0]}<br>RCA: %{customdata[1]:.2f}",
         "legendgroup": "75.0",
         "marker": {
          "color": "#8C564B",
          "size": [
           0.0532670058331443,
           0.0506374246099745,
           0.05
          ],
          "sizemode": "area",
          "sizeref": 0.0026126049385131827,
          "symbol": "circle"
         },
         "mode": "markers",
         "name": "75.0",
         "orientation": "v",
         "showlegend": true,
         "type": "scatter",
         "x": [
          8.51321,
          8.7398815,
          8.494558
         ],
         "xaxis": "x",
         "y": [
          -5.5127363,
          -5.3461533,
          -5.2307134
         ],
         "yaxis": "y"
        },
        {
         "customdata": [
          [
           "Cement",
           0.3687431109824164
          ],
          [
           "Wire rod of iron or steel",
           0.0001036968067738
          ],
          [
           "Bars, rods (not wire rod), from iron or steel; hollow mining drill",
           0.0009910444305094
          ],
          [
           "Angles, shapes, sections and sheet piling, of iron or steel",
           0.0023513933328818
          ],
          [
           "Iron or steel wire (excluding wire rod), not insulated",
           0.0007453236006846
          ],
          [
           "Barbed iron or steel wire: fencing wire",
           0
          ]
         ],
         "hovertemplate": "%{customdata[0]}<br>RCA: %{customdata[1]:.2f}",
         "legendgroup": "81.0",
         "marker": {
          "color": "#E377C2",
          "size": [
           0.4187431109824164,
           0.050103696806773804,
           0.050991044430509405,
           0.0523513933328818,
           0.0507453236006846,
           0.05
          ],
          "sizemode": "area",
          "sizeref": 0.0026126049385131827,
          "symbol": "circle"
         },
         "mode": "markers",
         "name": "81.0",
         "orientation": "v",
         "showlegend": true,
         "type": "scatter",
         "x": [
          7.165893,
          7.3129425,
          6.9146585,
          7.062399,
          6.651791,
          6.808997
         ],
         "xaxis": "x",
         "y": [
          -5.676872,
          -5.2509894,
          -5.666112,
          -5.241359,
          -5.493624,
          -5.0565114
         ],
         "yaxis": "y"
        },
        {
         "customdata": [
          [
           "Optical glass and elements of optical glass (unworked)",
           0.0024579003705683
          ],
          [
           "Insulated electric wire, cable, bars, etc",
           0.0039319537226148
          ],
          [
           "Lenses and other optical elements of any material",
           0.001139203552203
          ]
         ],
         "hovertemplate": "%{customdata[0]}<br>RCA: %{customdata[1]:.2f}",
         "legendgroup": "77.0",
         "marker": {
          "color": "#7F7F7F",
          "size": [
           0.0524579003705683,
           0.053931953722614806,
           0.051139203552203
          ],
          "sizemode": "area",
          "sizeref": 0.0026126049385131827,
          "symbol": "circle"
         },
         "mode": "markers",
         "name": "77.0",
         "orientation": "v",
         "showlegend": true,
         "type": "scatter",
         "x": [
          7.9710455,
          8.091842,
          8.224565
         ],
         "xaxis": "x",
         "y": [
          -6.3601093,
          -6.6406565,
          -6.4123244
         ],
         "yaxis": "y"
        },
        {
         "customdata": [
          [
           "Drawn or blown glass (flashed glass), unworked, in rectangles",
           0
          ],
          [
           "Cast, rolled glass (flashed or wired), unworked, in rectangles",
           0
          ],
          [
           "Fur clothing (not headgear) and other articles made of furskins",
           0
          ]
         ],
         "hovertemplate": "%{customdata[0]}<br>RCA: %{customdata[1]:.2f}",
         "legendgroup": "78.0",
         "marker": {
          "color": "#BCBD22",
          "size": [
           0.05,
           0.05,
           0.05
          ],
          "sizemode": "area",
          "sizeref": 0.0026126049385131827,
          "symbol": "circle"
         },
         "mode": "markers",
         "name": "78.0",
         "orientation": "v",
         "showlegend": true,
         "type": "scatter",
         "x": [
          10.023445,
          10.344182,
          10.357335
         ],
         "xaxis": "x",
         "y": [
          6.8295197,
          6.9551783,
          6.570798
         ],
         "yaxis": "y"
        },
        {
         "customdata": [
          [
           "Articles made of glass, nes",
           0.0025615656065662
          ],
          [
           "Sewing machines, furniture, needles etc, and parts thereof, nes",
           0.0007195145908764
          ],
          [
           "Imitation jewellery",
           0.0032831037998111
          ],
          [
           "Articles and manufacture of carving, moulding materials, nes",
           0.0153535147077861
          ],
          [
           "Small-wares and toilet articles, nes; sieves; tailors' dummies, etc",
           0.0412053268198681
          ]
         ],
         "hovertemplate": "%{customdata[0]}<br>RCA: %{customdata[1]:.2f}",
         "legendgroup": "115.0",
         "marker": {
          "color": "#17BECF",
          "size": [
           0.052561565606566205,
           0.050719514590876404,
           0.053283103799811105,
           0.06535351470778611,
           0.0912053268198681
          ],
          "sizemode": "area",
          "sizeref": 0.0026126049385131827,
          "symbol": "circle"
         },
         "mode": "markers",
         "name": "115.0",
         "orientation": "v",
         "showlegend": true,
         "type": "scatter",
         "x": [
          7.771367,
          8.059979,
          7.552169,
          7.8440504,
          8.284504
         ],
         "xaxis": "x",
         "y": [
          10.77775,
          10.998961,
          11.050785,
          11.106418,
          11.2449255
         ],
         "yaxis": "y"
        },
        {
         "customdata": [
          [
           "Pearls, not mounted, set or strung",
           0
          ],
          [
           "Synthetic or reconstructed precious or semi-precious stones",
           0
          ],
          [
           "Watches, watch movements and case",
           0.0048421012584526
          ],
          [
           "Clocks, clock movements and parts",
           0
          ],
          [
           "Precious jewellery, goldsmiths' or silversmiths' wares",
           0.7019662508026078
          ]
         ],
         "hovertemplate": "%{customdata[0]}<br>RCA: %{customdata[1]:.2f}",
         "legendgroup": "111.0",
         "marker": {
          "color": "#1F77B4",
          "size": [
           0.05,
           0.05,
           0.054842101258452604,
           0.05,
           0.7519662508026078
          ],
          "sizemode": "area",
          "sizeref": 0.0026126049385131827,
          "symbol": "circle"
         },
         "mode": "markers",
         "name": "111.0",
         "orientation": "v",
         "showlegend": true,
         "type": "scatter",
         "x": [
          7.2991915,
          7.0258646,
          6.8209467,
          6.632079,
          6.4299536
         ],
         "xaxis": "x",
         "y": [
          11.139502,
          11.262883,
          11.07131,
          11.480174,
          11.118656
         ],
         "yaxis": "y"
        },
        {
         "customdata": [
          [
           "Tubes and pipes, of cast iron",
           0
          ],
          [
           "Seamless tubes, pipes; blanks for tubes and pipes, of iron or steel",
           0.125829919722188
          ],
          [
           "High-pressure hydro-electric conduit of steel",
           0.003175627188429
          ]
         ],
         "hovertemplate": "%{customdata[0]}<br>RCA: %{customdata[1]:.2f}",
         "legendgroup": "83.0",
         "marker": {
          "color": "#FF7F0E",
          "size": [
           0.05,
           0.17582991972218798,
           0.053175627188429005
          ],
          "sizemode": "area",
          "sizeref": 0.0026126049385131827,
          "symbol": "circle"
         },
         "mode": "markers",
         "name": "83.0",
         "orientation": "v",
         "showlegend": true,
         "type": "scatter",
         "x": [
          -2.071281,
          -2.1021643,
          -2.2736118
         ],
         "xaxis": "x",
         "y": [
          1.3001275,
          1.5647968,
          1.69939
         ],
         "yaxis": "y"
        },
        {
         "customdata": [
          [
           "Copper and copper alloys, refined or not, unwrought",
           0.2699362774360401
          ],
          [
           "Zinc and zinc alloys, unwrought",
           0
          ],
          [
           "Base metals, nes and cermets, unwrought (including waste and scrap)",
           0.2482834369256371
          ],
          [
           "Other base metal manufactures, nes; and of cermets",
           0.1832038233603053
          ]
         ],
         "hovertemplate": "%{customdata[0]}<br>RCA: %{customdata[1]:.2f}",
         "legendgroup": "87.0",
         "marker": {
          "color": "#2CA02C",
          "size": [
           0.3199362774360401,
           0.05,
           0.2982834369256371,
           0.23320382336030532
          ],
          "sizemode": "area",
          "sizeref": 0.0026126049385131827,
          "symbol": "circle"
         },
         "mode": "markers",
         "name": "87.0",
         "orientation": "v",
         "showlegend": true,
         "type": "scatter",
         "x": [
          16.609056,
          16.175142,
          16.367414,
          15.772773
         ],
         "xaxis": "x",
         "y": [
          8.607955,
          8.5644655,
          8.960417,
          8.5738125
         ],
         "yaxis": "y"
        },
        {
         "customdata": [
          [
           "Domestic, non-electric, heating, cooking apparatus, and parts, nes",
           0.0093582171902645
          ],
          [
           "Fans, blowers and the like, and parts thereof, nes",
           0.0186807167065867
          ],
          [
           "Household laundry equipment, nes",
           0
          ],
          [
           "Domestic refrigerators and freezers",
           0
          ],
          [
           "Electric shavers and hair clippers, parts thereof, nes",
           0
          ],
          [
           "Domestic electro-mechanical appliances; and parts thereof, nes",
           0.013594279731028
          ],
          [
           "Electro-thermic appliances, nes",
           0.0012497386858579
          ],
          [
           "Invalid carriages; parts, nes of articles of heading 785",
           0.0013485297821673
          ],
          [
           "Baby carriages and parts thereof, nes",
           0.0082217111160286
          ],
          [
           "Office and stationary supplies, of base metal",
           0.0018709965391143
          ]
         ],
         "hovertemplate": "%{customdata[0]}<br>RCA: %{customdata[1]:.2f}",
         "legendgroup": "100.0",
         "marker": {
          "color": "#D62728",
          "size": [
           0.0593582171902645,
           0.06868071670658671,
           0.05,
           0.05,
           0.05,
           0.063594279731028,
           0.0512497386858579,
           0.0513485297821673,
           0.0582217111160286,
           0.051870996539114304
          ],
          "sizemode": "area",
          "sizeref": 0.0026126049385131827,
          "symbol": "circle"
         },
         "mode": "markers",
         "name": "100.0",
         "orientation": "v",
         "showlegend": true,
         "type": "scatter",
         "x": [
          -1.1109554,
          -0.64229846,
          -1.3448353,
          -1.5164813,
          -1.0995213,
          -1.3323859,
          -0.8880925,
          -0.8897445,
          -0.6792035,
          -0.67393184
         ],
         "xaxis": "x",
         "y": [
          2.6330426,
          2.9090111,
          2.6625185,
          2.765473,
          3.0354917,
          3.0517693,
          2.8836982,
          2.5749419,
          2.4546125,
          3.2894075
         ],
         "yaxis": "y"
        },
        {
         "customdata": [
          [
           "Household appliances, decorative article, etc, of base metal, nes",
           0.0013859091598498
          ],
          [
           "Clothing accessories, of textile fabrics, not knitted or crocheted",
           0.1993582738494567
          ],
          [
           "Cinematograph film, exposed and developed",
           0
          ],
          [
           "Personal adornments and ornaments articles of plastic",
           0.0065940585606757
          ],
          [
           "Works of art, collectors' pieces and antiques",
           0.0217853025075432
          ],
          [
           "Other articles of precious metals or rolled precious metals, nes",
           0
          ]
         ],
         "hovertemplate": "%{customdata[0]}<br>RCA: %{customdata[1]:.2f}",
         "legendgroup": "112.0",
         "marker": {
          "color": "#9467BD",
          "size": [
           0.0513859091598498,
           0.2493582738494567,
           0.05,
           0.0565940585606757,
           0.0717853025075432,
           0.05
          ],
          "sizemode": "area",
          "sizeref": 0.0026126049385131827,
          "symbol": "circle"
         },
         "mode": "markers",
         "name": "112.0",
         "orientation": "v",
         "showlegend": true,
         "type": "scatter",
         "x": [
          -1.2190536,
          -1.6858723,
          -0.8340447,
          -1.2214246,
          -1.8454598,
          -0.95318437
         ],
         "xaxis": "x",
         "y": [
          1.07341,
          1.3678699,
          1.0477214,
          1.3242157,
          1.133437,
          1.2526346
         ],
         "yaxis": "y"
        },
        {
         "customdata": [
          [
           "Internal combustion piston engines, for aircraft, and parts, nes",
           0.0554490267709216
          ],
          [
           "Reaction engines",
           0
          ],
          [
           "Gas turbines, nes",
           0.4000727192620895
          ],
          [
           "Parts, nes of the engines and motors of group 714 and item 71888",
           0.0074470699350861
          ],
          [
           "Parts, nes of the aircraft of heading 792",
           0.0471427609922178
          ]
         ],
         "hovertemplate": "%{customdata[0]}<br>RCA: %{customdata[1]:.2f}",
         "legendgroup": "90.0",
         "marker": {
          "color": "#8C564B",
          "size": [
           0.1054490267709216,
           0.05,
           0.45007271926208947,
           0.0574470699350861,
           0.0971427609922178
          ],
          "sizemode": "area",
          "sizeref": 0.0026126049385131827,
          "symbol": "circle"
         },
         "mode": "markers",
         "name": "90.0",
         "orientation": "v",
         "showlegend": true,
         "type": "scatter",
         "x": [
          -1.4904157,
          -1.9612092,
          -1.7431746,
          -1.5606486,
          -1.8975036
         ],
         "xaxis": "x",
         "y": [
          0.9076242,
          0.93961203,
          0.7531715,
          0.5538521,
          0.4185597
         ],
         "yaxis": "y"
        },
        {
         "customdata": [
          [
           "Air conditioning machines and parts thereof, nes",
           0.0005680225434562
          ],
          [
           "Complete digital data processing machines",
           0.0045500028528138
          ],
          [
           "Parts, nes of and accessories for machines of headings 7511 or 7518",
           0.0136738106514395
          ],
          [
           "Parts, nes of and accessories for machines of headings 7512 and 752",
           0.0060537757028315
          ],
          [
           "Parts, nes of and accessories for apparatus falling in heading 76",
           0.0095981499737187
          ],
          [
           "Printed circuits, and parts thereof, nes",
           1.6155758563618505e-05
          ],
          [
           "Fixed, variable resistors, other than heating resistors, parts, nes",
           0.0005642257744484
          ],
          [
           "Batteries and electric accumulators, and parts thereof, nes",
           0.1522068252358959
          ],
          [
           "Other electrical machinery and equipment, nes",
           0.0365377242190445
          ],
          [
           "Sound recording tape, discs",
           0.0016043419376782
          ]
         ],
         "hovertemplate": "%{customdata[0]}<br>RCA: %{customdata[1]:.2f}",
         "legendgroup": "97.0",
         "marker": {
          "color": "#E377C2",
          "size": [
           0.0505680225434562,
           0.054550002852813806,
           0.0636738106514395,
           0.0560537757028315,
           0.059598149973718706,
           0.05001615575856362,
           0.050564225774448406,
           0.2022068252358959,
           0.0865377242190445,
           0.051604341937678204
          ],
          "sizemode": "area",
          "sizeref": 0.0026126049385131827,
          "symbol": "circle"
         },
         "mode": "markers",
         "name": "97.0",
         "orientation": "v",
         "showlegend": true,
         "type": "scatter",
         "x": [
          2.2814174,
          2.6075926,
          2.9250908,
          3.1801586,
          2.1983948,
          2.4457693,
          2.8495917,
          1.8810339,
          1.9715443,
          2.3663964
         ],
         "xaxis": "x",
         "y": [
          6.588108,
          6.801722,
          6.6756635,
          6.8834844,
          6.82527,
          7.079173,
          7.200979,
          7.349495,
          7.017432,
          7.431967
         ],
         "yaxis": "y"
        },
        {
         "customdata": [
          [
           "Calculating, accounting, cash registers, ticketing, etc, machines",
           0.0037639991176423
          ],
          [
           "Office machines, nes",
           0.0036492321612136
          ],
          [
           "Analogue and hybrid data processing machines",
           0.0055964397820241
          ],
          [
           "Complete digital central processing units; digital processors",
           0.0059729673423708
          ],
          [
           "Digital central storage units, separately consigned",
           0.004589511667955
          ],
          [
           "Peripheral units, including control and adapting units",
           0.0073323190944843
          ],
          [
           "Off-line data processing equipment, nes",
           0.0064932288068209
          ]
         ],
         "hovertemplate": "%{customdata[0]}<br>RCA: %{customdata[1]:.2f}",
         "legendgroup": "96.0",
         "marker": {
          "color": "#7F7F7F",
          "size": [
           0.053763999117642305,
           0.0536492321612136,
           0.0555964397820241,
           0.055972967342370804,
           0.054589511667955004,
           0.0573323190944843,
           0.0564932288068209
          ],
          "sizemode": "area",
          "sizeref": 0.0026126049385131827,
          "symbol": "circle"
         },
         "mode": "markers",
         "name": "96.0",
         "orientation": "v",
         "showlegend": true,
         "type": "scatter",
         "x": [
          1.6624217,
          1.8004832,
          1.5675964,
          1.3995667,
          1.2076173,
          1.4881697,
          1.2155151
         ],
         "xaxis": "x",
         "y": [
          5.889833,
          5.5123925,
          6.401642,
          6.0950212,
          6.5197444,
          5.4248757,
          5.7616234
         ],
         "yaxis": "y"
        },
        {
         "customdata": [
          [
           "Television receivers, colour",
           0.0032123806547121
          ],
          [
           "Television receivers, monochrome",
           0.0039862613742898
          ],
          [
           "Radio receivers for motor-vehicles",
           0
          ],
          [
           "Portable radio receivers",
           0
          ],
          [
           "Other radio receivers",
           0.0008616068110781
          ],
          [
           "Gramophones and record players, electric",
           0
          ],
          [
           "Other sound recording and reproducer, nes; video recorders",
           0.0060604325263036
          ],
          [
           "Microphones; loud-speakers; audio-frequency electric amplifiers",
           0.0010334981714919
          ],
          [
           "Photographic cameras, flashlight apparatus, parts, accessories, nes",
           0
          ],
          [
           "Musical instruments, nes",
           0.0176256380523647
          ]
         ],
         "hovertemplate": "%{customdata[0]}<br>RCA: %{customdata[1]:.2f}",
         "legendgroup": "98.0",
         "marker": {
          "color": "#BCBD22",
          "size": [
           0.0532123806547121,
           0.0539862613742898,
           0.05,
           0.05,
           0.050861606811078104,
           0.05,
           0.056060432526303605,
           0.0510334981714919,
           0.05,
           0.0676256380523647
          ],
          "sizemode": "area",
          "sizeref": 0.0026126049385131827,
          "symbol": "circle"
         },
         "mode": "markers",
         "name": "98.0",
         "orientation": "v",
         "showlegend": true,
         "type": "scatter",
         "x": [
          1.8215909,
          2.0903664,
          2.7697086,
          3.2105193,
          2.5000973,
          2.8934703,
          2.2648315,
          2.6797748,
          2.8619337,
          2.4434128
         ],
         "xaxis": "x",
         "y": [
          5.0472913,
          5.352312,
          5.679759,
          5.569369,
          5.58412,
          5.0984883,
          4.9190288,
          4.7837615,
          5.3773074,
          5.245588
         ],
         "yaxis": "y"
        },
        {
         "customdata": [
          [
           "Electrical line telephonic and telegraphic apparatus",
           0.0046504347540564
          ],
          [
           "Television, radio-broadcasting; transmitters, etc",
           0.0045464338516209
          ],
          [
           "Telecommunications equipment, nes",
           0.0054597729319332
          ]
         ],
         "hovertemplate": "%{customdata[0]}<br>RCA: %{customdata[1]:.2f}",
         "legendgroup": "99.0",
         "marker": {
          "color": "#17BECF",
          "size": [
           0.054650434754056405,
           0.054546433851620904,
           0.0554597729319332
          ],
          "sizemode": "area",
          "sizeref": 0.0026126049385131827,
          "symbol": "circle"
         },
         "mode": "markers",
         "name": "99.0",
         "orientation": "v",
         "showlegend": true,
         "type": "scatter",
         "x": [
          2.570139,
          2.2509227,
          1.9776454
         ],
         "xaxis": "x",
         "y": [
          5.956185,
          5.981145,
          5.811884
         ],
         "yaxis": "y"
        },
        {
         "customdata": [
          [
           "Switches, relays, fuses, etc; switchboards and control panels, nes",
           0.0051445497828992
          ],
          [
           "Gas, liquid and electricity supply or production meters; etc",
           0.0007706415413327
          ],
          [
           "Surveying, navigational, compasses, etc, instruments, nonelectrical",
           0.2191669866108525
          ],
          [
           "Drawing, marking-out and mathematical calculating instruments, etc",
           0.0377356749626899
          ],
          [
           "Gas, liquid control instruments and apparatus, non-electrical",
           0.0226087837650698
          ],
          [
           "Nonmechanical or electrical instruments for physical, etc, analysis",
           0.0244583663478815
          ],
          [
           "Measuring, controlling and scientific instruments, nes",
           0.0118542298632058
          ],
          [
           "Electrical measuring, controlling, etc, instruments, apparatus, nes",
           0.0280575841360513
          ],
          [
           "Parts, nes, and accessories of headings 873, 8743, 87454 or 8748",
           0.0260190878801752
          ],
          [
           "Orthopaedic appliances, hearing aids, artificial parts of the body",
           0.0037606746749426
          ]
         ],
         "hovertemplate": "%{customdata[0]}<br>RCA: %{customdata[1]:.2f}",
         "legendgroup": "110.0",
         "marker": {
          "color": "#1F77B4",
          "size": [
           0.055144549782899205,
           0.050770641541332706,
           0.2691669866108525,
           0.0877356749626899,
           0.0726087837650698,
           0.0744583663478815,
           0.0618542298632058,
           0.0780575841360513,
           0.0760190878801752,
           0.0537606746749426
          ],
          "sizemode": "area",
          "sizeref": 0.0026126049385131827,
          "symbol": "circle"
         },
         "mode": "markers",
         "name": "110.0",
         "orientation": "v",
         "showlegend": true,
         "type": "scatter",
         "x": [
          -0.56374454,
          -0.8736372,
          -1.171483,
          -1.6154844,
          -0.75962234,
          -1.1514127,
          -1.3374887,
          -0.9564686,
          -0.46304703,
          -0.68369055
         ],
         "xaxis": "x",
         "y": [
          1.0201933,
          0.746696,
          0.5771796,
          0.083553106,
          0.5161437,
          -0.08218206,
          0.33540097,
          0.2481096,
          0.80778176,
          0.05361695
         ],
         "yaxis": "y"
        },
        {
         "customdata": [
          [
           "Television picture tubes, cathode ray",
           0
          ],
          [
           "Other electronic valves and tubes",
           0
          ],
          [
           "Diodes, transistors, photocells, etc",
           0.0001508857418385
          ],
          [
           "Electronic microcircuits",
           0.0487031212016538
          ],
          [
           "Crystals, and parts, nes of electronic components of heading 776",
           0.0007470108608045
          ]
         ],
         "hovertemplate": "%{customdata[0]}<br>RCA: %{customdata[1]:.2f}",
         "legendgroup": "101.0",
         "marker": {
          "color": "#FF7F0E",
          "size": [
           0.05,
           0.05,
           0.0501508857418385,
           0.09870312120165381,
           0.050747010860804506
          ],
          "sizemode": "area",
          "sizeref": 0.0026126049385131827,
          "symbol": "circle"
         },
         "mode": "markers",
         "name": "101.0",
         "orientation": "v",
         "showlegend": true,
         "type": "scatter",
         "x": [
          2.84418,
          3.4264183,
          2.9982014,
          3.1184669,
          3.3953571
         ],
         "xaxis": "x",
         "y": [
          6.1736083,
          5.9592366,
          5.90352,
          6.29496,
          6.4687157
         ],
         "yaxis": "y"
        },
        {
         "customdata": [
          [
           "Rail locomotives, electric",
           0
          ],
          [
           "Other rail locomotives; tenders",
           0
          ],
          [
           "Mechanically propelled railway, tramway, trolleys, etc",
           0
          ],
          [
           "Railway, tramway passenger coaches, etc, not mechanically propelled",
           0
          ],
          [
           "Railway and tramway freight, etc, not mechanically propelled",
           0
          ],
          [
           "Railway track fixtures, and fittings, etc, parts nes of heading 791",
           0.0023282982816513
          ]
         ],
         "hovertemplate": "%{customdata[0]}<br>RCA: %{customdata[1]:.2f}",
         "legendgroup": "103.0",
         "marker": {
          "color": "#2CA02C",
          "size": [
           0.05,
           0.05,
           0.05,
           0.05,
           0.05,
           0.0523282982816513
          ],
          "sizemode": "area",
          "sizeref": 0.0026126049385131827,
          "symbol": "circle"
         },
         "mode": "markers",
         "name": "103.0",
         "orientation": "v",
         "showlegend": true,
         "type": "scatter",
         "x": [
          -2.7778623,
          -3.0941446,
          -2.858493,
          -2.658894,
          -2.7252152,
          -2.4498692
         ],
         "xaxis": "x",
         "y": [
          1.7222021,
          1.7474022,
          2.1208818,
          1.9813014,
          2.3865182,
          1.9037077
         ],
         "yaxis": "y"
        },
        {
         "customdata": [
          [
           "Helicopters",
           0.5679288902981485
          ],
          [
           "Aircraft of an unladen weight not exceeding 2000 kg",
           0.0146259835635637
          ],
          [
           "Aircraft of an unladen weight from 2000 kg to 15000 kg",
           0
          ],
          [
           "Aircraft of an unladen weight exceeding 15000 kg",
           0.0772852260377985
          ],
          [
           "Aircraft, nes and associated equipment",
           0.0088040337492594
          ]
         ],
         "hovertemplate": "%{customdata[0]}<br>RCA: %{customdata[1]:.2f}",
         "legendgroup": "104.0",
         "marker": {
          "color": "#D62728",
          "size": [
           0.6179288902981486,
           0.06462598356356371,
           0.05,
           0.12728522603779852,
           0.0588040337492594
          ],
          "sizemode": "area",
          "sizeref": 0.0026126049385131827,
          "symbol": "circle"
         },
         "mode": "markers",
         "name": "104.0",
         "orientation": "v",
         "showlegend": true,
         "type": "scatter",
         "x": [
          -1.3153242,
          -1.6469753,
          -1.6854748,
          -1.7129157,
          -1.4858087
         ],
         "xaxis": "x",
         "y": [
          2.09037,
          2.422994,
          1.9148763,
          2.150842,
          2.2695374
         ],
         "yaxis": "y"
        },
        {
         "customdata": [
          [
           "Warships",
           0
          ],
          [
           "Ships, boats and other vessels for breaking up",
           0
          ],
          [
           "Tugs, special purpose vessels and floating structures",
           0
          ]
         ],
         "hovertemplate": "%{customdata[0]}<br>RCA: %{customdata[1]:.2f}",
         "legendgroup": "105.0",
         "marker": {
          "color": "#9467BD",
          "size": [
           0.05,
           0.05,
           0.05
          ],
          "sizemode": "area",
          "sizeref": 0.0026126049385131827,
          "symbol": "circle"
         },
         "mode": "markers",
         "name": "105.0",
         "orientation": "v",
         "showlegend": true,
         "type": "scatter",
         "x": [
          -0.54306483,
          -0.8162494,
          -0.6984091
         ],
         "xaxis": "x",
         "y": [
          2.1274707,
          2.2261038,
          1.8904066
         ],
         "yaxis": "y"
        },
        {
         "customdata": [
          [
           "Under garments of textile fabrics, not knitted or crocheted; mens and boys shirts",
           0.0145593804567952
          ],
          [
           "Under garments of textile fabrics, not knitted or crocheted; mens, boys under garments; other than shirts",
           0.0083861248557848
          ],
          [
           "Outerwear knitted or crocheted, not elastic nor rubberized; jerseys, pullovers, slip-overs, cardigans, etc",
           0.035134097547042
          ],
          [
           "Outerwear knitted or crocheted, not elastic nor rubberized; womens, girls, infants, suits, dresses, etc, knitted, crocheted",
           0.0191287255711448
          ],
          [
           "Outerwear knitted or crocheted, not elastic nor rubberized; other, clothing accessories, non-elastic, knitted or crocheted",
           0.0197834765976089
          ],
          [
           "Under-garments, knitted or crocheted; of wool or fine animal hair, not elastic nor rubberized",
           0.0520415834987936
          ],
          [
           "Under-garments, knitted or crocheted; of cotton, not elastic nor rubberized",
           0.0069768461931556
          ],
          [
           "Under-garments, knitted or crocheted; of synthetic fibres not elastic nor rubberized",
           0.0112576023316454
          ],
          [
           "Under-garments, knitted or crocheted; of other fibres, not elastic nor rubberized",
           0.0158275141221854
          ],
          [
           "Corsets, garters, etc, not knitted or crocheted, elastic or not",
           0.0014473822469663
          ],
          [
           "Clothing accessories, knitted or crocheted, nes",
           0.0289145678309752
          ]
         ],
         "hovertemplate": "%{customdata[0]}<br>RCA: %{customdata[1]:.2f}",
         "legendgroup": "109.0",
         "marker": {
          "color": "#8C564B",
          "size": [
           0.0645593804567952,
           0.0583861248557848,
           0.085134097547042,
           0.0691287255711448,
           0.0697834765976089,
           0.10204158349879361,
           0.0569768461931556,
           0.0612576023316454,
           0.0658275141221854,
           0.0514473822469663,
           0.0789145678309752
          ],
          "sizemode": "area",
          "sizeref": 0.0026126049385131827,
          "symbol": "circle"
         },
         "mode": "markers",
         "name": "109.0",
         "orientation": "v",
         "showlegend": true,
         "type": "scatter",
         "x": [
          10.664338,
          10.488576,
          10.95392,
          10.935732,
          10.579813,
          11.08784,
          10.959236,
          11.179829,
          11.347743,
          10.649771,
          11.5086
         ],
         "xaxis": "x",
         "y": [
          8.306652,
          8.481062,
          8.074297,
          8.41996,
          8.026765,
          8.734705,
          7.6531124,
          7.896795,
          8.350128,
          8.848448,
          7.9399533
         ],
         "yaxis": "y"
        }
       ],
       "layout": {
        "annotations": [
         {
          "arrowcolor": "#1f77b4",
          "arrowhead": 3,
          "arrowsize": 1,
          "arrowwidth": 1.5,
          "ax": 15.48288,
          "axref": "x",
          "ay": -2.8478978,
          "ayref": "y",
          "opacity": 1,
          "showarrow": true,
          "x": 14.176732399999999,
          "xref": "x",
          "y": 0.8706049999999999,
          "yref": "y"
         },
         {
          "arrowcolor": "#1f77b4",
          "arrowhead": 3,
          "arrowsize": 1,
          "arrowwidth": 1.5,
          "ax": 11.43904,
          "axref": "x",
          "ay": 2.4074,
          "ayref": "y",
          "opacity": 1,
          "showarrow": true,
          "x": 18.311752,
          "xref": "x",
          "y": 5.2147237,
          "yref": "y"
         },
         {
          "arrowcolor": "#1f77b4",
          "arrowhead": 3,
          "arrowsize": 1,
          "arrowwidth": 1.5,
          "ax": 9.756202,
          "axref": "x",
          "ay": 5.2881665,
          "ayref": "y",
          "opacity": 1,
          "showarrow": true,
          "x": 9.95657183,
          "xref": "x",
          "y": 6.4063053,
          "yref": "y"
         },
         {
          "arrowcolor": "#1f77b4",
          "arrowhead": 3,
          "arrowsize": 1,
          "arrowwidth": 1.5,
          "ax": 10.026635,
          "axref": "x",
          "ay": 0.6370693,
          "ayref": "y",
          "opacity": 1,
          "showarrow": true,
          "x": 8.8545063,
          "xref": "x",
          "y": -3.2506885000000003,
          "yref": "y"
         },
         {
          "arrowcolor": "#1f77b4",
          "arrowhead": 3,
          "arrowsize": 1,
          "arrowwidth": 1.5,
          "ax": 18.621372,
          "axref": "x",
          "ay": 6.3724914,
          "ayref": "y",
          "opacity": 1,
          "showarrow": true,
          "x": 17.8230379,
          "xref": "x",
          "y": 7.07097964,
          "yref": "y"
         },
         {
          "arrowcolor": "#1f77b4",
          "arrowhead": 3,
          "arrowsize": 1,
          "arrowwidth": 1.5,
          "ax": 18.621372,
          "axref": "x",
          "ay": 6.3724914,
          "ayref": "y",
          "opacity": 1,
          "showarrow": true,
          "x": 8.68726,
          "xref": "x",
          "y": 9.7066727,
          "yref": "y"
         },
         {
          "arrowcolor": "#1f77b4",
          "arrowhead": 3,
          "arrowsize": 1,
          "arrowwidth": 1.5,
          "ax": 18.621372,
          "axref": "x",
          "ay": 6.3724914,
          "ayref": "y",
          "opacity": 1,
          "showarrow": true,
          "x": 11.508600000000001,
          "xref": "x",
          "y": 7.9399534,
          "yref": "y"
         },
         {
          "arrowcolor": "#1f77b4",
          "arrowhead": 3,
          "arrowsize": 1,
          "arrowwidth": 1.5,
          "ax": 16.332157,
          "axref": "x",
          "ay": 7.099867,
          "ayref": "y",
          "opacity": 1,
          "showarrow": true,
          "x": 15.982856619999998,
          "xref": "x",
          "y": 7.080556526,
          "yref": "y"
         },
         {
          "arrowcolor": "#1f77b4",
          "arrowhead": 3,
          "arrowsize": 1,
          "arrowwidth": 1.5,
          "ax": 9.735949,
          "axref": "x",
          "ay": 3.188027,
          "ayref": "y",
          "opacity": 1,
          "showarrow": true,
          "x": 7.3825917,
          "xref": "x",
          "y": 9.2000695,
          "yref": "y"
         },
         {
          "arrowcolor": "#1f77b4",
          "arrowhead": 3,
          "arrowsize": 1,
          "arrowwidth": 1.5,
          "ax": 14.176732,
          "axref": "x",
          "ay": 0.870605,
          "ayref": "y",
          "opacity": 1,
          "showarrow": true,
          "x": 15.4828796,
          "xref": "x",
          "y": -2.8478978,
          "yref": "y"
         },
         {
          "arrowcolor": "#1f77b4",
          "arrowhead": 3,
          "arrowsize": 1,
          "arrowwidth": 1.5,
          "ax": 12.768747,
          "axref": "x",
          "ay": 1.2118616,
          "ayref": "y",
          "opacity": 1,
          "showarrow": true,
          "x": 11.4867789,
          "xref": "x",
          "y": 1.8770248999999999,
          "yref": "y"
         },
         {
          "arrowcolor": "#1f77b4",
          "arrowhead": 3,
          "arrowsize": 1,
          "arrowwidth": 1.5,
          "ax": 9.892142,
          "axref": "x",
          "ay": 3.4854975,
          "ayref": "y",
          "opacity": 1,
          "showarrow": true,
          "x": 9.73594827,
          "xref": "x",
          "y": 3.1880269300000004,
          "yref": "y"
         },
         {
          "arrowcolor": "#1f77b4",
          "arrowhead": 3,
          "arrowsize": 1,
          "arrowwidth": 1.5,
          "ax": 9.892142,
          "axref": "x",
          "ay": 3.4854975,
          "ayref": "y",
          "opacity": 1,
          "showarrow": true,
          "x": 13.1983554,
          "xref": "x",
          "y": 2.2808573,
          "yref": "y"
         },
         {
          "arrowcolor": "#1f77b4",
          "arrowhead": 3,
          "arrowsize": 1,
          "arrowwidth": 1.5,
          "ax": 16.907982,
          "axref": "x",
          "ay": 7.6339345,
          "ayref": "y",
          "opacity": 1,
          "showarrow": true,
          "x": 16.896770605,
          "xref": "x",
          "y": 7.939404499999999,
          "yref": "y"
         },
         {
          "arrowcolor": "#1f77b4",
          "arrowhead": 3,
          "arrowsize": 1,
          "arrowwidth": 1.5,
          "ax": 9.171111,
          "axref": "x",
          "ay": 5.4663606,
          "ayref": "y",
          "opacity": 1,
          "showarrow": true,
          "x": 7.3825911,
          "xref": "x",
          "y": 9.2000695,
          "yref": "y"
         },
         {
          "arrowcolor": "#1f77b4",
          "arrowhead": 3,
          "arrowsize": 1,
          "arrowwidth": 1.5,
          "ax": 20.201355,
          "axref": "x",
          "ay": 6.067304,
          "ayref": "y",
          "opacity": 1,
          "showarrow": true,
          "x": 21.00247194,
          "xref": "x",
          "y": 6.14228235,
          "yref": "y"
         },
         {
          "arrowcolor": "#1f77b4",
          "arrowhead": 3,
          "arrowsize": 1,
          "arrowwidth": 1.5,
          "ax": 15.967896,
          "axref": "x",
          "ay": 7.611049,
          "ayref": "y",
          "opacity": 1,
          "showarrow": true,
          "x": 15.77483608,
          "xref": "x",
          "y": 7.31898624,
          "yref": "y"
         },
         {
          "arrowcolor": "#1f77b4",
          "arrowhead": 3,
          "arrowsize": 1,
          "arrowwidth": 1.5,
          "ax": 10.296418,
          "axref": "x",
          "ay": 3.411922,
          "ayref": "y",
          "opacity": 1,
          "showarrow": true,
          "x": 9.9565714,
          "xref": "x",
          "y": 6.4063053,
          "yref": "y"
         },
         {
          "arrowcolor": "#1f77b4",
          "arrowhead": 3,
          "arrowsize": 1,
          "arrowwidth": 1.5,
          "ax": 18.311752,
          "axref": "x",
          "ay": 5.2147236,
          "ayref": "y",
          "opacity": 1,
          "showarrow": true,
          "x": 11.439039999999999,
          "xref": "x",
          "y": 2.4073999,
          "yref": "y"
         },
         {
          "arrowcolor": "#1f77b4",
          "arrowhead": 3,
          "arrowsize": 1,
          "arrowwidth": 1.5,
          "ax": 21.520851,
          "axref": "x",
          "ay": 10.916914,
          "ayref": "y",
          "opacity": 1,
          "showarrow": true,
          "x": 22.21178995,
          "xref": "x",
          "y": 10.59200574,
          "yref": "y"
         },
         {
          "arrowcolor": "#1f77b4",
          "arrowhead": 3,
          "arrowsize": 1,
          "arrowwidth": 1.5,
          "ax": 14.021127,
          "axref": "x",
          "ay": 2.405597,
          "ayref": "y",
          "opacity": 1,
          "showarrow": true,
          "x": 15.9678967,
          "xref": "x",
          "y": 7.611049,
          "yref": "y"
         },
         {
          "arrowcolor": "#1f77b4",
          "arrowhead": 3,
          "arrowsize": 1,
          "arrowwidth": 1.5,
          "ax": 6.371867,
          "axref": "x",
          "ay": 9.483599,
          "ayref": "y",
          "opacity": 1,
          "showarrow": true,
          "x": 3.1801584,
          "xref": "x",
          "y": 6.8834847,
          "yref": "y"
         },
         {
          "arrowcolor": "#1f77b4",
          "arrowhead": 3,
          "arrowsize": 1,
          "arrowwidth": 1.5,
          "ax": 6.226042,
          "axref": "x",
          "ay": 10.361972,
          "ayref": "y",
          "opacity": 1,
          "showarrow": true,
          "x": 3.0335461999999995,
          "xref": "x",
          "y": 11.1465427,
          "yref": "y"
         },
         {
          "arrowcolor": "#1f77b4",
          "arrowhead": 3,
          "arrowsize": 1,
          "arrowwidth": 1.5,
          "ax": 10.59373,
          "axref": "x",
          "ay": -4.6965985,
          "ayref": "y",
          "opacity": 1,
          "showarrow": true,
          "x": 15.136227600000002,
          "xref": "x",
          "y": -4.117750600000001,
          "yref": "y"
         },
         {
          "arrowcolor": "#1f77b4",
          "arrowhead": 3,
          "arrowsize": 1,
          "arrowwidth": 1.5,
          "ax": 10.59373,
          "axref": "x",
          "ay": -4.6965985,
          "ayref": "y",
          "opacity": 1,
          "showarrow": true,
          "x": 18.624241,
          "xref": "x",
          "y": 4.7976265,
          "yref": "y"
         },
         {
          "arrowcolor": "#1f77b4",
          "arrowhead": 3,
          "arrowsize": 1,
          "arrowwidth": 1.5,
          "ax": 8.8545065,
          "axref": "x",
          "ay": -3.2506886,
          "ayref": "y",
          "opacity": 1,
          "showarrow": true,
          "x": 12.7687473,
          "xref": "x",
          "y": 1.2118614,
          "yref": "y"
         },
         {
          "arrowcolor": "#1f77b4",
          "arrowhead": 3,
          "arrowsize": 1,
          "arrowwidth": 1.5,
          "ax": 17.326584,
          "axref": "x",
          "ay": 8.0083065,
          "ayref": "y",
          "opacity": 1,
          "showarrow": true,
          "x": 18.621372400000002,
          "xref": "x",
          "y": 6.3724913999999995,
          "yref": "y"
         },
         {
          "arrowcolor": "#1f77b4",
          "arrowhead": 3,
          "arrowsize": 1,
          "arrowwidth": 1.5,
          "ax": 7.5423107,
          "axref": "x",
          "ay": -3.829903,
          "ayref": "y",
          "opacity": 1,
          "showarrow": true,
          "x": 1.6100154,
          "xref": "x",
          "y": -0.2227543999999999,
          "yref": "y"
         },
         {
          "arrowcolor": "#1f77b4",
          "arrowhead": 3,
          "arrowsize": 1,
          "arrowwidth": 1.5,
          "ax": 8.687261,
          "axref": "x",
          "ay": 9.706673,
          "ayref": "y",
          "opacity": 1,
          "showarrow": true,
          "x": 9.11654223,
          "xref": "x",
          "y": 8.8524793,
          "yref": "y"
         },
         {
          "arrowcolor": "#1f77b4",
          "arrowhead": 3,
          "arrowsize": 1,
          "arrowwidth": 1.5,
          "ax": -1.5399307,
          "axref": "x",
          "ay": 3.9950478,
          "ayref": "y",
          "opacity": 1,
          "showarrow": true,
          "x": -0.5575664,
          "xref": "x",
          "y": 9.7724458,
          "yref": "y"
         },
         {
          "arrowcolor": "#1f77b4",
          "arrowhead": 3,
          "arrowsize": 1,
          "arrowwidth": 1.5,
          "ax": 1.8215909,
          "axref": "x",
          "ay": 5.0472913,
          "ayref": "y",
          "opacity": 1,
          "showarrow": true,
          "x": 0.5543250999999998,
          "xref": "x",
          "y": 3.0350593000000003,
          "yref": "y"
         },
         {
          "arrowcolor": "#1f77b4",
          "arrowhead": 3,
          "arrowsize": 1,
          "arrowwidth": 1.5,
          "ax": 8.734054,
          "axref": "x",
          "ay": 7.6697965,
          "ayref": "y",
          "opacity": 1,
          "showarrow": true,
          "x": 3.3953575000000003,
          "xref": "x",
          "y": 6.468715700000001,
          "yref": "y"
         },
         {
          "arrowcolor": "#1f77b4",
          "arrowhead": 3,
          "arrowsize": 1,
          "arrowwidth": 1.5,
          "ax": 9.116542,
          "axref": "x",
          "ay": 8.852479,
          "ayref": "y",
          "opacity": 1,
          "showarrow": true,
          "x": 8.68726077,
          "xref": "x",
          "y": 9.7066727,
          "yref": "y"
         },
         {
          "arrowcolor": "#1f77b4",
          "arrowhead": 3,
          "arrowsize": 1,
          "arrowwidth": 1.5,
          "ax": 2.3663964,
          "axref": "x",
          "ay": 7.431967,
          "ayref": "y",
          "opacity": 1,
          "showarrow": true,
          "x": 2.25245235,
          "xref": "x",
          "y": 9.9549076,
          "yref": "y"
         },
         {
          "bgcolor": "rgba(255,255,255,0.7)",
          "borderpad": 2,
          "font": {
           "color": "black",
           "size": 12
          },
          "showarrow": false,
          "text": "Animal & Crop Products ",
          "x": 16.172255,
          "y": -4.2062826
         },
         {
          "bgcolor": "rgba(255,255,255,0.7)",
          "borderpad": 2,
          "font": {
           "color": "black",
           "size": 12
          },
          "showarrow": false,
          "text": "Meat & Seafood ",
          "x": 20.799826,
          "y": 5.4490685
         },
         {
          "bgcolor": "rgba(255,255,255,0.7)",
          "borderpad": 2,
          "font": {
           "color": "black",
           "size": 12
          },
          "showarrow": false,
          "text": "Chemicals & Machinery ",
          "x": -0.11031675,
          "y": 10.9433365
         },
         {
          "bgcolor": "rgba(255,255,255,0.7)",
          "borderpad": 2,
          "font": {
           "color": "black",
           "size": 12
          },
          "showarrow": false,
          "text": "Wood Products",
          "x": 16.284698,
          "y": 6.75664
         },
         {
          "bgcolor": "rgba(255,255,255,0.7)",
          "borderpad": 2,
          "font": {
           "color": "black",
           "size": 12
          },
          "showarrow": false,
          "text": "Fabric & Apparel",
          "x": 7.040312,
          "y": 10.426041
         },
         {
          "bgcolor": "rgba(255,255,255,0.7)",
          "borderpad": 2,
          "font": {
           "color": "black",
           "size": 12
          },
          "showarrow": false,
          "text": "Precious & Base Metals",
          "x": 16.51348,
          "y": 7.528252
         },
         {
          "bgcolor": "rgba(255,255,255,0.7)",
          "borderpad": 2,
          "font": {
           "color": "black",
           "size": 12
          },
          "showarrow": false,
          "text": "Food & Material Manufactures",
          "x": 8.0063,
          "y": -6.1079817
         },
         {
          "bgcolor": "rgba(255,255,255,0.7)",
          "borderpad": 2,
          "font": {
           "color": "black",
           "size": 12
          },
          "showarrow": false,
          "text": "Industrial Machinery",
          "x": -0.9620497,
          "y": 1.5254316
         },
         {
          "bgcolor": "rgba(255,255,255,0.7)",
          "borderpad": 2,
          "font": {
           "color": "black",
           "size": 12
          },
          "showarrow": false,
          "text": "Electronics",
          "x": 1.5458474,
          "y": 6.8748384
         },
         {
          "bgcolor": "rgba(255,255,255,0.7)",
          "borderpad": 2,
          "font": {
           "color": "black",
           "size": 12
          },
          "showarrow": false,
          "text": "Garments",
          "x": 9.62319,
          "y": 7.7251177
         },
         {
          "bgcolor": "rgba(255,255,255,0.7)",
          "borderpad": 2,
          "font": {
           "color": "black",
           "size": 12
          },
          "showarrow": false,
          "text": "Grains & Oilseeds ",
          "x": 10.249441,
          "y": 3.936133
         },
         {
          "bgcolor": "rgba(255,255,255,0.7)",
          "borderpad": 2,
          "font": {
           "color": "black",
           "size": 12
          },
          "showarrow": false,
          "text": "Produce ",
          "x": 10.56499,
          "y": 2.3591397
         },
         {
          "bgcolor": "rgba(255,255,255,0.7)",
          "borderpad": 2,
          "font": {
           "color": "black",
           "size": 12
          },
          "showarrow": false,
          "text": "Cash Crops",
          "x": 19.374327,
          "y": 5.124735
         },
         {
          "bgcolor": "rgba(255,255,255,0.7)",
          "borderpad": 2,
          "font": {
           "color": "black",
           "size": 12
          },
          "showarrow": false,
          "text": "Animal Skins",
          "x": 12.823445,
          "y": 1.7320583
         },
         {
          "bgcolor": "rgba(255,255,255,0.7)",
          "borderpad": 2,
          "font": {
           "color": "black",
           "size": 12
          },
          "showarrow": false,
          "text": "Aluminium",
          "x": 21.673931,
          "y": 10.309531
         },
         {
          "bgcolor": "rgba(255,255,255,0.7)",
          "borderpad": 2,
          "font": {
           "color": "black",
           "size": 12
          },
          "showarrow": false,
          "text": "Minerals & Metals",
          "x": 21.324501,
          "y": 10.016542
         },
         {
          "bgcolor": "rgba(255,255,255,0.7)",
          "borderpad": 2,
          "font": {
           "color": "black",
           "size": 12
          },
          "showarrow": false,
          "text": "Oil & Gas",
          "x": 17.118435,
          "y": 12.06913
         },
         {
          "bgcolor": "rgba(255,255,255,0.7)",
          "borderpad": 2,
          "font": {
           "color": "black",
           "size": 12
          },
          "showarrow": false,
          "text": "Tropical Commodities",
          "x": 16.71245,
          "y": 7.2903504
         }
        ],
        "height": 850,
        "legend": {
         "itemsizing": "constant",
         "title": {
          "text": "cluster"
         },
         "tracegroupgap": 0
        },
        "margin": {
         "b": 0,
         "l": 0,
         "r": 0,
         "t": 0
        },
        "showlegend": false,
        "template": {
         "data": {
          "bar": [
           {
            "error_x": {
             "color": "#2a3f5f"
            },
            "error_y": {
             "color": "#2a3f5f"
            },
            "marker": {
             "line": {
              "color": "#E5ECF6",
              "width": 0.5
             },
             "pattern": {
              "fillmode": "overlay",
              "size": 10,
              "solidity": 0.2
             }
            },
            "type": "bar"
           }
          ],
          "barpolar": [
           {
            "marker": {
             "line": {
              "color": "#E5ECF6",
              "width": 0.5
             },
             "pattern": {
              "fillmode": "overlay",
              "size": 10,
              "solidity": 0.2
             }
            },
            "type": "barpolar"
           }
          ],
          "carpet": [
           {
            "aaxis": {
             "endlinecolor": "#2a3f5f",
             "gridcolor": "white",
             "linecolor": "white",
             "minorgridcolor": "white",
             "startlinecolor": "#2a3f5f"
            },
            "baxis": {
             "endlinecolor": "#2a3f5f",
             "gridcolor": "white",
             "linecolor": "white",
             "minorgridcolor": "white",
             "startlinecolor": "#2a3f5f"
            },
            "type": "carpet"
           }
          ],
          "choropleth": [
           {
            "colorbar": {
             "outlinewidth": 0,
             "ticks": ""
            },
            "type": "choropleth"
           }
          ],
          "contour": [
           {
            "colorbar": {
             "outlinewidth": 0,
             "ticks": ""
            },
            "colorscale": [
             [
              0,
              "#0d0887"
             ],
             [
              0.1111111111111111,
              "#46039f"
             ],
             [
              0.2222222222222222,
              "#7201a8"
             ],
             [
              0.3333333333333333,
              "#9c179e"
             ],
             [
              0.4444444444444444,
              "#bd3786"
             ],
             [
              0.5555555555555556,
              "#d8576b"
             ],
             [
              0.6666666666666666,
              "#ed7953"
             ],
             [
              0.7777777777777778,
              "#fb9f3a"
             ],
             [
              0.8888888888888888,
              "#fdca26"
             ],
             [
              1,
              "#f0f921"
             ]
            ],
            "type": "contour"
           }
          ],
          "contourcarpet": [
           {
            "colorbar": {
             "outlinewidth": 0,
             "ticks": ""
            },
            "type": "contourcarpet"
           }
          ],
          "heatmap": [
           {
            "colorbar": {
             "outlinewidth": 0,
             "ticks": ""
            },
            "colorscale": [
             [
              0,
              "#0d0887"
             ],
             [
              0.1111111111111111,
              "#46039f"
             ],
             [
              0.2222222222222222,
              "#7201a8"
             ],
             [
              0.3333333333333333,
              "#9c179e"
             ],
             [
              0.4444444444444444,
              "#bd3786"
             ],
             [
              0.5555555555555556,
              "#d8576b"
             ],
             [
              0.6666666666666666,
              "#ed7953"
             ],
             [
              0.7777777777777778,
              "#fb9f3a"
             ],
             [
              0.8888888888888888,
              "#fdca26"
             ],
             [
              1,
              "#f0f921"
             ]
            ],
            "type": "heatmap"
           }
          ],
          "heatmapgl": [
           {
            "colorbar": {
             "outlinewidth": 0,
             "ticks": ""
            },
            "colorscale": [
             [
              0,
              "#0d0887"
             ],
             [
              0.1111111111111111,
              "#46039f"
             ],
             [
              0.2222222222222222,
              "#7201a8"
             ],
             [
              0.3333333333333333,
              "#9c179e"
             ],
             [
              0.4444444444444444,
              "#bd3786"
             ],
             [
              0.5555555555555556,
              "#d8576b"
             ],
             [
              0.6666666666666666,
              "#ed7953"
             ],
             [
              0.7777777777777778,
              "#fb9f3a"
             ],
             [
              0.8888888888888888,
              "#fdca26"
             ],
             [
              1,
              "#f0f921"
             ]
            ],
            "type": "heatmapgl"
           }
          ],
          "histogram": [
           {
            "marker": {
             "pattern": {
              "fillmode": "overlay",
              "size": 10,
              "solidity": 0.2
             }
            },
            "type": "histogram"
           }
          ],
          "histogram2d": [
           {
            "colorbar": {
             "outlinewidth": 0,
             "ticks": ""
            },
            "colorscale": [
             [
              0,
              "#0d0887"
             ],
             [
              0.1111111111111111,
              "#46039f"
             ],
             [
              0.2222222222222222,
              "#7201a8"
             ],
             [
              0.3333333333333333,
              "#9c179e"
             ],
             [
              0.4444444444444444,
              "#bd3786"
             ],
             [
              0.5555555555555556,
              "#d8576b"
             ],
             [
              0.6666666666666666,
              "#ed7953"
             ],
             [
              0.7777777777777778,
              "#fb9f3a"
             ],
             [
              0.8888888888888888,
              "#fdca26"
             ],
             [
              1,
              "#f0f921"
             ]
            ],
            "type": "histogram2d"
           }
          ],
          "histogram2dcontour": [
           {
            "colorbar": {
             "outlinewidth": 0,
             "ticks": ""
            },
            "colorscale": [
             [
              0,
              "#0d0887"
             ],
             [
              0.1111111111111111,
              "#46039f"
             ],
             [
              0.2222222222222222,
              "#7201a8"
             ],
             [
              0.3333333333333333,
              "#9c179e"
             ],
             [
              0.4444444444444444,
              "#bd3786"
             ],
             [
              0.5555555555555556,
              "#d8576b"
             ],
             [
              0.6666666666666666,
              "#ed7953"
             ],
             [
              0.7777777777777778,
              "#fb9f3a"
             ],
             [
              0.8888888888888888,
              "#fdca26"
             ],
             [
              1,
              "#f0f921"
             ]
            ],
            "type": "histogram2dcontour"
           }
          ],
          "mesh3d": [
           {
            "colorbar": {
             "outlinewidth": 0,
             "ticks": ""
            },
            "type": "mesh3d"
           }
          ],
          "parcoords": [
           {
            "line": {
             "colorbar": {
              "outlinewidth": 0,
              "ticks": ""
             }
            },
            "type": "parcoords"
           }
          ],
          "pie": [
           {
            "automargin": true,
            "type": "pie"
           }
          ],
          "scatter": [
           {
            "fillpattern": {
             "fillmode": "overlay",
             "size": 10,
             "solidity": 0.2
            },
            "type": "scatter"
           }
          ],
          "scatter3d": [
           {
            "line": {
             "colorbar": {
              "outlinewidth": 0,
              "ticks": ""
             }
            },
            "marker": {
             "colorbar": {
              "outlinewidth": 0,
              "ticks": ""
             }
            },
            "type": "scatter3d"
           }
          ],
          "scattercarpet": [
           {
            "marker": {
             "colorbar": {
              "outlinewidth": 0,
              "ticks": ""
             }
            },
            "type": "scattercarpet"
           }
          ],
          "scattergeo": [
           {
            "marker": {
             "colorbar": {
              "outlinewidth": 0,
              "ticks": ""
             }
            },
            "type": "scattergeo"
           }
          ],
          "scattergl": [
           {
            "marker": {
             "colorbar": {
              "outlinewidth": 0,
              "ticks": ""
             }
            },
            "type": "scattergl"
           }
          ],
          "scattermapbox": [
           {
            "marker": {
             "colorbar": {
              "outlinewidth": 0,
              "ticks": ""
             }
            },
            "type": "scattermapbox"
           }
          ],
          "scatterpolar": [
           {
            "marker": {
             "colorbar": {
              "outlinewidth": 0,
              "ticks": ""
             }
            },
            "type": "scatterpolar"
           }
          ],
          "scatterpolargl": [
           {
            "marker": {
             "colorbar": {
              "outlinewidth": 0,
              "ticks": ""
             }
            },
            "type": "scatterpolargl"
           }
          ],
          "scatterternary": [
           {
            "marker": {
             "colorbar": {
              "outlinewidth": 0,
              "ticks": ""
             }
            },
            "type": "scatterternary"
           }
          ],
          "surface": [
           {
            "colorbar": {
             "outlinewidth": 0,
             "ticks": ""
            },
            "colorscale": [
             [
              0,
              "#0d0887"
             ],
             [
              0.1111111111111111,
              "#46039f"
             ],
             [
              0.2222222222222222,
              "#7201a8"
             ],
             [
              0.3333333333333333,
              "#9c179e"
             ],
             [
              0.4444444444444444,
              "#bd3786"
             ],
             [
              0.5555555555555556,
              "#d8576b"
             ],
             [
              0.6666666666666666,
              "#ed7953"
             ],
             [
              0.7777777777777778,
              "#fb9f3a"
             ],
             [
              0.8888888888888888,
              "#fdca26"
             ],
             [
              1,
              "#f0f921"
             ]
            ],
            "type": "surface"
           }
          ],
          "table": [
           {
            "cells": {
             "fill": {
              "color": "#EBF0F8"
             },
             "line": {
              "color": "white"
             }
            },
            "header": {
             "fill": {
              "color": "#C8D4E3"
             },
             "line": {
              "color": "white"
             }
            },
            "type": "table"
           }
          ]
         },
         "layout": {
          "annotationdefaults": {
           "arrowcolor": "#2a3f5f",
           "arrowhead": 0,
           "arrowwidth": 1
          },
          "autotypenumbers": "strict",
          "coloraxis": {
           "colorbar": {
            "outlinewidth": 0,
            "ticks": ""
           }
          },
          "colorscale": {
           "diverging": [
            [
             0,
             "#8e0152"
            ],
            [
             0.1,
             "#c51b7d"
            ],
            [
             0.2,
             "#de77ae"
            ],
            [
             0.3,
             "#f1b6da"
            ],
            [
             0.4,
             "#fde0ef"
            ],
            [
             0.5,
             "#f7f7f7"
            ],
            [
             0.6,
             "#e6f5d0"
            ],
            [
             0.7,
             "#b8e186"
            ],
            [
             0.8,
             "#7fbc41"
            ],
            [
             0.9,
             "#4d9221"
            ],
            [
             1,
             "#276419"
            ]
           ],
           "sequential": [
            [
             0,
             "#0d0887"
            ],
            [
             0.1111111111111111,
             "#46039f"
            ],
            [
             0.2222222222222222,
             "#7201a8"
            ],
            [
             0.3333333333333333,
             "#9c179e"
            ],
            [
             0.4444444444444444,
             "#bd3786"
            ],
            [
             0.5555555555555556,
             "#d8576b"
            ],
            [
             0.6666666666666666,
             "#ed7953"
            ],
            [
             0.7777777777777778,
             "#fb9f3a"
            ],
            [
             0.8888888888888888,
             "#fdca26"
            ],
            [
             1,
             "#f0f921"
            ]
           ],
           "sequentialminus": [
            [
             0,
             "#0d0887"
            ],
            [
             0.1111111111111111,
             "#46039f"
            ],
            [
             0.2222222222222222,
             "#7201a8"
            ],
            [
             0.3333333333333333,
             "#9c179e"
            ],
            [
             0.4444444444444444,
             "#bd3786"
            ],
            [
             0.5555555555555556,
             "#d8576b"
            ],
            [
             0.6666666666666666,
             "#ed7953"
            ],
            [
             0.7777777777777778,
             "#fb9f3a"
            ],
            [
             0.8888888888888888,
             "#fdca26"
            ],
            [
             1,
             "#f0f921"
            ]
           ]
          },
          "colorway": [
           "#636efa",
           "#EF553B",
           "#00cc96",
           "#ab63fa",
           "#FFA15A",
           "#19d3f3",
           "#FF6692",
           "#B6E880",
           "#FF97FF",
           "#FECB52"
          ],
          "font": {
           "color": "#2a3f5f"
          },
          "geo": {
           "bgcolor": "white",
           "lakecolor": "white",
           "landcolor": "#E5ECF6",
           "showlakes": true,
           "showland": true,
           "subunitcolor": "white"
          },
          "hoverlabel": {
           "align": "left"
          },
          "hovermode": "closest",
          "mapbox": {
           "style": "light"
          },
          "paper_bgcolor": "white",
          "plot_bgcolor": "#E5ECF6",
          "polar": {
           "angularaxis": {
            "gridcolor": "white",
            "linecolor": "white",
            "ticks": ""
           },
           "bgcolor": "#E5ECF6",
           "radialaxis": {
            "gridcolor": "white",
            "linecolor": "white",
            "ticks": ""
           }
          },
          "scene": {
           "xaxis": {
            "backgroundcolor": "#E5ECF6",
            "gridcolor": "white",
            "gridwidth": 2,
            "linecolor": "white",
            "showbackground": true,
            "ticks": "",
            "zerolinecolor": "white"
           },
           "yaxis": {
            "backgroundcolor": "#E5ECF6",
            "gridcolor": "white",
            "gridwidth": 2,
            "linecolor": "white",
            "showbackground": true,
            "ticks": "",
            "zerolinecolor": "white"
           },
           "zaxis": {
            "backgroundcolor": "#E5ECF6",
            "gridcolor": "white",
            "gridwidth": 2,
            "linecolor": "white",
            "showbackground": true,
            "ticks": "",
            "zerolinecolor": "white"
           }
          },
          "shapedefaults": {
           "line": {
            "color": "#2a3f5f"
           }
          },
          "ternary": {
           "aaxis": {
            "gridcolor": "white",
            "linecolor": "white",
            "ticks": ""
           },
           "baxis": {
            "gridcolor": "white",
            "linecolor": "white",
            "ticks": ""
           },
           "bgcolor": "#E5ECF6",
           "caxis": {
            "gridcolor": "white",
            "linecolor": "white",
            "ticks": ""
           }
          },
          "title": {
           "x": 0.05
          },
          "xaxis": {
           "automargin": true,
           "gridcolor": "white",
           "linecolor": "white",
           "ticks": "",
           "title": {
            "standoff": 15
           },
           "zerolinecolor": "white",
           "zerolinewidth": 2
          },
          "yaxis": {
           "automargin": true,
           "gridcolor": "white",
           "linecolor": "white",
           "ticks": "",
           "title": {
            "standoff": 15
           },
           "zerolinecolor": "white",
           "zerolinewidth": 2
          }
         }
        },
        "width": 1700,
        "xaxis": {
         "anchor": "y",
         "domain": [
          0,
          1
         ],
         "showgrid": false,
         "showticklabels": false,
         "title": {
          "text": ""
         },
         "zeroline": false
        },
        "yaxis": {
         "anchor": "x",
         "domain": [
          0,
          1
         ],
         "scaleanchor": "x",
         "scaleratio": 0.7,
         "showgrid": false,
         "showticklabels": false,
         "title": {
          "text": ""
         },
         "zeroline": false
        }
       }
      },
      "text/html": [
       "<div>                            <div id=\"4a37f601-41d2-4210-960c-467a4a731964\" class=\"plotly-graph-div\" style=\"height:850px; width:1700px;\"></div>            <script type=\"text/javascript\">                require([\"plotly\"], function(Plotly) {                    window.PLOTLYENV=window.PLOTLYENV || {};                                    if (document.getElementById(\"4a37f601-41d2-4210-960c-467a4a731964\")) {                    Plotly.newPlot(                        \"4a37f601-41d2-4210-960c-467a4a731964\",                        [{\"customdata\":[[\"Animals of the bovine species (including buffaloes), live\",0.0],[\"Sheep and goats, live\",0.0]],\"hovertemplate\":\"%{customdata[0]}\\u003cbr\\u003eRCA: %{customdata[1]:.2f}\",\"legendgroup\":\"0.0\",\"marker\":{\"color\":\"#1F77B4\",\"size\":[0.05,0.05],\"sizemode\":\"area\",\"sizeref\":0.0026126049385131827,\"symbol\":\"circle\"},\"mode\":\"markers\",\"name\":\"0.0\",\"orientation\":\"v\",\"showlegend\":true,\"x\":[15.46609,15.602483],\"xaxis\":\"x\",\"y\":[-4.065872,-4.3093486],\"yaxis\":\"y\",\"type\":\"scatter\"},{\"customdata\":[[\"Swine, live\",0.0],[\"Pig meat fresh, chilled or frozen\",0.0],[\"Poultry, dead and edible offal, fresh, chilled or frozen\",0.0334233330544695],[\"Bacon, ham, other dried, salted or smoked meat of domestic swine\",0.0],[\"Lard, pig and poultry fat, rendered or solvent-extracted\",0.0],[\"Other fixed vegetable oils, soft\",0.0573333263761764]],\"hovertemplate\":\"%{customdata[0]}\\u003cbr\\u003eRCA: %{customdata[1]:.2f}\",\"legendgroup\":\"2.0\",\"marker\":{\"color\":\"#FF7F0E\",\"size\":[0.05,0.05,0.0834233330544695,0.05,0.05,0.1073333263761764],\"sizemode\":\"area\",\"sizeref\":0.0026126049385131827,\"symbol\":\"circle\"},\"mode\":\"markers\",\"name\":\"2.0\",\"orientation\":\"v\",\"showlegend\":true,\"x\":[16.243904,16.692238,15.930528,16.17003,16.469992,16.968674],\"xaxis\":\"x\",\"y\":[-3.147542,-2.7211382,-2.9523735,-2.6645553,-2.9852664,-3.0367324],\"yaxis\":\"y\",\"type\":\"scatter\"},{\"customdata\":[[\"Poultry, live\",0.0],[\"Eggs, birds', and egg yolks, fresh, dried or preserved, in shell\",0.0],[\"Eggs, birds', egg yolks, fresh, dried or preserved, not in shell\",0.0]],\"hovertemplate\":\"%{customdata[0]}\\u003cbr\\u003eRCA: %{customdata[1]:.2f}\",\"legendgroup\":\"5.0\",\"marker\":{\"color\":\"#2CA02C\",\"size\":[0.05,0.05,0.05],\"sizemode\":\"area\",\"sizeref\":0.0026126049385131827,\"symbol\":\"circle\"},\"mode\":\"markers\",\"name\":\"5.0\",\"orientation\":\"v\",\"showlegend\":true,\"x\":[17.00905,17.389055,17.171408],\"xaxis\":\"x\",\"y\":[-3.7236023,-3.6133828,-3.3290043],\"yaxis\":\"y\",\"type\":\"scatter\"},{\"customdata\":[[\"Equine species, live\",0.0],[\"Bovine meat, fresh, chilled or frozen\",0.6653471727119826],[\"Meat of sheep and goats, fresh, chilled or frozen\",0.0],[\"Meat of horses, asses, mules and hinnies, fresh, chilled or frozen\",0.0],[\"Edible offal of headings 0011-5 and 0015, fresh, chilled or frozen\",0.1040130698145958],[\"Meat extracts and juices; fish extracts\",0.0],[\"Horsehair and other coarse animal hair, not carded or combed\",0.782761578698145],[\"Other materials of animal origin, nes\",0.3405826193455251],[\"Animals oils, fats and greases, nes\",0.2936698068385168]],\"hovertemplate\":\"%{customdata[0]}\\u003cbr\\u003eRCA: %{customdata[1]:.2f}\",\"legendgroup\":\"3.0\",\"marker\":{\"color\":\"#D62728\",\"size\":[0.05,0.7153471727119827,0.05,0.05,0.15401306981459578,0.05,0.832761578698145,0.3905826193455251,0.3436698068385168],\"sizemode\":\"area\",\"sizeref\":0.0026126049385131827,\"symbol\":\"circle\"},\"mode\":\"markers\",\"name\":\"3.0\",\"orientation\":\"v\",\"showlegend\":true,\"x\":[16.250229,16.509937,15.242263,16.002155,15.5218,16.129637,15.757237,15.956339,15.582153],\"xaxis\":\"x\",\"y\":[-4.8590617,-4.9790545,-4.5082355,-4.579309,-4.7879496,-5.3357887,-4.602446,-4.991651,-5.16285],\"yaxis\":\"y\",\"type\":\"scatter\"},{\"customdata\":[[\"Live animals of a kind mainly used for human food, nes\",0.003043509300187],[\"Other fresh, chilled or frozen meat or edible meat offal\",0.0],[\"Meat and edible meat offal, nes, in brine, dried, salted or smoked\",0.0],[\"Animals, live, nes, (including zoo animals, pets, insects, etc)\",0.0027456210710048]],\"hovertemplate\":\"%{customdata[0]}\\u003cbr\\u003eRCA: %{customdata[1]:.2f}\",\"legendgroup\":\"1.0\",\"marker\":{\"color\":\"#9467BD\",\"size\":[0.053043509300187,0.05,0.05,0.052745621071004806],\"sizemode\":\"area\",\"sizeref\":0.0026126049385131827,\"symbol\":\"circle\"},\"mode\":\"markers\",\"name\":\"1.0\",\"orientation\":\"v\",\"showlegend\":true,\"x\":[21.58694,21.601698,21.002472,21.14936],\"xaxis\":\"x\",\"y\":[6.0862684,5.717451,6.1422825,5.7884216],\"yaxis\":\"y\",\"type\":\"scatter\"},{\"customdata\":[[\"Sausages and the like, of meat, meat offal or animal blood\",0.0],[\"Other prepared or preserved meat or meat offal\",0.3622104429897832],[\"Milk and cream fresh, not concentrated or sweetened\",0.0],[\"Milk and cream, preserved, concentrated or sweetened\",0.6091055627977432],[\"Butter\",0.0758386827473975],[\"Cheese and curd\",0.0],[\"Malt extract; cereals preparations with less 50% of cocoa\",0.037757676309311],[\"Mate\",0.0],[\"Waste paper and paperboard, etc\",0.0098231804759759],[\"Albuminoid substances; glues\",0.0114048182476694]],\"hovertemplate\":\"%{customdata[0]}\\u003cbr\\u003eRCA: %{customdata[1]:.2f}\",\"legendgroup\":\"4.0\",\"marker\":{\"color\":\"#8C564B\",\"size\":[0.05,0.4122104429897832,0.05,0.6591055627977432,0.1258386827473975,0.05,0.087757676309311,0.05,0.0598231804759759,0.0614048182476694],\"sizemode\":\"area\",\"sizeref\":0.0026126049385131827,\"symbol\":\"circle\"},\"mode\":\"markers\",\"name\":\"4.0\",\"orientation\":\"v\",\"showlegend\":true,\"x\":[16.734482,16.719934,16.961845,17.221334,17.610725,17.47089,17.18882,16.994831,17.020441,17.534777],\"xaxis\":\"x\",\"y\":[-4.493628,-4.7647486,-4.0526233,-4.066629,-3.9296594,-4.3328705,-4.654819,-5.0395527,-4.4382734,-4.795049],\"yaxis\":\"y\",\"type\":\"scatter\"},{\"customdata\":[[\"Fish, fresh or chilled, excluding fillet\",0.0],[\"Fish, frozen, excluding fillets\",0.0],[\"Fish fillets, fresh or chilled\",0.0],[\"Fish fillets, frozen\",0.0],[\"Fish, dried, salted or in brine; smoked fish\",0.0],[\"Crustaceans and molluscs, fresh, chilled, frozen, salted, etc\",0.0],[\"Flours and meals, of meat, fish,etc, unfit for human; greaves\",0.0170807204082832],[\"Fat and oils of fish and marine mammals\",0.0]],\"hovertemplate\":\"%{customdata[0]}\\u003cbr\\u003eRCA: %{customdata[1]:.2f}\",\"legendgroup\":\"6.0\",\"marker\":{\"color\":\"#E377C2\",\"size\":[0.05,0.05,0.05,0.05,0.05,0.05,0.0670807204082832,0.05],\"sizemode\":\"area\",\"sizeref\":0.0026126049385131827,\"symbol\":\"circle\"},\"mode\":\"markers\",\"name\":\"6.0\",\"orientation\":\"v\",\"showlegend\":true,\"x\":[21.619757,22.189482,21.859118,21.998896,22.151804,22.464727,22.067413,22.429077],\"xaxis\":\"x\",\"y\":[4.526796,5.1106043,4.8692985,5.34827,4.5310726,4.885517,5.836946,5.5100293],\"yaxis\":\"y\",\"type\":\"scatter\"},{\"customdata\":[[\"Fish, prepared or preserved, nes\",0.1148418777384821],[\"Crustaceans and molluscs, prepared or prepared, nes\",0.1269497564440384]],\"hovertemplate\":\"%{customdata[0]}\\u003cbr\\u003eRCA: %{customdata[1]:.2f}\",\"legendgroup\":\"7.0\",\"marker\":{\"color\":\"#7F7F7F\",\"size\":[0.1648418777384821,0.17694975644403838],\"sizemode\":\"area\",\"sizeref\":0.0026126049385131827,\"symbol\":\"circle\"},\"mode\":\"markers\",\"name\":\"7.0\",\"orientation\":\"v\",\"showlegend\":true,\"x\":[21.107813,21.247871],\"xaxis\":\"x\",\"y\":[5.1437545,4.7751026],\"yaxis\":\"y\",\"type\":\"scatter\"},{\"customdata\":[[\"Durum wheat, unmilled\",0.0],[\"Other wheat and meslin, unmilled\",0.0],[\"Barley, unmilled\",0.0],[\"Rye, unmilled\",0.0],[\"Oats, unmilled\",0.0],[\"Malt, roasted or not, including flour\",0.0],[\"Sunflower seeds\",0.3726508930598376],[\"Rape and colza seeds\",0.0018463254784223],[\"Linseed\",0.0970882738971202]],\"hovertemplate\":\"%{customdata[0]}\\u003cbr\\u003eRCA: %{customdata[1]:.2f}\",\"legendgroup\":\"8.0\",\"marker\":{\"color\":\"#BCBD22\",\"size\":[0.05,0.05,0.05,0.05,0.05,0.05,0.4226508930598376,0.0518463254784223,0.1470882738971202],\"sizemode\":\"area\",\"sizeref\":0.0026126049385131827,\"symbol\":\"circle\"},\"mode\":\"markers\",\"name\":\"8.0\",\"orientation\":\"v\",\"showlegend\":true,\"x\":[15.441826,15.749946,15.091038,15.400091,15.010245,15.48288,15.683557,15.136228,15.057135],\"xaxis\":\"x\",\"y\":[-3.6593153,-3.1810749,-3.778284,-3.3040082,-3.4474916,-2.8478978,-3.8132994,-4.1177506,-3.0346296],\"yaxis\":\"y\",\"type\":\"scatter\"},{\"customdata\":[[\"Rice in the husk or husked, but not farther prepared\",0.0021674633034785],[\"Rice, semi-milled or wholly milled\",0.0035317206245628]],\"hovertemplate\":\"%{customdata[0]}\\u003cbr\\u003eRCA: %{customdata[1]:.2f}\",\"legendgroup\":\"9.0\",\"marker\":{\"color\":\"#17BECF\",\"size\":[0.0521674633034785,0.0535317206245628],\"sizemode\":\"area\",\"sizeref\":0.0026126049385131827,\"symbol\":\"circle\"},\"mode\":\"markers\",\"name\":\"9.0\",\"orientation\":\"v\",\"showlegend\":true,\"x\":[9.772269,10.022121],\"xaxis\":\"x\",\"y\":[4.6247716,4.2170405],\"yaxis\":\"y\",\"type\":\"scatter\"},{\"customdata\":[[\"Maize, unmilled\",0.2064098974219241],[\"Buckwheat, millet, etc, and other cereals, unmilled, nes\",0.979881880422922],[\"Beans, peas, other leguminous vegetables, dried, shelled\",0.739013741796408],[\"Bran, sharps and other residues derives of cereals\",0.2080883882095366],[\"Furskins, raw\",0.1589197881635539],[\"Sesame seeds\",0.9087766648704856]],\"hovertemplate\":\"%{customdata[0]}\\u003cbr\\u003eRCA: %{customdata[1]:.2f}\",\"legendgroup\":\"10.0\",\"marker\":{\"color\":\"#1F77B4\",\"size\":[0.2564098974219241,1.029881880422922,0.789013741796408,0.2580883882095366,0.2089197881635539,0.9587766648704856],\"sizemode\":\"area\",\"sizeref\":0.0026126049385131827,\"symbol\":\"circle\"},\"mode\":\"markers\",\"name\":\"10.0\",\"orientation\":\"v\",\"showlegend\":true,\"x\":[9.18778,9.289699,8.820024,9.130256,9.016119,8.541832],\"xaxis\":\"x\",\"y\":[4.844612,4.5012636,4.7939625,4.1813083,4.487054,5.092312],\"yaxis\":\"y\",\"type\":\"scatter\"},{\"customdata\":[[\"Meal and flour of wheat and flour of meslin\",0.0],[\"Other cereal meals and flour\",0.2940476984392554],[\"Cereal grains, worked or prepared, not elsewhere specified\",0.5561140914262191],[\"Flour, meals and flakes of potatoes, fruit and vegetables, nes\",0.338325512309193],[\"Fruit, fruit-peel and parts of plants, preserved by sugar\",0.0315013862452096]],\"hovertemplate\":\"%{customdata[0]}\\u003cbr\\u003eRCA: %{customdata[1]:.2f}\",\"legendgroup\":\"11.0\",\"marker\":{\"color\":\"#FF7F0E\",\"size\":[0.05,0.34404769843925537,0.6061140914262192,0.388325512309193,0.08150138624520961],\"sizemode\":\"area\",\"sizeref\":0.0026126049385131827,\"symbol\":\"circle\"},\"mode\":\"markers\",\"name\":\"11.0\",\"orientation\":\"v\",\"showlegend\":true,\"x\":[10.418914,10.130174,9.945857,10.448688,9.756202],\"xaxis\":\"x\",\"y\":[4.453737,5.172994,4.893338,5.0226016,5.2881665],\"yaxis\":\"y\",\"type\":\"scatter\"},{\"customdata\":[[\"Macaroni, spaghetti and similar products\",0.3176213064541271],[\"Animal or vegetable fertilizer, crude\",0.1542762917484966],[\"Medicaments (including veterinary medicaments)\",0.0015190673107919],[\"Pharmaceutical goods, other than medicaments\",0.0072800789187377],[\"Modified natural resins etc; derivatives of natural rubber\",0.0067200708606459],[\"Other artificial plastic materials, nes\",0.0120284794012521],[\"Correspondence stationary\",0.0],[\"Felt, articles of felt, nes, whether or not impregnated or coated\",0.0303130866319518],[\"Aluminium and aluminium alloys, worked\",0.0002240541197925],[\"Hand tools, used in agriculture, horticulture or forestry\",0.0009671936617787],[\"Miscellaneous articles of base metal\",0.0525968379142263],[\"Articles, nes, of copper, nickel, aluminium, lead, zinc and tin\",0.0098725567516256],[\"Printed matter, nes\",0.008324834102054],[\"Plastic packing containers, lids, stoppers and other closures\",0.0131033757286823],[\"Plastic sanitary and toilet articles\",0.0041353455994615],[\"Articles of electric lighting of plastic\",0.0053806028588812],[\"Miscellaneous articles of plastic\",0.0118324985723008],[\"Candles, matches, combustible products, etc\",0.0]],\"hovertemplate\":\"%{customdata[0]}\\u003cbr\\u003eRCA: %{customdata[1]:.2f}\",\"legendgroup\":\"113.0\",\"marker\":{\"color\":\"#2CA02C\",\"size\":[0.3676213064541271,0.2042762917484966,0.0515190673107919,0.0572800789187377,0.0567200708606459,0.0620284794012521,0.05,0.0803130866319518,0.0502240541197925,0.0509671936617787,0.1025968379142263,0.0598725567516256,0.058324834102054,0.0631033757286823,0.0541353455994615,0.0553806028588812,0.061832498572300804,0.05],\"sizemode\":\"area\",\"sizeref\":0.0026126049385131827,\"symbol\":\"circle\"},\"mode\":\"markers\",\"name\":\"113.0\",\"orientation\":\"v\",\"showlegend\":true,\"x\":[6.287427,6.467983,6.7201233,6.595308,6.877979,6.9913244,6.414023,6.049313,5.5204587,6.132565,6.1181655,6.030856,5.7299733,5.621858,5.87737,6.3931284,5.99885,6.6373825],\"xaxis\":\"x\",\"y\":[-7.185559,-6.770544,-7.6942835,-7.3164477,-6.9297976,-7.499356,-6.2760067,-6.075662,-7.248035,-6.51715,-6.8315496,-7.7804246,-6.3937616,-6.774256,-7.058928,-7.6655746,-7.4004283,-7.0197325],\"yaxis\":\"y\",\"type\":\"scatter\"},{\"customdata\":[[\"Bakery products\",0.301393436369723],[\"Sugar confectionery and preparations, non-chocolate\",0.0517438079899019],[\"Margarine, imitation lard and other prepared edible fats, nes\",0.400768397758292],[\"Edible products and preparations, nes\",0.2480749875811491],[\"Non-alcoholic beverages, nes\",0.0018835025391026],[\"Beer made from malt (including ale, stout and porter)\",0.0262575612100968],[\"Distilled alcoholic beverages, nes\",0.0262091541643095],[\"Cigarettes\",0.0037973851782549],[\"Varnishes and lacquers; distempers etc\",0.0028458513363415],[\"Glazes, driers, putty etc\",0.099460122395199],[\"Perfumery, cosmetics, toilet preparations, etc\",0.0911446969431165],[\"Soaps, organic products and preparations for use as soap\",0.0061950925841731],[\"Organic surface-active agents, nes\",0.1314015375245186],[\"Polishes and creams, for furniture, floors, footwear, metals etc\",0.0138737511728557],[\"Packing containers, box files, etc, of paper, used in offices\",0.3029992932570367],[\"Lime, quick, slaked and hydraulic (no calcium oxide or hydroxide)\",0.0],[\"Bottles etc of glass\",0.1035699935778682]],\"hovertemplate\":\"%{customdata[0]}\\u003cbr\\u003eRCA: %{customdata[1]:.2f}\",\"legendgroup\":\"52.0\",\"marker\":{\"color\":\"#D62728\",\"size\":[0.351393436369723,0.1017438079899019,0.45076839775829197,0.2980749875811491,0.0518835025391026,0.0762575612100968,0.0762091541643095,0.0537973851782549,0.0528458513363415,0.149460122395199,0.1411446969431165,0.0561950925841731,0.1814015375245186,0.06387375117285571,0.35299929325703666,0.05,0.1535699935778682],\"sizemode\":\"area\",\"sizeref\":0.0026126049385131827,\"symbol\":\"circle\"},\"mode\":\"markers\",\"name\":\"52.0\",\"orientation\":\"v\",\"showlegend\":true,\"x\":[7.9303536,8.224383,7.289314,7.735782,8.28788,7.8094463,8.225079,7.8131895,7.463135,7.0198493,7.5788217,8.1716,7.391685,7.868081,7.3569713,7.791838,7.087086],\"xaxis\":\"x\",\"y\":[-7.368777,-7.130939,-7.023593,-6.861333,-7.499507,-7.6023884,-7.864967,-6.6420097,-7.6162233,-7.241753,-7.1854167,-6.8796744,-8.040588,-7.090931,-7.3689165,-7.972777,-7.8428],\"yaxis\":\"y\",\"type\":\"scatter\"},{\"customdata\":[[\"Potatoes, fresh or chilled, excluding sweet potatoes\",0.0],[\"Tomatoes, fresh or chilled\",0.0],[\"Vegetables, frozen or in temporary preservative\",0.0010371165539456],[\"Vegetable products roots and tubers, nes, fresh, dried\",0.076915209340714],[\"Vegetables (excluding leguminous), dried, evaporated, etc\",0.0506316613457221],[\"Vegetables, prepared or preserved, nes\",0.0169233647077513],[\"Apples, fresh\",0.0],[\"Figs, fresh or dried\",0.029944421799223],[\"Jams, jellies, marmalades, etc, as cooked preparations\",0.0],[\"Fruit or vegetable juices\",0.3191936603777574],[\"Fruit, temporarily preserved\",0.4657308034053657],[\"Fruit prepared or preserved, nes\",0.580557381168049],[\"Natural honey\",0.0],[\"Wine of fresh grapes etc\",0.0077110323971092],[\"Olive oil\",0.0751015488435518]],\"hovertemplate\":\"%{customdata[0]}\\u003cbr\\u003eRCA: %{customdata[1]:.2f}\",\"legendgroup\":\"12.0\",\"marker\":{\"color\":\"#9467BD\",\"size\":[0.05,0.05,0.051037116553945605,0.12691520934071399,0.1006316613457221,0.0669233647077513,0.05,0.07994442179922301,0.05,0.3691936603777574,0.5157308034053657,0.630557381168049,0.05,0.0577110323971092,0.1251015488435518],\"sizemode\":\"area\",\"sizeref\":0.0026126049385131827,\"symbol\":\"circle\"},\"mode\":\"markers\",\"name\":\"12.0\",\"orientation\":\"v\",\"showlegend\":true,\"x\":[9.580526,9.557691,10.120906,9.182123,9.873582,9.823743,10.456902,10.202125,10.133575,10.026635,9.551301,9.581694,10.581427,9.212738,10.663182],\"xaxis\":\"x\",\"y\":[1.8700017,1.5853688,1.3207853,1.5489962,1.5845538,1.1562577,1.2493896,1.580488,0.9654046,0.6370693,1.2358572,0.76371837,0.9167385,1.0768749,1.4319018],\"yaxis\":\"y\",\"type\":\"scatter\"},{\"customdata\":[[\"Other fresh or chilled vegetables\",0.0007730191593819],[\"Banana, plantain, fresh or dried\",0.8448230379325238],[\"Grapes, fresh or dried\",0.0046068229386549],[\"Nuts edible, fresh or dried\",0.902168788017195],[\"Fruit, fresh or dried, nes\",0.0055858856569628]],\"hovertemplate\":\"%{customdata[0]}\\u003cbr\\u003eRCA: %{customdata[1]:.2f}\",\"legendgroup\":\"14.0\",\"marker\":{\"color\":\"#8C564B\",\"size\":[0.050773019159381906,0.8948230379325238,0.0546068229386549,0.9521687880171951,0.055585885656962805],\"sizemode\":\"area\",\"sizeref\":0.0026126049385131827,\"symbol\":\"circle\"},\"mode\":\"markers\",\"name\":\"14.0\",\"orientation\":\"v\",\"showlegend\":true,\"x\":[11.43904,11.486779,11.139075,11.046115,11.104831],\"xaxis\":\"x\",\"y\":[2.4074,1.8770249,2.067586,2.4144936,1.6754977],\"yaxis\":\"y\",\"type\":\"scatter\"},{\"customdata\":[[\"Oranges, mandarins, etc, fresh or dried\",0.0025473877328525],[\"Other citrus fruits, fresh or dried\",0.1405165779330501]],\"hovertemplate\":\"%{customdata[0]}\\u003cbr\\u003eRCA: %{customdata[1]:.2f}\",\"legendgroup\":\"13.0\",\"marker\":{\"color\":\"#E377C2\",\"size\":[0.0525473877328525,0.1905165779330501],\"sizemode\":\"area\",\"sizeref\":0.0026126049385131827,\"symbol\":\"circle\"},\"mode\":\"markers\",\"name\":\"13.0\",\"orientation\":\"v\",\"showlegend\":true,\"x\":[10.494097,10.238291],\"xaxis\":\"x\",\"y\":[2.789743,2.685675],\"yaxis\":\"y\",\"type\":\"scatter\"},{\"customdata\":[[\"Sugars, beet and cane, raw, solid\",0.4984974923382489],[\"Refined sugar etc\",0.8597722451909153],[\"Molasses\",0.0],[\"Coffee green, roasted; coffee substitutes containing coffee\",0.3466865092784705]],\"hovertemplate\":\"%{customdata[0]}\\u003cbr\\u003eRCA: %{customdata[1]:.2f}\",\"legendgroup\":\"15.0\",\"marker\":{\"color\":\"#7F7F7F\",\"size\":[0.548497492338249,0.9097722451909154,0.05,0.3966865092784705],\"sizemode\":\"area\",\"sizeref\":0.0026126049385131827,\"symbol\":\"circle\"},\"mode\":\"markers\",\"name\":\"15.0\",\"orientation\":\"v\",\"showlegend\":true,\"x\":[19.09604,18.65484,18.621372,19.08319],\"xaxis\":\"x\",\"y\":[6.497919,6.001061,6.3724914,6.1167684],\"yaxis\":\"y\",\"type\":\"scatter\"},{\"customdata\":[[\"Sugars and syrups nes; artificial honey; caramel\",0.0141312024493021],[\"Chocolate and other preparations containing cocoa, nes\",0.1375141917383256],[\"Kraft paper and paperboard, in rolls or sheets\",0.1388346826618585],[\"Paper and paperboard, in rolls or sheets, nes\",0.1295820183995011],[\"Paper and paperboard, creped, crinkled, etc, in rolls or sheets\",0.2302225978736363],[\"Paper and paperboard, coated, impregnated, etc, in rolls or sheets\",0.060535231598063],[\"Registers, exercise books, file and book covers, etc, of paper\",0.0213590110682891],[\"Paper and paperboard cut to size or shape, nes\",0.0625362717701474],[\"Articles of paper pulp, paper, paperboard or cellulose wadding, nes\",0.0360513811485933],[\"Cask, drums, etc, of iron, steel, aluminium, for packing goods\",0.0252317271884143]],\"hovertemplate\":\"%{customdata[0]}\\u003cbr\\u003eRCA: %{customdata[1]:.2f}\",\"legendgroup\":\"64.0\",\"marker\":{\"color\":\"#BCBD22\",\"size\":[0.06413120244930211,0.18751419173832562,0.1888346826618585,0.1795820183995011,0.2802225978736363,0.110535231598063,0.0713590110682891,0.1125362717701474,0.0860513811485933,0.07523172718841431],\"sizemode\":\"area\",\"sizeref\":0.0026126049385131827,\"symbol\":\"circle\"},\"mode\":\"markers\",\"name\":\"64.0\",\"orientation\":\"v\",\"showlegend\":true,\"x\":[7.4198256,7.354351,7.5110407,7.1215515,6.834477,7.0836325,7.217299,6.5629706,7.0583935,6.834511],\"xaxis\":\"x\",\"y\":[-6.356692,-6.575846,-6.123448,-6.157737,-6.092939,-6.5004253,-5.946101,-5.9313097,-6.795618,-6.441028],\"yaxis\":\"y\",\"type\":\"scatter\"},{\"customdata\":[[\"Coffee extracts, essences or concentrates\",0.0162467057618108],[\"Synthetic tanning substances; tanning preparations\",0.0],[\"Insecticides, for sale by retail or as preparations\",0.0285317396717201],[\"Fungicides, for sale by retail or as preparation\",0.0248120452218222],[\"Herbicides, for sale by retail or as preparation\",0.0229461447789884],[\"Disinfectants, etc, for sale by retail or as preparation\",0.0125851125320612]],\"hovertemplate\":\"%{customdata[0]}\\u003cbr\\u003eRCA: %{customdata[1]:.2f}\",\"legendgroup\":\"58.0\",\"marker\":{\"color\":\"#17BECF\",\"size\":[0.0662467057618108,0.05,0.0785317396717201,0.07481204522182221,0.0729461447789884,0.0625851125320612],\"sizemode\":\"area\",\"sizeref\":0.0026126049385131827,\"symbol\":\"circle\"},\"mode\":\"markers\",\"name\":\"58.0\",\"orientation\":\"v\",\"showlegend\":true,\"x\":[-0.10358405,-0.32992363,-0.506629,-0.08307052,-0.03199768,-0.5575664],\"xaxis\":\"x\",\"y\":[10.428234,10.271214,10.104376,9.747876,10.049838,9.772446],\"yaxis\":\"y\",\"type\":\"scatter\"},{\"customdata\":[[\"Cocoa beans, raw, roasted\",0.1775718237885808],[\"Cocoa powder, unsweetened\",0.0761291506314131],[\"Cocoa butter and paste\",0.2128390712896432]],\"hovertemplate\":\"%{customdata[0]}\\u003cbr\\u003eRCA: %{customdata[1]:.2f}\",\"legendgroup\":\"16.0\",\"marker\":{\"color\":\"#1F77B4\",\"size\":[0.22757182378858082,0.1261291506314131,0.2628390712896432],\"sizemode\":\"area\",\"sizeref\":0.0026126049385131827,\"symbol\":\"circle\"},\"mode\":\"markers\",\"name\":\"16.0\",\"orientation\":\"v\",\"showlegend\":true,\"x\":[16.583433,16.249754,16.332157],\"xaxis\":\"x\",\"y\":[6.8718934,7.3884735,7.099867],\"yaxis\":\"y\",\"type\":\"scatter\"},{\"customdata\":[[\"Tea\",0.0025242930127701],[\"Pepper of \\\"piper\\\"; pimento of \\\"capsicum or pimenta\\\"\",0.0203778610672585],[\"Spices, except pepper and pimento\",0.0645448076804261],[\"Natural gums, resins, lacs and balsams\",0.0],[\"Plants and parts of trees used in perfumery; in pharmacy; etc\",0.4907247781361634],[\"Other materials of vegetable origin, nes\",0.0707977864508349],[\"Essential oil, resinoid, etc\",0.2538730841117975]],\"hovertemplate\":\"%{customdata[0]}\\u003cbr\\u003eRCA: %{customdata[1]:.2f}\",\"legendgroup\":\"17.0\",\"marker\":{\"color\":\"#FF7F0E\",\"size\":[0.052524293012770104,0.0703778610672585,0.1145448076804261,0.05,0.5407247781361634,0.1207977864508349,0.3038730841117975],\"sizemode\":\"area\",\"sizeref\":0.0026126049385131827,\"symbol\":\"circle\"},\"mode\":\"markers\",\"name\":\"17.0\",\"orientation\":\"v\",\"showlegend\":true,\"x\":[18.534042,18.981392,19.299587,18.976622,18.62424,18.311752,18.684998],\"xaxis\":\"x\",\"y\":[5.648718,4.993069,4.705814,5.411526,4.7976255,5.2147236,5.284627],\"yaxis\":\"y\",\"type\":\"scatter\"},{\"customdata\":[[\"Hay and fodder, green or dry\",0.2507898584729311],[\"Food waste and prepared animal feed, nes\",0.0698184952096969],[\"Starches, insulin and wheat gluten\",0.0]],\"hovertemplate\":\"%{customdata[0]}\\u003cbr\\u003eRCA: %{customdata[1]:.2f}\",\"legendgroup\":\"18.0\",\"marker\":{\"color\":\"#2CA02C\",\"size\":[0.3007898584729311,0.11981849520969691,0.05],\"sizemode\":\"area\",\"sizeref\":0.0026126049385131827,\"symbol\":\"circle\"},\"mode\":\"markers\",\"name\":\"18.0\",\"orientation\":\"v\",\"showlegend\":true,\"x\":[16.22422,16.009607,16.488276],\"xaxis\":\"x\",\"y\":[-3.7292032,-3.583505,-3.5006883],\"yaxis\":\"y\",\"type\":\"scatter\"},{\"customdata\":[[\"Oilcake and other residues (except dregs)\",0.9712520782185828],[\"Soya beans\",0.2039448129997668],[\"Flour or meals of oil seeds or oleaginous fruit, non-defatted\",0.9734926155821934],[\"Soya bean oil\",0.9773207459937044],[\"Cotton seed oil\",0.3859454996178151],[\"Groundnut (peanut) oil\",0.2886449995415951],[\"Sunflower seed oil\",0.9054011864637316],[\"Fixed vegetable oils, nes\",0.916055942784397],[\"Hydrogenated animal or vegetable oils and fats\",0.7865796539139899],[\"Fatty acids, acid oils, and residues; degras\",0.1740039126053115]],\"hovertemplate\":\"%{customdata[0]}\\u003cbr\\u003eRCA: %{customdata[1]:.2f}\",\"legendgroup\":\"44.0\",\"marker\":{\"color\":\"#D62728\",\"size\":[1.0212520782185828,0.2539448129997668,1.0234926155821933,1.0273207459937044,0.4359454996178151,0.3386449995415951,0.9554011864637316,0.966055942784397,0.8365796539139899,0.2240039126053115],\"sizemode\":\"area\",\"sizeref\":0.0026126049385131827,\"symbol\":\"circle\"},\"mode\":\"markers\",\"name\":\"44.0\",\"orientation\":\"v\",\"showlegend\":true,\"x\":[8.621795,8.408088,8.878218,8.415249,8.167011,8.728721,8.2690115,8.905065,8.451663,8.009759],\"xaxis\":\"x\",\"y\":[4.213466,4.6830225,4.0372963,4.037908,4.3889284,3.4690359,3.3888834,3.739124,3.7393644,3.9470975],\"yaxis\":\"y\",\"type\":\"scatter\"},{\"customdata\":[[\"Other fermented beverages, nes (cider, perry, mead, etc)\",0.0],[\"Tobacco, manufactured; tobacco extract and essences\",0.0],[\"Coal gas, water gas and similar gases\",0.0],[\"Inorganic esters, their salts and derivatives\",0.0],[\"Pyrotechnic articles\",0.0],[\"Rotary converters\",0.0],[\"Engines and motors, nes (wind, hot air engines, water wheel, etc)\",0.0397839120911778],[\"Harvesting and threshing machines; fodder presses, etc; parts nes\",0.0148379842375303],[\"Dairy machinery, nes (including milking machines), and parts nes\",0.0],[\"Agricultural machinery and appliances, nes, and parts thereof, nes\",0.0065543255256684],[\"Machinery for making paper pulp, paper, paperboard; cutting machines\",0.0],[\"Parts, nes of the machines falling within heading 725\",0.0],[\"Machinery, accessories for type-setting, for printing blocks, etc\",0.0060594328824545],[\"Printing presses\",0.014679784013967],[\"Other printing machinery; machines for uses ancilliary to printing\",0.0160753094329546],[\"Parts, nes of machines falling within headings 72631, 7264, 7267\",0.0167897936872853],[\"Machinery for the grain milling industry; working cereals, parts\",0.0175685355592714],[\"Other food-processing machinery and parts thereof, nes\",0.0123943637729964],[\"Furnace burners; mechanical stokers, etc, and parts thereof, nes\",0.0038483680407971],[\"Non-domestic refrigerators and refrigerating equipment, parts, nes\",0.0014852917581186],[\"Centrifuges\",0.0213546140624537],[\"Other non-electrical machines and parts thereof, nes\",0.0113598313752092],[\"Electro-medical equipment\",0.0061861938288026],[\"X-ray apparatus and equipment; accessories; and parts, nes\",0.0165285951430825],[\"Domestic dishwashing machines\",0.0],[\"Medical instruments and appliances, nes\",0.0045833785478504],[\"Cinematographic cameras, projectors, etc, parts, accessories, nes\",0.0],[\"Printed books, pamphlets, maps and globes\",0.0242131883528685],[\"Newspapers, journals and periodicals\",0.0],[\"Armoured fighting vehicles, war firearms, ammunition, parts, nes\",0.0021705411484284]],\"hovertemplate\":\"%{customdata[0]}\\u003cbr\\u003eRCA: %{customdata[1]:.2f}\",\"legendgroup\":\"94.0\",\"marker\":{\"color\":\"#9467BD\",\"size\":[0.05,0.05,0.05,0.05,0.05,0.05,0.08978391209117781,0.0648379842375303,0.05,0.0565543255256684,0.05,0.05,0.056059432882454505,0.064679784013967,0.0660753094329546,0.0667897936872853,0.0675685355592714,0.062394363772996404,0.0538483680407971,0.051485291758118605,0.0713546140624537,0.0613598313752092,0.056186193828802605,0.0665285951430825,0.05,0.054583378547850406,0.05,0.0742131883528685,0.05,0.0521705411484284],\"sizemode\":\"area\",\"sizeref\":0.0026126049385131827,\"symbol\":\"circle\"},\"mode\":\"markers\",\"name\":\"94.0\",\"orientation\":\"v\",\"showlegend\":true,\"x\":[1.6608953,2.0607338,2.4203658,2.3265162,2.1347232,1.768836,1.5016751,1.2691803,1.2299542,1.9382224,2.6798067,2.7814221,1.3539028,1.5666542,1.8248396,1.9619184,2.2524524,1.8212657,1.4039764,1.5299606,1.2361636,1.9412179,2.6698623,3.033546,1.6272674,2.7624974,2.131987,2.343244,2.4423504,2.29535],\"xaxis\":\"x\",\"y\":[10.946563,10.708324,11.948984,11.463797,11.200775,11.382306,10.732057,10.382786,10.721077,10.205675,10.429215,10.817372,11.664218,11.911135,11.633119,12.095464,9.954907,10.591885,10.00312,11.236973,11.054739,11.037657,11.304263,11.146543,10.322347,11.680984,11.691532,10.755229,11.039893,10.370313],\"yaxis\":\"y\",\"type\":\"scatter\"},{\"customdata\":[[\"Tobacco, not stripped\",0.0],[\"Tobacco, wholly or partly stripped\",0.0],[\"Tobacco refuse\",0.0]],\"hovertemplate\":\"%{customdata[0]}\\u003cbr\\u003eRCA: %{customdata[1]:.2f}\",\"legendgroup\":\"19.0\",\"marker\":{\"color\":\"#8C564B\",\"size\":[0.05,0.05,0.05],\"sizemode\":\"area\",\"sizeref\":0.0026126049385131827,\"symbol\":\"circle\"},\"mode\":\"markers\",\"name\":\"19.0\",\"orientation\":\"v\",\"showlegend\":true,\"x\":[10.745276,10.413998,10.996672],\"xaxis\":\"x\",\"y\":[1.7340415,1.7177166,1.301282],\"yaxis\":\"y\",\"type\":\"scatter\"},{\"customdata\":[[\"Cigars, cheroots: cigarillos\",0.0],[\"Seeds, fruits and spores, nes, for planting\",0.5142962544307303],[\"Live plants, bulbs, etc\",0.0],[\"Cut flowers and foliage\",0.001878504187512]],\"hovertemplate\":\"%{customdata[0]}\\u003cbr\\u003eRCA: %{customdata[1]:.2f}\",\"legendgroup\":\"39.0\",\"marker\":{\"color\":\"#E377C2\",\"size\":[0.05,0.5642962544307304,0.05,0.051878504187512005],\"sizemode\":\"area\",\"sizeref\":0.0026126049385131827,\"symbol\":\"circle\"},\"mode\":\"markers\",\"name\":\"39.0\",\"orientation\":\"v\",\"showlegend\":true,\"x\":[9.735949,10.143614,9.694885,10.296418],\"xaxis\":\"x\",\"y\":[3.188027,3.083242,2.9056327,3.411922],\"yaxis\":\"y\",\"type\":\"scatter\"},{\"customdata\":[[\"Bovine and equine hides, raw, whether or not split\",0.8101812445111545],[\"Calf skins, raw, whether or not split\",0.7644133311606607],[\"Calf leather\",0.4324777785346124],[\"Leather of other bovine cattle and equine leather\",0.3204787367162402]],\"hovertemplate\":\"%{customdata[0]}\\u003cbr\\u003eRCA: %{customdata[1]:.2f}\",\"legendgroup\":\"20.0\",\"marker\":{\"color\":\"#7F7F7F\",\"size\":[0.8601812445111545,0.8144133311606607,0.4824777785346124,0.3704787367162402],\"sizemode\":\"area\",\"sizeref\":0.0026126049385131827,\"symbol\":\"circle\"},\"mode\":\"markers\",\"name\":\"20.0\",\"orientation\":\"v\",\"showlegend\":true,\"x\":[13.589968,13.198356,13.631772,14.021127],\"xaxis\":\"x\",\"y\":[1.8795196,2.2808573,2.2349076,2.405597],\"yaxis\":\"y\",\"type\":\"scatter\"},{\"customdata\":[[\"Goat and kid skins, raw, whether or not split\",0.533215737381707],[\"Hides and skins, nes; waste and used leather\",0.546378784688752],[\"Bones, ivory, horns, coral, shells and similar products\",0.0]],\"hovertemplate\":\"%{customdata[0]}\\u003cbr\\u003eRCA: %{customdata[1]:.2f}\",\"legendgroup\":\"21.0\",\"marker\":{\"color\":\"#BCBD22\",\"size\":[0.5832157373817071,0.596378784688752,0.05],\"sizemode\":\"area\",\"sizeref\":0.0026126049385131827,\"symbol\":\"circle\"},\"mode\":\"markers\",\"name\":\"21.0\",\"orientation\":\"v\",\"showlegend\":true,\"x\":[13.181302,12.768747,13.119169],\"xaxis\":\"x\",\"y\":[0.885305,1.2118616,1.372362],\"yaxis\":\"y\",\"type\":\"scatter\"},{\"customdata\":[[\"Sheep and lamb skin with the wool on, raw, whether or not split\",0.0],[\"Wool greasy or fleece-washed of sheep or lambs\",0.0],[\"Wool degreased, uncombed of sheep or lambs\",0.4083324485897695]],\"hovertemplate\":\"%{customdata[0]}\\u003cbr\\u003eRCA: %{customdata[1]:.2f}\",\"legendgroup\":\"32.0\",\"marker\":{\"color\":\"#17BECF\",\"size\":[0.05,0.05,0.4583324485897695],\"sizemode\":\"area\",\"sizeref\":0.0026126049385131827,\"symbol\":\"circle\"},\"mode\":\"markers\",\"name\":\"32.0\",\"orientation\":\"v\",\"showlegend\":true,\"x\":[14.040132,14.428068,14.017153],\"xaxis\":\"x\",\"y\":[1.9790994,1.7496456,1.5880915],\"yaxis\":\"y\",\"type\":\"scatter\"},{\"customdata\":[[\"Sheep and lamb skin without the wool, raw, whether or not split\",0.0345230359702373],[\"Sheep and lamb skin leather\",0.6163843543099337],[\"Leather of other hides or skins\",0.5976833419832603],[\"Leather, specially dressed or finished, nes\",0.2897014261286527]],\"hovertemplate\":\"%{customdata[0]}\\u003cbr\\u003eRCA: %{customdata[1]:.2f}\",\"legendgroup\":\"60.0\",\"marker\":{\"color\":\"#1F77B4\",\"size\":[0.0845230359702373,0.6663843543099337,0.6476833419832604,0.3397014261286527],\"sizemode\":\"area\",\"sizeref\":0.0026126049385131827,\"symbol\":\"circle\"},\"mode\":\"markers\",\"name\":\"60.0\",\"orientation\":\"v\",\"showlegend\":true,\"x\":[14.176732,13.72362,13.938047,14.39962],\"xaxis\":\"x\",\"y\":[0.870605,0.7170113,1.2161672,1.2918605],\"yaxis\":\"y\",\"type\":\"scatter\"},{\"customdata\":[[\"Groundnuts, green\",0.8818105038961581],[\"Cotton seeds\",0.0],[\"Raw cotton, excluding linters, not carded or combed\",0.0],[\"Cotton linters\",0.0],[\"Waxes of animal or vegetable origin\",0.0133865628300767]],\"hovertemplate\":\"%{customdata[0]}\\u003cbr\\u003eRCA: %{customdata[1]:.2f}\",\"legendgroup\":\"28.0\",\"marker\":{\"color\":\"#FF7F0E\",\"size\":[0.9318105038961582,0.05,0.05,0.05,0.06338656283007671],\"sizemode\":\"area\",\"sizeref\":0.0026126049385131827,\"symbol\":\"circle\"},\"mode\":\"markers\",\"name\":\"28.0\",\"orientation\":\"v\",\"showlegend\":true,\"x\":[9.858414,9.892142,9.044022,9.421668,9.416117],\"xaxis\":\"x\",\"y\":[3.766643,3.4854975,3.2603261,3.6415453,3.3402042],\"yaxis\":\"y\",\"type\":\"scatter\"},{\"customdata\":[[\"Copra\",0.0],[\"Coconut (copra) oil\",0.1682556846281943]],\"hovertemplate\":\"%{customdata[0]}\\u003cbr\\u003eRCA: %{customdata[1]:.2f}\",\"legendgroup\":\"22.0\",\"marker\":{\"color\":\"#2CA02C\",\"size\":[0.05,0.21825568462819428],\"sizemode\":\"area\",\"sizeref\":0.0026126049385131827,\"symbol\":\"circle\"},\"mode\":\"markers\",\"name\":\"22.0\",\"orientation\":\"v\",\"showlegend\":true,\"x\":[16.907982,17.310158],\"xaxis\":\"x\",\"y\":[7.6339345,7.665295],\"yaxis\":\"y\",\"type\":\"scatter\"},{\"customdata\":[[\"Palm nuts and kernels\",0.975068350383147],[\"Castor oil seeds\",0.9748069468378048],[\"Oil seeds and oleaginous fruits, nes\",0.9316116894376592]],\"hovertemplate\":\"%{customdata[0]}\\u003cbr\\u003eRCA: %{customdata[1]:.2f}\",\"legendgroup\":\"23.0\",\"marker\":{\"color\":\"#D62728\",\"size\":[1.025068350383147,1.0248069468378047,0.9816116894376592],\"sizemode\":\"area\",\"sizeref\":0.0026126049385131827,\"symbol\":\"circle\"},\"mode\":\"markers\",\"name\":\"23.0\",\"orientation\":\"v\",\"showlegend\":true,\"x\":[9.171111,8.975454,9.439488],\"xaxis\":\"x\",\"y\":[5.4663606,5.1380677,5.1778593],\"yaxis\":\"y\",\"type\":\"scatter\"},{\"customdata\":[[\"Natural rubber latex; natural rubber and gums\",0.0],[\"Palm oil\",0.0174534001795239],[\"Palm kernel oil\",0.1846323441905064]],\"hovertemplate\":\"%{customdata[0]}\\u003cbr\\u003eRCA: %{customdata[1]:.2f}\",\"legendgroup\":\"45.0\",\"marker\":{\"color\":\"#9467BD\",\"size\":[0.05,0.0674534001795239,0.23463234419050638],\"sizemode\":\"area\",\"sizeref\":0.0026126049385131827,\"symbol\":\"circle\"},\"mode\":\"markers\",\"name\":\"45.0\",\"orientation\":\"v\",\"showlegend\":true,\"x\":[16.684437,16.95683,17.316706],\"xaxis\":\"x\",\"y\":[6.54693,6.4468017,6.3242035],\"yaxis\":\"y\",\"type\":\"scatter\"},{\"customdata\":[[\"Synthetic rubber, latex; factice derived from oils\",0.0023483912827704],[\"Manufactures of asbestos; friction materials\",0.8174026386075599],[\"Glass, cast, rolled, etc, surface-ground, but no further worked\",0.0],[\"Safety glass consisting of toughened or laminated glass, cut or not\",0.0015514783146153],[\"Motor vehicles piston engines, headings: 722; 78; 74411 and 95101\",0.000933699409712],[\"Piston engines parts, nes, falling in headings: 7132, 7133 and 7138\",0.015714995345626],[\"Automotive electrical equipment; and parts thereof, nes\",0.0025143427771269],[\"Passenger motor vehicles (excluding buses)\",0.0015008955144798],[\"Motor vehicles for the transport of goods or materials\",0.0183834270897937],[\"Public service type passenger motor vehicles\",0.0],[\"Road tractors for semi-trailers\",0.0075735494157614],[\"Chassis fitted with engines, for vehicles of headings 722, 781-783\",0.0],[\"Bodies, for vehicles of headings 722, 781-783\",0.0],[\"Other parts and accessories, for vehicles of headings 722, 781-783\",0.0022001609706683]],\"hovertemplate\":\"%{customdata[0]}\\u003cbr\\u003eRCA: %{customdata[1]:.2f}\",\"legendgroup\":\"102.0\",\"marker\":{\"color\":\"#8C564B\",\"size\":[0.052348391282770405,0.86740263860756,0.05,0.051551478314615304,0.050933699409712,0.065714995345626,0.0525143427771269,0.051500895514479804,0.0683834270897937,0.05,0.0575735494157614,0.05,0.05,0.052200160970668305],\"sizemode\":\"area\",\"sizeref\":0.0026126049385131827,\"symbol\":\"circle\"},\"mode\":\"markers\",\"name\":\"102.0\",\"orientation\":\"v\",\"showlegend\":true,\"x\":[-3.2180018,-3.4263492,-3.000734,-3.8306928,-3.5147426,-3.752344,-3.2694547,-2.8421557,-3.1549053,-2.8105073,-3.458909,-4.03411,-3.89195,-3.5531042],\"xaxis\":\"x\",\"y\":[2.7321296,1.9307319,2.4986129,2.5660522,2.3884544,1.9585735,2.300058,3.0904195,3.0847208,2.7339296,3.3067167,2.2328317,3.0686457,2.8476255],\"yaxis\":\"y\",\"type\":\"scatter\"},{\"customdata\":[[\"Reclaimed rubber, waste, scrap of unhardened rubber\",0.0],[\"Gypsum, plasters, limestone flux and calcareous stone\",0.0305401047851884],[\"Pebbles, gravel, crushed or broken stone, etc\",0.0007632332401932],[\"Chemical elements\",0.0040188886124123],[\"Wood packing cases, boxes, cases, crates, etc, complete\",0.0005656514234387],[\"Construction materials, of asbestos-cement or fibre-cements, etc\",0.0830908740417324],[\"Manufactures of mineral materials, nes (other than ceramic)\",0.0091307906888937],[\"Bricks, tiles, etc of pressed or moulded glass, used in building\",0.0],[\"Glass, nes\",0.0],[\"Other tubes and pipes, of iron or steel\",0.0016375589847248],[\"Tube and pipes fittings, of iron or steel\",0.0142113554097666],[\"Steel and iron forging and stampings, in the rough state\",0.0170976668108222],[\"Castings of iron or steel, in rough state\",0.0230548901490447],[\"Zinc and zinc alloys worked\",0.0],[\"Structures and parts of, of iron, steel; plates, rods, and the like\",0.034434327970536],[\"Structures and parts of, of aluminium; plates, rods, and the like\",0.0092949306852443],[\"Iron, steel, aluminium reservoirs, tanks, etc, capacity 300 lt plus\",0.0511851322543239],[\"Gauze, cloth, grill, netting, reinforced fabric and the like\",0.0001559710162452],[\"Articles of iron or steel, nes\",0.0126280966974346],[\"Trailers and transports containers\",0.0722230133801902],[\"Other not mechanically propelled vehicles; and parts, nes\",0.0488609525465716]],\"hovertemplate\":\"%{customdata[0]}\\u003cbr\\u003eRCA: %{customdata[1]:.2f}\",\"legendgroup\":\"88.0\",\"marker\":{\"color\":\"#E377C2\",\"size\":[0.05,0.0805401047851884,0.050763233240193203,0.0540188886124123,0.050565651423438704,0.13309087404173242,0.0591307906888937,0.05,0.05,0.0516375589847248,0.06421135540976661,0.0670976668108222,0.0730548901490447,0.05,0.084434327970536,0.0592949306852443,0.1011851322543239,0.0501559710162452,0.0626280966974346,0.1222230133801902,0.0988609525465716],\"sizemode\":\"area\",\"sizeref\":0.0026126049385131827,\"symbol\":\"circle\"},\"mode\":\"markers\",\"name\":\"88.0\",\"orientation\":\"v\",\"showlegend\":true,\"x\":[9.427127,8.506598,8.776901,8.702433,8.906642,8.63445,9.250565,9.837701,9.927928,9.51696,9.1605625,8.968091,9.038361,8.420318,9.811107,9.202285,8.97496,9.388608,8.555948,9.497936,8.869086],\"xaxis\":\"x\",\"y\":[-6.263369,-6.515248,-6.5334234,-6.246568,-6.786488,-6.859753,-6.611096,-6.173167,-6.44956,-6.528045,-6.942941,-6.211482,-6.4649115,-6.794114,-6.817249,-6.137954,-7.4646764,-7.3229494,-7.238814,-6.965256,-7.137417],\"yaxis\":\"y\",\"type\":\"scatter\"},{\"customdata\":[[\"Cork, natural, raw and waste\",0.0],[\"Cork manufactures\",0.0006785525126775]],\"hovertemplate\":\"%{customdata[0]}\\u003cbr\\u003eRCA: %{customdata[1]:.2f}\",\"legendgroup\":\"24.0\",\"marker\":{\"color\":\"#7F7F7F\",\"size\":[0.05,0.0506785525126775],\"sizemode\":\"area\",\"sizeref\":0.0026126049385131827,\"symbol\":\"circle\"},\"mode\":\"markers\",\"name\":\"24.0\",\"orientation\":\"v\",\"showlegend\":true,\"x\":[10.904762,10.560406],\"xaxis\":\"x\",\"y\":[3.270923,3.094443],\"yaxis\":\"y\",\"type\":\"scatter\"},{\"customdata\":[[\"Fuel wood and wood charcoal\",0.3477226805505123],[\"Furskins, tanned or dressed; pieces of furskin, tanned or dressed\",0.0],[\"Improved wood and reconstituted wood\",0.0006877999348115],[\"Builders` carpentry and joinery (including prefabricated)\",0.4692735656007768],[\"Manufactures of wood for domestic or decorative use\",0.1042841204021111],[\"Manufactured articles of wood, nes\",0.5732113344874891],[\"Fibre building board of wood or other vegetable material\",0.4292594178815793],[\"Building and monumental stone, worked, and articles thereof\",0.0523477375132115],[\"Non-refractory ceramic bricks, tiles, pipes and similar products\",0.3177119139726126],[\"Chairs and other seats; and parts thereof, nes\",0.1123443051069484],[\"Furniture for medical, surgical, dental or veterinary practice\",0.0093607750511343],[\"Other furniture and parts thereof, nes\",0.0547456325371799]],\"hovertemplate\":\"%{customdata[0]}\\u003cbr\\u003eRCA: %{customdata[1]:.2f}\",\"legendgroup\":\"107.0\",\"marker\":{\"color\":\"#BCBD22\",\"size\":[0.3977226805505123,0.05,0.050687799934811505,0.5192735656007769,0.1542841204021111,0.6232113344874891,0.4792594178815793,0.1023477375132115,0.3677119139726126,0.16234430510694842,0.0593607750511343,0.1047456325371799],\"sizemode\":\"area\",\"sizeref\":0.0026126049385131827,\"symbol\":\"circle\"},\"mode\":\"markers\",\"name\":\"107.0\",\"orientation\":\"v\",\"showlegend\":true,\"x\":[9.654673,9.603311,10.39246,9.803712,9.942484,10.02624,10.427433,10.212047,10.59373,9.791594,10.170167,10.061564],\"xaxis\":\"x\",\"y\":[-5.282871,-5.0038657,-5.6606073,-4.7876134,-5.2812953,-5.5413666,-5.208765,-4.754513,-4.6965985,-4.4279733,-4.3243275,-5.0454354],\"yaxis\":\"y\",\"type\":\"scatter\"},{\"customdata\":[[\"Pulpwood (including chips and wood waste)\",0.0742597756737687],[\"Sawlogs and veneer logs, of coniferous species\",0.0],[\"Sawlogs and veneer logs, of non-coniferous species\",0.4997732857215171],[\"Pitprops, poles, piling, post and other wood in the rough, nes\",0.1072059366427236],[\"Wood, non-coniferous species, sawn, planed, tongued, grooved, etc\",0.8396196090655293]],\"hovertemplate\":\"%{customdata[0]}\\u003cbr\\u003eRCA: %{customdata[1]:.2f}\",\"legendgroup\":\"25.0\",\"marker\":{\"color\":\"#17BECF\",\"size\":[0.1242597756737687,0.05,0.5497732857215171,0.1572059366427236,0.8896196090655294],\"sizemode\":\"area\",\"sizeref\":0.0026126049385131827,\"symbol\":\"circle\"},\"mode\":\"markers\",\"name\":\"25.0\",\"orientation\":\"v\",\"showlegend\":true,\"x\":[15.982857,15.402331,15.774837,15.500182,15.142365],\"xaxis\":\"x\",\"y\":[7.0805564,7.486062,7.3189864,7.0377955,6.972653],\"yaxis\":\"y\",\"type\":\"scatter\"},{\"customdata\":[[\"Railway or tramway sleepers (ties) of wood\",0.8976548939324079],[\"Wood of coniferous species, sawn, planed, tongued, grooved, etc\",0.0723021368287045],[\"Wood sawn lengthwise, veneer sheets etc, up to 5 mm in thickness\",0.2346051945195512],[\"Plywood consisting solely of sheets of wood\",0.0182091709605646],[\"Wood-based panels, nes\",0.1563701294527807],[\"Wood, simply shaped, nes\",0.493056473762977]],\"hovertemplate\":\"%{customdata[0]}\\u003cbr\\u003eRCA: %{customdata[1]:.2f}\",\"legendgroup\":\"63.0\",\"marker\":{\"color\":\"#1F77B4\",\"size\":[0.947654893932408,0.1223021368287045,0.2846051945195512,0.0682091709605646,0.20637012945278072,0.543056473762977],\"sizemode\":\"area\",\"sizeref\":0.0026126049385131827,\"symbol\":\"circle\"},\"mode\":\"markers\",\"name\":\"63.0\",\"orientation\":\"v\",\"showlegend\":true,\"x\":[15.800476,15.847183,16.386246,16.60529,16.190254,15.837773],\"xaxis\":\"x\",\"y\":[6.3503094,6.068163,6.358337,5.9776444,6.0227914,5.6799235],\"yaxis\":\"y\",\"type\":\"scatter\"},{\"customdata\":[[\"Mechanical wood pulp\",0.0],[\"Chemical wood pulp, dissolving grades\",0.0],[\"Chemical wood pulp, soda or sulphate\",0.0],[\"Chemical wood pulp, sulphite\",0.0],[\"Other cellulosic pulps\",0.0],[\"Newsprint\",0.0106237749425955]],\"hovertemplate\":\"%{customdata[0]}\\u003cbr\\u003eRCA: %{customdata[1]:.2f}\",\"legendgroup\":\"26.0\",\"marker\":{\"color\":\"#FF7F0E\",\"size\":[0.05,0.05,0.05,0.05,0.05,0.06062377494259551],\"sizemode\":\"area\",\"sizeref\":0.0026126049385131827,\"symbol\":\"circle\"},\"mode\":\"markers\",\"name\":\"26.0\",\"orientation\":\"v\",\"showlegend\":true,\"x\":[15.420825,14.950393,14.780401,15.358417,15.39024,15.10418],\"xaxis\":\"x\",\"y\":[6.1468368,6.0722747,6.676872,5.774685,6.5434475,6.4856224],\"yaxis\":\"y\",\"type\":\"scatter\"},{\"customdata\":[[\"Raw silk (not thrown)\",0.0],[\"Silk worm cocoons and silk waste\",0.0],[\"Castor oil\",0.2664994807667276]],\"hovertemplate\":\"%{customdata[0]}\\u003cbr\\u003eRCA: %{customdata[1]:.2f}\",\"legendgroup\":\"27.0\",\"marker\":{\"color\":\"#2CA02C\",\"size\":[0.05,0.05,0.31649948076672757],\"sizemode\":\"area\",\"sizeref\":0.0026126049385131827,\"symbol\":\"circle\"},\"mode\":\"markers\",\"name\":\"27.0\",\"orientation\":\"v\",\"showlegend\":true,\"x\":[19.383617,19.738943,19.55482],\"xaxis\":\"x\",\"y\":[5.9646,6.0036182,6.3824334],\"yaxis\":\"y\",\"type\":\"scatter\"},{\"customdata\":[[\"Cotton waste, not carded or combed\",0.0],[\"Cotton, carded or combed\",0.0],[\"Cotton yarn\",0.0240295199949523],[\"Cotton fabrics, woven, unbleached, not mercerized\",0.0003493252887863],[\"Cotton fabrics, woven, bleached, dyed, etc, or otherwise finished\",0.0367394037938723]],\"hovertemplate\":\"%{customdata[0]}\\u003cbr\\u003eRCA: %{customdata[1]:.2f}\",\"legendgroup\":\"66.0\",\"marker\":{\"color\":\"#D62728\",\"size\":[0.05,0.05,0.0740295199949523,0.0503493252887863,0.0867394037938723],\"sizemode\":\"area\",\"sizeref\":0.0026126049385131827,\"symbol\":\"circle\"},\"mode\":\"markers\",\"name\":\"66.0\",\"orientation\":\"v\",\"showlegend\":true,\"x\":[6.835185,6.7878065,6.560197,6.226042,6.4670534],\"xaxis\":\"x\",\"y\":[10.643333,10.304703,10.807762,10.361972,10.543511],\"yaxis\":\"y\",\"type\":\"scatter\"},{\"customdata\":[[\"Jute, other textile bast fibres, nes, raw, processed but not spun\",0.0],[\"Sisal, agave fibres, raw or processed but not spun, and waste\",0.0],[\"Manila hemp, raw or processed but not spun, its tow and waste\",0.0],[\"Vegetable textile fibres, nes, and waste\",0.0],[\"Precious and semi-precious stones, not mounted, set or strung\",0.2130665299172037]],\"hovertemplate\":\"%{customdata[0]}\\u003cbr\\u003eRCA: %{customdata[1]:.2f}\",\"legendgroup\":\"30.0\",\"marker\":{\"color\":\"#9467BD\",\"size\":[0.05,0.05,0.05,0.05,0.2630665299172037],\"sizemode\":\"area\",\"sizeref\":0.0026126049385131827,\"symbol\":\"circle\"},\"mode\":\"markers\",\"name\":\"30.0\",\"orientation\":\"v\",\"showlegend\":true,\"x\":[19.724897,19.942978,20.201355,20.14859,20.156948],\"xaxis\":\"x\",\"y\":[5.4021063,5.742793,6.067304,5.4366035,5.0279756],\"yaxis\":\"y\",\"type\":\"scatter\"},{\"customdata\":[[\"Flax and ramie, flax tow, ramie noils, and waste\",0.0],[\"True hemp, raw or processed but not spun, its tow and waste\",0.0]],\"hovertemplate\":\"%{customdata[0]}\\u003cbr\\u003eRCA: %{customdata[1]:.2f}\",\"legendgroup\":\"29.0\",\"marker\":{\"color\":\"#8C564B\",\"size\":[0.05,0.05],\"sizemode\":\"area\",\"sizeref\":0.0026126049385131827,\"symbol\":\"circle\"},\"mode\":\"markers\",\"name\":\"29.0\",\"orientation\":\"v\",\"showlegend\":true,\"x\":[16.81988,16.694386],\"xaxis\":\"x\",\"y\":[-3.568505,-3.2742574],\"yaxis\":\"y\",\"type\":\"scatter\"},{\"customdata\":[[\"Discontinuous synthetic fibres, not carded or combed\",0.0],[\"Continuous filament tow for synthetic (discontinuous) fibres\",0.0],[\"Discontinuous synthetic fibres, carded or combed\",0.0]],\"hovertemplate\":\"%{customdata[0]}\\u003cbr\\u003eRCA: %{customdata[1]:.2f}\",\"legendgroup\":\"31.0\",\"marker\":{\"color\":\"#E377C2\",\"size\":[0.05,0.05,0.05],\"sizemode\":\"area\",\"sizeref\":0.0026126049385131827,\"symbol\":\"circle\"},\"mode\":\"markers\",\"name\":\"31.0\",\"orientation\":\"v\",\"showlegend\":true,\"x\":[0.24096656,0.4002998,-0.025435448],\"xaxis\":\"x\",\"y\":[10.663971,10.413601,10.67447],\"yaxis\":\"y\",\"type\":\"scatter\"},{\"customdata\":[[\"Regenerated fibre suitable for spinning\",0.0],[\"Anti-knock preparation, anti-corrosive; viscosity improvers; etc\",0.0014658305594437],[\"Materials of rubber\",0.0053947914171126],[\"Transmission, conveyor or elevator belts, of vulcanized rubber\",0.0109267432312183],[\"Refractory bricks and other refractory construction materials\",0.0139439546615515],[\"Refractory goods, nes\",0.0],[\"Glass in the mass, in balls, rods or tubes (nonoptical); waste\",0.0267330351859176],[\"Rails and railway track construction materials, of iron or steel\",0.0],[\"Nails, screws, nuts, bolts, rivets, etc, of iron, steel or copper\",0.0153798865705235],[\"Interchangeable tools for hand or machine tools (tips, blades, etc)\",0.0451550650830686],[\"Springs and leaves for springs, of iron, steel or copper\",0.0341804918823818],[\"Steam power units (mobile engines but not steam tractors, etc)\",0.0363722976430376],[\"Internal combustion piston engines, nes\",0.0078021435024382],[\"Nuclear reactors, and parts thereof, nes\",0.0],[\"Agricultural and horticultural machinery for soil preparation, etc\",0.0055330056155712],[\"Track-laying tractors\",0.3789113535552948],[\"Wheeled tractors (other than those falling in heading 74411, 7832)\",0.005910059250878],[\"Rolling mills, rolls therefor, and parts, nes of rolling mills\",0.0],[\"Reciprocating pumps (other than those of heading 74281)\",0.036851065007486],[\"Rotary pumps (other than those of heading 74281)\",0.012273222449386],[\"Air pumps, vacuum pumps and air or gas compressors\",0.0304661199901623],[\"Filtering and purifying machinery, apparatus for liquids and gases\",0.0221883283886766],[\"Ball, roller or needle roller bearings\",0.0064659800146016],[\"Cocks, valves and similar appliances, for pipes boiler shells, etc\",0.0250003742593501],[\"Shaft, crank, bearing housing, pulley and pulley blocks, etc\",0.0080201121294681],[\"Other non-electric parts and accessories of machinery, nes\",0.0268210908255275],[\"Counting devices non-electrical; stroboscopes\",0.0044552422136668],[\"Photographic film, plates and paper (other than cinematograph film)\",0.0016462239049487],[\"Non-military arms and ammunition therefor\",0.0]],\"hovertemplate\":\"%{customdata[0]}\\u003cbr\\u003eRCA: %{customdata[1]:.2f}\",\"legendgroup\":\"95.0\",\"marker\":{\"color\":\"#7F7F7F\",\"size\":[0.05,0.051465830559443704,0.0553947914171126,0.0609267432312183,0.0639439546615515,0.05,0.0767330351859176,0.05,0.0653798865705235,0.0951550650830686,0.0841804918823818,0.08637229764303761,0.0578021435024382,0.05,0.0555330056155712,0.4289113535552948,0.055910059250878004,0.05,0.086851065007486,0.062273222449386004,0.0804661199901623,0.0721883283886766,0.056465980014601604,0.0750003742593501,0.0580201121294681,0.0768210908255275,0.0544552422136668,0.051646223904948704,0.05],\"sizemode\":\"area\",\"sizeref\":0.0026126049385131827,\"symbol\":\"circle\"},\"mode\":\"markers\",\"name\":\"95.0\",\"orientation\":\"v\",\"showlegend\":true,\"x\":[-3.5043108,-3.3248959,-3.1028671,-3.309163,-3.024804,-2.645069,-3.06204,-2.1792653,-2.553969,-2.8258312,-2.6243808,-2.29027,-2.798913,-2.1271725,-3.0650258,-2.500907,-2.792749,-2.2979622,-2.5408955,-3.170841,-2.9511964,-2.6797197,-3.4361222,-3.570092,-3.7824175,-3.8218837,-3.580323,-3.9407241,-3.4377968],\"xaxis\":\"x\",\"y\":[1.5877944,0.9615077,-0.13848199,0.55190915,0.6509506,-0.17819154,0.99225914,0.089434676,0.5473769,0.43038186,0.15513495,0.92010343,0.86120117,0.6930308,0.21457893,1.3047334,1.512697,0.4326018,0.83935523,1.4296021,1.2741089,1.140595,1.2336894,-0.143141,1.181217,0.29965252,0.74416214,0.73723614,0.24506424],\"yaxis\":\"y\",\"type\":\"scatter\"},{\"customdata\":[[\"Waste of man-made fibres, not carded or combed\",0.0],[\"Polycarboxylic acids and their derivatives\",0.0],[\"Yarn 85% of synthetic fibres, not for retail; monofil, strip, etc\",0.009030723943691],[\"Yarn containing 85% or more of synthetic fibres, put up for retail\",0.0101117369214125],[\"Yarn containing less than 85% of discontinuous synthetic fibres\",0.0148006117946943],[\"Yarn of regenerated fibres, not for retail, monofil, strip, etc\",0.0],[\"Yarn of regenerated fibres, put up for retail sale\",0.0]],\"hovertemplate\":\"%{customdata[0]}\\u003cbr\\u003eRCA: %{customdata[1]:.2f}\",\"legendgroup\":\"67.0\",\"marker\":{\"color\":\"#BCBD22\",\"size\":[0.05,0.05,0.059030723943691,0.0601117369214125,0.0648006117946943,0.05,0.05],\"sizemode\":\"area\",\"sizeref\":0.0026126049385131827,\"symbol\":\"circle\"},\"mode\":\"markers\",\"name\":\"67.0\",\"orientation\":\"v\",\"showlegend\":true,\"x\":[6.613674,7.111887,6.80803,6.9157305,6.2683573,6.6600513,6.371867],\"xaxis\":\"x\",\"y\":[10.110964,9.458698,9.26123,9.791344,9.945196,9.707181,9.483599],\"yaxis\":\"y\",\"type\":\"scatter\"},{\"customdata\":[[\"Fine animal hair, not carded or combed\",0.7362262279523208],[\"Waste of sheep's or lambs' wool, or of other animal hair, nes\",0.3342429160090647],[\"Sheep's or lambs' wool, or of other animal hair, carded or combed\",0.7753729776791689],[\"Yarn of wool or animal hair (including wool tops)\",0.4003376897078522]],\"hovertemplate\":\"%{customdata[0]}\\u003cbr\\u003eRCA: %{customdata[1]:.2f}\",\"legendgroup\":\"33.0\",\"marker\":{\"color\":\"#17BECF\",\"size\":[0.7862262279523209,0.3842429160090647,0.825372977679169,0.4503376897078522],\"sizemode\":\"area\",\"sizeref\":0.0026126049385131827,\"symbol\":\"circle\"},\"mode\":\"markers\",\"name\":\"33.0\",\"orientation\":\"v\",\"showlegend\":true,\"x\":[8.380833,8.739365,9.0164995,8.76761],\"xaxis\":\"x\",\"y\":[-5.8300557,-5.7839065,-5.423742,-6.009357],\"yaxis\":\"y\",\"type\":\"scatter\"},{\"customdata\":[[\"Old clothing and other old textile articles; rags\",0.0025788646364269],[\"Twine, cordage, ropes and cables and manufactures thereof\",0.0931833463796911],[\"Bags, sacks of textile materials, for the packing of goods\",0.3404757997634156],[\"Tarpaulins, sails, tents, camping goods, etc, of textile fabrics\",0.0010326784177789],[\"Travelling rugs, blankets (non electric), not knitted or crocheted\",0.0958041982589909],[\"Linens and furnishing articles of textile, not knitted or crocheted\",0.0030325521795914],[\"Other made-up articles of textile materials, nes\",0.0565720467252885]],\"hovertemplate\":\"%{customdata[0]}\\u003cbr\\u003eRCA: %{customdata[1]:.2f}\",\"legendgroup\":\"73.0\",\"marker\":{\"color\":\"#1F77B4\",\"size\":[0.0525788646364269,0.1431833463796911,0.39047579976341557,0.0510326784177789,0.1458041982589909,0.0530325521795914,0.1065720467252885],\"sizemode\":\"area\",\"sizeref\":0.0026126049385131827,\"symbol\":\"circle\"},\"mode\":\"markers\",\"name\":\"73.0\",\"orientation\":\"v\",\"showlegend\":true,\"x\":[10.888822,10.748755,11.230735,10.599376,11.279968,10.748723,11.149823],\"xaxis\":\"x\",\"y\":[7.1384506,7.434512,7.4721704,7.0186243,7.139093,6.6689386,6.756373],\"yaxis\":\"y\",\"type\":\"scatter\"},{\"customdata\":[[\"Natural sodium nitrate\",0.0],[\"Common salt; pure sodium chloride; salt liquors; sea water\",0.3778567756646244],[\"Metallic salts and peroxysalts of inorganic acids\",0.0179620426997867],[\"Metallic salts and peroxysalts of inorganic acids\",0.0649733499099408],[\"Salts of metallic acids; compounds of precious metals\",0.0064351464465573],[\"Dyeing, tanning extracts, tannins and their derivatives\",0.0163199905583607]],\"hovertemplate\":\"%{customdata[0]}\\u003cbr\\u003eRCA: %{customdata[1]:.2f}\",\"legendgroup\":\"49.0\",\"marker\":{\"color\":\"#FF7F0E\",\"size\":[0.05,0.4278567756646244,0.0679620426997867,0.1149733499099408,0.056435146446557304,0.0663199905583607],\"sizemode\":\"area\",\"sizeref\":0.0026126049385131827,\"symbol\":\"circle\"},\"mode\":\"markers\",\"name\":\"49.0\",\"orientation\":\"v\",\"showlegend\":true,\"x\":[9.2584915,9.350045,9.587279,9.589477,9.980301,9.592662],\"xaxis\":\"x\",\"y\":[-5.4387574,-5.226461,-5.5507293,-6.0283384,-5.849065,-5.763792],\"yaxis\":\"y\",\"type\":\"scatter\"},{\"customdata\":[[\"Natural calcium phosphates, natural aluminium, etc\",0.0],[\"Potassium salts, natural, crude\",0.0257502297911773],[\"Inorganic acids and oxygen compounds of non-metals\",0.2948554609762631],[\"Mineral or chemical fertilizers, nitrogenous\",0.7958030741993163],[\"Mineral or chemical fertilizers, phosphatic\",0.0],[\"Mineral or chemical fertilizer, potassic\",0.4155740255108869],[\"Fertilizers, nes\",0.0095517492924437]],\"hovertemplate\":\"%{customdata[0]}\\u003cbr\\u003eRCA: %{customdata[1]:.2f}\",\"legendgroup\":\"53.0\",\"marker\":{\"color\":\"#2CA02C\",\"size\":[0.05,0.0757502297911773,0.3448554609762631,0.8458030741993163,0.05,0.4655740255108869,0.0595517492924437],\"sizemode\":\"area\",\"sizeref\":0.0026126049385131827,\"symbol\":\"circle\"},\"mode\":\"markers\",\"name\":\"53.0\",\"orientation\":\"v\",\"showlegend\":true,\"x\":[7.786193,7.306021,7.5156527,7.7712383,7.6541758,7.3995423,7.0668654],\"xaxis\":\"x\",\"y\":[-5.0639625,-4.851095,-5.0258956,-4.5702024,-4.7501593,-4.390712,-4.6655765],\"yaxis\":\"y\",\"type\":\"scatter\"},{\"customdata\":[[\"Building and monumental (dimension) stone, roughly squared, split\",0.1762709790547738],[\"Clay and other refractory minerals, nes\",0.000700685912343],[\"Quartz, mica, felspar, fluorspar, cryolite and chiolite\",0.0138878471143453],[\"Minerals, crude, nes\",0.9545052704738076],[\"Manganese ore and concentrates\",0.1526985407169827]],\"hovertemplate\":\"%{customdata[0]}\\u003cbr\\u003eRCA: %{customdata[1]:.2f}\",\"legendgroup\":\"34.0\",\"marker\":{\"color\":\"#D62728\",\"size\":[0.22627097905477378,0.050700685912343,0.06388784711434531,1.0045052704738076,0.20269854071698268],\"sizemode\":\"area\",\"sizeref\":0.0026126049385131827,\"symbol\":\"circle\"},\"mode\":\"markers\",\"name\":\"34.0\",\"orientation\":\"v\",\"showlegend\":true,\"x\":[9.753843,9.398452,9.111405,9.468671,9.2227125],\"xaxis\":\"x\",\"y\":[2.5212486,2.7437432,2.4407153,2.2930548,1.9807318],\"yaxis\":\"y\",\"type\":\"scatter\"},{\"customdata\":[[\"Sands, excluding metal-bearing sands\",0.0004534736945131],[\"Linseed oil\",0.3471394299409968],[\"Other radio-active and associated materials\",0.0061141465856527],[\"Other colouring matter; inorganic products use as luminophores\",0.0077750601737999],[\"Polyvinyl chloride\",0.0034370220601051],[\"Regenerated cellulose\",0.0067611624129049],[\"Cellulose nitrates\",0.0068512589820597],[\"Cellulose acetates\",0.0063639983036188],[\"Other chemical derivatives of cellulose; vulcanized fibre\",0.0060608458453261],[\"Woods and resin-based chemical products\",0.0064062307936353],[\"Lead and lead alloys, worked\",0.2809371313792013]],\"hovertemplate\":\"%{customdata[0]}\\u003cbr\\u003eRCA: %{customdata[1]:.2f}\",\"legendgroup\":\"57.0\",\"marker\":{\"color\":\"#9467BD\",\"size\":[0.050453473694513105,0.39713942994099677,0.056114146585652704,0.0577750601737999,0.0534370220601051,0.0567611624129049,0.0568512589820597,0.0563639983036188,0.056060845845326106,0.056406230793635305,0.3309371313792013],\"sizemode\":\"area\",\"sizeref\":0.0026126049385131827,\"symbol\":\"circle\"},\"mode\":\"markers\",\"name\":\"57.0\",\"orientation\":\"v\",\"showlegend\":true,\"x\":[0.5369754,0.14502692,0.61406493,0.960876,0.9150188,0.16803002,0.98130155,0.35214925,0.9730382,0.5567956,0.13786793],\"xaxis\":\"x\",\"y\":[11.615527,12.121789,11.92737,11.400785,11.650837,12.4545965,11.909104,11.878772,12.262802,12.297489,11.776197],\"yaxis\":\"y\",\"type\":\"scatter\"},{\"customdata\":[[\"Sulphur (other than sublimed, precipitated or colloidal)\",0.0],[\"Crude petroleum and oils obtained from bituminous materials\",0.0489350285618853],[\"Petroleum gases and other gaseous hydrocarbons, nes, liquefied\",0.38005738878921],[\"Petroleum gases, nes, in gaseous state\",0.9768547819701892]],\"hovertemplate\":\"%{customdata[0]}\\u003cbr\\u003eRCA: %{customdata[1]:.2f}\",\"legendgroup\":\"43.0\",\"marker\":{\"color\":\"#8C564B\",\"size\":[0.05,0.0989350285618853,0.43005738878921,1.0268547819701892],\"sizemode\":\"area\",\"sizeref\":0.0026126049385131827,\"symbol\":\"circle\"},\"mode\":\"markers\",\"name\":\"43.0\",\"orientation\":\"v\",\"showlegend\":true,\"x\":[18.360435,18.316422,18.137579,17.785295],\"xaxis\":\"x\",\"y\":[12.534086,11.816044,12.203941,12.506703],\"yaxis\":\"y\",\"type\":\"scatter\"},{\"customdata\":[[\"Iron pyrites, unroasted\",0.0],[\"Other articles of rubber, nes\",0.0031598509474318],[\"Casks, barrels; other coopers products and parts, including staves\",0.0],[\"Glass mirror, unframed, framed or backed\",0.0003671138892953],[\"Glassware (other than heading 66582), for indoor decoration\",0.0390556001246556],[\"Base metal domestic articles, nes, and parts thereof, nes\",0.0032807146179062],[\"Base metal indoors sanitary ware, and parts thereof, nes\",0.0],[\"Locksmiths wares, safes, etc, and hardware, nes, of base metal\",0.0009284551969154],[\"Pins, needles, etc, of iron, steel; metal fittings for clothing\",0.0],[\"Electric filament lamps and discharge lamps; arc-lamps\",0.0004725750658374],[\"Ceramic plumbing fixtures\",0.0],[\"Lighting fixture and fittings, lamps, lanterns, and parts, nes\",0.00069952655669]],\"hovertemplate\":\"%{customdata[0]}\\u003cbr\\u003eRCA: %{customdata[1]:.2f}\",\"legendgroup\":\"106.0\",\"marker\":{\"color\":\"#E377C2\",\"size\":[0.05,0.0531598509474318,0.05,0.0503671138892953,0.0890556001246556,0.053280714617906205,0.05,0.050928455196915405,0.05,0.050472575065837404,0.05,0.05069952655669],\"sizemode\":\"area\",\"sizeref\":0.0026126049385131827,\"symbol\":\"circle\"},\"mode\":\"markers\",\"name\":\"106.0\",\"orientation\":\"v\",\"showlegend\":true,\"x\":[9.056092,8.519369,8.867097,9.156518,9.28941,8.731176,9.043818,8.373327,8.377728,9.419843,8.715029,8.69123],\"xaxis\":\"x\",\"y\":[-4.981256,-4.8339734,-4.5125465,-4.324608,-4.948628,-4.763003,-4.7039886,-4.405576,-4.6407275,-4.402133,-5.0429845,-4.3678703],\"yaxis\":\"y\",\"type\":\"scatter\"},{\"customdata\":[[\"Industrial diamonds\",0.0],[\"Diamonds (non-industrial), not mounted or set\",0.0003244447179051]],\"hovertemplate\":\"%{customdata[0]}\\u003cbr\\u003eRCA: %{customdata[1]:.2f}\",\"legendgroup\":\"80.0\",\"marker\":{\"color\":\"#7F7F7F\",\"size\":[0.05,0.0503244447179051],\"sizemode\":\"area\",\"sizeref\":0.0026126049385131827,\"symbol\":\"circle\"},\"mode\":\"markers\",\"name\":\"80.0\",\"orientation\":\"v\",\"showlegend\":true,\"x\":[9.68257,10.205426],\"xaxis\":\"x\",\"y\":[7.307482,7.6239023],\"yaxis\":\"y\",\"type\":\"scatter\"},{\"customdata\":[[\"Other natural abrasives\",0.0],[\"Synthetic organic dyestuffs, etc, natural indigo and colour lakes\",0.0],[\"Synthetic organic luminophores, indigo, lakes\",0.0],[\"Machines for extruding man-made textile; other textile machinery\",0.0012872805107781],[\"Weaving, knitting, etc, machines, machines for preparing yarns, etc\",0.0007183386891064],[\"Auxiliary machinery for use with those of headings 72451 to 72453\",0.0005547418532668],[\"Textile machinery, nes for cleaning, cutting, etc, and parts nes\",0.0110099083283295],[\"Other machines-tools for working metal or metal carbides, nes\",0.0189755052988215],[\"Motorcycles, auto-cycles; side-cars of all kind, etc\",0.0027375077787372],[\"Parts, nes of and accessories for musical instruments; metronomes\",0.0]],\"hovertemplate\":\"%{customdata[0]}\\u003cbr\\u003eRCA: %{customdata[1]:.2f}\",\"legendgroup\":\"91.0\",\"marker\":{\"color\":\"#BCBD22\",\"size\":[0.05,0.05,0.05,0.051287280510778105,0.050718338689106406,0.050554741853266805,0.061009908328329504,0.0689755052988215,0.0527375077787372,0.05],\"sizemode\":\"area\",\"sizeref\":0.0026126049385131827,\"symbol\":\"circle\"},\"mode\":\"markers\",\"name\":\"91.0\",\"orientation\":\"v\",\"showlegend\":true,\"x\":[-0.9998617,-1.2098871,-1.4723035,-1.9582978,-1.6943407,-1.6518811,-1.078069,-1.5399307,-2.0484376,-2.204454],\"xaxis\":\"x\",\"y\":[3.3309186,3.516877,3.4220586,3.3832119,3.6668377,3.2291586,3.8369763,3.9950478,3.923734,3.5614],\"yaxis\":\"y\",\"type\":\"scatter\"},{\"customdata\":[[\"Asbestos\",0.0],[\"Nickel ores and concentrates; nickel mattes, etc\",0.0],[\"Nickel and nickel alloys, unwrought\",0.0],[\"Nickel and nickel alloys, worked\",0.0]],\"hovertemplate\":\"%{customdata[0]}\\u003cbr\\u003eRCA: %{customdata[1]:.2f}\",\"legendgroup\":\"85.0\",\"marker\":{\"color\":\"#17BECF\",\"size\":[0.05,0.05,0.05,0.05],\"sizemode\":\"area\",\"sizeref\":0.0026126049385131827,\"symbol\":\"circle\"},\"mode\":\"markers\",\"name\":\"85.0\",\"orientation\":\"v\",\"showlegend\":true,\"x\":[21.10837,20.88472,20.280207,20.622292],\"xaxis\":\"x\",\"y\":[10.697475,11.000656,10.387182,10.628624],\"yaxis\":\"y\",\"type\":\"scatter\"},{\"customdata\":[[\"Slag, scalings, dross and similar waste, nes\",0.0065007810671246],[\"Puddled bars, pilings; ingots, blocks, lumps, etc, of iron or steel\",0.0],[\"Blooms, billets, slabs and sheet bars, of iron or steel\",0.0],[\"Iron or steel coils for re-rolling\",1.2188055606487946e-05],[\"Universal plates of iron or steel\",4.59724250488347e-05],[\"Sheet, plates, rolled of thickness 4,75mm plus, of iron or steel\",4.616811419672073e-05],[\"Sheet, plates, rolled of thickness 3mm to 4,75mm, of iron or steel\",6.078522196295566e-05],[\"Sheet, plates, rolled of thickness less 3mm, of iron or steel\",3.1271555367085035e-05],[\"Tinned sheets, plates of steel (not of high carbon or alloy steel)\",0.0],[\"Other sheet and plates, of iron or steel, worked\",0.000242723650483],[\"Hoop and strip of iron or steel, hot-rolled or cold-rolled\",0.0001798201232896],[\"Copper and copper alloys, worked\",0.0358995279544626],[\"Aluminium and aluminium alloys, unwrought\",0.0]],\"hovertemplate\":\"%{customdata[0]}\\u003cbr\\u003eRCA: %{customdata[1]:.2f}\",\"legendgroup\":\"82.0\",\"marker\":{\"color\":\"#1F77B4\",\"size\":[0.056500781067124604,0.05,0.05,0.05001218805560649,0.05004597242504884,0.050046168114196724,0.05006078522196296,0.05003127155536709,0.05,0.050242723650483004,0.0501798201232896,0.0858995279544626,0.05],\"sizemode\":\"area\",\"sizeref\":0.0026126049385131827,\"symbol\":\"circle\"},\"mode\":\"markers\",\"name\":\"82.0\",\"orientation\":\"v\",\"showlegend\":true,\"x\":[8.930042,7.733134,8.124041,8.801848,8.5063505,7.9819474,9.204645,8.8545065,8.560115,7.92141,8.255895,8.424342,7.5423107],\"xaxis\":\"x\",\"y\":[-4.077581,-4.208018,-4.151419,-3.6583998,-4.161957,-3.4147213,-3.8380423,-3.2506886,-3.8963664,-3.8411055,-3.7911086,-3.424838,-3.829903],\"yaxis\":\"y\",\"type\":\"scatter\"},{\"customdata\":[[\"Roasted iron pyrites\",0.0],[\"Iron ore and concentrates, not agglomerated\",0.0884347219488487],[\"Iron ore agglomerates\",0.0]],\"hovertemplate\":\"%{customdata[0]}\\u003cbr\\u003eRCA: %{customdata[1]:.2f}\",\"legendgroup\":\"35.0\",\"marker\":{\"color\":\"#FF7F0E\",\"size\":[0.05,0.1384347219488487,0.05],\"sizemode\":\"area\",\"sizeref\":0.0026126049385131827,\"symbol\":\"circle\"},\"mode\":\"markers\",\"name\":\"35.0\",\"orientation\":\"v\",\"showlegend\":true,\"x\":[21.305056,21.21909,21.54579],\"xaxis\":\"x\",\"y\":[8.87079,9.268686,9.275889],\"yaxis\":\"y\",\"type\":\"scatter\"},{\"customdata\":[[\"Waste and scrap metal of iron or steel\",0.4581997182488374],[\"Ash and residues, nes\",0.0552456348479001],[\"Other non-ferrous base metal waste and scrap, nes\",0.4277704847578388]],\"hovertemplate\":\"%{customdata[0]}\\u003cbr\\u003eRCA: %{customdata[1]:.2f}\",\"legendgroup\":\"38.0\",\"marker\":{\"color\":\"#2CA02C\",\"size\":[0.5081997182488374,0.1052456348479001,0.4777704847578388],\"sizemode\":\"area\",\"sizeref\":0.0026126049385131827,\"symbol\":\"circle\"},\"mode\":\"markers\",\"name\":\"38.0\",\"orientation\":\"v\",\"showlegend\":true,\"x\":[8.124138,7.9956746,8.358631],\"xaxis\":\"x\",\"y\":[-4.741998,-4.9193163,-5.0454183],\"yaxis\":\"y\",\"type\":\"scatter\"},{\"customdata\":[[\"Ores and concentrates of uranium and thorium\",0.0],[\"Radio-active chemical elements, isotopes etc\",0.0009901971855925],[\"Uranium depleted in U235, thorium, and alloys, nes; waste and scrap\",0.0]],\"hovertemplate\":\"%{customdata[0]}\\u003cbr\\u003eRCA: %{customdata[1]:.2f}\",\"legendgroup\":\"51.0\",\"marker\":{\"color\":\"#D62728\",\"size\":[0.05,0.0509901971855925,0.05],\"sizemode\":\"area\",\"sizeref\":0.0026126049385131827,\"symbol\":\"circle\"},\"mode\":\"markers\",\"name\":\"51.0\",\"orientation\":\"v\",\"showlegend\":true,\"x\":[20.403976,20.738457,20.897614],\"xaxis\":\"x\",\"y\":[9.285078,8.925099,9.246288],\"yaxis\":\"y\",\"type\":\"scatter\"},{\"customdata\":[[\"Copper ore and concentrates; copper matte; cement copper\",0.2711025599686616],[\"Lead ores and concentrates\",0.985583057396357],[\"Zinc ores and concentrates\",0.9942283558905408],[\"Ores and concentrates of other non-ferrous base metals\",0.8540441273117205]],\"hovertemplate\":\"%{customdata[0]}\\u003cbr\\u003eRCA: %{customdata[1]:.2f}\",\"legendgroup\":\"37.0\",\"marker\":{\"color\":\"#9467BD\",\"size\":[0.3211025599686616,1.035583057396357,1.0442283558905407,0.9040441273117206],\"sizemode\":\"area\",\"sizeref\":0.0026126049385131827,\"symbol\":\"circle\"},\"mode\":\"markers\",\"name\":\"37.0\",\"orientation\":\"v\",\"showlegend\":true,\"x\":[15.967896,15.66226,15.981787,16.197409],\"xaxis\":\"x\",\"y\":[7.611049,7.92553,8.156302,7.851952],\"yaxis\":\"y\",\"type\":\"scatter\"},{\"customdata\":[[\"Aluminium ores and concentrates (including alumina)\",0.0]],\"hovertemplate\":\"%{customdata[0]}\\u003cbr\\u003eRCA: %{customdata[1]:.2f}\",\"legendgroup\":\"36.0\",\"marker\":{\"color\":\"#8C564B\",\"size\":[0.05],\"sizemode\":\"area\",\"sizeref\":0.0026126049385131827,\"symbol\":\"circle\"},\"mode\":\"markers\",\"name\":\"36.0\",\"orientation\":\"v\",\"showlegend\":true,\"x\":[22.21179],\"xaxis\":\"x\",\"y\":[10.592006],\"yaxis\":\"y\",\"type\":\"scatter\"},{\"customdata\":[[\"Tin ores and concentrates\",0.9279974789734604],[\"Tin and tin alloys, unwrought\",0.9924434289561852],[\"Tin and tin alloys worked\",0.2776122205484771]],\"hovertemplate\":\"%{customdata[0]}\\u003cbr\\u003eRCA: %{customdata[1]:.2f}\",\"legendgroup\":\"86.0\",\"marker\":{\"color\":\"#E377C2\",\"size\":[0.9779974789734605,1.0424434289561852,0.3276122205484771],\"sizemode\":\"area\",\"sizeref\":0.0026126049385131827,\"symbol\":\"circle\"},\"mode\":\"markers\",\"name\":\"86.0\",\"orientation\":\"v\",\"showlegend\":true,\"x\":[17.823038,17.578356,17.563562],\"xaxis\":\"x\",\"y\":[7.0709796,7.4049172,6.709319],\"yaxis\":\"y\",\"type\":\"scatter\"},{\"customdata\":[[\"Ores and concentrates of precious metals, waste, scrap\",0.977261755409182],[\"Silver, unwrought, unworked, or semi-manufactured\",0.8983904079200593],[\"Lead, and lead alloys, unwrought\",0.1730486762171817],[\"Gold, non-monetary (excluding gold ores and concentrates)\",0.8994694803827012]],\"hovertemplate\":\"%{customdata[0]}\\u003cbr\\u003eRCA: %{customdata[1]:.2f}\",\"legendgroup\":\"84.0\",\"marker\":{\"color\":\"#7F7F7F\",\"size\":[1.027261755409182,0.9483904079200594,0.22304867621718172,0.9494694803827013],\"sizemode\":\"area\",\"sizeref\":0.0026126049385131827,\"symbol\":\"circle\"},\"mode\":\"markers\",\"name\":\"84.0\",\"orientation\":\"v\",\"showlegend\":true,\"x\":[16.988605,17.326584,17.122532,16.89677],\"xaxis\":\"x\",\"y\":[8.678855,8.0083065,8.3188095,7.9394045],\"yaxis\":\"y\",\"type\":\"scatter\"},{\"customdata\":[[\"Vegetable plaiting materials\",0.0],[\"Plaits, plaited products for all uses; straw envelopes for bottles\",0.008479159775596],[\"Basketwork, wickerwork; brooms, paint rollers, etc\",0.0031977477157353],[\"Manufactured goods, nes\",0.0341648608044222]],\"hovertemplate\":\"%{customdata[0]}\\u003cbr\\u003eRCA: %{customdata[1]:.2f}\",\"legendgroup\":\"76.0\",\"marker\":{\"color\":\"#BCBD22\",\"size\":[0.05,0.05847915977559601,0.0531977477157353,0.0841648608044222],\"sizemode\":\"area\",\"sizeref\":0.0026126049385131827,\"symbol\":\"circle\"},\"mode\":\"markers\",\"name\":\"76.0\",\"orientation\":\"v\",\"showlegend\":true,\"x\":[10.31168,10.151203,10.26938,10.431898],\"xaxis\":\"x\",\"y\":[8.06434,8.207542,8.57587,7.708725],\"yaxis\":\"y\",\"type\":\"scatter\"},{\"customdata\":[[\"Anthracite, not agglomerated\",0.0],[\"Other coal, not agglomerated\",0.0],[\"Coke and semi-coke of coal, of lignite or peat; retort carbon\",0.0]],\"hovertemplate\":\"%{customdata[0]}\\u003cbr\\u003eRCA: %{customdata[1]:.2f}\",\"legendgroup\":\"40.0\",\"marker\":{\"color\":\"#17BECF\",\"size\":[0.05,0.05,0.05],\"sizemode\":\"area\",\"sizeref\":0.0026126049385131827,\"symbol\":\"circle\"},\"mode\":\"markers\",\"name\":\"40.0\",\"orientation\":\"v\",\"showlegend\":true,\"x\":[21.86878,21.877773,22.257004],\"xaxis\":\"x\",\"y\":[9.063063,9.527559,9.626348],\"yaxis\":\"y\",\"type\":\"scatter\"},{\"customdata\":[[\"Lignite, not agglomerated\",0.0],[\"Peat, not agglomerated\",0.0],[\"Briquettes, ovoids, from coal, lignite or peat\",0.0]],\"hovertemplate\":\"%{customdata[0]}\\u003cbr\\u003eRCA: %{customdata[1]:.2f}\",\"legendgroup\":\"41.0\",\"marker\":{\"color\":\"#1F77B4\",\"size\":[0.05,0.05,0.05],\"sizemode\":\"area\",\"sizeref\":0.0026126049385131827,\"symbol\":\"circle\"},\"mode\":\"markers\",\"name\":\"41.0\",\"orientation\":\"v\",\"showlegend\":true,\"x\":[20.792,20.985065,21.520851],\"xaxis\":\"x\",\"y\":[10.201806,10.384135,10.916914],\"yaxis\":\"y\",\"type\":\"scatter\"},{\"customdata\":[[\"Gasoline and other light oils\",0.0684498080243918],[\"Kerosene and other medium oils\",0.0927584422785036],[\"Gas oils\",0.0879787462104092],[\"Fuel oils, nes\",0.0908366541749138],[\"Lubricating petroleum oils, and preparations, nes\",0.0984581860493665],[\"Petroleum bitumen, petroleum coke and bituminous mixtures, nes\",0.001227134009174]],\"hovertemplate\":\"%{customdata[0]}\\u003cbr\\u003eRCA: %{customdata[1]:.2f}\",\"legendgroup\":\"42.0\",\"marker\":{\"color\":\"#FF7F0E\",\"size\":[0.1184498080243918,0.1427584422785036,0.1379787462104092,0.1408366541749138,0.1484581860493665,0.051227134009174],\"sizemode\":\"area\",\"sizeref\":0.0026126049385131827,\"symbol\":\"circle\"},\"mode\":\"markers\",\"name\":\"42.0\",\"orientation\":\"v\",\"showlegend\":true,\"x\":[17.738276,17.432087,17.48563,16.944212,18.133778,17.212713],\"xaxis\":\"x\",\"y\":[11.442119,11.125957,11.761263,11.2518425,11.431515,11.560266],\"yaxis\":\"y\",\"type\":\"scatter\"},{\"customdata\":[[\"Petroleum jelly and mineral waxes\",0.1377866431862605],[\"Mineral tars and products\",0.0],[\"Acyclic hydrocarbons\",0.2989449173642534],[\"Cyclic hydrocarbons\",0.0003819835422725],[\"Halogenated derivatives of hydrocarbons\",0.0],[\"Ethers, epoxides, acetals\",0.0043698451853291],[\"Polyethylene\",0.0077151070624906]],\"hovertemplate\":\"%{customdata[0]}\\u003cbr\\u003eRCA: %{customdata[1]:.2f}\",\"legendgroup\":\"46.0\",\"marker\":{\"color\":\"#2CA02C\",\"size\":[0.18778664318626048,0.05,0.34894491736425337,0.0503819835422725,0.05,0.0543698451853291,0.057715107062490605],\"sizemode\":\"area\",\"sizeref\":0.0026126049385131827,\"symbol\":\"circle\"},\"mode\":\"markers\",\"name\":\"46.0\",\"orientation\":\"v\",\"showlegend\":true,\"x\":[0.9334934,0.94930625,0.66161966,0.6890147,0.67278767,0.39735317,0.9747939],\"xaxis\":\"x\",\"y\":[10.697589,11.02251,10.986483,10.180963,10.588355,9.942877,10.305456],\"yaxis\":\"y\",\"type\":\"scatter\"},{\"customdata\":[[\"Mineral tar pitch, pitch coke\",0.0],[\"Steam and other vapour-generated boilers; super-heated water boiler\",0.0385737271587308],[\"Auxiliary plant for boilers of heading 7111; condensers\",0.0],[\"Parts, nes of boilers and auxiliary plant of headings 7111 and 7112\",0.0]],\"hovertemplate\":\"%{customdata[0]}\\u003cbr\\u003eRCA: %{customdata[1]:.2f}\",\"legendgroup\":\"89.0\",\"marker\":{\"color\":\"#D62728\",\"size\":[0.05,0.0885737271587308,0.05,0.05],\"sizemode\":\"area\",\"sizeref\":0.0026126049385131827,\"symbol\":\"circle\"},\"mode\":\"markers\",\"name\":\"89.0\",\"orientation\":\"v\",\"showlegend\":true,\"x\":[-0.49270606,-0.1878972,-0.27493668,-0.5584824],\"xaxis\":\"x\",\"y\":[1.3152026,1.4187038,1.7339119,1.6937894],\"yaxis\":\"y\",\"type\":\"scatter\"},{\"customdata\":[[\"Electric current\",0.0],[\"Printing paper and writing paper, in rolls or sheets\",0.006788770194914],[\"Fabrics of glass fibre (including narrow, pile fabrics, lace, etc)\",0.0],[\"Wadding, wicks and textiles fabrics for use in machinery or plant\",0.0016609067453766],[\"Linoleum and similar floor covering\",0.0032774075933824],[\"Hand polishing stone, grindstones, grinding wheels, etc\",0.0018196557633022],[\"Abrasive power or grain, on a base of woven fabrics\",0.0023627480276749],[\"Wool; expanding or insulating mineral materials, nes\",0.0],[\"Articles of ceramic materials, nes\",0.0093168830649921],[\"Tungsten, molybdenum, tantalum, magnesium, unwrought; waste, scrap\",0.0],[\"Other hand tools\",0.0201569020206285],[\"Chain and parts thereof, of iron or steel\",0.0138707788372657],[\"Parts, nes of steam power units\",0.0302275921616445],[\"Internal combustion piston engines, marine propulsion\",0.0],[\"Parts, nes, of rotating electric plant\",0.0063166548915642],[\"Machinery for preparing, tanning, working leather, etc; parts nes\",0.0],[\"Machinery for making, finishing cellulose pulp, paper or paperboard\",0.0],[\"Bookbinding machinery; parts thereof, nes\",0.0086293974172962],[\"Machine-tools for specialized industries; parts or accessories, nes\",0.0262795688476676],[\"Machinery for specialized industries and parts thereof, nes\",0.0139810936367263],[\"Metal cutting machine-tools\",0.0140789665401162],[\"Metal forming machine-tool\",0.0172583293622481],[\"Work holders, dividing heads for machine-tools, etc; tool holders\",0.0228078734302014],[\"Parts, nes of and accessories for machine-tools of heading 736\",0.0129587930852821],[\"Metallurgy and metal foundry equipment, and parts thereof, nes\",0.0],[\"Welding, brazing, cutting, etc machines and appliances, parts, nes\",0.015995323637962],[\"Gas generators, and parts, nes of gas generators\",0.0326065803119385],[\"Industrial and laboratory furnaces and ovens, etc, parts, nes\",0.0188920119390818],[\"Machinery, plant, laboratory equipment for heating and cooling, nes\",0.0229779393903784],[\"Parts, nes of pumps and liquids elevators falling in heading 742\",0.0128267585271911],[\"Parts, nes of the pumps and compressor falling within heading 7431\",0.0093132759664467],[\"Free-piston generators for gas turbines and parts thereof, nes\",0.019187092183205],[\"Parts, nes of the machines falling within headings 7435 and 7436\",0.0516378498213132],[\"Typewriters; cheque-writing machines\",0.0048685354583465],[\"Other electric power machinery, parts, nes\",0.0035033122718226],[\"Electrical insulating equipment\",0.0005868089201016],[\"Electro-mechanical hand tools, and parts thereof, nes\",0.0117199543329941],[\"Central heating equipment, not electrically heated, parts, nes\",0.0],[\"Optical instruments and apparatus\",0.0078420134934419],[\"Photographic and cinematographic apparatus and equipment, nes\",0.017761399135123],[\"Coin (other than gold coin), not being legal tender\",0.0]],\"hovertemplate\":\"%{customdata[0]}\\u003cbr\\u003eRCA: %{customdata[1]:.2f}\",\"legendgroup\":\"92.0\",\"marker\":{\"color\":\"#9467BD\",\"size\":[0.05,0.056788770194914004,0.05,0.0516609067453766,0.053277407593382405,0.051819655763302205,0.052362748027674905,0.05,0.0593168830649921,0.05,0.0701569020206285,0.0638707788372657,0.0802275921616445,0.05,0.056316654891564205,0.05,0.05,0.058629397417296204,0.0762795688476676,0.0639810936367263,0.0640789665401162,0.0672583293622481,0.0728078734302014,0.0629587930852821,0.05,0.06599532363796201,0.0826065803119385,0.0688920119390818,0.0729779393903784,0.0628267585271911,0.0593132759664467,0.069187092183205,0.1016378498213132,0.0548685354583465,0.0535033122718226,0.0505868089201016,0.061719954332994105,0.05,0.0578420134934419,0.067761399135123,0.05],\"sizemode\":\"area\",\"sizeref\":0.0026126049385131827,\"symbol\":\"circle\"},\"mode\":\"markers\",\"name\":\"92.0\",\"orientation\":\"v\",\"showlegend\":true,\"x\":[1.6174788,0.5057771,1.2278137,0.39115286,-0.22645736,0.11507058,-0.24620914,1.2612801,0.8178096,0.8466432,-0.3487563,0.008859873,0.63373375,0.438411,0.04993844,-0.50690794,0.23994327,1.2132616,0.19193745,0.74683475,-0.15464234,-0.15701675,0.8232331,0.9708326,0.14111543,0.9353533,0.8468716,0.574667,0.4998536,0.3819909,0.3839507,-0.22673249,0.068746805,1.2109184,0.016861916,-0.6015897,1.1439319,1.6100154,1.130815,0.6325569,1.5018406],\"xaxis\":\"x\",\"y\":[0.23213516,0.51853365,0.029794853,-0.005431098,0.16376157,0.18620326,0.51829135,-0.39746916,0.019383268,0.7532631,-0.04038756,0.438405,-0.2590902,0.24147916,-0.09553736,0.42140225,0.58259207,1.1103653,1.1651051,0.255396,1.1439779,0.84238714,-0.55163753,-0.21560784,0.8254581,0.4366144,1.207681,0.80810773,1.0720398,-0.3071564,-0.64544433,-0.4311629,-0.43340558,0.33713794,-0.85595584,-0.37152296,0.7666328,-0.22275433,-0.8046555,-0.90469134,0.67065275],\"yaxis\":\"y\",\"type\":\"scatter\"},{\"customdata\":[[\"Processed animal and vegetable oils\",0.0893238800088595],[\"Printing inks\",0.0012935660108533],[\"Glycosides, glands, antisera, vaccines and similar products\",0.004809235612129],[\"Phenoplasts\",0.0058852398250975],[\"Aminoplasts\",0.0043323700351839],[\"Alkyds and other polyesters\",0.079517718544313],[\"Polyamides\",0.0037795852454923],[\"Polyurethanes\",0.0035197586627317],[\"Epoxide resins\",0.004736028299981],[\"Other condensation, polycodensation or polyaddition products\",0.0031684219640636],[\"Polypropylene\",0.0043121657854767],[\"Polystyrene and its copolymers\",0.0032312424332427],[\"Copolymers of vinyl chloride and vinyl acetate\",0.0068066020544525],[\"Acrylic and methaacrylic polymers; acrylo-methacrylic copolymers\",0.0084916799136064],[\"Polyvinyl acetate\",0.0059927910082742],[\"Other polymerization and copolymarization products\",0.0065891453141708],[\"Chemical products and preparations, nes\",0.0044164784200261],[\"Chemical products and flashlight materials for use in photografy\",0.0078449798104212],[\"Other office and stationary supplies\",0.0062187078811404]],\"hovertemplate\":\"%{customdata[0]}\\u003cbr\\u003eRCA: %{customdata[1]:.2f}\",\"legendgroup\":\"55.0\",\"marker\":{\"color\":\"#8C564B\",\"size\":[0.1393238800088595,0.0512935660108533,0.054809235612129005,0.0558852398250975,0.0543323700351839,0.129517718544313,0.053779585245492305,0.0535197586627317,0.054736028299981004,0.0531684219640636,0.0543121657854767,0.053231242433242704,0.0568066020544525,0.058491679913606404,0.0559927910082742,0.0565891453141708,0.0544164784200261,0.05784497981042121,0.0562187078811404],\"sizemode\":\"area\",\"sizeref\":0.0026126049385131827,\"symbol\":\"circle\"},\"mode\":\"markers\",\"name\":\"55.0\",\"orientation\":\"v\",\"showlegend\":true,\"x\":[-0.709471,-1.0199169,-1.1666318,-0.21179676,-0.46150947,-0.79263043,-0.52270555,-0.15788126,-0.84424376,-1.1706004,-0.2950716,-0.61502457,-0.51604867,-0.75622344,-1.3256822,-0.26504517,-0.9303012,-1.5487818,-1.2958757],\"xaxis\":\"x\",\"y\":[12.254378,11.296101,11.771803,11.7809305,11.8234005,11.639164,11.525952,12.069031,11.387052,12.242963,12.285562,12.012026,11.250652,12.576935,11.481318,12.616008,11.8964205,11.805936,11.182359],\"yaxis\":\"y\",\"type\":\"scatter\"},{\"customdata\":[[\"Hydrocarbons derivatives, nonhaloganeted\",0.0],[\"Cyclic alcohols, and their derivatives\",0.0],[\"Phenols and phenol-alcohols, and their derivatives\",0.0],[\"Monocarboxylic acids and their derivatives\",0.0015749507820603],[\"Aldehyde, ketone and quinone-function compounds\",0.0069262623835478],[\"Halogen and sulphur compounds of non-metals\",0.0],[\"Metallic oxides of zinc, iron, lead, chromium etc\",0.0],[\"Metals of platinum group, unwrought, unworked, or semi-manufactured\",0.0001947307105124]],\"hovertemplate\":\"%{customdata[0]}\\u003cbr\\u003eRCA: %{customdata[1]:.2f}\",\"legendgroup\":\"48.0\",\"marker\":{\"color\":\"#E377C2\",\"size\":[0.05,0.05,0.05,0.0515749507820603,0.0569262623835478,0.05,0.05,0.050194730710512406],\"sizemode\":\"area\",\"sizeref\":0.0026126049385131827,\"symbol\":\"circle\"},\"mode\":\"markers\",\"name\":\"48.0\",\"orientation\":\"v\",\"showlegend\":true,\"x\":[-2.0890737,-2.5916464,-2.3669033,-2.157567,-2.3779528,-1.826772,-2.5561383,-2.0034103],\"xaxis\":\"x\",\"y\":[2.6430297,3.3802807,3.1535077,2.9141016,2.6702156,2.7726915,2.8523374,3.1042666],\"yaxis\":\"y\",\"type\":\"scatter\"},{\"customdata\":[[\"Acyclic alcohols, and their derivatives\",0.7386044024979048],[\"Organic chemicals, nes\",0.0024915321860338],[\"Inorganic bases and metallic oxides, hydroxides and peroxides\",0.569904070727254],[\"Organic chemical products, nes\",0.0302584971444433],[\"Iron and steel powders, shot or sponge\",0.0]],\"hovertemplate\":\"%{customdata[0]}\\u003cbr\\u003eRCA: %{customdata[1]:.2f}\",\"legendgroup\":\"59.0\",\"marker\":{\"color\":\"#7F7F7F\",\"size\":[0.7886044024979049,0.0524915321860338,0.6199040707272541,0.0802584971444433,0.05],\"sizemode\":\"area\",\"sizeref\":0.0026126049385131827,\"symbol\":\"circle\"},\"mode\":\"markers\",\"name\":\"59.0\",\"orientation\":\"v\",\"showlegend\":true,\"x\":[-0.80067706,-0.6748574,-0.33899617,-0.65856004,-0.4398229],\"xaxis\":\"x\",\"y\":[10.8834095,11.067767,10.774127,10.625878,10.553734],\"yaxis\":\"y\",\"type\":\"scatter\"},{\"customdata\":[[\"Oxygen-function acids, and their derivatives\",0.0050811895373084],[\"Amine-function compounds\",0.0022357757013386],[\"Oxygen-function amino-compounds\",0.0],[\"Amide-function compounds; excluding urea\",0.0],[\"Other nitrogen-function compounds\",0.0399624824390918],[\"Organo-sulphur compounds\",0.0],[\"Other organo-inorganic compounds\",0.0164814070341339],[\"Heterocyclic compound; nucleic acids\",0.0016422182257798],[\"Sulphonamides, sultones and sultams\",0.00492048055032],[\"Provitamins and vitamins\",0.0],[\"Antibiotics, not put up as medicaments\",0.0],[\"Vegetable alkaloids and derivatives, not put up as medicaments\",0.0],[\"Hormones, natural, or reproduce by synthesis, in bulk\",0.0],[\"Mixtures of odoriferous substances, used in perfumery, food etc\",0.0061210256538847]],\"hovertemplate\":\"%{customdata[0]}\\u003cbr\\u003eRCA: %{customdata[1]:.2f}\",\"legendgroup\":\"47.0\",\"marker\":{\"color\":\"#BCBD22\",\"size\":[0.0550811895373084,0.0522357757013386,0.05,0.05,0.0899624824390918,0.05,0.06648140703413391,0.0516422182257798,0.054920480550320006,0.05,0.05,0.05,0.05,0.0561210256538847],\"sizemode\":\"area\",\"sizeref\":0.0026126049385131827,\"symbol\":\"circle\"},\"mode\":\"markers\",\"name\":\"47.0\",\"orientation\":\"v\",\"showlegend\":true,\"x\":[-1.3520362,-1.1584576,-0.7970536,-0.88233733,-0.95914006,-1.695969,-2.0131216,-1.4689262,-2.0648754,-1.617937,-1.7102708,-1.2047229,-1.3203288,-1.728529],\"xaxis\":\"x\",\"y\":[10.834955,10.625692,10.24415,10.510575,9.968872,10.536306,10.820095,10.342636,10.308052,10.921527,10.028245,10.301166,9.857226,11.3094],\"yaxis\":\"y\",\"type\":\"scatter\"},{\"customdata\":[[\"Inorganic chemical products, nes\",0.0212962299620967],[\"Pig iron, cast iron, spiegeleisen, in pigs, blocks, lumps, etc\",0.0],[\"Ferro-alloys\",0.0019536860921704]],\"hovertemplate\":\"%{customdata[0]}\\u003cbr\\u003eRCA: %{customdata[1]:.2f}\",\"legendgroup\":\"50.0\",\"marker\":{\"color\":\"#17BECF\",\"size\":[0.0712962299620967,0.05,0.0519536860921704],\"sizemode\":\"area\",\"sizeref\":0.0026126049385131827,\"symbol\":\"circle\"},\"mode\":\"markers\",\"name\":\"50.0\",\"orientation\":\"v\",\"showlegend\":true,\"x\":[20.36613,20.742117,20.439201],\"xaxis\":\"x\",\"y\":[9.690082,9.842225,10.072912],\"yaxis\":\"y\",\"type\":\"scatter\"},{\"customdata\":[[\"Propellent powders and other prepared explosives\",0.7830134442733463],[\"Fuses, caps, igniters, detonators\",0.8815133178042949]],\"hovertemplate\":\"%{customdata[0]}\\u003cbr\\u003eRCA: %{customdata[1]:.2f}\",\"legendgroup\":\"54.0\",\"marker\":{\"color\":\"#1F77B4\",\"size\":[0.8330134442733463,0.9315133178042949],\"sizemode\":\"area\",\"sizeref\":0.0026126049385131827,\"symbol\":\"circle\"},\"mode\":\"markers\",\"name\":\"54.0\",\"orientation\":\"v\",\"showlegend\":true,\"x\":[-1.2664223,-1.0055971],\"xaxis\":\"x\",\"y\":[1.8803362,1.7479303],\"yaxis\":\"y\",\"type\":\"scatter\"},{\"customdata\":[[\"Silicones\",0.0053412798373135],[\"Ion exchangers of the condensation, polycondensation etc\",0.0],[\"Ion exchangers of the polymerization or copolymerization type\",0.0]],\"hovertemplate\":\"%{customdata[0]}\\u003cbr\\u003eRCA: %{customdata[1]:.2f}\",\"legendgroup\":\"56.0\",\"marker\":{\"color\":\"#FF7F0E\",\"size\":[0.0553412798373135,0.05,0.05],\"sizemode\":\"area\",\"sizeref\":0.0026126049385131827,\"symbol\":\"circle\"},\"mode\":\"markers\",\"name\":\"56.0\",\"orientation\":\"v\",\"showlegend\":true,\"x\":[0.004357815,0.49849486,0.25417018],\"xaxis\":\"x\",\"y\":[11.605273,11.383124,11.386333],\"yaxis\":\"y\",\"type\":\"scatter\"},{\"customdata\":[[\"Composition leather, in slabs, sheets or rolls\",0.6326452626135116],[\"Bonded fibre fabrics, etc, whether or not impregnated or coated\",0.0366762394546562],[\"Coated or impregnated textile fabrics and products, nes\",0.0004958220398609],[\"Special products of textile materials\",0.0],[\"Wire, cables, cordage, ropes, plaited bans, sling and the like\",0.02507465651608],[\"Picture postcards, decalcomanias, etc, printed\",0.0]],\"hovertemplate\":\"%{customdata[0]}\\u003cbr\\u003eRCA: %{customdata[1]:.2f}\",\"legendgroup\":\"72.0\",\"marker\":{\"color\":\"#2CA02C\",\"size\":[0.6826452626135117,0.0866762394546562,0.0504958220398609,0.05,0.07507465651608,0.05],\"sizemode\":\"area\",\"sizeref\":0.0026126049385131827,\"symbol\":\"circle\"},\"mode\":\"markers\",\"name\":\"72.0\",\"orientation\":\"v\",\"showlegend\":true,\"x\":[8.041732,7.627086,7.773938,7.5447655,7.578279,7.8376107],\"xaxis\":\"x\",\"y\":[-5.8743296,-5.684419,-6.136329,-5.906085,-5.4032717,-5.766328],\"yaxis\":\"y\",\"type\":\"scatter\"},{\"customdata\":[[\"Articles of leather use in machinery or mechanical appliances, etc\",0.7053322507879882],[\"Saddlery and harness, of any material, for any kind of animal\",0.0013440077419197],[\"Other articles of leather or of composition leather\",0.4001408433970693]],\"hovertemplate\":\"%{customdata[0]}\\u003cbr\\u003eRCA: %{customdata[1]:.2f}\",\"legendgroup\":\"61.0\",\"marker\":{\"color\":\"#D62728\",\"size\":[0.7553322507879883,0.0513440077419197,0.4501408433970693],\"sizemode\":\"area\",\"sizeref\":0.0026126049385131827,\"symbol\":\"circle\"},\"mode\":\"markers\",\"name\":\"61.0\",\"orientation\":\"v\",\"showlegend\":true,\"x\":[9.16721,9.04792,8.87042],\"xaxis\":\"x\",\"y\":[7.2727313,7.5595555,7.1046796],\"yaxis\":\"y\",\"type\":\"scatter\"},{\"customdata\":[[\"Parts of footwear of any material except metal and asbestos\",0.0006128439835596],[\"Travel goods, handbags etc, of leather, plastics, textile, others\",0.0206531279224087],[\"Men's and boys' outerwear, textile fabrics not knitted or crocheted; overcoats and other coats\",0.0199451006134694],[\"Men's and boys' outerwear, textile fabrics not knitted or crocheted; suits\",0.0125784895745034],[\"Men's and boys' outerwear, textile fabrics not knitted or crocheted; trousers, breeches and the like\",0.0074264214446404],[\"Men's and boys' outerwear, textile fabrics not knitted or crocheted; jackets, blazers and the like\",0.0065347251567398],[\"Men's and boys' outerwear, textile fabrics not knitted or crocheted; other outer garments\",0.0137203739455835],[\"Womens, girls, infants outerwear, textile, not knitted or crocheted; coats and jackets\",0.0128467164987689],[\"Womens, girls, infants outerwear, textile, not knitted or crocheted; suits and costumes\",0.0297656472856543],[\"Womens, girls, infants outerwear, textile, not knitted or crocheted; dresses\",0.0134954959216775],[\"Womens, girls, infants outerwear, textile, not knitted or crocheted; skirts\",0.0085733052445047],[\"Womens, girls, infants outerwear, textile, not knitted or crocheted; blouses\",0.0113220993489147],[\"Womens, girls, infants outerwear, textile, not knitted or crocheted; other outer garments of textile fabrics, not knitted, crocheted\",0.0207978810127993],[\"Under garments of textile fabrics, not knitted or crocheted; womens, girls, infants under garments, textile, not knitted, etc\",0.0175186171207307],[\"Articles of apparel, clothing accessories of leather\",0.0326939747060536],[\"Footwear\",0.0111485645352401]],\"hovertemplate\":\"%{customdata[0]}\\u003cbr\\u003eRCA: %{customdata[1]:.2f}\",\"legendgroup\":\"108.0\",\"marker\":{\"color\":\"#9467BD\",\"size\":[0.0506128439835596,0.0706531279224087,0.0699451006134694,0.0625784895745034,0.0574264214446404,0.0565347251567398,0.0637203739455835,0.0628467164987689,0.0797656472856543,0.0634954959216775,0.0585733052445047,0.0613220993489147,0.0707978810127993,0.0675186171207307,0.08269397470605361,0.061148564535240105],\"sizemode\":\"area\",\"sizeref\":0.0026126049385131827,\"symbol\":\"circle\"},\"mode\":\"markers\",\"name\":\"108.0\",\"orientation\":\"v\",\"showlegend\":true,\"x\":[8.813192,9.391305,9.311084,9.454941,10.019074,9.087473,10.199574,8.734054,9.878852,9.16927,9.563285,9.116542,9.714982,9.497124,9.808102,8.841222],\"xaxis\":\"x\",\"y\":[8.117151,8.18305,7.7747774,8.568508,8.592182,7.9564133,8.996802,7.6697965,8.255274,8.376009,8.04409,8.852479,8.454434,8.9959955,8.852864,8.533323],\"yaxis\":\"y\",\"type\":\"scatter\"},{\"customdata\":[[\"Tires, pneumatic, new, for motor cars\",0.0],[\"Tires, pneumatic, new, for buses and lorries\",0.0],[\"Tires, pneumatic, new, for aircraft\",0.0],[\"Tires, pneumatic, new, for motorcycles and bicycles\",0.0],[\"Other tires, tire cases, tire flaps and inner tubes, etc\",0.0024103603800054]],\"hovertemplate\":\"%{customdata[0]}\\u003cbr\\u003eRCA: %{customdata[1]:.2f}\",\"legendgroup\":\"62.0\",\"marker\":{\"color\":\"#8C564B\",\"size\":[0.05,0.05,0.05,0.05,0.052410360380005405],\"sizemode\":\"area\",\"sizeref\":0.0026126049385131827,\"symbol\":\"circle\"},\"mode\":\"markers\",\"name\":\"62.0\",\"orientation\":\"v\",\"showlegend\":true,\"x\":[-1.9872109,-2.1824868,-2.3441026,-2.1602097,-2.4952772],\"xaxis\":\"x\",\"y\":[2.256514,2.4011495,2.1778767,1.9430361,2.3837838],\"yaxis\":\"y\",\"type\":\"scatter\"},{\"customdata\":[[\"Hygienic, pharmaceutical articles of unhardened vulcanized rubber\",0.0],[\"Cycles, not motorized\",0.0039659779203466],[\"Articles of apparel, clothing accessories of plastic or rubber\",0.0043287581650568],[\"Headgear and fitting thereof, nes\",0.0653824373991915],[\"Spectacles and spectacle frames\",0.0127201796208097],[\"Children's toys, indoor games, etc\",0.0035230045912328],[\"Other sporting goods and fairground amusements, etc\",0.0053227212577321],[\"Pens, pencils and, fountain pens\",0.0005772110562344],[\"Pianos, other string musical instruments\",0.05314801716754],[\"Umbrellas, canes and similar articles and parts thereof\",0.0]],\"hovertemplate\":\"%{customdata[0]}\\u003cbr\\u003eRCA: %{customdata[1]:.2f}\",\"legendgroup\":\"114.0\",\"marker\":{\"color\":\"#E377C2\",\"size\":[0.05,0.0539659779203466,0.054328758165056806,0.1153824373991915,0.0627201796208097,0.053523004591232805,0.055322721257732105,0.0505772110562344,0.10314801716754,0.05],\"sizemode\":\"area\",\"sizeref\":0.0026126049385131827,\"symbol\":\"circle\"},\"mode\":\"markers\",\"name\":\"114.0\",\"orientation\":\"v\",\"showlegend\":true,\"x\":[7.8159523,7.259433,8.078078,7.580367,7.8257446,7.4862394,8.097914,8.32589,7.1600485,6.959813],\"xaxis\":\"x\",\"y\":[11.4286175,11.5063715,11.485534,12.184836,11.820259,11.746305,12.1122465,11.719568,11.989415,11.662233],\"yaxis\":\"y\",\"type\":\"scatter\"},{\"customdata\":[[\"Converted paper and paperboard, nes\",0.0051627729648975],[\"Motors and generators, direct current\",0.0027695916088807],[\"Electric motors, generators (not direct current); generating sets\",0.0119183009995229],[\"Road rollers, mechanically propelled\",0.3643521552594596],[\"Construction and mining machinery, nes\",0.3076572205362887],[\"Parts, nes of machinery and equipment of headings 72341 to 72346\",0.2310057923339795],[\"Other mineral working machinery; and parts thereof, nes\",0.3209983395315001],[\"Centrifugal pumps (other than those of heading 74281)\",0.0110485669360296],[\"Other pumps for liquids and liquid elevators\",0.0358474640935135],[\"Work trucks, of the type use in factories, dock areas, etc\",0.0380615342438649],[\"Lifting, handling, loading machinery, telphers and conveyors\",0.09184133919519],[\"Parts, nes of the machinery falling within heading 7442\",0.0190974017976103],[\"Power hand tools, pneumatic or non-electric, and parts thereof, nes\",0.2309432786466351],[\"Transformers, electrical\",0.0031642350171004],[\"Special purpose motor lorries and vans\",0.2994032485668936],[\"Ships, boats and other vessels\",0.0]],\"hovertemplate\":\"%{customdata[0]}\\u003cbr\\u003eRCA: %{customdata[1]:.2f}\",\"legendgroup\":\"93.0\",\"marker\":{\"color\":\"#7F7F7F\",\"size\":[0.0551627729648975,0.0527695916088807,0.061918300999522904,0.41435215525945956,0.3576572205362887,0.2810057923339795,0.3709983395315001,0.0610485669360296,0.0858474640935135,0.0880615342438649,0.14184133919518999,0.0690974017976103,0.2809432786466351,0.0531642350171004,0.3494032485668936,0.05],\"sizemode\":\"area\",\"sizeref\":0.0026126049385131827,\"symbol\":\"circle\"},\"mode\":\"markers\",\"name\":\"93.0\",\"orientation\":\"v\",\"showlegend\":true,\"x\":[-0.30712295,-0.062493086,-0.061066628,0.26830792,-0.33452725,0.6041057,0.11623287,0.019284964,0.09544301,0.5543251,0.32466936,0.1587317,0.50060105,-0.2638247,-0.3390212,0.77102256],\"xaxis\":\"x\",\"y\":[3.2503443,2.298068,2.6180062,2.3322968,2.334431,2.2540805,1.9879972,2.9533217,1.6422118,3.0350592,2.6937203,3.2880726,1.8668482,1.999279,2.861322,2.6225631],\"yaxis\":\"y\",\"type\":\"scatter\"},{\"customdata\":[[\"Silk yarn and spun from noil or waste; silkworm gut\",0.0],[\"Yarn of textile fibres, nes\",0.0],[\"Fabrics, woven, of silk, of noil or other waste silk\",0.0]],\"hovertemplate\":\"%{customdata[0]}\\u003cbr\\u003eRCA: %{customdata[1]:.2f}\",\"legendgroup\":\"65.0\",\"marker\":{\"color\":\"#BCBD22\",\"size\":[0.05,0.05,0.05],\"sizemode\":\"area\",\"sizeref\":0.0026126049385131827,\"symbol\":\"circle\"},\"mode\":\"markers\",\"name\":\"65.0\",\"orientation\":\"v\",\"showlegend\":true,\"x\":[7.953888,7.9227085,7.694269],\"xaxis\":\"x\",\"y\":[9.878485,9.513607,9.905008],\"yaxis\":\"y\",\"type\":\"scatter\"},{\"customdata\":[[\"Fabrics, woven, of continuous synthetic textile materials\",0.1230375705684293],[\"Fabrics, woven, 85% plus of discontinuous synthetic fibres\",0.0],[\"Fabrics, woven, less 85% of discontinuous synthetic fibres\",0.0007845617397146],[\"Pile and chenille fabrics, woven, of man-made fibres\",0.0],[\"Fabrics, woven of jute or other textile bast fibres of heading 2640\",0.0],[\"Fabrics, woven, nes\",0.0],[\"Tulle, lace, embroidery, ribbons, trimmings and other small wares\",0.0095148565305822],[\"Elastic fabrics and trimming (not knitted or crocheted)\",0.1173578563013508],[\"Cutlery\",0.0006647880269985]],\"hovertemplate\":\"%{customdata[0]}\\u003cbr\\u003eRCA: %{customdata[1]:.2f}\",\"legendgroup\":\"68.0\",\"marker\":{\"color\":\"#17BECF\",\"size\":[0.1730375705684293,0.05,0.0507845617397146,0.05,0.05,0.05,0.0595148565305822,0.1673578563013508,0.0506647880269985],\"sizemode\":\"area\",\"sizeref\":0.0026126049385131827,\"symbol\":\"circle\"},\"mode\":\"markers\",\"name\":\"68.0\",\"orientation\":\"v\",\"showlegend\":true,\"x\":[8.399526,8.506902,8.72428,8.029025,8.816674,8.161862,8.283124,8.206068,8.687261],\"xaxis\":\"x\",\"y\":[10.347086,10.02645,10.6598425,10.280483,10.27583,10.510818,9.547413,9.947003,9.706673],\"yaxis\":\"y\",\"type\":\"scatter\"},{\"customdata\":[[\"Fabric, woven of continuous regenerated textile materials\",0.0],[\"Fabrics, woven, 85% plus of discontinuous regenerated fibres\",0.0],[\"Fabrics, woven, less 85% of discontinuous regenerated fibres\",0.0],[\"Fabrics, woven, of flax or of ramie\",0.0]],\"hovertemplate\":\"%{customdata[0]}\\u003cbr\\u003eRCA: %{customdata[1]:.2f}\",\"legendgroup\":\"69.0\",\"marker\":{\"color\":\"#1F77B4\",\"size\":[0.05,0.05,0.05,0.05],\"sizemode\":\"area\",\"sizeref\":0.0026126049385131827,\"symbol\":\"circle\"},\"mode\":\"markers\",\"name\":\"69.0\",\"orientation\":\"v\",\"showlegend\":true,\"x\":[7.629651,7.4776773,7.3825912,7.2600975],\"xaxis\":\"x\",\"y\":[9.446922,9.81352,9.200069,9.694603],\"yaxis\":\"y\",\"type\":\"scatter\"},{\"customdata\":[[\"Fabrics, woven, 85% plus of sheep's or lambs' wool or of fine hair\",0.0075007684600807],[\"Fabrics, woven, of sheep's or lambs' wool or of fine hair, nes\",0.0]],\"hovertemplate\":\"%{customdata[0]}\\u003cbr\\u003eRCA: %{customdata[1]:.2f}\",\"legendgroup\":\"70.0\",\"marker\":{\"color\":\"#FF7F0E\",\"size\":[0.0575007684600807,0.05],\"sizemode\":\"area\",\"sizeref\":0.0026126049385131827,\"symbol\":\"circle\"},\"mode\":\"markers\",\"name\":\"70.0\",\"orientation\":\"v\",\"showlegend\":true,\"x\":[8.988452,9.156051],\"xaxis\":\"x\",\"y\":[-5.8555155,-5.6656003],\"yaxis\":\"y\",\"type\":\"scatter\"},{\"customdata\":[[\"Knitted etc, not elastic nor rubberized, of synthetic fibres\",0.007085447106401],[\"Knitted, not elastic nor rubberized, of fibres other than synthetic\",0.0091752725573789],[\"Knitted or crocheted fabrics, elastic or rubberized\",0.0106291951561151]],\"hovertemplate\":\"%{customdata[0]}\\u003cbr\\u003eRCA: %{customdata[1]:.2f}\",\"legendgroup\":\"71.0\",\"marker\":{\"color\":\"#2CA02C\",\"size\":[0.057085447106401004,0.0591752725573789,0.060629195156115104],\"sizemode\":\"area\",\"sizeref\":0.0026126049385131827,\"symbol\":\"circle\"},\"mode\":\"markers\",\"name\":\"71.0\",\"orientation\":\"v\",\"showlegend\":true,\"x\":[8.462104,8.171231,8.605838],\"xaxis\":\"x\",\"y\":[10.808136,10.765224,11.146726],\"yaxis\":\"y\",\"type\":\"scatter\"},{\"customdata\":[[\"Hat shapes, hat-forms, hat bodies and hoods\",0.9950419754052732],[\"Porcelain or china house ware\",0.0],[\"Articles of domestic or toilet purposes, of other kind of pottery\",0.0],[\"Ornaments, personal articles of porcelain, china, or ceramic, nes\",0.0076290534172397]],\"hovertemplate\":\"%{customdata[0]}\\u003cbr\\u003eRCA: %{customdata[1]:.2f}\",\"legendgroup\":\"79.0\",\"marker\":{\"color\":\"#D62728\",\"size\":[1.045041975405273,0.05,0.05,0.0576290534172397],\"sizemode\":\"area\",\"sizeref\":0.0026126049385131827,\"symbol\":\"circle\"},\"mode\":\"markers\",\"name\":\"79.0\",\"orientation\":\"v\",\"showlegend\":true,\"x\":[9.587011,9.651316,9.956572,9.1952095],\"xaxis\":\"x\",\"y\":[6.9442306,6.652339,6.4063053,6.7543592],\"yaxis\":\"y\",\"type\":\"scatter\"},{\"customdata\":[[\"Carpets, carpeting and rugs, knotted\",0.0],[\"Kelem, Schumacks and Karamanie rugs and the like\",0.0]],\"hovertemplate\":\"%{customdata[0]}\\u003cbr\\u003eRCA: %{customdata[1]:.2f}\",\"legendgroup\":\"74.0\",\"marker\":{\"color\":\"#9467BD\",\"size\":[0.05,0.05],\"sizemode\":\"area\",\"sizeref\":0.0026126049385131827,\"symbol\":\"circle\"},\"mode\":\"markers\",\"name\":\"74.0\",\"orientation\":\"v\",\"showlegend\":true,\"x\":[10.750581,11.229871],\"xaxis\":\"x\",\"y\":[2.526002,2.838738],\"yaxis\":\"y\",\"type\":\"scatter\"},{\"customdata\":[[\"Carpets, rugs, mats, of wool or fine animal hair\",0.0032670058331443],[\"Carpets, rugs, mats, of man-made textile materials, nes\",0.0006374246099745],[\"Carpets, rugs, mats, of other textile materials, nes\",0.0]],\"hovertemplate\":\"%{customdata[0]}\\u003cbr\\u003eRCA: %{customdata[1]:.2f}\",\"legendgroup\":\"75.0\",\"marker\":{\"color\":\"#8C564B\",\"size\":[0.0532670058331443,0.0506374246099745,0.05],\"sizemode\":\"area\",\"sizeref\":0.0026126049385131827,\"symbol\":\"circle\"},\"mode\":\"markers\",\"name\":\"75.0\",\"orientation\":\"v\",\"showlegend\":true,\"x\":[8.51321,8.7398815,8.494558],\"xaxis\":\"x\",\"y\":[-5.5127363,-5.3461533,-5.2307134],\"yaxis\":\"y\",\"type\":\"scatter\"},{\"customdata\":[[\"Cement\",0.3687431109824164],[\"Wire rod of iron or steel\",0.0001036968067738],[\"Bars, rods (not wire rod), from iron or steel; hollow mining drill\",0.0009910444305094],[\"Angles, shapes, sections and sheet piling, of iron or steel\",0.0023513933328818],[\"Iron or steel wire (excluding wire rod), not insulated\",0.0007453236006846],[\"Barbed iron or steel wire: fencing wire\",0.0]],\"hovertemplate\":\"%{customdata[0]}\\u003cbr\\u003eRCA: %{customdata[1]:.2f}\",\"legendgroup\":\"81.0\",\"marker\":{\"color\":\"#E377C2\",\"size\":[0.4187431109824164,0.050103696806773804,0.050991044430509405,0.0523513933328818,0.0507453236006846,0.05],\"sizemode\":\"area\",\"sizeref\":0.0026126049385131827,\"symbol\":\"circle\"},\"mode\":\"markers\",\"name\":\"81.0\",\"orientation\":\"v\",\"showlegend\":true,\"x\":[7.165893,7.3129425,6.9146585,7.062399,6.651791,6.808997],\"xaxis\":\"x\",\"y\":[-5.676872,-5.2509894,-5.666112,-5.241359,-5.493624,-5.0565114],\"yaxis\":\"y\",\"type\":\"scatter\"},{\"customdata\":[[\"Optical glass and elements of optical glass (unworked)\",0.0024579003705683],[\"Insulated electric wire, cable, bars, etc\",0.0039319537226148],[\"Lenses and other optical elements of any material\",0.001139203552203]],\"hovertemplate\":\"%{customdata[0]}\\u003cbr\\u003eRCA: %{customdata[1]:.2f}\",\"legendgroup\":\"77.0\",\"marker\":{\"color\":\"#7F7F7F\",\"size\":[0.0524579003705683,0.053931953722614806,0.051139203552203],\"sizemode\":\"area\",\"sizeref\":0.0026126049385131827,\"symbol\":\"circle\"},\"mode\":\"markers\",\"name\":\"77.0\",\"orientation\":\"v\",\"showlegend\":true,\"x\":[7.9710455,8.091842,8.224565],\"xaxis\":\"x\",\"y\":[-6.3601093,-6.6406565,-6.4123244],\"yaxis\":\"y\",\"type\":\"scatter\"},{\"customdata\":[[\"Drawn or blown glass (flashed glass), unworked, in rectangles\",0.0],[\"Cast, rolled glass (flashed or wired), unworked, in rectangles\",0.0],[\"Fur clothing (not headgear) and other articles made of furskins\",0.0]],\"hovertemplate\":\"%{customdata[0]}\\u003cbr\\u003eRCA: %{customdata[1]:.2f}\",\"legendgroup\":\"78.0\",\"marker\":{\"color\":\"#BCBD22\",\"size\":[0.05,0.05,0.05],\"sizemode\":\"area\",\"sizeref\":0.0026126049385131827,\"symbol\":\"circle\"},\"mode\":\"markers\",\"name\":\"78.0\",\"orientation\":\"v\",\"showlegend\":true,\"x\":[10.023445,10.344182,10.357335],\"xaxis\":\"x\",\"y\":[6.8295197,6.9551783,6.570798],\"yaxis\":\"y\",\"type\":\"scatter\"},{\"customdata\":[[\"Articles made of glass, nes\",0.0025615656065662],[\"Sewing machines, furniture, needles etc, and parts thereof, nes\",0.0007195145908764],[\"Imitation jewellery\",0.0032831037998111],[\"Articles and manufacture of carving, moulding materials, nes\",0.0153535147077861],[\"Small-wares and toilet articles, nes; sieves; tailors' dummies, etc\",0.0412053268198681]],\"hovertemplate\":\"%{customdata[0]}\\u003cbr\\u003eRCA: %{customdata[1]:.2f}\",\"legendgroup\":\"115.0\",\"marker\":{\"color\":\"#17BECF\",\"size\":[0.052561565606566205,0.050719514590876404,0.053283103799811105,0.06535351470778611,0.0912053268198681],\"sizemode\":\"area\",\"sizeref\":0.0026126049385131827,\"symbol\":\"circle\"},\"mode\":\"markers\",\"name\":\"115.0\",\"orientation\":\"v\",\"showlegend\":true,\"x\":[7.771367,8.059979,7.552169,7.8440504,8.284504],\"xaxis\":\"x\",\"y\":[10.77775,10.998961,11.050785,11.106418,11.2449255],\"yaxis\":\"y\",\"type\":\"scatter\"},{\"customdata\":[[\"Pearls, not mounted, set or strung\",0.0],[\"Synthetic or reconstructed precious or semi-precious stones\",0.0],[\"Watches, watch movements and case\",0.0048421012584526],[\"Clocks, clock movements and parts\",0.0],[\"Precious jewellery, goldsmiths' or silversmiths' wares\",0.7019662508026078]],\"hovertemplate\":\"%{customdata[0]}\\u003cbr\\u003eRCA: %{customdata[1]:.2f}\",\"legendgroup\":\"111.0\",\"marker\":{\"color\":\"#1F77B4\",\"size\":[0.05,0.05,0.054842101258452604,0.05,0.7519662508026078],\"sizemode\":\"area\",\"sizeref\":0.0026126049385131827,\"symbol\":\"circle\"},\"mode\":\"markers\",\"name\":\"111.0\",\"orientation\":\"v\",\"showlegend\":true,\"x\":[7.2991915,7.0258646,6.8209467,6.632079,6.4299536],\"xaxis\":\"x\",\"y\":[11.139502,11.262883,11.07131,11.480174,11.118656],\"yaxis\":\"y\",\"type\":\"scatter\"},{\"customdata\":[[\"Tubes and pipes, of cast iron\",0.0],[\"Seamless tubes, pipes; blanks for tubes and pipes, of iron or steel\",0.125829919722188],[\"High-pressure hydro-electric conduit of steel\",0.003175627188429]],\"hovertemplate\":\"%{customdata[0]}\\u003cbr\\u003eRCA: %{customdata[1]:.2f}\",\"legendgroup\":\"83.0\",\"marker\":{\"color\":\"#FF7F0E\",\"size\":[0.05,0.17582991972218798,0.053175627188429005],\"sizemode\":\"area\",\"sizeref\":0.0026126049385131827,\"symbol\":\"circle\"},\"mode\":\"markers\",\"name\":\"83.0\",\"orientation\":\"v\",\"showlegend\":true,\"x\":[-2.071281,-2.1021643,-2.2736118],\"xaxis\":\"x\",\"y\":[1.3001275,1.5647968,1.69939],\"yaxis\":\"y\",\"type\":\"scatter\"},{\"customdata\":[[\"Copper and copper alloys, refined or not, unwrought\",0.2699362774360401],[\"Zinc and zinc alloys, unwrought\",0.0],[\"Base metals, nes and cermets, unwrought (including waste and scrap)\",0.2482834369256371],[\"Other base metal manufactures, nes; and of cermets\",0.1832038233603053]],\"hovertemplate\":\"%{customdata[0]}\\u003cbr\\u003eRCA: %{customdata[1]:.2f}\",\"legendgroup\":\"87.0\",\"marker\":{\"color\":\"#2CA02C\",\"size\":[0.3199362774360401,0.05,0.2982834369256371,0.23320382336030532],\"sizemode\":\"area\",\"sizeref\":0.0026126049385131827,\"symbol\":\"circle\"},\"mode\":\"markers\",\"name\":\"87.0\",\"orientation\":\"v\",\"showlegend\":true,\"x\":[16.609056,16.175142,16.367414,15.772773],\"xaxis\":\"x\",\"y\":[8.607955,8.5644655,8.960417,8.5738125],\"yaxis\":\"y\",\"type\":\"scatter\"},{\"customdata\":[[\"Domestic, non-electric, heating, cooking apparatus, and parts, nes\",0.0093582171902645],[\"Fans, blowers and the like, and parts thereof, nes\",0.0186807167065867],[\"Household laundry equipment, nes\",0.0],[\"Domestic refrigerators and freezers\",0.0],[\"Electric shavers and hair clippers, parts thereof, nes\",0.0],[\"Domestic electro-mechanical appliances; and parts thereof, nes\",0.013594279731028],[\"Electro-thermic appliances, nes\",0.0012497386858579],[\"Invalid carriages; parts, nes of articles of heading 785\",0.0013485297821673],[\"Baby carriages and parts thereof, nes\",0.0082217111160286],[\"Office and stationary supplies, of base metal\",0.0018709965391143]],\"hovertemplate\":\"%{customdata[0]}\\u003cbr\\u003eRCA: %{customdata[1]:.2f}\",\"legendgroup\":\"100.0\",\"marker\":{\"color\":\"#D62728\",\"size\":[0.0593582171902645,0.06868071670658671,0.05,0.05,0.05,0.063594279731028,0.0512497386858579,0.0513485297821673,0.0582217111160286,0.051870996539114304],\"sizemode\":\"area\",\"sizeref\":0.0026126049385131827,\"symbol\":\"circle\"},\"mode\":\"markers\",\"name\":\"100.0\",\"orientation\":\"v\",\"showlegend\":true,\"x\":[-1.1109554,-0.64229846,-1.3448353,-1.5164813,-1.0995213,-1.3323859,-0.8880925,-0.8897445,-0.6792035,-0.67393184],\"xaxis\":\"x\",\"y\":[2.6330426,2.9090111,2.6625185,2.765473,3.0354917,3.0517693,2.8836982,2.5749419,2.4546125,3.2894075],\"yaxis\":\"y\",\"type\":\"scatter\"},{\"customdata\":[[\"Household appliances, decorative article, etc, of base metal, nes\",0.0013859091598498],[\"Clothing accessories, of textile fabrics, not knitted or crocheted\",0.1993582738494567],[\"Cinematograph film, exposed and developed\",0.0],[\"Personal adornments and ornaments articles of plastic\",0.0065940585606757],[\"Works of art, collectors' pieces and antiques\",0.0217853025075432],[\"Other articles of precious metals or rolled precious metals, nes\",0.0]],\"hovertemplate\":\"%{customdata[0]}\\u003cbr\\u003eRCA: %{customdata[1]:.2f}\",\"legendgroup\":\"112.0\",\"marker\":{\"color\":\"#9467BD\",\"size\":[0.0513859091598498,0.2493582738494567,0.05,0.0565940585606757,0.0717853025075432,0.05],\"sizemode\":\"area\",\"sizeref\":0.0026126049385131827,\"symbol\":\"circle\"},\"mode\":\"markers\",\"name\":\"112.0\",\"orientation\":\"v\",\"showlegend\":true,\"x\":[-1.2190536,-1.6858723,-0.8340447,-1.2214246,-1.8454598,-0.95318437],\"xaxis\":\"x\",\"y\":[1.07341,1.3678699,1.0477214,1.3242157,1.133437,1.2526346],\"yaxis\":\"y\",\"type\":\"scatter\"},{\"customdata\":[[\"Internal combustion piston engines, for aircraft, and parts, nes\",0.0554490267709216],[\"Reaction engines\",0.0],[\"Gas turbines, nes\",0.4000727192620895],[\"Parts, nes of the engines and motors of group 714 and item 71888\",0.0074470699350861],[\"Parts, nes of the aircraft of heading 792\",0.0471427609922178]],\"hovertemplate\":\"%{customdata[0]}\\u003cbr\\u003eRCA: %{customdata[1]:.2f}\",\"legendgroup\":\"90.0\",\"marker\":{\"color\":\"#8C564B\",\"size\":[0.1054490267709216,0.05,0.45007271926208947,0.0574470699350861,0.0971427609922178],\"sizemode\":\"area\",\"sizeref\":0.0026126049385131827,\"symbol\":\"circle\"},\"mode\":\"markers\",\"name\":\"90.0\",\"orientation\":\"v\",\"showlegend\":true,\"x\":[-1.4904157,-1.9612092,-1.7431746,-1.5606486,-1.8975036],\"xaxis\":\"x\",\"y\":[0.9076242,0.93961203,0.7531715,0.5538521,0.4185597],\"yaxis\":\"y\",\"type\":\"scatter\"},{\"customdata\":[[\"Air conditioning machines and parts thereof, nes\",0.0005680225434562],[\"Complete digital data processing machines\",0.0045500028528138],[\"Parts, nes of and accessories for machines of headings 7511 or 7518\",0.0136738106514395],[\"Parts, nes of and accessories for machines of headings 7512 and 752\",0.0060537757028315],[\"Parts, nes of and accessories for apparatus falling in heading 76\",0.0095981499737187],[\"Printed circuits, and parts thereof, nes\",1.6155758563618505e-05],[\"Fixed, variable resistors, other than heating resistors, parts, nes\",0.0005642257744484],[\"Batteries and electric accumulators, and parts thereof, nes\",0.1522068252358959],[\"Other electrical machinery and equipment, nes\",0.0365377242190445],[\"Sound recording tape, discs\",0.0016043419376782]],\"hovertemplate\":\"%{customdata[0]}\\u003cbr\\u003eRCA: %{customdata[1]:.2f}\",\"legendgroup\":\"97.0\",\"marker\":{\"color\":\"#E377C2\",\"size\":[0.0505680225434562,0.054550002852813806,0.0636738106514395,0.0560537757028315,0.059598149973718706,0.05001615575856362,0.050564225774448406,0.2022068252358959,0.0865377242190445,0.051604341937678204],\"sizemode\":\"area\",\"sizeref\":0.0026126049385131827,\"symbol\":\"circle\"},\"mode\":\"markers\",\"name\":\"97.0\",\"orientation\":\"v\",\"showlegend\":true,\"x\":[2.2814174,2.6075926,2.9250908,3.1801586,2.1983948,2.4457693,2.8495917,1.8810339,1.9715443,2.3663964],\"xaxis\":\"x\",\"y\":[6.588108,6.801722,6.6756635,6.8834844,6.82527,7.079173,7.200979,7.349495,7.017432,7.431967],\"yaxis\":\"y\",\"type\":\"scatter\"},{\"customdata\":[[\"Calculating, accounting, cash registers, ticketing, etc, machines\",0.0037639991176423],[\"Office machines, nes\",0.0036492321612136],[\"Analogue and hybrid data processing machines\",0.0055964397820241],[\"Complete digital central processing units; digital processors\",0.0059729673423708],[\"Digital central storage units, separately consigned\",0.004589511667955],[\"Peripheral units, including control and adapting units\",0.0073323190944843],[\"Off-line data processing equipment, nes\",0.0064932288068209]],\"hovertemplate\":\"%{customdata[0]}\\u003cbr\\u003eRCA: %{customdata[1]:.2f}\",\"legendgroup\":\"96.0\",\"marker\":{\"color\":\"#7F7F7F\",\"size\":[0.053763999117642305,0.0536492321612136,0.0555964397820241,0.055972967342370804,0.054589511667955004,0.0573323190944843,0.0564932288068209],\"sizemode\":\"area\",\"sizeref\":0.0026126049385131827,\"symbol\":\"circle\"},\"mode\":\"markers\",\"name\":\"96.0\",\"orientation\":\"v\",\"showlegend\":true,\"x\":[1.6624217,1.8004832,1.5675964,1.3995667,1.2076173,1.4881697,1.2155151],\"xaxis\":\"x\",\"y\":[5.889833,5.5123925,6.401642,6.0950212,6.5197444,5.4248757,5.7616234],\"yaxis\":\"y\",\"type\":\"scatter\"},{\"customdata\":[[\"Television receivers, colour\",0.0032123806547121],[\"Television receivers, monochrome\",0.0039862613742898],[\"Radio receivers for motor-vehicles\",0.0],[\"Portable radio receivers\",0.0],[\"Other radio receivers\",0.0008616068110781],[\"Gramophones and record players, electric\",0.0],[\"Other sound recording and reproducer, nes; video recorders\",0.0060604325263036],[\"Microphones; loud-speakers; audio-frequency electric amplifiers\",0.0010334981714919],[\"Photographic cameras, flashlight apparatus, parts, accessories, nes\",0.0],[\"Musical instruments, nes\",0.0176256380523647]],\"hovertemplate\":\"%{customdata[0]}\\u003cbr\\u003eRCA: %{customdata[1]:.2f}\",\"legendgroup\":\"98.0\",\"marker\":{\"color\":\"#BCBD22\",\"size\":[0.0532123806547121,0.0539862613742898,0.05,0.05,0.050861606811078104,0.05,0.056060432526303605,0.0510334981714919,0.05,0.0676256380523647],\"sizemode\":\"area\",\"sizeref\":0.0026126049385131827,\"symbol\":\"circle\"},\"mode\":\"markers\",\"name\":\"98.0\",\"orientation\":\"v\",\"showlegend\":true,\"x\":[1.8215909,2.0903664,2.7697086,3.2105193,2.5000973,2.8934703,2.2648315,2.6797748,2.8619337,2.4434128],\"xaxis\":\"x\",\"y\":[5.0472913,5.352312,5.679759,5.569369,5.58412,5.0984883,4.9190288,4.7837615,5.3773074,5.245588],\"yaxis\":\"y\",\"type\":\"scatter\"},{\"customdata\":[[\"Electrical line telephonic and telegraphic apparatus\",0.0046504347540564],[\"Television, radio-broadcasting; transmitters, etc\",0.0045464338516209],[\"Telecommunications equipment, nes\",0.0054597729319332]],\"hovertemplate\":\"%{customdata[0]}\\u003cbr\\u003eRCA: %{customdata[1]:.2f}\",\"legendgroup\":\"99.0\",\"marker\":{\"color\":\"#17BECF\",\"size\":[0.054650434754056405,0.054546433851620904,0.0554597729319332],\"sizemode\":\"area\",\"sizeref\":0.0026126049385131827,\"symbol\":\"circle\"},\"mode\":\"markers\",\"name\":\"99.0\",\"orientation\":\"v\",\"showlegend\":true,\"x\":[2.570139,2.2509227,1.9776454],\"xaxis\":\"x\",\"y\":[5.956185,5.981145,5.811884],\"yaxis\":\"y\",\"type\":\"scatter\"},{\"customdata\":[[\"Switches, relays, fuses, etc; switchboards and control panels, nes\",0.0051445497828992],[\"Gas, liquid and electricity supply or production meters; etc\",0.0007706415413327],[\"Surveying, navigational, compasses, etc, instruments, nonelectrical\",0.2191669866108525],[\"Drawing, marking-out and mathematical calculating instruments, etc\",0.0377356749626899],[\"Gas, liquid control instruments and apparatus, non-electrical\",0.0226087837650698],[\"Nonmechanical or electrical instruments for physical, etc, analysis\",0.0244583663478815],[\"Measuring, controlling and scientific instruments, nes\",0.0118542298632058],[\"Electrical measuring, controlling, etc, instruments, apparatus, nes\",0.0280575841360513],[\"Parts, nes, and accessories of headings 873, 8743, 87454 or 8748\",0.0260190878801752],[\"Orthopaedic appliances, hearing aids, artificial parts of the body\",0.0037606746749426]],\"hovertemplate\":\"%{customdata[0]}\\u003cbr\\u003eRCA: %{customdata[1]:.2f}\",\"legendgroup\":\"110.0\",\"marker\":{\"color\":\"#1F77B4\",\"size\":[0.055144549782899205,0.050770641541332706,0.2691669866108525,0.0877356749626899,0.0726087837650698,0.0744583663478815,0.0618542298632058,0.0780575841360513,0.0760190878801752,0.0537606746749426],\"sizemode\":\"area\",\"sizeref\":0.0026126049385131827,\"symbol\":\"circle\"},\"mode\":\"markers\",\"name\":\"110.0\",\"orientation\":\"v\",\"showlegend\":true,\"x\":[-0.56374454,-0.8736372,-1.171483,-1.6154844,-0.75962234,-1.1514127,-1.3374887,-0.9564686,-0.46304703,-0.68369055],\"xaxis\":\"x\",\"y\":[1.0201933,0.746696,0.5771796,0.083553106,0.5161437,-0.08218206,0.33540097,0.2481096,0.80778176,0.05361695],\"yaxis\":\"y\",\"type\":\"scatter\"},{\"customdata\":[[\"Television picture tubes, cathode ray\",0.0],[\"Other electronic valves and tubes\",0.0],[\"Diodes, transistors, photocells, etc\",0.0001508857418385],[\"Electronic microcircuits\",0.0487031212016538],[\"Crystals, and parts, nes of electronic components of heading 776\",0.0007470108608045]],\"hovertemplate\":\"%{customdata[0]}\\u003cbr\\u003eRCA: %{customdata[1]:.2f}\",\"legendgroup\":\"101.0\",\"marker\":{\"color\":\"#FF7F0E\",\"size\":[0.05,0.05,0.0501508857418385,0.09870312120165381,0.050747010860804506],\"sizemode\":\"area\",\"sizeref\":0.0026126049385131827,\"symbol\":\"circle\"},\"mode\":\"markers\",\"name\":\"101.0\",\"orientation\":\"v\",\"showlegend\":true,\"x\":[2.84418,3.4264183,2.9982014,3.1184669,3.3953571],\"xaxis\":\"x\",\"y\":[6.1736083,5.9592366,5.90352,6.29496,6.4687157],\"yaxis\":\"y\",\"type\":\"scatter\"},{\"customdata\":[[\"Rail locomotives, electric\",0.0],[\"Other rail locomotives; tenders\",0.0],[\"Mechanically propelled railway, tramway, trolleys, etc\",0.0],[\"Railway, tramway passenger coaches, etc, not mechanically propelled\",0.0],[\"Railway and tramway freight, etc, not mechanically propelled\",0.0],[\"Railway track fixtures, and fittings, etc, parts nes of heading 791\",0.0023282982816513]],\"hovertemplate\":\"%{customdata[0]}\\u003cbr\\u003eRCA: %{customdata[1]:.2f}\",\"legendgroup\":\"103.0\",\"marker\":{\"color\":\"#2CA02C\",\"size\":[0.05,0.05,0.05,0.05,0.05,0.0523282982816513],\"sizemode\":\"area\",\"sizeref\":0.0026126049385131827,\"symbol\":\"circle\"},\"mode\":\"markers\",\"name\":\"103.0\",\"orientation\":\"v\",\"showlegend\":true,\"x\":[-2.7778623,-3.0941446,-2.858493,-2.658894,-2.7252152,-2.4498692],\"xaxis\":\"x\",\"y\":[1.7222021,1.7474022,2.1208818,1.9813014,2.3865182,1.9037077],\"yaxis\":\"y\",\"type\":\"scatter\"},{\"customdata\":[[\"Helicopters\",0.5679288902981485],[\"Aircraft of an unladen weight not exceeding 2000 kg\",0.0146259835635637],[\"Aircraft of an unladen weight from 2000 kg to 15000 kg\",0.0],[\"Aircraft of an unladen weight exceeding 15000 kg\",0.0772852260377985],[\"Aircraft, nes and associated equipment\",0.0088040337492594]],\"hovertemplate\":\"%{customdata[0]}\\u003cbr\\u003eRCA: %{customdata[1]:.2f}\",\"legendgroup\":\"104.0\",\"marker\":{\"color\":\"#D62728\",\"size\":[0.6179288902981486,0.06462598356356371,0.05,0.12728522603779852,0.0588040337492594],\"sizemode\":\"area\",\"sizeref\":0.0026126049385131827,\"symbol\":\"circle\"},\"mode\":\"markers\",\"name\":\"104.0\",\"orientation\":\"v\",\"showlegend\":true,\"x\":[-1.3153242,-1.6469753,-1.6854748,-1.7129157,-1.4858087],\"xaxis\":\"x\",\"y\":[2.09037,2.422994,1.9148763,2.150842,2.2695374],\"yaxis\":\"y\",\"type\":\"scatter\"},{\"customdata\":[[\"Warships\",0.0],[\"Ships, boats and other vessels for breaking up\",0.0],[\"Tugs, special purpose vessels and floating structures\",0.0]],\"hovertemplate\":\"%{customdata[0]}\\u003cbr\\u003eRCA: %{customdata[1]:.2f}\",\"legendgroup\":\"105.0\",\"marker\":{\"color\":\"#9467BD\",\"size\":[0.05,0.05,0.05],\"sizemode\":\"area\",\"sizeref\":0.0026126049385131827,\"symbol\":\"circle\"},\"mode\":\"markers\",\"name\":\"105.0\",\"orientation\":\"v\",\"showlegend\":true,\"x\":[-0.54306483,-0.8162494,-0.6984091],\"xaxis\":\"x\",\"y\":[2.1274707,2.2261038,1.8904066],\"yaxis\":\"y\",\"type\":\"scatter\"},{\"customdata\":[[\"Under garments of textile fabrics, not knitted or crocheted; mens and boys shirts\",0.0145593804567952],[\"Under garments of textile fabrics, not knitted or crocheted; mens, boys under garments; other than shirts\",0.0083861248557848],[\"Outerwear knitted or crocheted, not elastic nor rubberized; jerseys, pullovers, slip-overs, cardigans, etc\",0.035134097547042],[\"Outerwear knitted or crocheted, not elastic nor rubberized; womens, girls, infants, suits, dresses, etc, knitted, crocheted\",0.0191287255711448],[\"Outerwear knitted or crocheted, not elastic nor rubberized; other, clothing accessories, non-elastic, knitted or crocheted\",0.0197834765976089],[\"Under-garments, knitted or crocheted; of wool or fine animal hair, not elastic nor rubberized\",0.0520415834987936],[\"Under-garments, knitted or crocheted; of cotton, not elastic nor rubberized\",0.0069768461931556],[\"Under-garments, knitted or crocheted; of synthetic fibres not elastic nor rubberized\",0.0112576023316454],[\"Under-garments, knitted or crocheted; of other fibres, not elastic nor rubberized\",0.0158275141221854],[\"Corsets, garters, etc, not knitted or crocheted, elastic or not\",0.0014473822469663],[\"Clothing accessories, knitted or crocheted, nes\",0.0289145678309752]],\"hovertemplate\":\"%{customdata[0]}\\u003cbr\\u003eRCA: %{customdata[1]:.2f}\",\"legendgroup\":\"109.0\",\"marker\":{\"color\":\"#8C564B\",\"size\":[0.0645593804567952,0.0583861248557848,0.085134097547042,0.0691287255711448,0.0697834765976089,0.10204158349879361,0.0569768461931556,0.0612576023316454,0.0658275141221854,0.0514473822469663,0.0789145678309752],\"sizemode\":\"area\",\"sizeref\":0.0026126049385131827,\"symbol\":\"circle\"},\"mode\":\"markers\",\"name\":\"109.0\",\"orientation\":\"v\",\"showlegend\":true,\"x\":[10.664338,10.488576,10.95392,10.935732,10.579813,11.08784,10.959236,11.179829,11.347743,10.649771,11.5086],\"xaxis\":\"x\",\"y\":[8.306652,8.481062,8.074297,8.41996,8.026765,8.734705,7.6531124,7.896795,8.350128,8.848448,7.9399533],\"yaxis\":\"y\",\"type\":\"scatter\"}],                        {\"template\":{\"data\":{\"histogram2dcontour\":[{\"type\":\"histogram2dcontour\",\"colorbar\":{\"outlinewidth\":0,\"ticks\":\"\"},\"colorscale\":[[0.0,\"#0d0887\"],[0.1111111111111111,\"#46039f\"],[0.2222222222222222,\"#7201a8\"],[0.3333333333333333,\"#9c179e\"],[0.4444444444444444,\"#bd3786\"],[0.5555555555555556,\"#d8576b\"],[0.6666666666666666,\"#ed7953\"],[0.7777777777777778,\"#fb9f3a\"],[0.8888888888888888,\"#fdca26\"],[1.0,\"#f0f921\"]]}],\"choropleth\":[{\"type\":\"choropleth\",\"colorbar\":{\"outlinewidth\":0,\"ticks\":\"\"}}],\"histogram2d\":[{\"type\":\"histogram2d\",\"colorbar\":{\"outlinewidth\":0,\"ticks\":\"\"},\"colorscale\":[[0.0,\"#0d0887\"],[0.1111111111111111,\"#46039f\"],[0.2222222222222222,\"#7201a8\"],[0.3333333333333333,\"#9c179e\"],[0.4444444444444444,\"#bd3786\"],[0.5555555555555556,\"#d8576b\"],[0.6666666666666666,\"#ed7953\"],[0.7777777777777778,\"#fb9f3a\"],[0.8888888888888888,\"#fdca26\"],[1.0,\"#f0f921\"]]}],\"heatmap\":[{\"type\":\"heatmap\",\"colorbar\":{\"outlinewidth\":0,\"ticks\":\"\"},\"colorscale\":[[0.0,\"#0d0887\"],[0.1111111111111111,\"#46039f\"],[0.2222222222222222,\"#7201a8\"],[0.3333333333333333,\"#9c179e\"],[0.4444444444444444,\"#bd3786\"],[0.5555555555555556,\"#d8576b\"],[0.6666666666666666,\"#ed7953\"],[0.7777777777777778,\"#fb9f3a\"],[0.8888888888888888,\"#fdca26\"],[1.0,\"#f0f921\"]]}],\"heatmapgl\":[{\"type\":\"heatmapgl\",\"colorbar\":{\"outlinewidth\":0,\"ticks\":\"\"},\"colorscale\":[[0.0,\"#0d0887\"],[0.1111111111111111,\"#46039f\"],[0.2222222222222222,\"#7201a8\"],[0.3333333333333333,\"#9c179e\"],[0.4444444444444444,\"#bd3786\"],[0.5555555555555556,\"#d8576b\"],[0.6666666666666666,\"#ed7953\"],[0.7777777777777778,\"#fb9f3a\"],[0.8888888888888888,\"#fdca26\"],[1.0,\"#f0f921\"]]}],\"contourcarpet\":[{\"type\":\"contourcarpet\",\"colorbar\":{\"outlinewidth\":0,\"ticks\":\"\"}}],\"contour\":[{\"type\":\"contour\",\"colorbar\":{\"outlinewidth\":0,\"ticks\":\"\"},\"colorscale\":[[0.0,\"#0d0887\"],[0.1111111111111111,\"#46039f\"],[0.2222222222222222,\"#7201a8\"],[0.3333333333333333,\"#9c179e\"],[0.4444444444444444,\"#bd3786\"],[0.5555555555555556,\"#d8576b\"],[0.6666666666666666,\"#ed7953\"],[0.7777777777777778,\"#fb9f3a\"],[0.8888888888888888,\"#fdca26\"],[1.0,\"#f0f921\"]]}],\"surface\":[{\"type\":\"surface\",\"colorbar\":{\"outlinewidth\":0,\"ticks\":\"\"},\"colorscale\":[[0.0,\"#0d0887\"],[0.1111111111111111,\"#46039f\"],[0.2222222222222222,\"#7201a8\"],[0.3333333333333333,\"#9c179e\"],[0.4444444444444444,\"#bd3786\"],[0.5555555555555556,\"#d8576b\"],[0.6666666666666666,\"#ed7953\"],[0.7777777777777778,\"#fb9f3a\"],[0.8888888888888888,\"#fdca26\"],[1.0,\"#f0f921\"]]}],\"mesh3d\":[{\"type\":\"mesh3d\",\"colorbar\":{\"outlinewidth\":0,\"ticks\":\"\"}}],\"scatter\":[{\"fillpattern\":{\"fillmode\":\"overlay\",\"size\":10,\"solidity\":0.2},\"type\":\"scatter\"}],\"parcoords\":[{\"type\":\"parcoords\",\"line\":{\"colorbar\":{\"outlinewidth\":0,\"ticks\":\"\"}}}],\"scatterpolargl\":[{\"type\":\"scatterpolargl\",\"marker\":{\"colorbar\":{\"outlinewidth\":0,\"ticks\":\"\"}}}],\"bar\":[{\"error_x\":{\"color\":\"#2a3f5f\"},\"error_y\":{\"color\":\"#2a3f5f\"},\"marker\":{\"line\":{\"color\":\"#E5ECF6\",\"width\":0.5},\"pattern\":{\"fillmode\":\"overlay\",\"size\":10,\"solidity\":0.2}},\"type\":\"bar\"}],\"scattergeo\":[{\"type\":\"scattergeo\",\"marker\":{\"colorbar\":{\"outlinewidth\":0,\"ticks\":\"\"}}}],\"scatterpolar\":[{\"type\":\"scatterpolar\",\"marker\":{\"colorbar\":{\"outlinewidth\":0,\"ticks\":\"\"}}}],\"histogram\":[{\"marker\":{\"pattern\":{\"fillmode\":\"overlay\",\"size\":10,\"solidity\":0.2}},\"type\":\"histogram\"}],\"scattergl\":[{\"type\":\"scattergl\",\"marker\":{\"colorbar\":{\"outlinewidth\":0,\"ticks\":\"\"}}}],\"scatter3d\":[{\"type\":\"scatter3d\",\"line\":{\"colorbar\":{\"outlinewidth\":0,\"ticks\":\"\"}},\"marker\":{\"colorbar\":{\"outlinewidth\":0,\"ticks\":\"\"}}}],\"scattermapbox\":[{\"type\":\"scattermapbox\",\"marker\":{\"colorbar\":{\"outlinewidth\":0,\"ticks\":\"\"}}}],\"scatterternary\":[{\"type\":\"scatterternary\",\"marker\":{\"colorbar\":{\"outlinewidth\":0,\"ticks\":\"\"}}}],\"scattercarpet\":[{\"type\":\"scattercarpet\",\"marker\":{\"colorbar\":{\"outlinewidth\":0,\"ticks\":\"\"}}}],\"carpet\":[{\"aaxis\":{\"endlinecolor\":\"#2a3f5f\",\"gridcolor\":\"white\",\"linecolor\":\"white\",\"minorgridcolor\":\"white\",\"startlinecolor\":\"#2a3f5f\"},\"baxis\":{\"endlinecolor\":\"#2a3f5f\",\"gridcolor\":\"white\",\"linecolor\":\"white\",\"minorgridcolor\":\"white\",\"startlinecolor\":\"#2a3f5f\"},\"type\":\"carpet\"}],\"table\":[{\"cells\":{\"fill\":{\"color\":\"#EBF0F8\"},\"line\":{\"color\":\"white\"}},\"header\":{\"fill\":{\"color\":\"#C8D4E3\"},\"line\":{\"color\":\"white\"}},\"type\":\"table\"}],\"barpolar\":[{\"marker\":{\"line\":{\"color\":\"#E5ECF6\",\"width\":0.5},\"pattern\":{\"fillmode\":\"overlay\",\"size\":10,\"solidity\":0.2}},\"type\":\"barpolar\"}],\"pie\":[{\"automargin\":true,\"type\":\"pie\"}]},\"layout\":{\"autotypenumbers\":\"strict\",\"colorway\":[\"#636efa\",\"#EF553B\",\"#00cc96\",\"#ab63fa\",\"#FFA15A\",\"#19d3f3\",\"#FF6692\",\"#B6E880\",\"#FF97FF\",\"#FECB52\"],\"font\":{\"color\":\"#2a3f5f\"},\"hovermode\":\"closest\",\"hoverlabel\":{\"align\":\"left\"},\"paper_bgcolor\":\"white\",\"plot_bgcolor\":\"#E5ECF6\",\"polar\":{\"bgcolor\":\"#E5ECF6\",\"angularaxis\":{\"gridcolor\":\"white\",\"linecolor\":\"white\",\"ticks\":\"\"},\"radialaxis\":{\"gridcolor\":\"white\",\"linecolor\":\"white\",\"ticks\":\"\"}},\"ternary\":{\"bgcolor\":\"#E5ECF6\",\"aaxis\":{\"gridcolor\":\"white\",\"linecolor\":\"white\",\"ticks\":\"\"},\"baxis\":{\"gridcolor\":\"white\",\"linecolor\":\"white\",\"ticks\":\"\"},\"caxis\":{\"gridcolor\":\"white\",\"linecolor\":\"white\",\"ticks\":\"\"}},\"coloraxis\":{\"colorbar\":{\"outlinewidth\":0,\"ticks\":\"\"}},\"colorscale\":{\"sequential\":[[0.0,\"#0d0887\"],[0.1111111111111111,\"#46039f\"],[0.2222222222222222,\"#7201a8\"],[0.3333333333333333,\"#9c179e\"],[0.4444444444444444,\"#bd3786\"],[0.5555555555555556,\"#d8576b\"],[0.6666666666666666,\"#ed7953\"],[0.7777777777777778,\"#fb9f3a\"],[0.8888888888888888,\"#fdca26\"],[1.0,\"#f0f921\"]],\"sequentialminus\":[[0.0,\"#0d0887\"],[0.1111111111111111,\"#46039f\"],[0.2222222222222222,\"#7201a8\"],[0.3333333333333333,\"#9c179e\"],[0.4444444444444444,\"#bd3786\"],[0.5555555555555556,\"#d8576b\"],[0.6666666666666666,\"#ed7953\"],[0.7777777777777778,\"#fb9f3a\"],[0.8888888888888888,\"#fdca26\"],[1.0,\"#f0f921\"]],\"diverging\":[[0,\"#8e0152\"],[0.1,\"#c51b7d\"],[0.2,\"#de77ae\"],[0.3,\"#f1b6da\"],[0.4,\"#fde0ef\"],[0.5,\"#f7f7f7\"],[0.6,\"#e6f5d0\"],[0.7,\"#b8e186\"],[0.8,\"#7fbc41\"],[0.9,\"#4d9221\"],[1,\"#276419\"]]},\"xaxis\":{\"gridcolor\":\"white\",\"linecolor\":\"white\",\"ticks\":\"\",\"title\":{\"standoff\":15},\"zerolinecolor\":\"white\",\"automargin\":true,\"zerolinewidth\":2},\"yaxis\":{\"gridcolor\":\"white\",\"linecolor\":\"white\",\"ticks\":\"\",\"title\":{\"standoff\":15},\"zerolinecolor\":\"white\",\"automargin\":true,\"zerolinewidth\":2},\"scene\":{\"xaxis\":{\"backgroundcolor\":\"#E5ECF6\",\"gridcolor\":\"white\",\"linecolor\":\"white\",\"showbackground\":true,\"ticks\":\"\",\"zerolinecolor\":\"white\",\"gridwidth\":2},\"yaxis\":{\"backgroundcolor\":\"#E5ECF6\",\"gridcolor\":\"white\",\"linecolor\":\"white\",\"showbackground\":true,\"ticks\":\"\",\"zerolinecolor\":\"white\",\"gridwidth\":2},\"zaxis\":{\"backgroundcolor\":\"#E5ECF6\",\"gridcolor\":\"white\",\"linecolor\":\"white\",\"showbackground\":true,\"ticks\":\"\",\"zerolinecolor\":\"white\",\"gridwidth\":2}},\"shapedefaults\":{\"line\":{\"color\":\"#2a3f5f\"}},\"annotationdefaults\":{\"arrowcolor\":\"#2a3f5f\",\"arrowhead\":0,\"arrowwidth\":1},\"geo\":{\"bgcolor\":\"white\",\"landcolor\":\"#E5ECF6\",\"subunitcolor\":\"white\",\"showland\":true,\"showlakes\":true,\"lakecolor\":\"white\"},\"title\":{\"x\":0.05},\"mapbox\":{\"style\":\"light\"}}},\"xaxis\":{\"anchor\":\"y\",\"domain\":[0.0,1.0],\"title\":{\"text\":\"\"},\"showgrid\":false,\"zeroline\":false,\"showticklabels\":false},\"yaxis\":{\"anchor\":\"x\",\"domain\":[0.0,1.0],\"title\":{\"text\":\"\"},\"showgrid\":false,\"zeroline\":false,\"showticklabels\":false,\"scaleanchor\":\"x\",\"scaleratio\":0.7},\"legend\":{\"title\":{\"text\":\"cluster\"},\"tracegroupgap\":0,\"itemsizing\":\"constant\"},\"margin\":{\"t\":0,\"l\":0,\"r\":0,\"b\":0},\"annotations\":[{\"arrowcolor\":\"#1f77b4\",\"arrowhead\":3,\"arrowsize\":1,\"arrowwidth\":1.5,\"ax\":15.48288,\"axref\":\"x\",\"ay\":-2.8478978,\"ayref\":\"y\",\"opacity\":1,\"showarrow\":true,\"x\":14.176732399999999,\"xref\":\"x\",\"y\":0.8706049999999999,\"yref\":\"y\"},{\"arrowcolor\":\"#1f77b4\",\"arrowhead\":3,\"arrowsize\":1,\"arrowwidth\":1.5,\"ax\":11.43904,\"axref\":\"x\",\"ay\":2.4074,\"ayref\":\"y\",\"opacity\":1,\"showarrow\":true,\"x\":18.311752,\"xref\":\"x\",\"y\":5.2147237,\"yref\":\"y\"},{\"arrowcolor\":\"#1f77b4\",\"arrowhead\":3,\"arrowsize\":1,\"arrowwidth\":1.5,\"ax\":9.756202,\"axref\":\"x\",\"ay\":5.2881665,\"ayref\":\"y\",\"opacity\":1,\"showarrow\":true,\"x\":9.95657183,\"xref\":\"x\",\"y\":6.4063053,\"yref\":\"y\"},{\"arrowcolor\":\"#1f77b4\",\"arrowhead\":3,\"arrowsize\":1,\"arrowwidth\":1.5,\"ax\":10.026635,\"axref\":\"x\",\"ay\":0.6370693,\"ayref\":\"y\",\"opacity\":1,\"showarrow\":true,\"x\":8.8545063,\"xref\":\"x\",\"y\":-3.2506885000000003,\"yref\":\"y\"},{\"arrowcolor\":\"#1f77b4\",\"arrowhead\":3,\"arrowsize\":1,\"arrowwidth\":1.5,\"ax\":18.621372,\"axref\":\"x\",\"ay\":6.3724914,\"ayref\":\"y\",\"opacity\":1,\"showarrow\":true,\"x\":17.8230379,\"xref\":\"x\",\"y\":7.07097964,\"yref\":\"y\"},{\"arrowcolor\":\"#1f77b4\",\"arrowhead\":3,\"arrowsize\":1,\"arrowwidth\":1.5,\"ax\":18.621372,\"axref\":\"x\",\"ay\":6.3724914,\"ayref\":\"y\",\"opacity\":1,\"showarrow\":true,\"x\":8.68726,\"xref\":\"x\",\"y\":9.7066727,\"yref\":\"y\"},{\"arrowcolor\":\"#1f77b4\",\"arrowhead\":3,\"arrowsize\":1,\"arrowwidth\":1.5,\"ax\":18.621372,\"axref\":\"x\",\"ay\":6.3724914,\"ayref\":\"y\",\"opacity\":1,\"showarrow\":true,\"x\":11.508600000000001,\"xref\":\"x\",\"y\":7.9399534,\"yref\":\"y\"},{\"arrowcolor\":\"#1f77b4\",\"arrowhead\":3,\"arrowsize\":1,\"arrowwidth\":1.5,\"ax\":16.332157,\"axref\":\"x\",\"ay\":7.099867,\"ayref\":\"y\",\"opacity\":1,\"showarrow\":true,\"x\":15.982856619999998,\"xref\":\"x\",\"y\":7.080556526,\"yref\":\"y\"},{\"arrowcolor\":\"#1f77b4\",\"arrowhead\":3,\"arrowsize\":1,\"arrowwidth\":1.5,\"ax\":9.735949,\"axref\":\"x\",\"ay\":3.188027,\"ayref\":\"y\",\"opacity\":1,\"showarrow\":true,\"x\":7.3825917,\"xref\":\"x\",\"y\":9.2000695,\"yref\":\"y\"},{\"arrowcolor\":\"#1f77b4\",\"arrowhead\":3,\"arrowsize\":1,\"arrowwidth\":1.5,\"ax\":14.176732,\"axref\":\"x\",\"ay\":0.870605,\"ayref\":\"y\",\"opacity\":1,\"showarrow\":true,\"x\":15.4828796,\"xref\":\"x\",\"y\":-2.8478978,\"yref\":\"y\"},{\"arrowcolor\":\"#1f77b4\",\"arrowhead\":3,\"arrowsize\":1,\"arrowwidth\":1.5,\"ax\":12.768747,\"axref\":\"x\",\"ay\":1.2118616,\"ayref\":\"y\",\"opacity\":1,\"showarrow\":true,\"x\":11.4867789,\"xref\":\"x\",\"y\":1.8770248999999999,\"yref\":\"y\"},{\"arrowcolor\":\"#1f77b4\",\"arrowhead\":3,\"arrowsize\":1,\"arrowwidth\":1.5,\"ax\":9.892142,\"axref\":\"x\",\"ay\":3.4854975,\"ayref\":\"y\",\"opacity\":1,\"showarrow\":true,\"x\":9.73594827,\"xref\":\"x\",\"y\":3.1880269300000004,\"yref\":\"y\"},{\"arrowcolor\":\"#1f77b4\",\"arrowhead\":3,\"arrowsize\":1,\"arrowwidth\":1.5,\"ax\":9.892142,\"axref\":\"x\",\"ay\":3.4854975,\"ayref\":\"y\",\"opacity\":1,\"showarrow\":true,\"x\":13.1983554,\"xref\":\"x\",\"y\":2.2808573,\"yref\":\"y\"},{\"arrowcolor\":\"#1f77b4\",\"arrowhead\":3,\"arrowsize\":1,\"arrowwidth\":1.5,\"ax\":16.907982,\"axref\":\"x\",\"ay\":7.6339345,\"ayref\":\"y\",\"opacity\":1,\"showarrow\":true,\"x\":16.896770605,\"xref\":\"x\",\"y\":7.939404499999999,\"yref\":\"y\"},{\"arrowcolor\":\"#1f77b4\",\"arrowhead\":3,\"arrowsize\":1,\"arrowwidth\":1.5,\"ax\":9.171111,\"axref\":\"x\",\"ay\":5.4663606,\"ayref\":\"y\",\"opacity\":1,\"showarrow\":true,\"x\":7.3825911,\"xref\":\"x\",\"y\":9.2000695,\"yref\":\"y\"},{\"arrowcolor\":\"#1f77b4\",\"arrowhead\":3,\"arrowsize\":1,\"arrowwidth\":1.5,\"ax\":20.201355,\"axref\":\"x\",\"ay\":6.067304,\"ayref\":\"y\",\"opacity\":1,\"showarrow\":true,\"x\":21.00247194,\"xref\":\"x\",\"y\":6.14228235,\"yref\":\"y\"},{\"arrowcolor\":\"#1f77b4\",\"arrowhead\":3,\"arrowsize\":1,\"arrowwidth\":1.5,\"ax\":15.967896,\"axref\":\"x\",\"ay\":7.611049,\"ayref\":\"y\",\"opacity\":1,\"showarrow\":true,\"x\":15.77483608,\"xref\":\"x\",\"y\":7.31898624,\"yref\":\"y\"},{\"arrowcolor\":\"#1f77b4\",\"arrowhead\":3,\"arrowsize\":1,\"arrowwidth\":1.5,\"ax\":10.296418,\"axref\":\"x\",\"ay\":3.411922,\"ayref\":\"y\",\"opacity\":1,\"showarrow\":true,\"x\":9.9565714,\"xref\":\"x\",\"y\":6.4063053,\"yref\":\"y\"},{\"arrowcolor\":\"#1f77b4\",\"arrowhead\":3,\"arrowsize\":1,\"arrowwidth\":1.5,\"ax\":18.311752,\"axref\":\"x\",\"ay\":5.2147236,\"ayref\":\"y\",\"opacity\":1,\"showarrow\":true,\"x\":11.439039999999999,\"xref\":\"x\",\"y\":2.4073999,\"yref\":\"y\"},{\"arrowcolor\":\"#1f77b4\",\"arrowhead\":3,\"arrowsize\":1,\"arrowwidth\":1.5,\"ax\":21.520851,\"axref\":\"x\",\"ay\":10.916914,\"ayref\":\"y\",\"opacity\":1,\"showarrow\":true,\"x\":22.21178995,\"xref\":\"x\",\"y\":10.59200574,\"yref\":\"y\"},{\"arrowcolor\":\"#1f77b4\",\"arrowhead\":3,\"arrowsize\":1,\"arrowwidth\":1.5,\"ax\":14.021127,\"axref\":\"x\",\"ay\":2.405597,\"ayref\":\"y\",\"opacity\":1,\"showarrow\":true,\"x\":15.9678967,\"xref\":\"x\",\"y\":7.611049,\"yref\":\"y\"},{\"arrowcolor\":\"#1f77b4\",\"arrowhead\":3,\"arrowsize\":1,\"arrowwidth\":1.5,\"ax\":6.371867,\"axref\":\"x\",\"ay\":9.483599,\"ayref\":\"y\",\"opacity\":1,\"showarrow\":true,\"x\":3.1801584,\"xref\":\"x\",\"y\":6.8834847,\"yref\":\"y\"},{\"arrowcolor\":\"#1f77b4\",\"arrowhead\":3,\"arrowsize\":1,\"arrowwidth\":1.5,\"ax\":6.226042,\"axref\":\"x\",\"ay\":10.361972,\"ayref\":\"y\",\"opacity\":1,\"showarrow\":true,\"x\":3.0335461999999995,\"xref\":\"x\",\"y\":11.1465427,\"yref\":\"y\"},{\"arrowcolor\":\"#1f77b4\",\"arrowhead\":3,\"arrowsize\":1,\"arrowwidth\":1.5,\"ax\":10.59373,\"axref\":\"x\",\"ay\":-4.6965985,\"ayref\":\"y\",\"opacity\":1,\"showarrow\":true,\"x\":15.136227600000002,\"xref\":\"x\",\"y\":-4.117750600000001,\"yref\":\"y\"},{\"arrowcolor\":\"#1f77b4\",\"arrowhead\":3,\"arrowsize\":1,\"arrowwidth\":1.5,\"ax\":10.59373,\"axref\":\"x\",\"ay\":-4.6965985,\"ayref\":\"y\",\"opacity\":1,\"showarrow\":true,\"x\":18.624241,\"xref\":\"x\",\"y\":4.7976265,\"yref\":\"y\"},{\"arrowcolor\":\"#1f77b4\",\"arrowhead\":3,\"arrowsize\":1,\"arrowwidth\":1.5,\"ax\":8.8545065,\"axref\":\"x\",\"ay\":-3.2506886,\"ayref\":\"y\",\"opacity\":1,\"showarrow\":true,\"x\":12.7687473,\"xref\":\"x\",\"y\":1.2118614,\"yref\":\"y\"},{\"arrowcolor\":\"#1f77b4\",\"arrowhead\":3,\"arrowsize\":1,\"arrowwidth\":1.5,\"ax\":17.326584,\"axref\":\"x\",\"ay\":8.0083065,\"ayref\":\"y\",\"opacity\":1,\"showarrow\":true,\"x\":18.621372400000002,\"xref\":\"x\",\"y\":6.3724913999999995,\"yref\":\"y\"},{\"arrowcolor\":\"#1f77b4\",\"arrowhead\":3,\"arrowsize\":1,\"arrowwidth\":1.5,\"ax\":7.5423107,\"axref\":\"x\",\"ay\":-3.829903,\"ayref\":\"y\",\"opacity\":1,\"showarrow\":true,\"x\":1.6100154,\"xref\":\"x\",\"y\":-0.2227543999999999,\"yref\":\"y\"},{\"arrowcolor\":\"#1f77b4\",\"arrowhead\":3,\"arrowsize\":1,\"arrowwidth\":1.5,\"ax\":8.687261,\"axref\":\"x\",\"ay\":9.706673,\"ayref\":\"y\",\"opacity\":1,\"showarrow\":true,\"x\":9.11654223,\"xref\":\"x\",\"y\":8.8524793,\"yref\":\"y\"},{\"arrowcolor\":\"#1f77b4\",\"arrowhead\":3,\"arrowsize\":1,\"arrowwidth\":1.5,\"ax\":-1.5399307,\"axref\":\"x\",\"ay\":3.9950478,\"ayref\":\"y\",\"opacity\":1,\"showarrow\":true,\"x\":-0.5575664,\"xref\":\"x\",\"y\":9.7724458,\"yref\":\"y\"},{\"arrowcolor\":\"#1f77b4\",\"arrowhead\":3,\"arrowsize\":1,\"arrowwidth\":1.5,\"ax\":1.8215909,\"axref\":\"x\",\"ay\":5.0472913,\"ayref\":\"y\",\"opacity\":1,\"showarrow\":true,\"x\":0.5543250999999998,\"xref\":\"x\",\"y\":3.0350593000000003,\"yref\":\"y\"},{\"arrowcolor\":\"#1f77b4\",\"arrowhead\":3,\"arrowsize\":1,\"arrowwidth\":1.5,\"ax\":8.734054,\"axref\":\"x\",\"ay\":7.6697965,\"ayref\":\"y\",\"opacity\":1,\"showarrow\":true,\"x\":3.3953575000000003,\"xref\":\"x\",\"y\":6.468715700000001,\"yref\":\"y\"},{\"arrowcolor\":\"#1f77b4\",\"arrowhead\":3,\"arrowsize\":1,\"arrowwidth\":1.5,\"ax\":9.116542,\"axref\":\"x\",\"ay\":8.852479,\"ayref\":\"y\",\"opacity\":1,\"showarrow\":true,\"x\":8.68726077,\"xref\":\"x\",\"y\":9.7066727,\"yref\":\"y\"},{\"arrowcolor\":\"#1f77b4\",\"arrowhead\":3,\"arrowsize\":1,\"arrowwidth\":1.5,\"ax\":2.3663964,\"axref\":\"x\",\"ay\":7.431967,\"ayref\":\"y\",\"opacity\":1,\"showarrow\":true,\"x\":2.25245235,\"xref\":\"x\",\"y\":9.9549076,\"yref\":\"y\"},{\"bgcolor\":\"rgba(255,255,255,0.7)\",\"borderpad\":2,\"font\":{\"color\":\"black\",\"size\":12},\"showarrow\":false,\"text\":\"Animal & Crop Products \",\"x\":16.172255,\"y\":-4.2062826},{\"bgcolor\":\"rgba(255,255,255,0.7)\",\"borderpad\":2,\"font\":{\"color\":\"black\",\"size\":12},\"showarrow\":false,\"text\":\"Meat & Seafood \",\"x\":20.799826,\"y\":5.4490685},{\"bgcolor\":\"rgba(255,255,255,0.7)\",\"borderpad\":2,\"font\":{\"color\":\"black\",\"size\":12},\"showarrow\":false,\"text\":\"Chemicals & Machinery \",\"x\":-0.11031675,\"y\":10.9433365},{\"bgcolor\":\"rgba(255,255,255,0.7)\",\"borderpad\":2,\"font\":{\"color\":\"black\",\"size\":12},\"showarrow\":false,\"text\":\"Wood Products\",\"x\":16.284698,\"y\":6.75664},{\"bgcolor\":\"rgba(255,255,255,0.7)\",\"borderpad\":2,\"font\":{\"color\":\"black\",\"size\":12},\"showarrow\":false,\"text\":\"Fabric & Apparel\",\"x\":7.040312,\"y\":10.426041},{\"bgcolor\":\"rgba(255,255,255,0.7)\",\"borderpad\":2,\"font\":{\"color\":\"black\",\"size\":12},\"showarrow\":false,\"text\":\"Precious & Base Metals\",\"x\":16.51348,\"y\":7.528252},{\"bgcolor\":\"rgba(255,255,255,0.7)\",\"borderpad\":2,\"font\":{\"color\":\"black\",\"size\":12},\"showarrow\":false,\"text\":\"Food & Material Manufactures\",\"x\":8.0063,\"y\":-6.1079817},{\"bgcolor\":\"rgba(255,255,255,0.7)\",\"borderpad\":2,\"font\":{\"color\":\"black\",\"size\":12},\"showarrow\":false,\"text\":\"Industrial Machinery\",\"x\":-0.9620497,\"y\":1.5254316},{\"bgcolor\":\"rgba(255,255,255,0.7)\",\"borderpad\":2,\"font\":{\"color\":\"black\",\"size\":12},\"showarrow\":false,\"text\":\"Electronics\",\"x\":1.5458474,\"y\":6.8748384},{\"bgcolor\":\"rgba(255,255,255,0.7)\",\"borderpad\":2,\"font\":{\"color\":\"black\",\"size\":12},\"showarrow\":false,\"text\":\"Garments\",\"x\":9.62319,\"y\":7.7251177},{\"bgcolor\":\"rgba(255,255,255,0.7)\",\"borderpad\":2,\"font\":{\"color\":\"black\",\"size\":12},\"showarrow\":false,\"text\":\"Grains & Oilseeds \",\"x\":10.249441,\"y\":3.936133},{\"bgcolor\":\"rgba(255,255,255,0.7)\",\"borderpad\":2,\"font\":{\"color\":\"black\",\"size\":12},\"showarrow\":false,\"text\":\"Produce \",\"x\":10.56499,\"y\":2.3591397},{\"bgcolor\":\"rgba(255,255,255,0.7)\",\"borderpad\":2,\"font\":{\"color\":\"black\",\"size\":12},\"showarrow\":false,\"text\":\"Cash Crops\",\"x\":19.374327,\"y\":5.124735},{\"bgcolor\":\"rgba(255,255,255,0.7)\",\"borderpad\":2,\"font\":{\"color\":\"black\",\"size\":12},\"showarrow\":false,\"text\":\"Animal Skins\",\"x\":12.823445,\"y\":1.7320583},{\"bgcolor\":\"rgba(255,255,255,0.7)\",\"borderpad\":2,\"font\":{\"color\":\"black\",\"size\":12},\"showarrow\":false,\"text\":\"Aluminium\",\"x\":21.673931,\"y\":10.309531},{\"bgcolor\":\"rgba(255,255,255,0.7)\",\"borderpad\":2,\"font\":{\"color\":\"black\",\"size\":12},\"showarrow\":false,\"text\":\"Minerals & Metals\",\"x\":21.324501,\"y\":10.016542},{\"bgcolor\":\"rgba(255,255,255,0.7)\",\"borderpad\":2,\"font\":{\"color\":\"black\",\"size\":12},\"showarrow\":false,\"text\":\"Oil & Gas\",\"x\":17.118435,\"y\":12.06913},{\"bgcolor\":\"rgba(255,255,255,0.7)\",\"borderpad\":2,\"font\":{\"color\":\"black\",\"size\":12},\"showarrow\":false,\"text\":\"Tropical Commodities\",\"x\":16.71245,\"y\":7.2903504}],\"showlegend\":false,\"width\":1700,\"height\":850},                        {\"responsive\": true}                    ).then(function(){\n",
       "                            \n",
       "var gd = document.getElementById('4a37f601-41d2-4210-960c-467a4a731964');\n",
       "var x = new MutationObserver(function (mutations, observer) {{\n",
       "        var display = window.getComputedStyle(gd).display;\n",
       "        if (!display || display === 'none') {{\n",
       "            console.log([gd, 'removed!']);\n",
       "            Plotly.purge(gd);\n",
       "            observer.disconnect();\n",
       "        }}\n",
       "}});\n",
       "\n",
       "// Listen for the removal of the full notebook cells\n",
       "var notebookContainer = gd.closest('#notebook-container');\n",
       "if (notebookContainer) {{\n",
       "    x.observe(notebookContainer, {childList: true});\n",
       "}}\n",
       "\n",
       "// Listen for the clearing of the current output cell\n",
       "var outputEl = gd.closest('.output');\n",
       "if (outputEl) {{\n",
       "    x.observe(outputEl, {childList: true});\n",
       "}}\n",
       "\n",
       "                        })                };                });            </script>        </div>"
      ]
     },
     "metadata": {},
     "output_type": "display_data"
    }
   ],
   "source": [
    "# --- Data prep ---\n",
    "scatter_data = stack_umap.loc[stack_umap['sitc'].str.len() == 4].copy().merge(this_rca, on='sitc', how='left')\n",
    "scatter_data['cluster'] = scatter_data['cluster'].astype(str)\n",
    "scatter_data['median_rca_norm_adj'] = scatter_data['median_rca_norm'] + 0.05\n",
    "\n",
    "temp = stack_umap.loc[stack_umap['sitc'].str.contains('macro')].copy()[['sitc', 'x', 'y']]\n",
    "temp = temp.loc[~temp['sitc'].str.contains('_a')]\n",
    "temp = temp.loc[~temp['sitc'].str.contains('_b')]\n",
    "temp['sitc'] = temp['sitc'].str[6:]\n",
    "temp = temp.rename(columns={'sitc': 'cluster'})\n",
    "temp['cluster'] = temp['cluster'].astype(int)\n",
    "temp = temp.merge(sitc_cluster_names, on='cluster')\n",
    "\n",
    "\n",
    "tab20_like = qualitative.D3  # This gives 20 distinct colors\n",
    "# Other options: qualitative.Dark24, qualitative.Light24\n",
    "\n",
    "fig = px.scatter(\n",
    "    scatter_data,\n",
    "    x='x', \n",
    "    y='y',\n",
    "    color='cluster',\n",
    "    size='median_rca_norm_adj',  # <-- Added\n",
    "    size_max=20,  # Adjust as needed\n",
    "    color_discrete_sequence=px.colors.qualitative.D3,\n",
    "    hover_data={'x': False, 'y': False, 'cluster': False, 'sitc_name': False, 'median_rca_norm': True}\n",
    ")\n",
    "\n",
    "# Assign customdata trace by trace\n",
    "for i, cluster_val in enumerate(fig.data):\n",
    "    cluster_name = cluster_val.name\n",
    "    mask = scatter_data['cluster'] == cluster_name\n",
    "    fig.data[i].customdata = scatter_data.loc[mask, ['sitc_name', 'median_rca_norm']].to_numpy()\n",
    "    fig.data[i].hovertemplate = '%{customdata[0]}<br>RCA: %{customdata[1]:.2f}'\n",
    "\n",
    "\n",
    "arrow_color = '#1f77b4'\n",
    "for r in macro_arrows.itertuples(index=False):\n",
    "    x0, y0, u, v = r.x_o, r.y_o, r.u, r.v\n",
    "    x1, y1 = x0 + u, y0 + v\n",
    "    fig.add_annotation(\n",
    "        x=x1, y=y1, xref='x', yref='y',\n",
    "        ax=x0, ay=y0, axref='x', ayref='y',\n",
    "        showarrow=True,\n",
    "        arrowhead=3, arrowsize=1, arrowwidth=1.5, arrowcolor=arrow_color,\n",
    "        opacity=1\n",
    "    )\n",
    "\n",
    "# Macro labels\n",
    "for _, row in temp.iterrows():\n",
    "    fig.add_annotation(\n",
    "        x=row['x'], y=row['y'],\n",
    "        text=row['name'],\n",
    "        showarrow=False,\n",
    "        font=dict(size=12, color='black'),\n",
    "        bgcolor='rgba(255,255,255,0.7)',\n",
    "        borderpad=2\n",
    "    )\n",
    "\n",
    "# Layout tweaks\n",
    "fig.update_xaxes(showgrid=False, zeroline=False, showticklabels=False)\n",
    "fig.update_yaxes(showgrid=False, zeroline=False, showticklabels=False, scaleanchor=\"x\", scaleratio=0.7)\n",
    "\n",
    "fig.update_layout(\n",
    "    xaxis_title='',\n",
    "    yaxis_title='',\n",
    "    showlegend=False,\n",
    "    width=1700,\n",
    "    height=850,\n",
    "    margin=dict(l=0, r=0, t=0, b=0)\n",
    ")\n",
    "\n",
    "fig.show()"
   ]
  },
  {
   "cell_type": "code",
   "execution_count": null,
   "id": "73980a34-4cc6-4293-908f-fe944b0f55fb",
   "metadata": {},
   "outputs": [],
   "source": []
  }
 ],
 "metadata": {
  "kernelspec": {
   "display_name": "Python 3 (ipykernel)",
   "language": "python",
   "name": "python3"
  },
  "language_info": {
   "codemirror_mode": {
    "name": "ipython",
    "version": 3
   },
   "file_extension": ".py",
   "mimetype": "text/x-python",
   "name": "python",
   "nbconvert_exporter": "python",
   "pygments_lexer": "ipython3",
   "version": "3.9.18"
  }
 },
 "nbformat": 4,
 "nbformat_minor": 5
}
